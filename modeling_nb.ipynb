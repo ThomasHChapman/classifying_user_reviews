{
 "cells": [
  {
   "cell_type": "markdown",
   "metadata": {},
   "source": [
    "![](./images/banner.jpeg)\n",
    "Photo by <a href=\"https://unsplash.com/@towfiqu999999?utm_source=unsplash&utm_medium=referral&utm_content=creditCopyText\">Towfiqu barbhuiya</a> on <a href=\"https://unsplash.com/s/photos/customer-ratings?utm_source=unsplash&utm_medium=referral&utm_content=creditCopyText\">Unsplash</a>\n",
    "  \n",
    "# I HATE this Product! Five Stars!\n",
    "### Reducing Rating Inflation Using NLP\n",
    "Author: Tom Chapman | [email](mailto:thomas.h.chapman@gmail.com) | [linkedin](https://www.linkedin.com/in/thomashchapman/) | [github](https://github.com/ThomasHChapman)\n",
    "\n",
    "Most online marketplaces use 5-star product rating systems which are prone to rating inflation, obscuring product quality and customer sentiment. In addition to being problematic for the consumer, rating inflation makes it difficult for sellers to parse customer feedback and understand how their products are being received by the public. My project uses natural language processing to train a model on review sentiment so that it can be used to accurately classify customer reviews based on their content.\n",
    "\n",
    "\n",
    "## Business Understanding\n",
    "Since their inception, online marketplaces have fundamentally shifted how consumers shop. With a near limitless number of products and services available online, it has never been easier to avoid the hassle of brick-and-mortar stores. However, identifying which products or services are high-quality has become increasingly difficult. The popularity of the 5-star rating scale has led to a number of well-documented challenges. [Harvard Business Review](https://hbr.org/2019/07/the-problems-with-5-star-rating-systems-and-how-to-fix-them) summed these challenges up nicely as follows:\n",
    "\n",
    "- There is little incentive for consumers to provide truthful feedback, meaning that extreme experiences (whether positive or negative) are much more likely to lead a consumer to leave a review.\n",
    "- Compounding the lack of incentive for truth, 5-star rating scales are prone to grade inflation. There is no correlation between the star-rating and the sentiment the user expresses in a review. It's possible (and surprisingly common) for a user to hate a product, excoriate it in a review, and then rate it 5-stars. This leads to inflated ratings, and makes it harder for the consumer to understand the meaning behind varied product ratings. How much better is a product with a 4.7 star rating than a 4.5 star average rating?\n",
    "My model is intended to help address rating inflation by classifying user feedback as positive or negative based on its content.\n",
    "\n",
    "Amazon is the largest online marketplace currently in existence, and its challenges with rating inflation are [common knowledge](https://www.nytimes.com/2021/06/18/technology/amazon-reviews.html). However, any marketplace that uses a five-star rating system (Google Play, Apple App Store, Chewy, Wal-mart, Etsy, Rakuten, etc.) can utilize my model to reclassify user reviews into positive or negative polarity. Offering customers a clearer display of product quality allows customers to make more informed purchases, and should drive improved satisfaction. It should also help mitigate poor quality or scam sellers inherently, as poor reviews are less likely to be drowned out by inflated ratings.\n",
    "\n",
    "The tool is also useful for sellers that want to move away from Amazon or implement their own storefront. By implementing my algorithm in a newly-created storefront, sellers can mostly automate the classification of consumer feedback and derive a more accurate understanding of how their products or services are being received. On average, Amazon sellers pay the website about 15% of their sale price on each item sold. There's no question the visibility and customer reach that Amazon provides is valuable, but 15% is an extremely hefty cost for small companies. For certain product categories, the cost per item can range as high as 45%, an enormous amount to pay simply for the storefront component of the site.\n",
    "\n",
    "### Reproduction Instructions\n",
    "To replicate the environment used for this project, follow the below steps. If you run into any trouble with this process, please reference the [Anaconda Documentation]((https://conda.io/projects/conda/en/latest/user-guide/tasks/manage-environments.html)) for managing environments.\n",
    "1. Download the [environment.yml](environment/environment.yml) file\n",
    "2. Before launching the notebook, execute the below lines of code from the folder containing the environment.yml file:\n",
    "- conda env create -f environment.yml\n",
    "- conda activate rc-env\n",
    "- python -m ipykernel install --user --name rc-env --display-name rc-environment"
   ]
  },
  {
   "cell_type": "markdown",
   "metadata": {},
   "source": [
    "## Data Preparation\n",
    "Because of the enormity of the dataset, all substantive data cleaning was performed in [the cleaning notebook](preprocessing_nb.ipynb). The data preparation section in this notebook will be limited to importing necessary packages, reading in our pre-cleaned data, and dropping any null values."
   ]
  },
  {
   "cell_type": "code",
   "execution_count": 3,
   "metadata": {},
   "outputs": [],
   "source": [
    "# Package Imports\n",
    "import pandas as pd\n",
    "import numpy as np\n",
    "import matplotlib.pyplot as plt\n",
    "\n",
    "from sklearn.compose import ColumnTransformer\n",
    "from sklearn.dummy import DummyClassifier\n",
    "from sklearn.feature_extraction.text import TfidfVectorizer\n",
    "from sklearn.metrics import plot_confusion_matrix, confusion_matrix, accuracy_score, classification_report\n",
    "from sklearn.naive_bayes import MultinomialNB\n",
    "from sklearn.model_selection import ParameterGrid, GridSearchCV, cross_validate, cross_val_score\n",
    "from sklearn.linear_model import SGDClassifier, LogisticRegression\n",
    "from imblearn.pipeline import Pipeline as ImPipeline\n",
    "\n",
    "import joblib\n",
    "import warnings\n",
    "warnings.filterwarnings('ignore')"
   ]
  },
  {
   "cell_type": "code",
   "execution_count": 4,
   "metadata": {},
   "outputs": [
    {
     "data": {
      "text/html": [
       "<div>\n",
       "<style scoped>\n",
       "    .dataframe tbody tr th:only-of-type {\n",
       "        vertical-align: middle;\n",
       "    }\n",
       "\n",
       "    .dataframe tbody tr th {\n",
       "        vertical-align: top;\n",
       "    }\n",
       "\n",
       "    .dataframe thead th {\n",
       "        text-align: right;\n",
       "    }\n",
       "</style>\n",
       "<table border=\"1\" class=\"dataframe\">\n",
       "  <thead>\n",
       "    <tr style=\"text-align: right;\">\n",
       "      <th></th>\n",
       "      <th>sentiment</th>\n",
       "      <th>text</th>\n",
       "      <th>text_cleaned</th>\n",
       "      <th>bigrams</th>\n",
       "      <th>trigrams</th>\n",
       "    </tr>\n",
       "  </thead>\n",
       "  <tbody>\n",
       "    <tr>\n",
       "      <th>0</th>\n",
       "      <td>2</td>\n",
       "      <td>This sound track was beautiful! It paints the ...</td>\n",
       "      <td>sound track beautiful paint senery mind well w...</td>\n",
       "      <td>[('sound', 'track'), ('track', 'beautiful'), (...</td>\n",
       "      <td>[('sound', 'track', 'beautiful'), ('track', 'b...</td>\n",
       "    </tr>\n",
       "    <tr>\n",
       "      <th>1</th>\n",
       "      <td>2</td>\n",
       "      <td>I'm reading a lot of reviews saying that this ...</td>\n",
       "      <td>i'm reading lot review say best game soundtrac...</td>\n",
       "      <td>[(\"i'm\", 'reading'), ('reading', 'lot'), ('lot...</td>\n",
       "      <td>[(\"i'm\", 'reading', 'lot'), ('reading', 'lot',...</td>\n",
       "    </tr>\n",
       "    <tr>\n",
       "      <th>2</th>\n",
       "      <td>2</td>\n",
       "      <td>This soundtrack is my favorite music of all ti...</td>\n",
       "      <td>soundtrack favorite music time hand intense sa...</td>\n",
       "      <td>[('soundtrack', 'favorite'), ('favorite', 'mus...</td>\n",
       "      <td>[('soundtrack', 'favorite', 'music'), ('favori...</td>\n",
       "    </tr>\n",
       "    <tr>\n",
       "      <th>3</th>\n",
       "      <td>2</td>\n",
       "      <td>I truly like this soundtrack and I enjoy video...</td>\n",
       "      <td>truly soundtrack enjoy video game music play g...</td>\n",
       "      <td>[('truly', 'soundtrack'), ('soundtrack', 'enjo...</td>\n",
       "      <td>[('truly', 'soundtrack', 'enjoy'), ('soundtrac...</td>\n",
       "    </tr>\n",
       "    <tr>\n",
       "      <th>4</th>\n",
       "      <td>2</td>\n",
       "      <td>If you've played the game, you know how divine...</td>\n",
       "      <td>played game know divine music every single son...</td>\n",
       "      <td>[('played', 'game'), ('game', 'know'), ('know'...</td>\n",
       "      <td>[('played', 'game', 'know'), ('game', 'know', ...</td>\n",
       "    </tr>\n",
       "  </tbody>\n",
       "</table>\n",
       "</div>"
      ],
      "text/plain": [
       "   sentiment                                               text  \\\n",
       "0          2  This sound track was beautiful! It paints the ...   \n",
       "1          2  I'm reading a lot of reviews saying that this ...   \n",
       "2          2  This soundtrack is my favorite music of all ti...   \n",
       "3          2  I truly like this soundtrack and I enjoy video...   \n",
       "4          2  If you've played the game, you know how divine...   \n",
       "\n",
       "                                        text_cleaned  \\\n",
       "0  sound track beautiful paint senery mind well w...   \n",
       "1  i'm reading lot review say best game soundtrac...   \n",
       "2  soundtrack favorite music time hand intense sa...   \n",
       "3  truly soundtrack enjoy video game music play g...   \n",
       "4  played game know divine music every single son...   \n",
       "\n",
       "                                             bigrams  \\\n",
       "0  [('sound', 'track'), ('track', 'beautiful'), (...   \n",
       "1  [(\"i'm\", 'reading'), ('reading', 'lot'), ('lot...   \n",
       "2  [('soundtrack', 'favorite'), ('favorite', 'mus...   \n",
       "3  [('truly', 'soundtrack'), ('soundtrack', 'enjo...   \n",
       "4  [('played', 'game'), ('game', 'know'), ('know'...   \n",
       "\n",
       "                                            trigrams  \n",
       "0  [('sound', 'track', 'beautiful'), ('track', 'b...  \n",
       "1  [(\"i'm\", 'reading', 'lot'), ('reading', 'lot',...  \n",
       "2  [('soundtrack', 'favorite', 'music'), ('favori...  \n",
       "3  [('truly', 'soundtrack', 'enjoy'), ('soundtrac...  \n",
       "4  [('played', 'game', 'know'), ('game', 'know', ...  "
      ]
     },
     "execution_count": 4,
     "metadata": {},
     "output_type": "execute_result"
    }
   ],
   "source": [
    "# Read in the data & preview its contents\n",
    "df = pd.read_csv('./large_data/train_cleaned_10sw.csv', index_col=0)\n",
    "df.head()"
   ]
  },
  {
   "cell_type": "code",
   "execution_count": 5,
   "metadata": {},
   "outputs": [
    {
     "name": "stdout",
     "output_type": "stream",
     "text": [
      "<class 'pandas.core.frame.DataFrame'>\n",
      "Int64Index: 3600000 entries, 0 to 3599999\n",
      "Data columns (total 5 columns):\n",
      " #   Column        Dtype \n",
      "---  ------        ----- \n",
      " 0   sentiment     int64 \n",
      " 1   text          object\n",
      " 2   text_cleaned  object\n",
      " 3   bigrams       object\n",
      " 4   trigrams      object\n",
      "dtypes: int64(1), object(4)\n",
      "memory usage: 164.8+ MB\n"
     ]
    }
   ],
   "source": [
    "df.info()"
   ]
  },
  {
   "cell_type": "code",
   "execution_count": 6,
   "metadata": {},
   "outputs": [
    {
     "data": {
      "text/plain": [
       "2    1800000\n",
       "1    1800000\n",
       "Name: sentiment, dtype: int64"
      ]
     },
     "execution_count": 6,
     "metadata": {},
     "output_type": "execute_result"
    }
   ],
   "source": [
    "# Review target variable distribution\n",
    "df['sentiment'].value_counts()"
   ]
  },
  {
   "cell_type": "code",
   "execution_count": 7,
   "metadata": {},
   "outputs": [
    {
     "name": "stdout",
     "output_type": "stream",
     "text": [
      "sentiment        0\n",
      "text             0\n",
      "text_cleaned    24\n",
      "bigrams          0\n",
      "trigrams         0\n",
      "dtype: int64\n"
     ]
    },
    {
     "data": {
      "text/html": [
       "<div>\n",
       "<style scoped>\n",
       "    .dataframe tbody tr th:only-of-type {\n",
       "        vertical-align: middle;\n",
       "    }\n",
       "\n",
       "    .dataframe tbody tr th {\n",
       "        vertical-align: top;\n",
       "    }\n",
       "\n",
       "    .dataframe thead th {\n",
       "        text-align: right;\n",
       "    }\n",
       "</style>\n",
       "<table border=\"1\" class=\"dataframe\">\n",
       "  <thead>\n",
       "    <tr style=\"text-align: right;\">\n",
       "      <th></th>\n",
       "      <th>sentiment</th>\n",
       "      <th>text</th>\n",
       "      <th>text_cleaned</th>\n",
       "      <th>bigrams</th>\n",
       "      <th>trigrams</th>\n",
       "    </tr>\n",
       "  </thead>\n",
       "  <tbody>\n",
       "    <tr>\n",
       "      <th>217919</th>\n",
       "      <td>2</td>\n",
       "      <td>ò ñàìà ì áèìà ñí è íí ñàìé áèìé äèñ . ß ìíäó ñ...</td>\n",
       "      <td>NaN</td>\n",
       "      <td>[]</td>\n",
       "      <td>[]</td>\n",
       "    </tr>\n",
       "    <tr>\n",
       "      <th>294435</th>\n",
       "      <td>2</td>\n",
       "      <td>............ ..... ..... ...... ...... ..........</td>\n",
       "      <td>NaN</td>\n",
       "      <td>[]</td>\n",
       "      <td>[]</td>\n",
       "    </tr>\n",
       "    <tr>\n",
       "      <th>556297</th>\n",
       "      <td>2</td>\n",
       "      <td>it's very good ... .... ... ... ... ... ... .....</td>\n",
       "      <td>NaN</td>\n",
       "      <td>[]</td>\n",
       "      <td>[]</td>\n",
       "    </tr>\n",
       "    <tr>\n",
       "      <th>629878</th>\n",
       "      <td>1</td>\n",
       "      <td>...............................</td>\n",
       "      <td>NaN</td>\n",
       "      <td>[]</td>\n",
       "      <td>[]</td>\n",
       "    </tr>\n",
       "    <tr>\n",
       "      <th>680354</th>\n",
       "      <td>2</td>\n",
       "      <td>ò äèí è ñàì ìè áèì ìèò. à ò ññèè èàò ìà èäàò ä...</td>\n",
       "      <td>NaN</td>\n",
       "      <td>[]</td>\n",
       "      <td>[]</td>\n",
       "    </tr>\n",
       "    <tr>\n",
       "      <th>1440939</th>\n",
       "      <td>1</td>\n",
       "      <td>|||||||||||||||||||| |||||||||| ||||||||||||||...</td>\n",
       "      <td>NaN</td>\n",
       "      <td>[]</td>\n",
       "      <td>[]</td>\n",
       "    </tr>\n",
       "    <tr>\n",
       "      <th>1786231</th>\n",
       "      <td>2</td>\n",
       "      <td>38493 34740 47383 37054 48624 78568? 18581 286...</td>\n",
       "      <td>NaN</td>\n",
       "      <td>[]</td>\n",
       "      <td>[]</td>\n",
       "    </tr>\n",
       "    <tr>\n",
       "      <th>1989004</th>\n",
       "      <td>2</td>\n",
       "      <td>&amp;#4315;&amp;#4304;&amp;#4306;&amp;#4304;&amp;#4320;&amp;#4312;&amp;#43...</td>\n",
       "      <td>NaN</td>\n",
       "      <td>[]</td>\n",
       "      <td>[]</td>\n",
       "    </tr>\n",
       "    <tr>\n",
       "      <th>2005370</th>\n",
       "      <td>1</td>\n",
       "      <td>&amp;#1575;&amp;#1606;&amp;#1578;&amp;#1605; &amp;#1594;&amp;#1610;&amp;#1...</td>\n",
       "      <td>NaN</td>\n",
       "      <td>[]</td>\n",
       "      <td>[]</td>\n",
       "    </tr>\n",
       "    <tr>\n",
       "      <th>2071299</th>\n",
       "      <td>2</td>\n",
       "      <td>&amp;#1042;&amp;#1089;&amp;#1077; &amp;#1087;&amp;#1088;&amp;#1080;&amp;#1...</td>\n",
       "      <td>NaN</td>\n",
       "      <td>[]</td>\n",
       "      <td>[]</td>\n",
       "    </tr>\n",
       "    <tr>\n",
       "      <th>2220519</th>\n",
       "      <td>2</td>\n",
       "      <td>!!!!! ! 1 !!!!!!!!!! 234 !!!!!!!! 2 !! 34 !!!!...</td>\n",
       "      <td>NaN</td>\n",
       "      <td>[]</td>\n",
       "      <td>[]</td>\n",
       "    </tr>\n",
       "    <tr>\n",
       "      <th>2282778</th>\n",
       "      <td>2</td>\n",
       "      <td>'''' ''' '''''' '''''' '''''' ''''' '''' '''''...</td>\n",
       "      <td>NaN</td>\n",
       "      <td>[]</td>\n",
       "      <td>[]</td>\n",
       "    </tr>\n",
       "    <tr>\n",
       "      <th>2330988</th>\n",
       "      <td>1</td>\n",
       "      <td>&amp;#12479;&amp;#12483;&amp;#12503; &amp;#12398; &amp;#20869;&amp;#20...</td>\n",
       "      <td>NaN</td>\n",
       "      <td>[]</td>\n",
       "      <td>[]</td>\n",
       "    </tr>\n",
       "    <tr>\n",
       "      <th>2357003</th>\n",
       "      <td>1</td>\n",
       "      <td>http://www.strangeland.com/asp/show.asp?id=136...</td>\n",
       "      <td>NaN</td>\n",
       "      <td>[]</td>\n",
       "      <td>[]</td>\n",
       "    </tr>\n",
       "    <tr>\n",
       "      <th>2357286</th>\n",
       "      <td>2</td>\n",
       "      <td>&amp;#1579;&amp;#1604;&amp;#1575;&amp;#1579;&amp;#1577; &amp;#1602;&amp;#1...</td>\n",
       "      <td>NaN</td>\n",
       "      <td>[]</td>\n",
       "      <td>[]</td>\n",
       "    </tr>\n",
       "    <tr>\n",
       "      <th>2375843</th>\n",
       "      <td>2</td>\n",
       "      <td>&amp;#47784;&amp;#46160; &amp;#45208;&amp;#47924;&amp;#47196; &amp;#46...</td>\n",
       "      <td>NaN</td>\n",
       "      <td>[]</td>\n",
       "      <td>[]</td>\n",
       "    </tr>\n",
       "    <tr>\n",
       "      <th>2490037</th>\n",
       "      <td>1</td>\n",
       "      <td>&amp;#51060;&amp;#44148; &amp;#53944;&amp;#47000;&amp;#53433;&amp;#453...</td>\n",
       "      <td>NaN</td>\n",
       "      <td>[]</td>\n",
       "      <td>[]</td>\n",
       "    </tr>\n",
       "    <tr>\n",
       "      <th>2604873</th>\n",
       "      <td>1</td>\n",
       "      <td>........ ...... .. . .... ... ...... ..... ......</td>\n",
       "      <td>NaN</td>\n",
       "      <td>[]</td>\n",
       "      <td>[]</td>\n",
       "    </tr>\n",
       "    <tr>\n",
       "      <th>2618232</th>\n",
       "      <td>2</td>\n",
       "      <td>'''''''''' ''''', ''''' ''''''''''', '''''''''...</td>\n",
       "      <td>NaN</td>\n",
       "      <td>[]</td>\n",
       "      <td>[]</td>\n",
       "    </tr>\n",
       "    <tr>\n",
       "      <th>2751281</th>\n",
       "      <td>2</td>\n",
       "      <td>À ÀÌ ÖÈÄÀ À ÖíÀ óÀ ÖíÀ ¡ 3¿¡ 5ÀÌ Ü¿ì Ñ''Ù ¿¡' ...</td>\n",
       "      <td>NaN</td>\n",
       "      <td>[]</td>\n",
       "      <td>[]</td>\n",
       "    </tr>\n",
       "    <tr>\n",
       "      <th>2798192</th>\n",
       "      <td>2</td>\n",
       "      <td>Very Good!</td>\n",
       "      <td>NaN</td>\n",
       "      <td>[]</td>\n",
       "      <td>[]</td>\n",
       "    </tr>\n",
       "    <tr>\n",
       "      <th>3392964</th>\n",
       "      <td>2</td>\n",
       "      <td>Good</td>\n",
       "      <td>NaN</td>\n",
       "      <td>[]</td>\n",
       "      <td>[]</td>\n",
       "    </tr>\n",
       "    <tr>\n",
       "      <th>3545242</th>\n",
       "      <td>2</td>\n",
       "      <td>Good book. This is a very very very very very ...</td>\n",
       "      <td>NaN</td>\n",
       "      <td>[]</td>\n",
       "      <td>[]</td>\n",
       "    </tr>\n",
       "    <tr>\n",
       "      <th>3584048</th>\n",
       "      <td>1</td>\n",
       "      <td>' ' '''' '''' '' '' ''' '''''? '' '' ' '' ''' ...</td>\n",
       "      <td>NaN</td>\n",
       "      <td>[]</td>\n",
       "      <td>[]</td>\n",
       "    </tr>\n",
       "  </tbody>\n",
       "</table>\n",
       "</div>"
      ],
      "text/plain": [
       "         sentiment                                               text  \\\n",
       "217919           2  ò ñàìà ì áèìà ñí è íí ñàìé áèìé äèñ . ß ìíäó ñ...   \n",
       "294435           2  ............ ..... ..... ...... ...... ..........   \n",
       "556297           2  it's very good ... .... ... ... ... ... ... .....   \n",
       "629878           1                    ...............................   \n",
       "680354           2  ò äèí è ñàì ìè áèì ìèò. à ò ññèè èàò ìà èäàò ä...   \n",
       "1440939          1  |||||||||||||||||||| |||||||||| ||||||||||||||...   \n",
       "1786231          2  38493 34740 47383 37054 48624 78568? 18581 286...   \n",
       "1989004          2  &#4315;&#4304;&#4306;&#4304;&#4320;&#4312;&#43...   \n",
       "2005370          1  &#1575;&#1606;&#1578;&#1605; &#1594;&#1610;&#1...   \n",
       "2071299          2  &#1042;&#1089;&#1077; &#1087;&#1088;&#1080;&#1...   \n",
       "2220519          2  !!!!! ! 1 !!!!!!!!!! 234 !!!!!!!! 2 !! 34 !!!!...   \n",
       "2282778          2  '''' ''' '''''' '''''' '''''' ''''' '''' '''''...   \n",
       "2330988          1  &#12479;&#12483;&#12503; &#12398; &#20869;&#20...   \n",
       "2357003          1  http://www.strangeland.com/asp/show.asp?id=136...   \n",
       "2357286          2  &#1579;&#1604;&#1575;&#1579;&#1577; &#1602;&#1...   \n",
       "2375843          2  &#47784;&#46160; &#45208;&#47924;&#47196; &#46...   \n",
       "2490037          1  &#51060;&#44148; &#53944;&#47000;&#53433;&#453...   \n",
       "2604873          1  ........ ...... .. . .... ... ...... ..... ......   \n",
       "2618232          2  '''''''''' ''''', ''''' ''''''''''', '''''''''...   \n",
       "2751281          2  À ÀÌ ÖÈÄÀ À ÖíÀ óÀ ÖíÀ ¡ 3¿¡ 5ÀÌ Ü¿ì Ñ''Ù ¿¡' ...   \n",
       "2798192          2                                         Very Good!   \n",
       "3392964          2                                               Good   \n",
       "3545242          2  Good book. This is a very very very very very ...   \n",
       "3584048          1  ' ' '''' '''' '' '' ''' '''''? '' '' ' '' ''' ...   \n",
       "\n",
       "        text_cleaned bigrams trigrams  \n",
       "217919           NaN      []       []  \n",
       "294435           NaN      []       []  \n",
       "556297           NaN      []       []  \n",
       "629878           NaN      []       []  \n",
       "680354           NaN      []       []  \n",
       "1440939          NaN      []       []  \n",
       "1786231          NaN      []       []  \n",
       "1989004          NaN      []       []  \n",
       "2005370          NaN      []       []  \n",
       "2071299          NaN      []       []  \n",
       "2220519          NaN      []       []  \n",
       "2282778          NaN      []       []  \n",
       "2330988          NaN      []       []  \n",
       "2357003          NaN      []       []  \n",
       "2357286          NaN      []       []  \n",
       "2375843          NaN      []       []  \n",
       "2490037          NaN      []       []  \n",
       "2604873          NaN      []       []  \n",
       "2618232          NaN      []       []  \n",
       "2751281          NaN      []       []  \n",
       "2798192          NaN      []       []  \n",
       "3392964          NaN      []       []  \n",
       "3545242          NaN      []       []  \n",
       "3584048          NaN      []       []  "
      ]
     },
     "execution_count": 7,
     "metadata": {},
     "output_type": "execute_result"
    }
   ],
   "source": [
    "# Find & Display any NaN values for cleaned text \n",
    "print(df.isna().sum())\n",
    "df[df['text_cleaned'].isna()]"
   ]
  },
  {
   "cell_type": "code",
   "execution_count": 8,
   "metadata": {},
   "outputs": [],
   "source": [
    "# Drop rows with missing text_cleaned values\n",
    "df.dropna(inplace=True)"
   ]
  },
  {
   "cell_type": "code",
   "execution_count": 9,
   "metadata": {},
   "outputs": [],
   "source": [
    "# Save off feature combinations for use in model iteration\n",
    "X = df['text_cleaned']\n",
    "\n",
    "X_bigrams = df[['text_cleaned', 'bigrams']]\n",
    "X_trigrams = df[['text_cleaned', 'trigrams']]\n",
    "X_allgrams = df[['text_cleaned', 'bigrams', 'trigrams']]\n",
    "\n",
    "y = df['sentiment']"
   ]
  },
  {
   "cell_type": "markdown",
   "metadata": {},
   "source": [
    "# Modeling\n",
    "I utilized a number of sklearn's modeling techniques for the project. As noted in the data-preparation description, I experimented with the inclusion of bi-grams and tri-grams created from user input during the modeling process as well. I evaluated each model based on its accuracy score, as the real-world impact of a false positive or negative is quite low. With basic python it is easy to collect all the reviews that the classifier scores mislables for human review. Ultimately, a logistic regression classifier with default parameters was the best performer."
   ]
  },
  {
   "cell_type": "markdown",
   "metadata": {},
   "source": [
    "### Dummy Classifier\n",
    "To begin modelling efforts, I built a dummy classifier that simply guesses the most common class every time. Given that our training data is almost (but not perfectly) balanced, we should expect it to predict that every review is negative since there are slightly more negative reviews than positive reviews. If we can't beat a 50-50 guess with a dataset this large, something is horribly wrong. Predictably, the dummy classifier achieved an accuracy score of almost exactly 50%."
   ]
  },
  {
   "cell_type": "code",
   "execution_count": 10,
   "metadata": {},
   "outputs": [],
   "source": [
    "# Instantiate Dummy Classifier pipeline\n",
    "dummy_pipe = ImPipeline(steps=[\n",
    "                                ('vect', TfidfVectorizer()),\n",
    "                                ('cf', DummyClassifier(strategy='most_frequent',\n",
    "                                                           random_state=42))\n",
    "                              ]\n",
    ")"
   ]
  },
  {
   "cell_type": "code",
   "execution_count": 11,
   "metadata": {},
   "outputs": [
    {
     "name": "stdout",
     "output_type": "stream",
     "text": [
      "0.5000011111185185\n"
     ]
    },
    {
     "data": {
      "image/png": "[encoded data removed]",
      "text/plain": [
       "<Figure size 432x288 with 2 Axes>"
      ]
     },
     "metadata": {
      "needs_background": "light"
     },
     "output_type": "display_data"
    }
   ],
   "source": [
    "# Fit dummy pipe on the training data and plot confusion matrix\n",
    "dummy_pipe.fit(X, y)\n",
    "dummy_yhat = dummy_pipe.predict(X)\n",
    "plot_confusion_matrix(dummy_pipe, X, y, normalize='true');\n",
    "print(accuracy_score(y, dummy_yhat))"
   ]
  },
  {
   "cell_type": "markdown",
   "metadata": {},
   "source": [
    "### Multinomial Naive Bayes\n",
    "MNB is a commonly-used algorithm for natural language processing due to effectiveness in classifying topics while maintaining a low training time and relative simplicity. It predicts the probability that a given document belongs to a particular class based on the words it contains. I employed a multinomial naive bayes classifier as my first simple model for these reasons, and it will be the baseline model that I attempt to beat. "
   ]
  },
  {
   "cell_type": "code",
   "execution_count": 12,
   "metadata": {
    "scrolled": true
   },
   "outputs": [
    {
     "name": "stdout",
     "output_type": "stream",
     "text": [
      "0.8284419118349677\n"
     ]
    },
    {
     "data": {
      "image/png": "[encoded data removed]",
      "text/plain": [
       "<Figure size 432x288 with 2 Axes>"
      ]
     },
     "metadata": {
      "needs_background": "light"
     },
     "output_type": "display_data"
    }
   ],
   "source": [
    "# Instantiate the Multinomial Naieve Bayes Pipeline\n",
    "mnb_pipe = ImPipeline(steps=[\n",
    "                            ('vect', TfidfVectorizer()),\n",
    "                            ('cf', MultinomialNB())\n",
    "                            ]\n",
    ")\n",
    "\n",
    "# Fit MNB pipe on the training data, get predictions and plot confusion matrix\n",
    "mnb_pipe.fit(X, y)\n",
    "mnb_yhat = mnb_pipe.predict(X)\n",
    "plot_confusion_matrix(mnb_pipe, X, y, normalize='true');\n",
    "print(accuracy_score(y, mnb_yhat))"
   ]
  },
  {
   "cell_type": "code",
   "execution_count": 13,
   "metadata": {},
   "outputs": [
    {
     "name": "stdout",
     "output_type": "stream",
     "text": [
      "{'fit_time': array([61.48920703, 60.96187687, 61.15135002, 61.20392442, 61.40539169]), 'score_time': array([14.93240285, 14.79926991, 14.71177602, 14.53958178, 14.50559616]), 'test_score': array([0.81852538, 0.81477649, 0.8127362 , 0.8100834 , 0.81117369])}\n"
     ]
    }
   ],
   "source": [
    "# Obtained cross-validated accuracy score\n",
    "mnb_cv = cross_validate(mnb_pipe, X, y)\n",
    "print(mnb_cv)"
   ]
  },
  {
   "cell_type": "markdown",
   "metadata": {},
   "source": [
    "- 'fit_time': 63.91176295, 64.27754903, 63.07658076, 62.96271181, 63.14784789\n",
    "- 'score_time': 14.80177712, 14.56706309, 14.5999763 , 14.49988723, 14.33135796\n",
    "- 'test_score': 0.81850038, 0.81476842, 0.81272648, 0.81008618, 0.81112924"
   ]
  },
  {
   "cell_type": "code",
   "execution_count": 14,
   "metadata": {},
   "outputs": [
    {
     "data": {
      "text/plain": [
       "0.8134590327640107"
      ]
     },
     "execution_count": 14,
     "metadata": {},
     "output_type": "execute_result"
    }
   ],
   "source": [
    "mnb_cv['test_score'].mean()"
   ]
  },
  {
   "cell_type": "code",
   "execution_count": 15,
   "metadata": {},
   "outputs": [],
   "source": [
    "# Define model_performance Dictionary for use in visualizations, add mean model result.\n",
    "mod_perf = {}\n",
    "mod_perf['mnb_1grams'] = mnb_cv['test_score'].mean()"
   ]
  },
  {
   "cell_type": "markdown",
   "metadata": {},
   "source": [
    "#### Using N-grams as Features\n",
    "To see if I could improve on the model's performance over using single words, I tried giving it bi-grams and tri-grams as additional features. Ultimately, the MNB classifier was most accurate using only single words from each review as its inputs."
   ]
  },
  {
   "cell_type": "markdown",
   "metadata": {},
   "source": [
    "##### Single Words & Bi-Grams"
   ]
  },
  {
   "cell_type": "code",
   "execution_count": 16,
   "metadata": {
    "scrolled": false
   },
   "outputs": [
    {
     "name": "stdout",
     "output_type": "stream",
     "text": [
      "0.8265971773145154\n"
     ]
    },
    {
     "data": {
      "image/png": "[encoded data removed]",
      "text/plain": [
       "<Figure size 432x288 with 2 Axes>"
      ]
     },
     "metadata": {
      "needs_background": "light"
     },
     "output_type": "display_data"
    }
   ],
   "source": [
    "# Instantiate the MNB Pipeline with cleaned text and bi-grams\n",
    "mnb_bigrams_pipe = ImPipeline(steps=[\n",
    "            ('CT', ColumnTransformer([(x, TfidfVectorizer(), x) for x in ['text_cleaned',\n",
    "                                                                          'bigrams']\n",
    "                                     ])),\n",
    "            ('cf', MultinomialNB())\n",
    "]\n",
    ")\n",
    "\n",
    "# Fit MNB pipe on the cleaned text and bi-grams, get predictions, plot confusion matrix\n",
    "mnb_bigrams_pipe.fit(X_bigrams, y)\n",
    "mnb_bigrams_yhat = mnb_bigrams_pipe.predict(X_bigrams)\n",
    "plot_confusion_matrix(mnb_bigrams_pipe, X_bigrams, y, normalize='true');\n",
    "print(accuracy_score(y, mnb_bigrams_yhat))"
   ]
  },
  {
   "cell_type": "code",
   "execution_count": 17,
   "metadata": {},
   "outputs": [
    {
     "name": "stdout",
     "output_type": "stream",
     "text": [
      "{'fit_time': array([170.63241601, 171.93646526, 172.29593539, 172.50023079,\n",
      "       173.23031402]), 'score_time': array([42.65525413, 42.45298481, 42.08458495, 41.75400615, 41.90881205]), 'test_score': array([0.81644204, 0.81253898, 0.81078896, 0.80821811, 0.80917229])}\n"
     ]
    }
   ],
   "source": [
    "# Obtained cross-validated accuracy score\n",
    "mnb_bigrams_cv = cross_validate(mnb_bigrams_pipe, X_bigrams, y)\n",
    "print(mnb_bigrams_cv)"
   ]
  },
  {
   "cell_type": "code",
   "execution_count": 18,
   "metadata": {},
   "outputs": [
    {
     "name": "stdout",
     "output_type": "stream",
     "text": [
      "0.8114320748221763\n"
     ]
    }
   ],
   "source": [
    "# Print cross-validated mean accuracy score & add to model performance dictionary\n",
    "print(mnb_bigrams_cv['test_score'].mean())\n",
    "mod_perf['mnb_2grams'] = mnb_bigrams_cv['test_score'].mean()"
   ]
  },
  {
   "cell_type": "markdown",
   "metadata": {},
   "source": [
    "##### Single Words & Tri-Grams"
   ]
  },
  {
   "cell_type": "code",
   "execution_count": 19,
   "metadata": {},
   "outputs": [
    {
     "name": "stdout",
     "output_type": "stream",
     "text": [
      "0.8252049458107499\n"
     ]
    },
    {
     "data": {
      "image/png": "[encoded data removed]",
      "text/plain": [
       "<Figure size 432x288 with 2 Axes>"
      ]
     },
     "metadata": {
      "needs_background": "light"
     },
     "output_type": "display_data"
    }
   ],
   "source": [
    "# Instantiate the Multinomial Naive Bayes Pipeline with clean text and tri-grams\n",
    "mnb_trigrams_pipe = ImPipeline(steps=[\n",
    "                ('CT', ColumnTransformer([(x, TfidfVectorizer(), x) for x in ['text_cleaned',\n",
    "                                                                              'trigrams']\n",
    "                                         ])),\n",
    "                ('cf', MultinomialNB())\n",
    "]\n",
    ")\n",
    "\n",
    "# Fit MNB pipe on the training data, get predictions and plot confusion matrix\n",
    "mnb_trigrams_pipe.fit(X_trigrams, y)\n",
    "mnb_trigrams_yhat = mnb_trigrams_pipe.predict(X_trigrams)\n",
    "plot_confusion_matrix(mnb_trigrams_pipe, X_trigrams, y, normalize='true');\n",
    "print(accuracy_score(y, mnb_trigrams_yhat))"
   ]
  },
  {
   "cell_type": "code",
   "execution_count": 20,
   "metadata": {},
   "outputs": [
    {
     "name": "stdout",
     "output_type": "stream",
     "text": [
      "{'fit_time': array([204.90795803, 215.72459507, 218.00903487, 213.48473501,\n",
      "       209.45474005]), 'score_time': array([51.88667989, 55.10507393, 50.46177506, 51.45934701, 50.25304699]), 'test_score': array([0.81494064, 0.81090841, 0.80935562, 0.8067681 , 0.80774866])}\n"
     ]
    }
   ],
   "source": [
    "# Obtained cross-validated accuracy score\n",
    "mnb_trigrams_cv = cross_validate(mnb_trigrams_pipe, X_trigrams, y)\n",
    "print(mnb_trigrams_cv)"
   ]
  },
  {
   "cell_type": "code",
   "execution_count": 21,
   "metadata": {},
   "outputs": [
    {
     "name": "stdout",
     "output_type": "stream",
     "text": [
      "0.8099442871295943\n"
     ]
    }
   ],
   "source": [
    "# Print cross-validated mean accuracy score & add to model performance dictionary\n",
    "print(mnb_trigrams_cv['test_score'].mean())\n",
    "mod_perf['mnb_3grams'] = mnb_trigrams_cv['test_score'].mean()"
   ]
  },
  {
   "cell_type": "markdown",
   "metadata": {},
   "source": [
    "##### Single Words, Bi-Grams & Tri-Grams"
   ]
  },
  {
   "cell_type": "code",
   "execution_count": 22,
   "metadata": {},
   "outputs": [
    {
     "name": "stdout",
     "output_type": "stream",
     "text": [
      "0.8249138327588851\n"
     ]
    },
    {
     "data": {
      "image/png": "[encoded data removed]",
      "text/plain": [
       "<Figure size 432x288 with 2 Axes>"
      ]
     },
     "metadata": {
      "needs_background": "light"
     },
     "output_type": "display_data"
    }
   ],
   "source": [
    "# Instantiate the Multinomial Naieve Bayes pipeline with clean text, bi-grams and tri-grams\n",
    "mnb_allgrams_pipe = ImPipeline(steps=[          \n",
    "                ('CT', ColumnTransformer([(x, TfidfVectorizer(), x) for x in ['text_cleaned',\n",
    "                                                                              'bigrams',\n",
    "                                                                              'trigrams']\n",
    "                                         ])),\n",
    "                ('cf', MultinomialNB())\n",
    "]\n",
    ")\n",
    "\n",
    "# Fit MNB pipe on the training data, get predictions and plot confusion matrix\n",
    "mnb_allgrams_pipe.fit(X_allgrams, y)\n",
    "mnb_allgrams_yhat = mnb_allgrams_pipe.predict(X_allgrams)\n",
    "plot_confusion_matrix(mnb_allgrams_pipe, X_allgrams, y, normalize='true');\n",
    "print(accuracy_score(y, mnb_allgrams_yhat))"
   ]
  },
  {
   "cell_type": "code",
   "execution_count": 23,
   "metadata": {},
   "outputs": [
    {
     "name": "stdout",
     "output_type": "stream",
     "text": [
      "{'fit_time': array([317.58971906, 318.82232594, 328.60654998, 324.59409213,\n",
      "       321.57589006]), 'score_time': array([79.72033668, 81.42881012, 80.27410412, 78.3074863 , 77.46826482]), 'test_score': array([0.81459758, 0.81062646, 0.80898201, 0.80641116, 0.80745839])}\n"
     ]
    }
   ],
   "source": [
    "# Obtained cross-validated accuracy score\n",
    "mnb_allgrams_cv = cross_validate(mnb_allgrams_pipe, X_allgrams, y)\n",
    "print(mnb_allgrams_cv)"
   ]
  },
  {
   "cell_type": "code",
   "execution_count": 24,
   "metadata": {},
   "outputs": [
    {
     "name": "stdout",
     "output_type": "stream",
     "text": [
      "0.8096151182723267\n"
     ]
    }
   ],
   "source": [
    "# Print cross-validated mean accuracy score & add to model performance dictionary\n",
    "print(mnb_allgrams_cv['test_score'].mean())\n",
    "mod_perf['mnb_allgrams'] = mnb_allgrams_cv['test_score'].mean()"
   ]
  },
  {
   "cell_type": "markdown",
   "metadata": {},
   "source": [
    "### Logistic Regression\n",
    "Logistic Regression is a common step in any binary classification problem, so I elected to use it as my next modeling approach. It is a linear classification method that learns the probability of an observation belonging to a target class, and then finds the decision boundary that best separates the classes. It splits feature space linearly and typically works well even when there is correlation among the variables, as is the case in our dataset. Because the data is made up of consumer reviews, it is likely that similar language patterns may be observed throughout.\n",
    "\n",
    "Right away, we see a significant (5.6%) improvement in accuracy over our best-performing Naive Bayes model. By including tri-grams of our corpus along with single words, we see a performance gain of 5.8% over our best Naive Bayes model."
   ]
  },
  {
   "cell_type": "code",
   "execution_count": 25,
   "metadata": {},
   "outputs": [
    {
     "name": "stdout",
     "output_type": "stream",
     "text": [
      "0.8777955741927168\n"
     ]
    },
    {
     "data": {
      "image/png": "[encoded data removed]",
      "text/plain": [
       "<Figure size 432x288 with 2 Axes>"
      ]
     },
     "metadata": {
      "needs_background": "light"
     },
     "output_type": "display_data"
    }
   ],
   "source": [
    "# Instantiate the Logistic Regression Pipeline\n",
    "logreg_pipe = ImPipeline(steps=[\n",
    "                                 ('vect', TfidfVectorizer()),                              \n",
    "                                 ('lr', LogisticRegression(n_jobs=-2))\n",
    "                                ]\n",
    ")\n",
    "\n",
    "\n",
    "# Fit Logistic Regression pipeline on the training data, get predictions and plot confusion matrix\n",
    "logreg_pipe.fit(X, y)\n",
    "logreg_yhat = logreg_pipe.predict(X)\n",
    "plot_confusion_matrix(logreg_pipe, X, y, normalize='true');\n",
    "print(accuracy_score(y, logreg_yhat))"
   ]
  },
  {
   "cell_type": "code",
   "execution_count": 26,
   "metadata": {},
   "outputs": [
    {
     "name": "stdout",
     "output_type": "stream",
     "text": [
      "{'fit_time': array([113.27151394, 113.4679811 , 115.97309589, 117.01382208,\n",
      "       116.26967573]), 'score_time': array([15.26044703, 15.47245097, 15.28050613, 15.13443184, 15.26900291]), 'test_score': array([0.86926733, 0.86846714, 0.86934493, 0.86854353, 0.86927687])}\n"
     ]
    }
   ],
   "source": [
    "# Obtained cross-validated accuracy score\n",
    "logreg_cv = cross_validate(logreg_pipe, X, y)\n",
    "print(logreg_cv)"
   ]
  },
  {
   "cell_type": "code",
   "execution_count": 27,
   "metadata": {},
   "outputs": [
    {
     "name": "stdout",
     "output_type": "stream",
     "text": [
      "0.8689799597865736\n"
     ]
    }
   ],
   "source": [
    "# Print cross-validated mean accuracy score & add to model performance dictionary\n",
    "print(logreg_cv['test_score'].mean())\n",
    "mod_perf['logreg_1grams'] = logreg_cv['test_score'].mean()"
   ]
  },
  {
   "cell_type": "markdown",
   "metadata": {},
   "source": [
    "#### Using N-grams as Features\n",
    "To see if I could improve on the model's performance over using single words, I tried giving it bi-grams and tri-grams as additional features. This time, the combination of single words and tri-grams proved to be the best performer of the group, with a cross-validated accuracy score of 87.14%."
   ]
  },
  {
   "cell_type": "markdown",
   "metadata": {},
   "source": [
    "##### Single Words & Bi-Grams"
   ]
  },
  {
   "cell_type": "code",
   "execution_count": 28,
   "metadata": {},
   "outputs": [
    {
     "name": "stdout",
     "output_type": "stream",
     "text": [
      "0.8807783718558124\n"
     ]
    },
    {
     "data": {
      "image/png": "[encoded data removed]",
      "text/plain": [
       "<Figure size 432x288 with 2 Axes>"
      ]
     },
     "metadata": {
      "needs_background": "light"
     },
     "output_type": "display_data"
    }
   ],
   "source": [
    "# Instantiated the Logistic Regression Pipeline with clean text and bi-grams\n",
    "logreg_bigram_pipe = ImPipeline(steps=[\n",
    "                ('CT', ColumnTransformer([(x, TfidfVectorizer(), x) for x in ['text_cleaned',\n",
    "                                                                              'bigrams']\n",
    "                                         ])),                             \n",
    "                ('lr', LogisticRegression(n_jobs=-2))\n",
    "]\n",
    ")\n",
    "\n",
    "\n",
    "# Fit Logistic Regression pipeline on the training data, get predictions and plot confusion matrix\n",
    "logreg_bigram_pipe.fit(X_bigrams, y)\n",
    "logreg_bigram_yhat = logreg_bigram_pipe.predict(X_bigrams)\n",
    "plot_confusion_matrix(logreg_bigram_pipe, X_bigrams, y, normalize='true');\n",
    "print(accuracy_score(y, logreg_bigram_yhat))"
   ]
  },
  {
   "cell_type": "code",
   "execution_count": 29,
   "metadata": {},
   "outputs": [
    {
     "name": "stdout",
     "output_type": "stream",
     "text": [
      "{'fit_time': array([268.25514293, 269.43497324, 272.07473898, 271.15975785,\n",
      "       269.46951389]), 'score_time': array([46.12254596, 45.54730797, 45.09967208, 44.23382211, 43.05612111]), 'test_score': array([0.86989789, 0.86846575, 0.86971576, 0.8705241 , 0.87003243])}\n"
     ]
    }
   ],
   "source": [
    "# Obtained cross-validated accuracy score\n",
    "logreg_bigram_cv = cross_validate(logreg_bigram_pipe, X_bigrams, y)\n",
    "print(logreg_bigram_cv)"
   ]
  },
  {
   "cell_type": "code",
   "execution_count": 30,
   "metadata": {},
   "outputs": [
    {
     "name": "stdout",
     "output_type": "stream",
     "text": [
      "0.8697271870227186\n"
     ]
    }
   ],
   "source": [
    "# Print cross-validated mean accuracy score & add to model performance dictionary\n",
    "print(logreg_bigram_cv['test_score'].mean())\n",
    "mod_perf['logreg_2grams'] = logreg_bigram_cv['test_score'].mean()"
   ]
  },
  {
   "cell_type": "markdown",
   "metadata": {},
   "source": [
    "##### Single Words & Tri-Grams"
   ]
  },
  {
   "cell_type": "code",
   "execution_count": 31,
   "metadata": {},
   "outputs": [
    {
     "name": "stdout",
     "output_type": "stream",
     "text": [
      "0.8795722527039069\n"
     ]
    },
    {
     "data": {
      "image/png": "[encoded data removed]",
      "text/plain": [
       "<Figure size 432x288 with 2 Axes>"
      ]
     },
     "metadata": {
      "needs_background": "light"
     },
     "output_type": "display_data"
    }
   ],
   "source": [
    "# Instantiate the Logistic Regression Pipeline with clean text and tri-grams\n",
    "logreg_trigram_pipe = ImPipeline(steps=[\n",
    "                ('CT', ColumnTransformer([(x, TfidfVectorizer(), x) for x in ['text_cleaned',\n",
    "                                                                              'trigrams']\n",
    "                                         ])),                             \n",
    "                ('lr', LogisticRegression(n_jobs=-2))\n",
    "]\n",
    ")\n",
    "\n",
    "\n",
    "# Fit LogReg pipeline on the training data, get predictions and plot confusion matrix\n",
    "logreg_trigram_pipe.fit(X_trigrams, y)\n",
    "logreg_trigram_yhat = logreg_trigram_pipe.predict(X_trigrams)\n",
    "plot_confusion_matrix(logreg_trigram_pipe, X_trigrams, y, normalize='true');\n",
    "print(accuracy_score(y, logreg_trigram_yhat))"
   ]
  },
  {
   "cell_type": "code",
   "execution_count": 32,
   "metadata": {},
   "outputs": [
    {
     "name": "stdout",
     "output_type": "stream",
     "text": [
      "{'fit_time': array([303.53871608, 303.48225784, 302.41608405, 309.88430691,\n",
      "       302.63536596]), 'score_time': array([54.18541002, 53.33244705, 52.60259604, 52.15936613, 53.15920711]), 'test_score': array([0.86979511, 0.86959632, 0.87036993, 0.87097827, 0.87095049])}\n"
     ]
    }
   ],
   "source": [
    "# Obtained cross-validated accuracy score\n",
    "logreg_trigram_cv = cross_validate(logreg_trigram_pipe, X_trigrams, y)\n",
    "print(logreg_trigram_cv)"
   ]
  },
  {
   "cell_type": "code",
   "execution_count": 33,
   "metadata": {},
   "outputs": [
    {
     "name": "stdout",
     "output_type": "stream",
     "text": [
      "0.8703380246265293\n"
     ]
    }
   ],
   "source": [
    "# Print cross-validated mean accuracy score & add to model performance dictionary\n",
    "print(logreg_trigram_cv['test_score'].mean())\n",
    "mod_perf['logreg_3grams'] = logreg_trigram_cv['test_score'].mean()"
   ]
  },
  {
   "cell_type": "code",
   "execution_count": 34,
   "metadata": {},
   "outputs": [],
   "source": [
    "# Save model for future use\n",
    "with open('./models/sw_logreg_trigram_model.pkl', 'wb') as files:\n",
    "    joblib.dump(logreg_trigram_pipe, files)"
   ]
  },
  {
   "cell_type": "markdown",
   "metadata": {},
   "source": [
    "##### Single Words, Bi-Grams & Tri-Grams"
   ]
  },
  {
   "cell_type": "code",
   "execution_count": 35,
   "metadata": {},
   "outputs": [
    {
     "name": "stdout",
     "output_type": "stream",
     "text": [
      "0.8807728162632196\n"
     ]
    },
    {
     "data": {
      "image/png": "[encoded data removed]",
      "text/plain": [
       "<Figure size 432x288 with 2 Axes>"
      ]
     },
     "metadata": {
      "needs_background": "light"
     },
     "output_type": "display_data"
    }
   ],
   "source": [
    "# Instantiate the LR Pipeline with clean text, bi-grams and tri-grams\n",
    "logreg_allgram_pipe = ImPipeline(steps=[\n",
    "                ('CT', ColumnTransformer([(x, TfidfVectorizer(), x) for x in ['text_cleaned',\n",
    "                                                                              'bigrams',\n",
    "                                                                              'trigrams']\n",
    "                                         ])),                             \n",
    "                ('lr', LogisticRegression(n_jobs=-2))\n",
    "]\n",
    ")\n",
    "\n",
    "\n",
    "# Fit Logistic Regression pipeline on the training data, get predictions and plot confusion matrix\n",
    "logreg_allgram_pipe.fit(X_allgrams, y)\n",
    "logreg_allgram_yhat = logreg_allgram_pipe.predict(X_allgrams)\n",
    "plot_confusion_matrix(logreg_allgram_pipe, X_allgrams, y, normalize='true');\n",
    "print(accuracy_score(y, logreg_allgram_yhat))"
   ]
  },
  {
   "cell_type": "code",
   "execution_count": 36,
   "metadata": {},
   "outputs": [
    {
     "name": "stdout",
     "output_type": "stream",
     "text": [
      "{'fit_time': array([456.41598701, 457.82991099, 461.80267787, 456.47686672,\n",
      "       470.18399   ]), 'score_time': array([81.5950501 , 81.08321381, 79.66620493, 79.28969693, 81.53978872]), 'test_score': array([0.86997567, 0.86903242, 0.87014215, 0.8706491 , 0.87027965])}\n"
     ]
    }
   ],
   "source": [
    "# Obtained cross-validated accuracy score\n",
    "logreg_allgram_cv = cross_validate(logreg_allgram_pipe, X_allgrams, y)\n",
    "print(logreg_allgram_cv)"
   ]
  },
  {
   "cell_type": "code",
   "execution_count": 37,
   "metadata": {},
   "outputs": [
    {
     "name": "stdout",
     "output_type": "stream",
     "text": [
      "0.8700158001164823\n"
     ]
    }
   ],
   "source": [
    "# Print cross-validated mean accuracy score & add to model performance dictionary\n",
    "print(logreg_allgram_cv['test_score'].mean())\n",
    "mod_perf['logreg_allgrams'] = logreg_allgram_cv['test_score'].mean()"
   ]
  },
  {
   "cell_type": "markdown",
   "metadata": {},
   "source": [
    "### Linear Support Vector Machine - Stochastic Gradient Descent\n",
    "Stochastic gradient descent is another technique that is very common in natural language processing due to its efficiency. Rather than calculating the gradient at each iteration using every observation in the dataset, it selects one observation at random for each step, drastically reducing the computational requirements. It uses linear models, similar to logistic regression, but performs gradient descent in a random (Stochastic) manner. It also works very well with sparse data, which makes it a natural fit for NLP. Given the size of my dataset, efficiency is very valuable and so SGD was a natural next step."
   ]
  },
  {
   "cell_type": "code",
   "execution_count": 38,
   "metadata": {},
   "outputs": [
    {
     "name": "stdout",
     "output_type": "stream",
     "text": [
      "0.8508034498007765\n"
     ]
    },
    {
     "data": {
      "image/png": "[encoded data removed]",
      "text/plain": [
       "<Figure size 432x288 with 2 Axes>"
      ]
     },
     "metadata": {
      "needs_background": "light"
     },
     "output_type": "display_data"
    }
   ],
   "source": [
    "# Instantiate the SGDC Classifier pipeline\n",
    "sgdc_pipe = ImPipeline(steps=[\n",
    "                            ('vect', TfidfVectorizer()),\n",
    "                            ('cf', SGDClassifier(random_state=42))\n",
    "                            ]\n",
    ")\n",
    "\n",
    "#Fit SGDC pipe on the training data, get predictions and plot confusion matrix\n",
    "sgdc_pipe.fit(X, y)\n",
    "sgdc_yhat = sgdc_pipe.predict(X)\n",
    "plot_confusion_matrix(sgdc_pipe, X, y, normalize='true');\n",
    "print(accuracy_score(y, sgdc_yhat))"
   ]
  },
  {
   "cell_type": "code",
   "execution_count": 39,
   "metadata": {},
   "outputs": [
    {
     "name": "stdout",
     "output_type": "stream",
     "text": [
      "{'fit_time': array([74.24060392, 74.24814916, 74.76416016, 75.02062225, 74.29208493]), 'score_time': array([16.02163982, 15.96307778, 16.05907798, 15.62628365, 15.50420213]), 'test_score': array([0.84894222, 0.84921701, 0.85032952, 0.85029202, 0.85047674])}\n"
     ]
    }
   ],
   "source": [
    "# Obtained cross-validated accuracy score\n",
    "sgdc_cv = cross_validate(sgdc_pipe, X, y)\n",
    "print(sgdc_cv)"
   ]
  },
  {
   "cell_type": "markdown",
   "metadata": {},
   "source": [
    "- 'fit_time': array([70.02949595, 70.80230594, 70.30221891, 70.43828201, 70.43610787])\n",
    "- 'score_time': array([14.75940609, 14.66371202, 14.59122682, 14.39158106, 14.41444707])\n",
    "- 'test_score': array([0.84893944, 0.84923944, 0.85029202, 0.85031702, 0.85053785])"
   ]
  },
  {
   "cell_type": "code",
   "execution_count": 40,
   "metadata": {},
   "outputs": [
    {
     "name": "stdout",
     "output_type": "stream",
     "text": [
      "0.8498514992625736\n"
     ]
    }
   ],
   "source": [
    "# Print cross-validated mean accuracy score & add to model performance dictionary\n",
    "print(sgdc_cv['test_score'].mean())\n",
    "mod_perf['sgdc_1grams'] = sgdc_cv['test_score'].mean()"
   ]
  },
  {
   "cell_type": "markdown",
   "metadata": {},
   "source": [
    "#### Using N-grams as Features \n",
    "To see if I could improve on the model's performance over using single words, I tried giving it bi-grams and tri-grams as additional features. Ultimately, the model realized a small accuracy gain of 0.0062 by showing it bi-grams and tri-grams in addition to single words. The sgd classifier did not outperform logistic regression with the settings used."
   ]
  },
  {
   "cell_type": "markdown",
   "metadata": {},
   "source": [
    "##### Single Words & Bi-Grams"
   ]
  },
  {
   "cell_type": "code",
   "execution_count": 41,
   "metadata": {},
   "outputs": [
    {
     "name": "stdout",
     "output_type": "stream",
     "text": [
      "0.8554870921361698\n"
     ]
    },
    {
     "data": {
      "image/png": "[encoded data removed]",
      "text/plain": [
       "<Figure size 432x288 with 2 Axes>"
      ]
     },
     "metadata": {
      "needs_background": "light"
     },
     "output_type": "display_data"
    }
   ],
   "source": [
    "# Instantiate the SGDC pipeline with cleaned text and bi-grams\n",
    "sgdc_bigrams_pipe = ImPipeline(steps=[\n",
    "                ('CT', ColumnTransformer([(x, TfidfVectorizer(), x) for x in ['text_cleaned',\n",
    "                                                                              'bigrams']\n",
    "                                         ])),\n",
    "                ('cf', SGDClassifier(random_state=42))\n",
    "]\n",
    ")\n",
    "\n",
    "# Fit SGDC pipe on the training data, get predictions and plot confusion matrix\n",
    "sgdc_bigrams_pipe.fit(X_bigrams, y)\n",
    "sgdc_bigrams_yhat = sgdc_bigrams_pipe.predict(X_bigrams)\n",
    "plot_confusion_matrix(sgdc_bigrams_pipe, X_bigrams, y, normalize='true');\n",
    "print(accuracy_score(y, sgdc_bigrams_yhat))"
   ]
  },
  {
   "cell_type": "code",
   "execution_count": 42,
   "metadata": {},
   "outputs": [
    {
     "name": "stdout",
     "output_type": "stream",
     "text": [
      "{'fit_time': array([192.82582521, 192.4153688 , 193.50860214, 188.79587197,\n",
      "       187.41601515]), 'score_time': array([45.13980985, 45.13690186, 44.21650004, 42.82940602, 42.33474779]), 'test_score': array([0.85388947, 0.85339065, 0.85449205, 0.85472816, 0.8545726 ])}\n"
     ]
    }
   ],
   "source": [
    "sgdc_bigrams_cv = cross_validate(sgdc_bigrams_pipe, X_bigrams, y)\n",
    "print(sgdc_bigrams_cv)"
   ]
  },
  {
   "cell_type": "code",
   "execution_count": 43,
   "metadata": {},
   "outputs": [
    {
     "name": "stdout",
     "output_type": "stream",
     "text": [
      "0.8542145837430912\n"
     ]
    }
   ],
   "source": [
    "# Print cross-validated mean accuracy score & add to model performance dictionary\n",
    "print(sgdc_bigrams_cv['test_score'].mean())\n",
    "mod_perf['sgdc_2grams'] = sgdc_bigrams_cv['test_score'].mean()"
   ]
  },
  {
   "cell_type": "markdown",
   "metadata": {},
   "source": [
    "##### Single Words & Tri-Grams"
   ]
  },
  {
   "cell_type": "code",
   "execution_count": 44,
   "metadata": {},
   "outputs": [
    {
     "name": "stdout",
     "output_type": "stream",
     "text": [
      "0.8546695866861335\n"
     ]
    },
    {
     "data": {
      "image/png": "[encoded data removed]",
      "text/plain": [
       "<Figure size 432x288 with 2 Axes>"
      ]
     },
     "metadata": {
      "needs_background": "light"
     },
     "output_type": "display_data"
    }
   ],
   "source": [
    "# Instantiate the SGDC pipeline with clean text and tri-grams\n",
    "sgdc_trigrams_pipe = ImPipeline(steps=[\n",
    "                ('CT', ColumnTransformer([(x, TfidfVectorizer(), x) for x in ['text_cleaned',\n",
    "                                                                              'trigrams']\n",
    "                                                             ])),                             \n",
    "                ('cf', SGDClassifier(random_state=42))\n",
    "]\n",
    ")\n",
    "\n",
    "# Fit SGDC pipe on the training data, get predictions and plot confusion matrix\n",
    "sgdc_trigrams_pipe.fit(X_trigrams, y)\n",
    "sgdc_trigrams_yhat = sgdc_trigrams_pipe.predict(X_trigrams)\n",
    "plot_confusion_matrix(sgdc_trigrams_pipe, X_trigrams, y, normalize='true');\n",
    "print(accuracy_score(y, sgdc_trigrams_yhat))"
   ]
  },
  {
   "cell_type": "code",
   "execution_count": 45,
   "metadata": {},
   "outputs": [
    {
     "name": "stdout",
     "output_type": "stream",
     "text": [
      "{'fit_time': array([222.24910402, 213.61810303, 214.18130612, 214.71657825,\n",
      "       214.70651007]), 'score_time': array([52.26696515, 50.88301063, 50.86556196, 49.93230367, 50.01248693]), 'test_score': array([0.85290057, 0.85256564, 0.85366009, 0.8539101 , 0.85379343])}\n"
     ]
    }
   ],
   "source": [
    "sgdc_trigrams_cv = cross_validate(sgdc_trigrams_pipe, X_trigrams, y)\n",
    "print(sgdc_trigrams_cv)"
   ]
  },
  {
   "cell_type": "code",
   "execution_count": 46,
   "metadata": {},
   "outputs": [
    {
     "name": "stdout",
     "output_type": "stream",
     "text": [
      "0.8533659670135009\n"
     ]
    }
   ],
   "source": [
    "# Print cross-validated mean accuracy score & add to model performance dictionary\n",
    "print(sgdc_trigrams_cv['test_score'].mean())\n",
    "mod_perf['sgdc_3grams'] = sgdc_trigrams_cv['test_score'].mean()"
   ]
  },
  {
   "cell_type": "markdown",
   "metadata": {},
   "source": [
    "##### Single Words, Bi-Grams & Tri-Grams"
   ]
  },
  {
   "cell_type": "code",
   "execution_count": 47,
   "metadata": {},
   "outputs": [
    {
     "name": "stdout",
     "output_type": "stream",
     "text": [
      "0.8573273821825479\n"
     ]
    },
    {
     "data": {
      "image/png": "[encoded data removed]",
      "text/plain": [
       "<Figure size 432x288 with 2 Axes>"
      ]
     },
     "metadata": {
      "needs_background": "light"
     },
     "output_type": "display_data"
    }
   ],
   "source": [
    "# Instantiate the SGDC pipeline with clean text, bi-grams and tri-grams\n",
    "sgdc_allgrams_pipe = ImPipeline(steps=[\n",
    "                ('CT', ColumnTransformer([(x, TfidfVectorizer(), x) for x in ['text_cleaned',\n",
    "                                                                              'bigrams',\n",
    "                                                                              'trigrams']\n",
    "                                                             ])),                             \n",
    "                ('cf', SGDClassifier(random_state=42))\n",
    "]\n",
    ")\n",
    "\n",
    "# Fit SGDC pipe on the training data, get predictions and plot confusion matrix\n",
    "sgdc_allgrams_pipe.fit(X_allgrams, y)\n",
    "sgdc_allgrams_yhat = sgdc_allgrams_pipe.predict(X_allgrams)\n",
    "plot_confusion_matrix(sgdc_allgrams_pipe, X_allgrams, y, normalize='true');\n",
    "print(accuracy_score(y, sgdc_allgrams_yhat))"
   ]
  },
  {
   "cell_type": "code",
   "execution_count": 48,
   "metadata": {},
   "outputs": [
    {
     "name": "stdout",
     "output_type": "stream",
     "text": [
      "{'fit_time': array([323.26617479, 323.36069012, 324.738873  , 325.88721704,\n",
      "       325.34087777]), 'score_time': array([78.78471088, 77.82360792, 77.46431208, 76.4757781 , 76.29455018]), 'test_score': array([0.8555492 , 0.85513788, 0.85591983, 0.85628234, 0.85617261])}\n"
     ]
    }
   ],
   "source": [
    "# Obtained cross-validated accuracy score\n",
    "sgdc_allgrams_cv = cross_validate(sgdc_allgrams_pipe, X_allgrams, y)\n",
    "print(sgdc_allgrams_cv)"
   ]
  },
  {
   "cell_type": "code",
   "execution_count": 49,
   "metadata": {},
   "outputs": [
    {
     "name": "stdout",
     "output_type": "stream",
     "text": [
      "0.8558123721555851\n"
     ]
    }
   ],
   "source": [
    "# Print cross-validated mean accuracy score & add to model performance dictionary\n",
    "print(sgdc_allgrams_cv['test_score'].mean())\n",
    "mod_perf['sgdc_allgrams'] = sgdc_allgrams_cv['test_score'].mean()"
   ]
  },
  {
   "cell_type": "markdown",
   "metadata": {},
   "source": [
    "#### Visualizing Model Performance"
   ]
  },
  {
   "cell_type": "code",
   "execution_count": 50,
   "metadata": {},
   "outputs": [],
   "source": [
    "# Create dataframe of model performance using the mod_perf dictionary\n",
    "mod_perf_df = pd.DataFrame.from_dict(mod_perf, orient='index')\n",
    "mod_perf_df.reset_index(inplace=True)\n",
    "mod_perf_df.columns = ['model', 'accuracy']\n",
    "\n",
    "# Save model performance to disk for future use, given long execution time for the notebook.\n",
    "mod_perf_df.to_csv('./models/model_performance.csv')"
   ]
  },
  {
   "cell_type": "code",
   "execution_count": 51,
   "metadata": {},
   "outputs": [
    {
     "data": {
      "text/plain": [
       "{'mnb_1grams': 0.8134590327640107,\n",
       " 'mnb_2grams': 0.8114320748221763,\n",
       " 'mnb_3grams': 0.8099442871295943,\n",
       " 'mnb_allgrams': 0.8096151182723267,\n",
       " 'logreg_1grams': 0.8689799597865736,\n",
       " 'logreg_2grams': 0.8697271870227186,\n",
       " 'logreg_3grams': 0.8703380246265293,\n",
       " 'logreg_allgrams': 0.8700158001164823,\n",
       " 'sgdc_1grams': 0.8498514992625736,\n",
       " 'sgdc_2grams': 0.8542145837430912,\n",
       " 'sgdc_3grams': 0.8533659670135009,\n",
       " 'sgdc_allgrams': 0.8558123721555851}"
      ]
     },
     "execution_count": 51,
     "metadata": {},
     "output_type": "execute_result"
    }
   ],
   "source": [
    "mod_perf"
   ]
  },
  {
   "cell_type": "code",
   "execution_count": 84,
   "metadata": {},
   "outputs": [
    {
     "data": {
      "image/png": "[encoded data removed]",
      "text/plain": [
       "<Figure size 1000x1000 with 1 Axes>"
      ]
     },
     "metadata": {},
     "output_type": "display_data"
    }
   ],
   "source": [
    "# Visualization of Model Perforamnce\n",
    "\n",
    "# Read model performance from csv\n",
    "mod_perf_df = pd.read_csv('./models/model_performance.csv', index_col=0)\n",
    "mod_perf_df.sort_values(by='accuracy', inplace=True)\n",
    "\n",
    "# Set custom colorblind-friendly colors\n",
    "colors = [[86/255,180/255,233/255], [86/255,180/255,233/255], [86/255,180/255,233/255],\n",
    "        [86/255,180/255,233/255], [86/255,180/255,233/255], [86/255,180/255,233/255],\n",
    "        [86/255,180/255,233/255], [86/255,180/255,233/255], [86/255,180/255,233/255],\n",
    "        [86/255,180/255,233/255], [86/255,180/255,233/255], [0,158/255,115/255]]\n",
    "         \n",
    "\n",
    "# Plot Bar Graph\n",
    "fig, ax = plt.subplots(figsize=(10,10))\n",
    "plt.style.use('fivethirtyeight')\n",
    "plt.rcParams.update({'font.size': 13})\n",
    "plt.axis([0.8, 0.88, None, None])\n",
    "\n",
    "ax.barh(mod_perf_df['model'], mod_perf_df['accuracy'], color=colors)\n",
    "ax.set_title('Model Performance by Cross-validated Accuracy Score')\n",
    "ax.set_ylabel('Model Type', labelpad=10)\n",
    "ax.set_xlabel('Accuracy Score (%)', labelpad=10)\n",
    "ax.set_xticklabels(labels = ['80', '81', '82', '83', '84', '85', '86', '87', '88'])\n",
    "#ax.tick_params(axis=\"x\", rotation=90)\n",
    "plt.tight_layout()\n",
    "\n",
    "# Save figure to file for use in presentation\n",
    "plt.savefig('./images/model_performance_hbar.png', dpi=500)"
   ]
  },
  {
   "cell_type": "markdown",
   "metadata": {},
   "source": [
    "## Final Model Evaluation\n",
    "The logistic regression model that trained on a combination of 1-grams and 3-grams had the highest accuracy score, so I selected it as the appropriate model for this task. The model's accuracy was only very slightly (0.0004) better than a similarly-configured model that received 1-grams, 2-grams and 3-grams. However slight the margin, when combined with the fact that it requires significantly less data and therefore a shorter cleaning process, its superiority becomes clear. \n",
    "\n",
    "The model appears to generalize quite well, as it produced an accuracy score of 87.19% on completely unseen data, as compared to cross-validated accuracy of 87.14% on the training data. It correctly classified 88% of positive reviews and 87% of negative reviews in the test data, suggesting that it is slightly more accurate at determining positive sentiment than negative sentiment. The model avoids significant weaknesses with false positives or negatives, and significantly reduces the number of reviews that would require human review in a real-world setting. Particularly for sellers that wish to set up their own online storefront, the model’s efficiency is highly appealing.\n",
    "\n",
    "The primary weakness of my model lies in its performance relative to more sophisticated NLP algorithms. There are a number of highly accurate classifiers available, and NLP as a field is advancing rapidly. However, more advanced techniques can require compute resources that may not be available to small sellers for budgetary or technical literacy reasons. My model is small enough to be deployed in a web application for easy upload/download of customer reviews and classification. It could be improved upon by a large marketplace with the financial and technical resources to tune its hyperparameters, though it is likely that an organization with those resources could implement a more sophisticated and accurate model."
   ]
  },
  {
   "cell_type": "markdown",
   "metadata": {},
   "source": [
    "### Prepare Test Data\n",
    "The process below follows the same process as the training data."
   ]
  },
  {
   "cell_type": "code",
   "execution_count": 53,
   "metadata": {},
   "outputs": [],
   "source": [
    "# Read in the test data\n",
    "df_test = pd.read_csv('./large_data/test_cleaned_10sw.csv', index_col=0)"
   ]
  },
  {
   "cell_type": "code",
   "execution_count": 54,
   "metadata": {},
   "outputs": [
    {
     "name": "stdout",
     "output_type": "stream",
     "text": [
      "sentiment       0\n",
      "text            0\n",
      "text_cleaned    3\n",
      "bigrams         0\n",
      "trigrams        0\n",
      "dtype: int64\n"
     ]
    },
    {
     "data": {
      "text/html": [
       "<div>\n",
       "<style scoped>\n",
       "    .dataframe tbody tr th:only-of-type {\n",
       "        vertical-align: middle;\n",
       "    }\n",
       "\n",
       "    .dataframe tbody tr th {\n",
       "        vertical-align: top;\n",
       "    }\n",
       "\n",
       "    .dataframe thead th {\n",
       "        text-align: right;\n",
       "    }\n",
       "</style>\n",
       "<table border=\"1\" class=\"dataframe\">\n",
       "  <thead>\n",
       "    <tr style=\"text-align: right;\">\n",
       "      <th></th>\n",
       "      <th>sentiment</th>\n",
       "      <th>text</th>\n",
       "      <th>text_cleaned</th>\n",
       "      <th>bigrams</th>\n",
       "      <th>trigrams</th>\n",
       "    </tr>\n",
       "  </thead>\n",
       "  <tbody>\n",
       "    <tr>\n",
       "      <th>132765</th>\n",
       "      <td>2</td>\n",
       "      <td>good good good good good good good good good g...</td>\n",
       "      <td>NaN</td>\n",
       "      <td>[]</td>\n",
       "      <td>[]</td>\n",
       "    </tr>\n",
       "    <tr>\n",
       "      <th>328805</th>\n",
       "      <td>2</td>\n",
       "      <td>good good good good good good good good good g...</td>\n",
       "      <td>NaN</td>\n",
       "      <td>[]</td>\n",
       "      <td>[]</td>\n",
       "    </tr>\n",
       "    <tr>\n",
       "      <th>369851</th>\n",
       "      <td>2</td>\n",
       "      <td>&amp;#26379;&amp;#21451; &amp;#24478;&amp;#32654; &amp;#22283; &amp;#2...</td>\n",
       "      <td>NaN</td>\n",
       "      <td>[]</td>\n",
       "      <td>[]</td>\n",
       "    </tr>\n",
       "  </tbody>\n",
       "</table>\n",
       "</div>"
      ],
      "text/plain": [
       "        sentiment                                               text  \\\n",
       "132765          2  good good good good good good good good good g...   \n",
       "328805          2  good good good good good good good good good g...   \n",
       "369851          2  &#26379;&#21451; &#24478;&#32654; &#22283; &#2...   \n",
       "\n",
       "       text_cleaned bigrams trigrams  \n",
       "132765          NaN      []       []  \n",
       "328805          NaN      []       []  \n",
       "369851          NaN      []       []  "
      ]
     },
     "execution_count": 54,
     "metadata": {},
     "output_type": "execute_result"
    }
   ],
   "source": [
    "# Find & Display any NaN values for cleaned text \n",
    "print(df_test.isna().sum())\n",
    "df_test[df_test['text_cleaned'].isna()]"
   ]
  },
  {
   "cell_type": "code",
   "execution_count": 55,
   "metadata": {},
   "outputs": [],
   "source": [
    "# Drop the single NaN row\n",
    "df_test.dropna(inplace=True)"
   ]
  },
  {
   "cell_type": "code",
   "execution_count": 56,
   "metadata": {},
   "outputs": [],
   "source": [
    "# Save off feature combinations as required for use in the final model.\n",
    "X_test_trigrams = df_test[['text_cleaned', 'trigrams']]\n",
    "y_test = df_test['sentiment']"
   ]
  },
  {
   "cell_type": "markdown",
   "metadata": {},
   "source": [
    "### Load & Score Final Model"
   ]
  },
  {
   "cell_type": "code",
   "execution_count": 57,
   "metadata": {},
   "outputs": [],
   "source": [
    "# Load best-performing model from file\n",
    "with open('./models/sw_logreg_trigram_model.pkl', 'rb') as f:\n",
    "    logreg_trigram_pipe = joblib.load(f)"
   ]
  },
  {
   "cell_type": "code",
   "execution_count": 58,
   "metadata": {},
   "outputs": [
    {
     "name": "stdout",
     "output_type": "stream",
     "text": [
      "0.871911539336545\n"
     ]
    },
    {
     "data": {
      "image/png": "[encoded data removed]",
      "text/plain": [
       "<Figure size 640x480 with 2 Axes>"
      ]
     },
     "metadata": {},
     "output_type": "display_data"
    }
   ],
   "source": [
    "# Score the final model on the test data & plot confusion matrix\n",
    "print(logreg_trigram_pipe.score(X_test_trigrams, y_test))\n",
    "plt.style.use('default')\n",
    "plot_confusion_matrix(logreg_trigram_pipe, X_test_trigrams, y_test, normalize='true');"
   ]
  },
  {
   "cell_type": "code",
   "execution_count": 59,
   "metadata": {},
   "outputs": [
    {
     "name": "stdout",
     "output_type": "stream",
     "text": [
      "              precision    recall  f1-score   support\n",
      "\n",
      "           1       0.88      0.87      0.87    200000\n",
      "           2       0.87      0.88      0.87    199997\n",
      "\n",
      "    accuracy                           0.87    399997\n",
      "   macro avg       0.87      0.87      0.87    399997\n",
      "weighted avg       0.87      0.87      0.87    399997\n",
      "\n"
     ]
    }
   ],
   "source": [
    "# Make predictions and print classification report for visual inspection\n",
    "yhat_test = logreg_trigram_pipe.predict(X_test_trigrams)\n",
    "print(classification_report(y_test, yhat_test))"
   ]
  },
  {
   "cell_type": "markdown",
   "metadata": {},
   "source": [
    "### Testing reviews from reddit\n",
    "Using the posts that I scraped from reddit, I tasked the final model with classifying each post's sentiment. Because we had a small number of posts, I also read them myself and included a sentiment column based on that inspection. There was a small wrinkle here in that we know the dataset used for training the model omitted neutral reviews. Therefore, when I encountered a neutral review, I marked it as such and made sure to exclude it from my calculation of accuracy. The model classified 75% of the reddit reviews correctly, although it should be noted that from our original 100 reviews, only 8 were ultimately included in the accuracy calculation. Significantly more testing will be required to form a meaningful understanding of the model's efficacy at evaluating Reddit posts."
   ]
  },
  {
   "cell_type": "code",
   "execution_count": 60,
   "metadata": {},
   "outputs": [
    {
     "data": {
      "text/html": [
       "<div>\n",
       "<style scoped>\n",
       "    .dataframe tbody tr th:only-of-type {\n",
       "        vertical-align: middle;\n",
       "    }\n",
       "\n",
       "    .dataframe tbody tr th {\n",
       "        vertical-align: top;\n",
       "    }\n",
       "\n",
       "    .dataframe thead th {\n",
       "        text-align: right;\n",
       "    }\n",
       "</style>\n",
       "<table border=\"1\" class=\"dataframe\">\n",
       "  <thead>\n",
       "    <tr style=\"text-align: right;\">\n",
       "      <th></th>\n",
       "      <th>text_cleaned</th>\n",
       "      <th>trigrams</th>\n",
       "    </tr>\n",
       "  </thead>\n",
       "  <tbody>\n",
       "    <tr>\n",
       "      <th>0</th>\n",
       "      <td>amp x b kingston datatraveler exodia affordabl...</td>\n",
       "      <td>[('amp', 'x', 'b'), ('x', 'b', 'kingston'), ('...</td>\n",
       "    </tr>\n",
       "    <tr>\n",
       "      <th>1</th>\n",
       "      <td>amp x b brita flow water tank design filter ta...</td>\n",
       "      <td>[('amp', 'x', 'b'), ('x', 'b', 'brita'), ('b',...</td>\n",
       "    </tr>\n",
       "    <tr>\n",
       "      <th>2</th>\n",
       "      <td>degree motionsense antiperspirant deodorant dr...</td>\n",
       "      <td>[('degree', 'motionsense', 'antiperspirant'), ...</td>\n",
       "    </tr>\n",
       "    <tr>\n",
       "      <th>3</th>\n",
       "      <td>think negative review write site display i'll ...</td>\n",
       "      <td>[('think', 'negative', 'review'), ('negative',...</td>\n",
       "    </tr>\n",
       "    <tr>\n",
       "      <th>4</th>\n",
       "      <td>chance use taotronics active noise cancel head...</td>\n",
       "      <td>[('chance', 'use', 'taotronics'), ('use', 'tao...</td>\n",
       "    </tr>\n",
       "    <tr>\n",
       "      <th>5</th>\n",
       "      <td>free item u nitrile disposable glove pcs inter...</td>\n",
       "      <td>[('free', 'item', 'u'), ('item', 'u', 'nitrile...</td>\n",
       "    </tr>\n",
       "    <tr>\n",
       "      <th>6</th>\n",
       "      <td>review different tech product every week join ...</td>\n",
       "      <td>[('review', 'different', 'tech'), ('different'...</td>\n",
       "    </tr>\n",
       "    <tr>\n",
       "      <th>7</th>\n",
       "      <td>percussion massager massage gun extremely usef...</td>\n",
       "      <td>[('percussion', 'massager', 'massage'), ('mass...</td>\n",
       "    </tr>\n",
       "    <tr>\n",
       "      <th>8</th>\n",
       "      <td>use thymuskin hair shampoo serum medium month ...</td>\n",
       "      <td>[('use', 'thymuskin', 'hair'), ('thymuskin', '...</td>\n",
       "    </tr>\n",
       "    <tr>\n",
       "      <th>9</th>\n",
       "      <td>rarely review anything except book excellent p...</td>\n",
       "      <td>[('rarely', 'review', 'anything'), ('review', ...</td>\n",
       "    </tr>\n",
       "    <tr>\n",
       "      <th>10</th>\n",
       "      <td>review want share personal experience regard p...</td>\n",
       "      <td>[('review', 'want', 'share'), ('want', 'share'...</td>\n",
       "    </tr>\n",
       "    <tr>\n",
       "      <th>11</th>\n",
       "      <td>massive acne build also know acne vulgaris les...</td>\n",
       "      <td>[('massive', 'acne', 'build'), ('acne', 'build...</td>\n",
       "    </tr>\n",
       "    <tr>\n",
       "      <th>12</th>\n",
       "      <td>minute affiliate system minute affiliate syste...</td>\n",
       "      <td>[('minute', 'affiliate', 'system'), ('affiliat...</td>\n",
       "    </tr>\n",
       "    <tr>\n",
       "      <th>13</th>\n",
       "      <td>brain training dog program brain train dog cou...</td>\n",
       "      <td>[('brain', 'training', 'dog'), ('training', 'd...</td>\n",
       "    </tr>\n",
       "  </tbody>\n",
       "</table>\n",
       "</div>"
      ],
      "text/plain": [
       "                                         text_cleaned  \\\n",
       "0   amp x b kingston datatraveler exodia affordabl...   \n",
       "1   amp x b brita flow water tank design filter ta...   \n",
       "2   degree motionsense antiperspirant deodorant dr...   \n",
       "3   think negative review write site display i'll ...   \n",
       "4   chance use taotronics active noise cancel head...   \n",
       "5   free item u nitrile disposable glove pcs inter...   \n",
       "6   review different tech product every week join ...   \n",
       "7   percussion massager massage gun extremely usef...   \n",
       "8   use thymuskin hair shampoo serum medium month ...   \n",
       "9   rarely review anything except book excellent p...   \n",
       "10  review want share personal experience regard p...   \n",
       "11  massive acne build also know acne vulgaris les...   \n",
       "12  minute affiliate system minute affiliate syste...   \n",
       "13  brain training dog program brain train dog cou...   \n",
       "\n",
       "                                             trigrams  \n",
       "0   [('amp', 'x', 'b'), ('x', 'b', 'kingston'), ('...  \n",
       "1   [('amp', 'x', 'b'), ('x', 'b', 'brita'), ('b',...  \n",
       "2   [('degree', 'motionsense', 'antiperspirant'), ...  \n",
       "3   [('think', 'negative', 'review'), ('negative',...  \n",
       "4   [('chance', 'use', 'taotronics'), ('use', 'tao...  \n",
       "5   [('free', 'item', 'u'), ('item', 'u', 'nitrile...  \n",
       "6   [('review', 'different', 'tech'), ('different'...  \n",
       "7   [('percussion', 'massager', 'massage'), ('mass...  \n",
       "8   [('use', 'thymuskin', 'hair'), ('thymuskin', '...  \n",
       "9   [('rarely', 'review', 'anything'), ('review', ...  \n",
       "10  [('review', 'want', 'share'), ('want', 'share'...  \n",
       "11  [('massive', 'acne', 'build'), ('acne', 'build...  \n",
       "12  [('minute', 'affiliate', 'system'), ('affiliat...  \n",
       "13  [('brain', 'training', 'dog'), ('training', 'd...  "
      ]
     },
     "execution_count": 60,
     "metadata": {},
     "output_type": "execute_result"
    }
   ],
   "source": [
    "# Read in the reddit data \n",
    "df_reddit = pd.read_csv('./data/reddit_cleaned.csv')\n",
    "\n",
    "# Save features to appropriate variable & visually inspect\n",
    "X_red_trigrams = df_reddit[['text_cleaned', 'trigrams']]\n",
    "X_red_trigrams"
   ]
  },
  {
   "cell_type": "code",
   "execution_count": 61,
   "metadata": {},
   "outputs": [
    {
     "data": {
      "text/plain": [
       "Unnamed: 0      0\n",
       "subreddit       0\n",
       "title           0\n",
       "selftext        0\n",
       "text_cleaned    0\n",
       "bigrams         0\n",
       "trigrams        0\n",
       "dtype: int64"
      ]
     },
     "execution_count": 61,
     "metadata": {},
     "output_type": "execute_result"
    }
   ],
   "source": [
    "# Check for NaN values\n",
    "df_reddit.isna().sum()"
   ]
  },
  {
   "cell_type": "code",
   "execution_count": 62,
   "metadata": {},
   "outputs": [
    {
     "data": {
      "text/html": [
       "<div>\n",
       "<style scoped>\n",
       "    .dataframe tbody tr th:only-of-type {\n",
       "        vertical-align: middle;\n",
       "    }\n",
       "\n",
       "    .dataframe tbody tr th {\n",
       "        vertical-align: top;\n",
       "    }\n",
       "\n",
       "    .dataframe thead th {\n",
       "        text-align: right;\n",
       "    }\n",
       "</style>\n",
       "<table border=\"1\" class=\"dataframe\">\n",
       "  <thead>\n",
       "    <tr style=\"text-align: right;\">\n",
       "      <th></th>\n",
       "      <th>text_cleaned</th>\n",
       "      <th>trigrams</th>\n",
       "      <th>sentiment</th>\n",
       "    </tr>\n",
       "  </thead>\n",
       "  <tbody>\n",
       "    <tr>\n",
       "      <th>0</th>\n",
       "      <td>amp x b kingston datatraveler exodia affordabl...</td>\n",
       "      <td>[('amp', 'x', 'b'), ('x', 'b', 'kingston'), ('...</td>\n",
       "      <td>2</td>\n",
       "    </tr>\n",
       "    <tr>\n",
       "      <th>1</th>\n",
       "      <td>amp x b brita flow water tank design filter ta...</td>\n",
       "      <td>[('amp', 'x', 'b'), ('x', 'b', 'brita'), ('b',...</td>\n",
       "      <td>2</td>\n",
       "    </tr>\n",
       "    <tr>\n",
       "      <th>2</th>\n",
       "      <td>degree motionsense antiperspirant deodorant dr...</td>\n",
       "      <td>[('degree', 'motionsense', 'antiperspirant'), ...</td>\n",
       "      <td>1</td>\n",
       "    </tr>\n",
       "    <tr>\n",
       "      <th>3</th>\n",
       "      <td>think negative review write site display i'll ...</td>\n",
       "      <td>[('think', 'negative', 'review'), ('negative',...</td>\n",
       "      <td>1</td>\n",
       "    </tr>\n",
       "    <tr>\n",
       "      <th>4</th>\n",
       "      <td>chance use taotronics active noise cancel head...</td>\n",
       "      <td>[('chance', 'use', 'taotronics'), ('use', 'tao...</td>\n",
       "      <td>2</td>\n",
       "    </tr>\n",
       "    <tr>\n",
       "      <th>5</th>\n",
       "      <td>free item u nitrile disposable glove pcs inter...</td>\n",
       "      <td>[('free', 'item', 'u'), ('item', 'u', 'nitrile...</td>\n",
       "      <td>1</td>\n",
       "    </tr>\n",
       "    <tr>\n",
       "      <th>6</th>\n",
       "      <td>review different tech product every week join ...</td>\n",
       "      <td>[('review', 'different', 'tech'), ('different'...</td>\n",
       "      <td>2</td>\n",
       "    </tr>\n",
       "    <tr>\n",
       "      <th>7</th>\n",
       "      <td>percussion massager massage gun extremely usef...</td>\n",
       "      <td>[('percussion', 'massager', 'massage'), ('mass...</td>\n",
       "      <td>2</td>\n",
       "    </tr>\n",
       "    <tr>\n",
       "      <th>8</th>\n",
       "      <td>use thymuskin hair shampoo serum medium month ...</td>\n",
       "      <td>[('use', 'thymuskin', 'hair'), ('thymuskin', '...</td>\n",
       "      <td>2</td>\n",
       "    </tr>\n",
       "    <tr>\n",
       "      <th>9</th>\n",
       "      <td>rarely review anything except book excellent p...</td>\n",
       "      <td>[('rarely', 'review', 'anything'), ('review', ...</td>\n",
       "      <td>2</td>\n",
       "    </tr>\n",
       "    <tr>\n",
       "      <th>10</th>\n",
       "      <td>review want share personal experience regard p...</td>\n",
       "      <td>[('review', 'want', 'share'), ('want', 'share'...</td>\n",
       "      <td>2</td>\n",
       "    </tr>\n",
       "    <tr>\n",
       "      <th>11</th>\n",
       "      <td>massive acne build also know acne vulgaris les...</td>\n",
       "      <td>[('massive', 'acne', 'build'), ('acne', 'build...</td>\n",
       "      <td>2</td>\n",
       "    </tr>\n",
       "    <tr>\n",
       "      <th>12</th>\n",
       "      <td>minute affiliate system minute affiliate syste...</td>\n",
       "      <td>[('minute', 'affiliate', 'system'), ('affiliat...</td>\n",
       "      <td>2</td>\n",
       "    </tr>\n",
       "    <tr>\n",
       "      <th>13</th>\n",
       "      <td>brain training dog program brain train dog cou...</td>\n",
       "      <td>[('brain', 'training', 'dog'), ('training', 'd...</td>\n",
       "      <td>2</td>\n",
       "    </tr>\n",
       "  </tbody>\n",
       "</table>\n",
       "</div>"
      ],
      "text/plain": [
       "                                         text_cleaned  \\\n",
       "0   amp x b kingston datatraveler exodia affordabl...   \n",
       "1   amp x b brita flow water tank design filter ta...   \n",
       "2   degree motionsense antiperspirant deodorant dr...   \n",
       "3   think negative review write site display i'll ...   \n",
       "4   chance use taotronics active noise cancel head...   \n",
       "5   free item u nitrile disposable glove pcs inter...   \n",
       "6   review different tech product every week join ...   \n",
       "7   percussion massager massage gun extremely usef...   \n",
       "8   use thymuskin hair shampoo serum medium month ...   \n",
       "9   rarely review anything except book excellent p...   \n",
       "10  review want share personal experience regard p...   \n",
       "11  massive acne build also know acne vulgaris les...   \n",
       "12  minute affiliate system minute affiliate syste...   \n",
       "13  brain training dog program brain train dog cou...   \n",
       "\n",
       "                                             trigrams  sentiment  \n",
       "0   [('amp', 'x', 'b'), ('x', 'b', 'kingston'), ('...          2  \n",
       "1   [('amp', 'x', 'b'), ('x', 'b', 'brita'), ('b',...          2  \n",
       "2   [('degree', 'motionsense', 'antiperspirant'), ...          1  \n",
       "3   [('think', 'negative', 'review'), ('negative',...          1  \n",
       "4   [('chance', 'use', 'taotronics'), ('use', 'tao...          2  \n",
       "5   [('free', 'item', 'u'), ('item', 'u', 'nitrile...          1  \n",
       "6   [('review', 'different', 'tech'), ('different'...          2  \n",
       "7   [('percussion', 'massager', 'massage'), ('mass...          2  \n",
       "8   [('use', 'thymuskin', 'hair'), ('thymuskin', '...          2  \n",
       "9   [('rarely', 'review', 'anything'), ('review', ...          2  \n",
       "10  [('review', 'want', 'share'), ('want', 'share'...          2  \n",
       "11  [('massive', 'acne', 'build'), ('acne', 'build...          2  \n",
       "12  [('minute', 'affiliate', 'system'), ('affiliat...          2  \n",
       "13  [('brain', 'training', 'dog'), ('training', 'd...          2  "
      ]
     },
     "execution_count": 62,
     "metadata": {},
     "output_type": "execute_result"
    }
   ],
   "source": [
    "# Add a column to the X_red_trigrams dataframe containing the model's predictions for comparison\n",
    "X_red_trigrams.insert(loc=2, column=\"sentiment\", value=pd.Series(logreg_trigram_pipe.predict(X_red_trigrams)))\n",
    "X_red_trigrams"
   ]
  },
  {
   "cell_type": "markdown",
   "metadata": {},
   "source": [
    "### Testing Reviews from the Women's Fashion Dataset\n",
    "Using the women's fashion datset, I again tasked the model with classifying a set of unseen data. This time the reivew sentiment was labeled by the author, so I had a strong point of comparison to measure the model's performance. Ultimately the model's accuracy score was quite respectable at 84.1%. There was only a small difference in the model's ability to correctly classify positive and negative sentiment in reveiews, achieving 85% accuracy on negative emotion and 84% accuracy on positive emotion. \n",
    "\n",
    "While the model performed less successfully than it did on Amazon data, the 84% accuracy is still quite useable in detecting sentiment. This suggests that because it was trained on a wide variety of review data, it is resilient to changes in the review category and generalizes well. Of course, more testing would be needed to confirm this suggestion and can be performed outside the scope of this project."
   ]
  },
  {
   "cell_type": "code",
   "execution_count": 63,
   "metadata": {},
   "outputs": [
    {
     "data": {
      "text/html": [
       "<div>\n",
       "<style scoped>\n",
       "    .dataframe tbody tr th:only-of-type {\n",
       "        vertical-align: middle;\n",
       "    }\n",
       "\n",
       "    .dataframe tbody tr th {\n",
       "        vertical-align: top;\n",
       "    }\n",
       "\n",
       "    .dataframe thead th {\n",
       "        text-align: right;\n",
       "    }\n",
       "</style>\n",
       "<table border=\"1\" class=\"dataframe\">\n",
       "  <thead>\n",
       "    <tr style=\"text-align: right;\">\n",
       "      <th></th>\n",
       "      <th>text_cleaned</th>\n",
       "      <th>trigrams</th>\n",
       "    </tr>\n",
       "  </thead>\n",
       "  <tbody>\n",
       "    <tr>\n",
       "      <th>0</th>\n",
       "      <td>absolutely wonderful silky sexy comfortable</td>\n",
       "      <td>[('absolutely', 'wonderful', 'silky'), ('wonde...</td>\n",
       "    </tr>\n",
       "    <tr>\n",
       "      <th>1</th>\n",
       "      <td>sooo pretty happen find store i'm glad bc neve...</td>\n",
       "      <td>[('sooo', 'pretty', 'happen'), ('pretty', 'hap...</td>\n",
       "    </tr>\n",
       "    <tr>\n",
       "      <th>2</th>\n",
       "      <td>jumpsuit fun flirty fabulous every time get no...</td>\n",
       "      <td>[('jumpsuit', 'fun', 'flirty'), ('fun', 'flirt...</td>\n",
       "    </tr>\n",
       "    <tr>\n",
       "      <th>3</th>\n",
       "      <td>shirt flatter due adjustable front tie perfect...</td>\n",
       "      <td>[('shirt', 'flatter', 'due'), ('flatter', 'due...</td>\n",
       "    </tr>\n",
       "    <tr>\n",
       "      <th>4</th>\n",
       "      <td>tracy reese dress one petite foot tall usually...</td>\n",
       "      <td>[('tracy', 'reese', 'dress'), ('reese', 'dress...</td>\n",
       "    </tr>\n",
       "    <tr>\n",
       "      <th>...</th>\n",
       "      <td>...</td>\n",
       "      <td>...</td>\n",
       "    </tr>\n",
       "    <tr>\n",
       "      <th>19810</th>\n",
       "      <td>i'm impress beautiful color combination embroi...</td>\n",
       "      <td>[(\"i'm\", 'impress', 'beautiful'), ('impress', ...</td>\n",
       "    </tr>\n",
       "    <tr>\n",
       "      <th>19811</th>\n",
       "      <td>surprised positive review product terrible cut...</td>\n",
       "      <td>[('surprised', 'positive', 'review'), ('positi...</td>\n",
       "    </tr>\n",
       "    <tr>\n",
       "      <th>19812</th>\n",
       "      <td>sure order skirt see person first i'm glad ski...</td>\n",
       "      <td>[('sure', 'order', 'skirt'), ('order', 'skirt'...</td>\n",
       "    </tr>\n",
       "    <tr>\n",
       "      <th>19813</th>\n",
       "      <td>happy snag great price easy slip flatter cut c...</td>\n",
       "      <td>[('happy', 'snag', 'great'), ('snag', 'great',...</td>\n",
       "    </tr>\n",
       "    <tr>\n",
       "      <th>19814</th>\n",
       "      <td>lovely platinum feminine fit perfectly easy co...</td>\n",
       "      <td>[('lovely', 'platinum', 'feminine'), ('platinu...</td>\n",
       "    </tr>\n",
       "  </tbody>\n",
       "</table>\n",
       "<p>19815 rows × 2 columns</p>\n",
       "</div>"
      ],
      "text/plain": [
       "                                            text_cleaned  \\\n",
       "0            absolutely wonderful silky sexy comfortable   \n",
       "1      sooo pretty happen find store i'm glad bc neve...   \n",
       "2      jumpsuit fun flirty fabulous every time get no...   \n",
       "3      shirt flatter due adjustable front tie perfect...   \n",
       "4      tracy reese dress one petite foot tall usually...   \n",
       "...                                                  ...   \n",
       "19810  i'm impress beautiful color combination embroi...   \n",
       "19811  surprised positive review product terrible cut...   \n",
       "19812  sure order skirt see person first i'm glad ski...   \n",
       "19813  happy snag great price easy slip flatter cut c...   \n",
       "19814  lovely platinum feminine fit perfectly easy co...   \n",
       "\n",
       "                                                trigrams  \n",
       "0      [('absolutely', 'wonderful', 'silky'), ('wonde...  \n",
       "1      [('sooo', 'pretty', 'happen'), ('pretty', 'hap...  \n",
       "2      [('jumpsuit', 'fun', 'flirty'), ('fun', 'flirt...  \n",
       "3      [('shirt', 'flatter', 'due'), ('flatter', 'due...  \n",
       "4      [('tracy', 'reese', 'dress'), ('reese', 'dress...  \n",
       "...                                                  ...  \n",
       "19810  [(\"i'm\", 'impress', 'beautiful'), ('impress', ...  \n",
       "19811  [('surprised', 'positive', 'review'), ('positi...  \n",
       "19812  [('sure', 'order', 'skirt'), ('order', 'skirt'...  \n",
       "19813  [('happy', 'snag', 'great'), ('snag', 'great',...  \n",
       "19814  [('lovely', 'platinum', 'feminine'), ('platinu...  \n",
       "\n",
       "[19815 rows x 2 columns]"
      ]
     },
     "execution_count": 63,
     "metadata": {},
     "output_type": "execute_result"
    }
   ],
   "source": [
    "# Read in the fashion data\n",
    "df_fashion = pd.read_csv('./data/fashion_cleaned_10sw.csv')\n",
    "\n",
    "# Save features & target to appropriate variables & visually inspect\n",
    "X_fash_trigrams = df_fashion[['text_cleaned', 'trigrams']]\n",
    "y_fash = df_fashion['sentiment']\n",
    "X_fash_trigrams"
   ]
  },
  {
   "cell_type": "code",
   "execution_count": 64,
   "metadata": {},
   "outputs": [
    {
     "name": "stdout",
     "output_type": "stream",
     "text": [
      "0.8405248549078981\n"
     ]
    },
    {
     "data": {
      "image/png": "[encoded data removed]",
      "text/plain": [
       "<Figure size 640x480 with 2 Axes>"
      ]
     },
     "metadata": {},
     "output_type": "display_data"
    }
   ],
   "source": [
    "# Score the final model on the fashion data & plot confusion matrix\n",
    "print(logreg_trigram_pipe.score(X_fash_trigrams, y_fash))\n",
    "plt.style.use('default')\n",
    "plot_confusion_matrix(logreg_trigram_pipe, X_fash_trigrams, y_fash, normalize='true');"
   ]
  },
  {
   "cell_type": "code",
   "execution_count": 65,
   "metadata": {},
   "outputs": [
    {
     "name": "stdout",
     "output_type": "stream",
     "text": [
      "              precision    recall  f1-score   support\n",
      "\n",
      "         1.0       0.42      0.84      0.56      2370\n",
      "         2.0       0.98      0.84      0.90     17445\n",
      "\n",
      "    accuracy                           0.84     19815\n",
      "   macro avg       0.70      0.84      0.73     19815\n",
      "weighted avg       0.91      0.84      0.86     19815\n",
      "\n"
     ]
    }
   ],
   "source": [
    "# Make predictions and print classification report for visual inspection\n",
    "yhat_fash = logreg_trigram_pipe.predict(X_fash_trigrams)\n",
    "print(classification_report(y_fash, yhat_fash))"
   ]
  },
  {
   "cell_type": "code",
   "execution_count": 66,
   "metadata": {},
   "outputs": [],
   "source": [
    "# Add a column to the X_fash dataframe containing the model's predictions for inspection\n",
    "df_fashion.insert(loc=0, column=\"model_pred\", \n",
    "                       value=pd.Series(logreg_trigram_pipe.predict(X_fash_trigrams)))"
   ]
  },
  {
   "cell_type": "code",
   "execution_count": 67,
   "metadata": {},
   "outputs": [
    {
     "data": {
      "text/html": [
       "<div>\n",
       "<style scoped>\n",
       "    .dataframe tbody tr th:only-of-type {\n",
       "        vertical-align: middle;\n",
       "    }\n",
       "\n",
       "    .dataframe tbody tr th {\n",
       "        vertical-align: top;\n",
       "    }\n",
       "\n",
       "    .dataframe thead th {\n",
       "        text-align: right;\n",
       "    }\n",
       "</style>\n",
       "<table border=\"1\" class=\"dataframe\">\n",
       "  <thead>\n",
       "    <tr style=\"text-align: right;\">\n",
       "      <th></th>\n",
       "      <th>model_pred</th>\n",
       "      <th>Unnamed: 0</th>\n",
       "      <th>Review Text</th>\n",
       "      <th>Rating</th>\n",
       "      <th>text_cleaned</th>\n",
       "      <th>bigrams</th>\n",
       "      <th>trigrams</th>\n",
       "      <th>sentiment</th>\n",
       "    </tr>\n",
       "  </thead>\n",
       "  <tbody>\n",
       "    <tr>\n",
       "      <th>5</th>\n",
       "      <td>1</td>\n",
       "      <td>5</td>\n",
       "      <td>I aded this in my basket at hte last mintue to...</td>\n",
       "      <td>5</td>\n",
       "      <td>aded basket hte last mintue see would person s...</td>\n",
       "      <td>[('aded', 'basket'), ('basket', 'hte'), ('hte'...</td>\n",
       "      <td>[('aded', 'basket', 'hte'), ('basket', 'hte', ...</td>\n",
       "      <td>2.0</td>\n",
       "    </tr>\n",
       "    <tr>\n",
       "      <th>10</th>\n",
       "      <td>1</td>\n",
       "      <td>10</td>\n",
       "      <td>More and more i find myself reliant on the rev...</td>\n",
       "      <td>5</td>\n",
       "      <td>find reliant review write savvy shopper past r...</td>\n",
       "      <td>[('find', 'reliant'), ('reliant', 'review'), (...</td>\n",
       "      <td>[('find', 'reliant', 'review'), ('reliant', 'r...</td>\n",
       "      <td>2.0</td>\n",
       "    </tr>\n",
       "    <tr>\n",
       "      <th>11</th>\n",
       "      <td>1</td>\n",
       "      <td>11</td>\n",
       "      <td>Bought the black xs to go under the larkspur m...</td>\n",
       "      <td>5</td>\n",
       "      <td>bought black x go larkspur midi bother line sk...</td>\n",
       "      <td>[('bought', 'black'), ('black', 'x'), ('x', 'g...</td>\n",
       "      <td>[('bought', 'black', 'x'), ('black', 'x', 'go'...</td>\n",
       "      <td>2.0</td>\n",
       "    </tr>\n",
       "    <tr>\n",
       "      <th>21</th>\n",
       "      <td>1</td>\n",
       "      <td>21</td>\n",
       "      <td>The colors weren't what i expected either. the...</td>\n",
       "      <td>4</td>\n",
       "      <td>color expect either dark blue much vibrant fin...</td>\n",
       "      <td>[('color', 'expect'), ('expect', 'either'), ('...</td>\n",
       "      <td>[('color', 'expect', 'either'), ('expect', 'ei...</td>\n",
       "      <td>2.0</td>\n",
       "    </tr>\n",
       "    <tr>\n",
       "      <th>29</th>\n",
       "      <td>1</td>\n",
       "      <td>29</td>\n",
       "      <td>Wouldn't have given them a second look but tri...</td>\n",
       "      <td>4</td>\n",
       "      <td>give second tried store whim</td>\n",
       "      <td>[('give', 'second'), ('second', 'tried'), ('tr...</td>\n",
       "      <td>[('give', 'second', 'tried'), ('second', 'trie...</td>\n",
       "      <td>2.0</td>\n",
       "    </tr>\n",
       "    <tr>\n",
       "      <th>...</th>\n",
       "      <td>...</td>\n",
       "      <td>...</td>\n",
       "      <td>...</td>\n",
       "      <td>...</td>\n",
       "      <td>...</td>\n",
       "      <td>...</td>\n",
       "      <td>...</td>\n",
       "      <td>...</td>\n",
       "    </tr>\n",
       "    <tr>\n",
       "      <th>19757</th>\n",
       "      <td>1</td>\n",
       "      <td>19757</td>\n",
       "      <td>The front and back materials differ. the back ...</td>\n",
       "      <td>4</td>\n",
       "      <td>front back material differ back shirt soft thi...</td>\n",
       "      <td>[('front', 'back'), ('back', 'material'), ('ma...</td>\n",
       "      <td>[('front', 'back', 'material'), ('back', 'mate...</td>\n",
       "      <td>2.0</td>\n",
       "    </tr>\n",
       "    <tr>\n",
       "      <th>19763</th>\n",
       "      <td>1</td>\n",
       "      <td>19763</td>\n",
       "      <td>The only reason i gave this top a 4 star, is t...</td>\n",
       "      <td>4</td>\n",
       "      <td>reason give star enough room around bust area ...</td>\n",
       "      <td>[('reason', 'give'), ('give', 'star'), ('star'...</td>\n",
       "      <td>[('reason', 'give', 'star'), ('give', 'star', ...</td>\n",
       "      <td>2.0</td>\n",
       "    </tr>\n",
       "    <tr>\n",
       "      <th>19782</th>\n",
       "      <td>1</td>\n",
       "      <td>19782</td>\n",
       "      <td>Don't know why but i didn't have high expectat...</td>\n",
       "      <td>5</td>\n",
       "      <td>know high expectation turn uber flattering mak...</td>\n",
       "      <td>[('know', 'high'), ('high', 'expectation'), ('...</td>\n",
       "      <td>[('know', 'high', 'expectation'), ('high', 'ex...</td>\n",
       "      <td>2.0</td>\n",
       "    </tr>\n",
       "    <tr>\n",
       "      <th>19797</th>\n",
       "      <td>1</td>\n",
       "      <td>19797</td>\n",
       "      <td>I tried these on at the store and the fit was ...</td>\n",
       "      <td>4</td>\n",
       "      <td>try store good length even ok petite person fa...</td>\n",
       "      <td>[('try', 'store'), ('store', 'good'), ('good',...</td>\n",
       "      <td>[('try', 'store', 'good'), ('store', 'good', '...</td>\n",
       "      <td>2.0</td>\n",
       "    </tr>\n",
       "    <tr>\n",
       "      <th>19802</th>\n",
       "      <td>1</td>\n",
       "      <td>19802</td>\n",
       "      <td>I worry when i have an elastic waist, or somet...</td>\n",
       "      <td>5</td>\n",
       "      <td>worry elastic waist something resembles hang d...</td>\n",
       "      <td>[('worry', 'elastic'), ('elastic', 'waist'), (...</td>\n",
       "      <td>[('worry', 'elastic', 'waist'), ('elastic', 'w...</td>\n",
       "      <td>2.0</td>\n",
       "    </tr>\n",
       "  </tbody>\n",
       "</table>\n",
       "<p>3160 rows × 8 columns</p>\n",
       "</div>"
      ],
      "text/plain": [
       "       model_pred  Unnamed: 0  \\\n",
       "5               1           5   \n",
       "10              1          10   \n",
       "11              1          11   \n",
       "21              1          21   \n",
       "29              1          29   \n",
       "...           ...         ...   \n",
       "19757           1       19757   \n",
       "19763           1       19763   \n",
       "19782           1       19782   \n",
       "19797           1       19797   \n",
       "19802           1       19802   \n",
       "\n",
       "                                             Review Text  Rating  \\\n",
       "5      I aded this in my basket at hte last mintue to...       5   \n",
       "10     More and more i find myself reliant on the rev...       5   \n",
       "11     Bought the black xs to go under the larkspur m...       5   \n",
       "21     The colors weren't what i expected either. the...       4   \n",
       "29     Wouldn't have given them a second look but tri...       4   \n",
       "...                                                  ...     ...   \n",
       "19757  The front and back materials differ. the back ...       4   \n",
       "19763  The only reason i gave this top a 4 star, is t...       4   \n",
       "19782  Don't know why but i didn't have high expectat...       5   \n",
       "19797  I tried these on at the store and the fit was ...       4   \n",
       "19802  I worry when i have an elastic waist, or somet...       5   \n",
       "\n",
       "                                            text_cleaned  \\\n",
       "5      aded basket hte last mintue see would person s...   \n",
       "10     find reliant review write savvy shopper past r...   \n",
       "11     bought black x go larkspur midi bother line sk...   \n",
       "21     color expect either dark blue much vibrant fin...   \n",
       "29                          give second tried store whim   \n",
       "...                                                  ...   \n",
       "19757  front back material differ back shirt soft thi...   \n",
       "19763  reason give star enough room around bust area ...   \n",
       "19782  know high expectation turn uber flattering mak...   \n",
       "19797  try store good length even ok petite person fa...   \n",
       "19802  worry elastic waist something resembles hang d...   \n",
       "\n",
       "                                                 bigrams  \\\n",
       "5      [('aded', 'basket'), ('basket', 'hte'), ('hte'...   \n",
       "10     [('find', 'reliant'), ('reliant', 'review'), (...   \n",
       "11     [('bought', 'black'), ('black', 'x'), ('x', 'g...   \n",
       "21     [('color', 'expect'), ('expect', 'either'), ('...   \n",
       "29     [('give', 'second'), ('second', 'tried'), ('tr...   \n",
       "...                                                  ...   \n",
       "19757  [('front', 'back'), ('back', 'material'), ('ma...   \n",
       "19763  [('reason', 'give'), ('give', 'star'), ('star'...   \n",
       "19782  [('know', 'high'), ('high', 'expectation'), ('...   \n",
       "19797  [('try', 'store'), ('store', 'good'), ('good',...   \n",
       "19802  [('worry', 'elastic'), ('elastic', 'waist'), (...   \n",
       "\n",
       "                                                trigrams  sentiment  \n",
       "5      [('aded', 'basket', 'hte'), ('basket', 'hte', ...        2.0  \n",
       "10     [('find', 'reliant', 'review'), ('reliant', 'r...        2.0  \n",
       "11     [('bought', 'black', 'x'), ('black', 'x', 'go'...        2.0  \n",
       "21     [('color', 'expect', 'either'), ('expect', 'ei...        2.0  \n",
       "29     [('give', 'second', 'tried'), ('second', 'trie...        2.0  \n",
       "...                                                  ...        ...  \n",
       "19757  [('front', 'back', 'material'), ('back', 'mate...        2.0  \n",
       "19763  [('reason', 'give', 'star'), ('give', 'star', ...        2.0  \n",
       "19782  [('know', 'high', 'expectation'), ('high', 'ex...        2.0  \n",
       "19797  [('try', 'store', 'good'), ('store', 'good', '...        2.0  \n",
       "19802  [('worry', 'elastic', 'waist'), ('elastic', 'w...        2.0  \n",
       "\n",
       "[3160 rows x 8 columns]"
      ]
     },
     "execution_count": 67,
     "metadata": {},
     "output_type": "execute_result"
    }
   ],
   "source": [
    "# Inspect examples of wrong predictions\n",
    "df_fashion[df_fashion['model_pred'] != df_fashion['sentiment']]"
   ]
  },
  {
   "cell_type": "markdown",
   "metadata": {},
   "source": [
    "## Conclusion\n",
    "The model was able to achieve solid accuracy scores and improve upon the baseline MNB model with limited tuning and a reasonable train time. The performance is thanks largely to the quality, size and balance of the dataset. I would recommend the model to businesses wishing to create their own storefronts in order to avoid rating inflation problems down the road. It has proven to be very accurate at classifying review sentiment, and it is relatively easy to identify a list of incorrect predictions with basic python that could be inspected by a human.\n",
    "\n",
    "The model is likely less suited for large-scale deployment by Amazon or a similar marketplace, as there are superior options that exist, and large marketplaces have the resources to support the computational demands of more sophisticated models. In the case of Amazon, it’s likely to be cost-efficient to develop their own classifier that is constantly training on new user reviews as they happen. \n",
    "\n",
    "### Further Development\n",
    "The next step in the project will be to refactor the cleaning & training code to be utilized in a web application. I envision the application providing a way for sellers that have previously used a storefront like Amazon or Rakuten to upload all of their review data and have it classified before leaving the site. Amazon famously does not provide an api for review data, so it will be up to the business to gather the data themselves. This functionality would help a business efficiently classify product sentiment at the time of transition, and form a baseline for their understanding to build from. \n",
    "\n",
    "From a legal perspective, a business would need written permission from each review author in order to actually transfer the reviews. That process will be horribly inefficient and likely not worth the trouble, especially for heavily-reviewed products. My tool provides a partial solution by helping businesses understand with a high degree of accuracy the proportion of their reviews that are actually positive or negative before transitioning away from the larger marketplace.\n",
    "\n",
    "An additional consideration is that the vectorizer utilized in our modeling pipeline is not actually vectorizing n-gram tokens, only the words within them. This was a sacrifice made for memory considerations, as vectorizing the actual n-grams crashed each machine I attempted to run the model on. This could be addressed by utilizing a cloud environment with significantly higher RAM, or by reducing the size of the training data. Though of course, a smaller training dataset could lead to reduced model performance, even with the proper vectorization."
   ]
  }
 ],
 "metadata": {
  "kernelspec": {
   "display_name": "Python (spark-cap-env)",
   "language": "python",
   "name": "spark-cap-env"
  },
  "language_info": {
   "codemirror_mode": {
    "name": "ipython",
    "version": 3
   },
   "file_extension": ".py",
   "mimetype": "text/x-python",
   "name": "python",
   "nbconvert_exporter": "python",
   "pygments_lexer": "ipython3",
   "version": "3.8.13"
  }
 },
 "nbformat": 4,
 "nbformat_minor": 4
}
