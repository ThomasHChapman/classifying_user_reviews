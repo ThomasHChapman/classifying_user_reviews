{
 "cells": [
  {
   "cell_type": "markdown",
   "metadata": {},
   "source": [
    "# I HATE this Product! Five Stars!\n",
    "##### Reducing Rating Inflation Using NLP\n",
    "Author: Tom Chapman"
   ]
  },
  {
   "cell_type": "code",
   "execution_count": 2,
   "metadata": {},
   "outputs": [],
   "source": [
    "import pandas as pd\n",
    "import numpy as np\n",
    "import matplotlib.pyplot as plt\n",
    "from matplotlib.ticker import MaxNLocator\n",
    "#from string import punctuation\n",
    "\n",
    "import nltk\n",
    "from nltk.corpus import stopwords, wordnet\n",
    "from nltk import pos_tag, FreqDist\n",
    "from nltk.stem import WordNetLemmatizer\n",
    "#from nltk.tokenize import regexp_tokenize\n",
    "from nltk.tokenize import RegexpTokenizer\n",
    "from nltk.util import ngrams\n",
    "\n",
    "#import pkg_resources"
   ]
  },
  {
   "cell_type": "code",
   "execution_count": 3,
   "metadata": {},
   "outputs": [
    {
     "name": "stderr",
     "output_type": "stream",
     "text": [
      "[nltk_data] Downloading package omw-1.4 to /Users/tom/nltk_data...\n",
      "[nltk_data]   Package omw-1.4 is already up-to-date!\n"
     ]
    },
    {
     "data": {
      "text/plain": [
       "True"
      ]
     },
     "execution_count": 3,
     "metadata": {},
     "output_type": "execute_result"
    }
   ],
   "source": [
    "nltk.download('omw-1.4')"
   ]
  },
  {
   "cell_type": "markdown",
   "metadata": {},
   "source": [
    "## Data Understanding\n",
    "The data used for training our models is a publicly-available dataset hosted by Kaggle. Users with a Kaggle account and API token already configued can execute the next cell to download the data directly. \n",
    "\n",
    "Users without a Kaggle account or that just want to access the data can download it from the [source page](https://www.kaggle.com/datasets/kritanjalijain/amazon-reviews?select=amazon_review_polarity_csv.tgz).\n",
    "\n",
    "The dataset is a subset of the Stanford Network Analysis Project (SNAP), which contains approximately 34 million Amazon reviews collected over a 13 year period. Our dataset consists of 1.8 million training samples in each polarity (positive or negative) and 200,000 validation samples in each polarity. The subset was created by labelling reviews that assigned a 1-2 star rating to the negative polarity, and reviews with a 4-5 star rating to the positive polarity. Ratings that gave 3 stars were omitted entirely.\n",
    "\n",
    "Because my goal is to train a classifier that will generalize well across different kinds of products, I chose a dataset that did not specialize in any one category. My hope is that this choice will drive greater accuracy on both Amazon reviews and reviews from other data sources."
   ]
  },
  {
   "cell_type": "code",
   "execution_count": 4,
   "metadata": {},
   "outputs": [],
   "source": [
    "# Users with a Kaggle account & API token can run this cell to download the data directly.\n",
    "# import kaggle\n",
    "# kaggle datasets download -d kritanjalijain/amazon-reviews"
   ]
  },
  {
   "cell_type": "code",
   "execution_count": 5,
   "metadata": {},
   "outputs": [
    {
     "data": {
      "text/html": [
       "<div>\n",
       "<style scoped>\n",
       "    .dataframe tbody tr th:only-of-type {\n",
       "        vertical-align: middle;\n",
       "    }\n",
       "\n",
       "    .dataframe tbody tr th {\n",
       "        vertical-align: top;\n",
       "    }\n",
       "\n",
       "    .dataframe thead th {\n",
       "        text-align: right;\n",
       "    }\n",
       "</style>\n",
       "<table border=\"1\" class=\"dataframe\">\n",
       "  <thead>\n",
       "    <tr style=\"text-align: right;\">\n",
       "      <th></th>\n",
       "      <th>sentiment</th>\n",
       "      <th>title</th>\n",
       "      <th>text</th>\n",
       "    </tr>\n",
       "  </thead>\n",
       "  <tbody>\n",
       "    <tr>\n",
       "      <th>0</th>\n",
       "      <td>2</td>\n",
       "      <td>Stuning even for the non-gamer</td>\n",
       "      <td>This sound track was beautiful! It paints the ...</td>\n",
       "    </tr>\n",
       "    <tr>\n",
       "      <th>1</th>\n",
       "      <td>2</td>\n",
       "      <td>The best soundtrack ever to anything.</td>\n",
       "      <td>I'm reading a lot of reviews saying that this ...</td>\n",
       "    </tr>\n",
       "    <tr>\n",
       "      <th>2</th>\n",
       "      <td>2</td>\n",
       "      <td>Amazing!</td>\n",
       "      <td>This soundtrack is my favorite music of all ti...</td>\n",
       "    </tr>\n",
       "    <tr>\n",
       "      <th>3</th>\n",
       "      <td>2</td>\n",
       "      <td>Excellent Soundtrack</td>\n",
       "      <td>I truly like this soundtrack and I enjoy video...</td>\n",
       "    </tr>\n",
       "    <tr>\n",
       "      <th>4</th>\n",
       "      <td>2</td>\n",
       "      <td>Remember, Pull Your Jaw Off The Floor After He...</td>\n",
       "      <td>If you've played the game, you know how divine...</td>\n",
       "    </tr>\n",
       "  </tbody>\n",
       "</table>\n",
       "</div>"
      ],
      "text/plain": [
       "   sentiment                                              title  \\\n",
       "0          2                     Stuning even for the non-gamer   \n",
       "1          2              The best soundtrack ever to anything.   \n",
       "2          2                                           Amazing!   \n",
       "3          2                               Excellent Soundtrack   \n",
       "4          2  Remember, Pull Your Jaw Off The Floor After He...   \n",
       "\n",
       "                                                text  \n",
       "0  This sound track was beautiful! It paints the ...  \n",
       "1  I'm reading a lot of reviews saying that this ...  \n",
       "2  This soundtrack is my favorite music of all ti...  \n",
       "3  I truly like this soundtrack and I enjoy video...  \n",
       "4  If you've played the game, you know how divine...  "
      ]
     },
     "execution_count": 5,
     "metadata": {},
     "output_type": "execute_result"
    }
   ],
   "source": [
    "# Read training data & assign column names\n",
    "df = pd.read_csv('../data/train.csv', names=['sentiment', 'title', 'text'])\n",
    "df.head()"
   ]
  },
  {
   "cell_type": "code",
   "execution_count": 6,
   "metadata": {},
   "outputs": [
    {
     "name": "stdout",
     "output_type": "stream",
     "text": [
      "<class 'pandas.core.frame.DataFrame'>\n",
      "RangeIndex: 3600000 entries, 0 to 3599999\n",
      "Data columns (total 3 columns):\n",
      " #   Column     Dtype \n",
      "---  ------     ----- \n",
      " 0   sentiment  int64 \n",
      " 1   title      object\n",
      " 2   text       object\n",
      "dtypes: int64(1), object(2)\n",
      "memory usage: 82.4+ MB\n"
     ]
    }
   ],
   "source": [
    "df.info()"
   ]
  },
  {
   "cell_type": "code",
   "execution_count": 7,
   "metadata": {},
   "outputs": [
    {
     "data": {
      "text/plain": [
       "sentiment     0\n",
       "title        77\n",
       "text          0\n",
       "dtype: int64"
      ]
     },
     "execution_count": 7,
     "metadata": {},
     "output_type": "execute_result"
    }
   ],
   "source": [
    "# Check for NaNs - Unimportant because we will not use the title column.\n",
    "df.isna().sum()"
   ]
  },
  {
   "cell_type": "code",
   "execution_count": 35,
   "metadata": {},
   "outputs": [
    {
     "name": "stderr",
     "output_type": "stream",
     "text": [
      "<ipython-input-35-8a54a7453d25>:11: UserWarning: FixedFormatter should only be used together with FixedLocator\n",
      "  ax.set_xticklabels(labels = [None, 'Positive', None, None, None, None, 'Negative']);\n",
      "<ipython-input-35-8a54a7453d25>:12: UserWarning: FixedFormatter should only be used together with FixedLocator\n",
      "  ax.set_yticklabels(labels = [None, '1,000', '1,100', '1,200', '1,300', '1,400', '1,500', '1,600', '1,700', '1,800']);\n"
     ]
    },
    {
     "data": {
      "image/png": "[encoded data removed]",
      "text/plain": [
       "<Figure size 720x720 with 1 Axes>"
      ]
     },
     "metadata": {},
     "output_type": "display_data"
    }
   ],
   "source": [
    "# Visualize sentiment frequency within the dataset\n",
    "\n",
    "fig, ax = plt.subplots(figsize=(10,10))\n",
    "plt.style.use('fivethirtyeight')\n",
    "plt.rcParams.update({'font.size': 13})\n",
    "plt.axis([None, None, .9, 1.8])\n",
    "plt.hist(df['sentiment'], color=[86/255,180/255,233/255])\n",
    "ax.set_title('Sentiment Distribution in Dataset')\n",
    "ax.set_ylabel('Number of Occurences (000s)',labelpad=10)\n",
    "ax.set_xlabel('Review Polarity')\n",
    "ax.set_xticklabels(labels = [None, 'Positive', None, None, None, None, 'Negative']);\n",
    "ax.set_yticklabels(labels = [None, '1,000', '1,100', '1,200', '1,300', '1,400', '1,500', '1,600', '1,700', '1,800']);\n",
    "plt.savefig('../images/sent_dist.png', dpi=500, facecolor='auto')"
   ]
  },
  {
   "cell_type": "markdown",
   "metadata": {},
   "source": [
    "As expected, the data is near-perfectly distributed between the two sentiment classes."
   ]
  },
  {
   "cell_type": "markdown",
   "metadata": {},
   "source": [
    "# Data Preprocessing"
   ]
  },
  {
   "cell_type": "markdown",
   "metadata": {},
   "source": [
    "Preprocessing is a critical piece of any NLP project.  They appear in order below, and perform the following tasks:\n",
    "\n",
    "**get_wordnet_pos** -- Translates the part of speech tags assigned by nltk into wordnet tags that can be utilized by the lemmatizer.\n",
    "\n",
    "**prepare_text** -- Main cleaner function. Performs the following tasks:\n",
    "- Performs tokenization using a defined regular expression. By default the expression is words of any length that start with a capital or lowercase letter, and end with a lowercase letter.\n",
    "- Converts all text to lowercase.\n",
    "- Removes stopwords.\n",
    "- Performs part of speech tagging and lemmatizes words.\n",
    "- Returns a string of tokens.\n",
    "\n",
    "**ngram_creator** -- Creates a list of tuples containing all possible n-grams in a text, where n is specified at runtime.\n",
    "\n",
    "**visualize_top_n** -- Creates a dictionary of the n most common words in a FrequencyDistribution object, and plots a bar graph of their frequency.\n",
    "\n",
    "**sw_finder** -- Returns a list of common words between two FrequencyDistribution Objects"
   ]
  },
  {
   "cell_type": "markdown",
   "metadata": {},
   "source": [
    "## Helper Functions\n",
    "Given the large size of the dataset, I created several helper functions to facilitate efficient text cleaning outside of the model pipelines prepared in the [modeling notebook](modeling_nb.ipynb)."
   ]
  },
  {
   "cell_type": "code",
   "execution_count": 8,
   "metadata": {},
   "outputs": [],
   "source": [
    "# POS-Tag Translator\n",
    "\n",
    "def get_wordnet_pos(treebank_tag):\n",
    "    '''\n",
    "    Translate nltk part of speech tags to wordnet tags that can be used by the lemmatizer.\n",
    "    '''\n",
    "    if treebank_tag.startswith('J'):\n",
    "        return wordnet.ADJ\n",
    "    elif treebank_tag.startswith('V'):\n",
    "        return wordnet.VERB\n",
    "    elif treebank_tag.startswith('N'):\n",
    "        return wordnet.NOUN\n",
    "    elif treebank_tag.startswith('R'):\n",
    "        return wordnet.ADV\n",
    "    else:\n",
    "        return wordnet.NOUN"
   ]
  },
  {
   "cell_type": "code",
   "execution_count": 9,
   "metadata": {},
   "outputs": [],
   "source": [
    "# Text Cleaner Function\n",
    "\n",
    "def prepare_text(text, sw=stopwords.words('english'), regex_pattern = \"([a-zA-Z]+(?:'[a-z]+)?)\"):\n",
    "    \"\"\"\n",
    "    Tokenize, standardize case, remove punctuation, perform part of speech tagging\n",
    "    and lemmatize text from string.\n",
    "    \n",
    "    By default, tokenization is performed using a regular expression that grabs words \n",
    "    that begin with a capital or lowercase letter and end with a lowercase letter.\n",
    "    \"\"\"\n",
    "        \n",
    "    # Tokenize words based on the regular expression stored in regex_pattern\n",
    "    tokenizer = RegexpTokenizer(regex_pattern)\n",
    "    tokens = tokenizer.tokenize(text)\n",
    "    \n",
    "    # Convert tokens to lowercase and remove words in the stop_list variable\n",
    "    tokens = [token.lower() for token in tokens if token.lower() not in sw]\n",
    "    \n",
    "    # Perform part of speech tagging\n",
    "    tokens_tagged = pos_tag(tokens)\n",
    "    tokens_tagged = [(word[0], get_wordnet_pos(word[1])) for word in tokens_tagged]\n",
    "    \n",
    "    # Perform lemmatization \n",
    "    lemmatizer = WordNetLemmatizer()\n",
    "    tokens = [lemmatizer.lemmatize(word[0], word[1]) for word in tokens_tagged]\n",
    "    \n",
    "    # Return a string consisting of all tokens\n",
    "    return ' '.join(tokens)"
   ]
  },
  {
   "cell_type": "code",
   "execution_count": 10,
   "metadata": {},
   "outputs": [],
   "source": [
    "# Function to convert prepared text into n-grams.\n",
    "\n",
    "def ngram_creator(text, n):\n",
    "    \"\"\"\n",
    "    Return a list of all possible n-grams from the specified text.\n",
    "    \"\"\"\n",
    "    return list(ngrams(text.split(), n))"
   ]
  },
  {
   "cell_type": "code",
   "execution_count": 11,
   "metadata": {},
   "outputs": [],
   "source": [
    "# Visualization Function to plot the n most common words in a frequency distribution object\n",
    "\n",
    "def visualize_top_n(freq_dist, title, n=10):\n",
    "    \"\"\"\n",
    "    Create a dictionary of the n most common words in a frequency distribution and plot a bar\n",
    "    graph illustrating how many times those words appear in the frequency distribution object.\n",
    "    \"\"\"\n",
    "    plt.style.use('fivethirtyeight')\n",
    "    plt.rcParams.update({'font.size': 13})\n",
    "        \n",
    "    # Extract data for plotting\n",
    "    top_n = list(zip(*freq_dist.most_common(n)))\n",
    "    tokens = top_n[0]\n",
    "    counts = top_n[1]\n",
    "\n",
    "    # Set up plot and plot data\n",
    "    fig, ax = plt.subplots(figsize=(10,10))\n",
    "    ax.bar(tokens, counts)\n",
    "\n",
    "    # Customize plot appearance\n",
    "    ax.set_title(title)\n",
    "    ax.set_ylabel(\"Count\")\n",
    "    ax.yaxis.set_major_locator(MaxNLocator(integer=True))\n",
    "    ax.tick_params(axis=\"x\", rotation=90)\n",
    "    plt.tight_layout()\n",
    "    \n",
    "    # Save png of image to images folder using title as filename\n",
    "    plt.savefig(f'../images/{title}', dpi=500)"
   ]
  },
  {
   "cell_type": "code",
   "execution_count": 12,
   "metadata": {},
   "outputs": [],
   "source": [
    "# Function to identify common words in positive, negative reviews.\n",
    "\n",
    "def sw_finder(fd1, fd2, n=10):\n",
    "    \"\"\"\n",
    "    Intake two frequency distribution objects and return a list of n words\n",
    "    that appear in both objects.\n",
    "    \"\"\"\n",
    "    return list(dict(fd1.most_common(n)).keys() & dict(fd2.most_common(n)).keys())"
   ]
  },
  {
   "cell_type": "markdown",
   "metadata": {},
   "source": [
    "## Data Cleaning\n",
    "I began the cleaning process by testing the cleaner function on a single cell. It appears to be working correctly, so I moved on to create a new column called 'text_cleaned' to hold the results of the cleaning function. I then called the ngram_creator function on that cleaned text to create new columns that store bi-grams and tri-grams for each review. Finally, I checked for any instances of failure by the cleaning function to determine whether additional steps were needed. As it turned out, the cleaning function performed well and there were no instances of missing cleaned reviews."
   ]
  },
  {
   "cell_type": "code",
   "execution_count": 13,
   "metadata": {},
   "outputs": [
    {
     "name": "stdout",
     "output_type": "stream",
     "text": [
      "sound track beautiful paint senery mind well would recomend even people hate vid game music play game chrono cross game ever play best music back away crude keyboarding take fresh step grate guitar soulful orchestra would impress anyone care listen\n"
     ]
    },
    {
     "data": {
      "text/plain": [
       "'This sound track was beautiful! It paints the senery in your mind so well I would recomend it even to people who hate vid. game music! I have played the game Chrono Cross but out of all of the games I have ever played it has the best music! It backs away from crude keyboarding and takes a fresher step with grate guitars and soulful orchestras. It would impress anyone who cares to listen! ^_^'"
      ]
     },
     "execution_count": 13,
     "metadata": {},
     "output_type": "execute_result"
    }
   ],
   "source": [
    "# Test cleaner function on one row\n",
    "sample_row = prepare_text(df['text'][0])\n",
    "print(sample_row)\n",
    "\n",
    "# Print original text for inspection\n",
    "df['text'][0]"
   ]
  },
  {
   "cell_type": "code",
   "execution_count": 14,
   "metadata": {},
   "outputs": [],
   "source": [
    "# Apply helper function to 'text' column and store the output in a new column\n",
    "df['text_cleaned'] = df['text'].apply(prepare_text)\n",
    "\n",
    "# Create & store bi-grams in a new column\n",
    "df['bigrams'] = df['text_cleaned'].apply(ngram_creator, n=2)\n",
    "\n",
    "# Create & store trigrams in a new column\n",
    "df['trigrams'] = df['text_cleaned'].apply(ngram_creator, n=3)"
   ]
  },
  {
   "cell_type": "code",
   "execution_count": 15,
   "metadata": {},
   "outputs": [
    {
     "name": "stdout",
     "output_type": "stream",
     "text": [
      "sentiment        0\n",
      "title           77\n",
      "text             0\n",
      "text_cleaned     0\n",
      "bigrams          0\n",
      "trigrams         0\n",
      "dtype: int64\n"
     ]
    },
    {
     "data": {
      "text/html": [
       "<div>\n",
       "<style scoped>\n",
       "    .dataframe tbody tr th:only-of-type {\n",
       "        vertical-align: middle;\n",
       "    }\n",
       "\n",
       "    .dataframe tbody tr th {\n",
       "        vertical-align: top;\n",
       "    }\n",
       "\n",
       "    .dataframe thead th {\n",
       "        text-align: right;\n",
       "    }\n",
       "</style>\n",
       "<table border=\"1\" class=\"dataframe\">\n",
       "  <thead>\n",
       "    <tr style=\"text-align: right;\">\n",
       "      <th></th>\n",
       "      <th>sentiment</th>\n",
       "      <th>title</th>\n",
       "      <th>text</th>\n",
       "      <th>text_cleaned</th>\n",
       "      <th>bigrams</th>\n",
       "      <th>trigrams</th>\n",
       "    </tr>\n",
       "  </thead>\n",
       "  <tbody>\n",
       "  </tbody>\n",
       "</table>\n",
       "</div>"
      ],
      "text/plain": [
       "Empty DataFrame\n",
       "Columns: [sentiment, title, text, text_cleaned, bigrams, trigrams]\n",
       "Index: []"
      ]
     },
     "execution_count": 15,
     "metadata": {},
     "output_type": "execute_result"
    }
   ],
   "source": [
    "# Check for reviews where the cleaning function failed & display them\n",
    "print(df.isna().sum())\n",
    "df[df['text_cleaned'].isna()]"
   ]
  },
  {
   "cell_type": "code",
   "execution_count": 16,
   "metadata": {},
   "outputs": [],
   "source": [
    "# Create new dataframe with cleaned text, sentiment and n-grams, save to csv.\n",
    "df.to_csv('../data/train_cleaned.csv', columns=['sentiment', 'text', 'text_cleaned', 'bigrams', 'trigrams'])"
   ]
  },
  {
   "cell_type": "code",
   "execution_count": 19,
   "metadata": {},
   "outputs": [
    {
     "data": {
      "text/html": [
       "<div>\n",
       "<style scoped>\n",
       "    .dataframe tbody tr th:only-of-type {\n",
       "        vertical-align: middle;\n",
       "    }\n",
       "\n",
       "    .dataframe tbody tr th {\n",
       "        vertical-align: top;\n",
       "    }\n",
       "\n",
       "    .dataframe thead th {\n",
       "        text-align: right;\n",
       "    }\n",
       "</style>\n",
       "<table border=\"1\" class=\"dataframe\">\n",
       "  <thead>\n",
       "    <tr style=\"text-align: right;\">\n",
       "      <th></th>\n",
       "      <th>sentiment</th>\n",
       "      <th>title</th>\n",
       "      <th>text</th>\n",
       "      <th>text_cleaned</th>\n",
       "      <th>bigrams</th>\n",
       "      <th>trigrams</th>\n",
       "    </tr>\n",
       "  </thead>\n",
       "  <tbody>\n",
       "    <tr>\n",
       "      <th>0</th>\n",
       "      <td>2</td>\n",
       "      <td>Stuning even for the non-gamer</td>\n",
       "      <td>This sound track was beautiful! It paints the ...</td>\n",
       "      <td>sound track beautiful paint senery mind well w...</td>\n",
       "      <td>[(sound, track), (track, beautiful), (beautifu...</td>\n",
       "      <td>[(sound, track, beautiful), (track, beautiful,...</td>\n",
       "    </tr>\n",
       "    <tr>\n",
       "      <th>1</th>\n",
       "      <td>2</td>\n",
       "      <td>The best soundtrack ever to anything.</td>\n",
       "      <td>I'm reading a lot of reviews saying that this ...</td>\n",
       "      <td>i'm reading lot review say best game soundtrac...</td>\n",
       "      <td>[(i'm, reading), (reading, lot), (lot, review)...</td>\n",
       "      <td>[(i'm, reading, lot), (reading, lot, review), ...</td>\n",
       "    </tr>\n",
       "    <tr>\n",
       "      <th>2</th>\n",
       "      <td>2</td>\n",
       "      <td>Amazing!</td>\n",
       "      <td>This soundtrack is my favorite music of all ti...</td>\n",
       "      <td>soundtrack favorite music time hand intense sa...</td>\n",
       "      <td>[(soundtrack, favorite), (favorite, music), (m...</td>\n",
       "      <td>[(soundtrack, favorite, music), (favorite, mus...</td>\n",
       "    </tr>\n",
       "    <tr>\n",
       "      <th>3</th>\n",
       "      <td>2</td>\n",
       "      <td>Excellent Soundtrack</td>\n",
       "      <td>I truly like this soundtrack and I enjoy video...</td>\n",
       "      <td>truly like soundtrack enjoy video game music p...</td>\n",
       "      <td>[(truly, like), (like, soundtrack), (soundtrac...</td>\n",
       "      <td>[(truly, like, soundtrack), (like, soundtrack,...</td>\n",
       "    </tr>\n",
       "    <tr>\n",
       "      <th>4</th>\n",
       "      <td>2</td>\n",
       "      <td>Remember, Pull Your Jaw Off The Floor After He...</td>\n",
       "      <td>If you've played the game, you know how divine...</td>\n",
       "      <td>played game know divine music every single son...</td>\n",
       "      <td>[(played, game), (game, know), (know, divine),...</td>\n",
       "      <td>[(played, game, know), (game, know, divine), (...</td>\n",
       "    </tr>\n",
       "  </tbody>\n",
       "</table>\n",
       "</div>"
      ],
      "text/plain": [
       "   sentiment                                              title  \\\n",
       "0          2                     Stuning even for the non-gamer   \n",
       "1          2              The best soundtrack ever to anything.   \n",
       "2          2                                           Amazing!   \n",
       "3          2                               Excellent Soundtrack   \n",
       "4          2  Remember, Pull Your Jaw Off The Floor After He...   \n",
       "\n",
       "                                                text  \\\n",
       "0  This sound track was beautiful! It paints the ...   \n",
       "1  I'm reading a lot of reviews saying that this ...   \n",
       "2  This soundtrack is my favorite music of all ti...   \n",
       "3  I truly like this soundtrack and I enjoy video...   \n",
       "4  If you've played the game, you know how divine...   \n",
       "\n",
       "                                        text_cleaned  \\\n",
       "0  sound track beautiful paint senery mind well w...   \n",
       "1  i'm reading lot review say best game soundtrac...   \n",
       "2  soundtrack favorite music time hand intense sa...   \n",
       "3  truly like soundtrack enjoy video game music p...   \n",
       "4  played game know divine music every single son...   \n",
       "\n",
       "                                             bigrams  \\\n",
       "0  [(sound, track), (track, beautiful), (beautifu...   \n",
       "1  [(i'm, reading), (reading, lot), (lot, review)...   \n",
       "2  [(soundtrack, favorite), (favorite, music), (m...   \n",
       "3  [(truly, like), (like, soundtrack), (soundtrac...   \n",
       "4  [(played, game), (game, know), (know, divine),...   \n",
       "\n",
       "                                            trigrams  \n",
       "0  [(sound, track, beautiful), (track, beautiful,...  \n",
       "1  [(i'm, reading, lot), (reading, lot, review), ...  \n",
       "2  [(soundtrack, favorite, music), (favorite, mus...  \n",
       "3  [(truly, like, soundtrack), (like, soundtrack,...  \n",
       "4  [(played, game, know), (game, know, divine), (...  "
      ]
     },
     "execution_count": 19,
     "metadata": {},
     "output_type": "execute_result"
    }
   ],
   "source": [
    "# Display the first five rows for visual inspection\n",
    "df.head()"
   ]
  },
  {
   "cell_type": "code",
   "execution_count": 20,
   "metadata": {
    "scrolled": false
   },
   "outputs": [
    {
     "data": {
      "image/png": "[encoded data removed]",
      "text/plain": [
       "<Figure size 720x720 with 1 Axes>"
      ]
     },
     "metadata": {},
     "output_type": "display_data"
    }
   ],
   "source": [
    "# Ten most common words appearing in positive reviews\n",
    "pos_freq_dist = FreqDist(df['text_cleaned'].str.split().explode().loc[df['sentiment'] == 2])\n",
    "visualize_top_n(pos_freq_dist, 'Most Common Words in Positive Reviews', 10)"
   ]
  },
  {
   "cell_type": "code",
   "execution_count": 21,
   "metadata": {},
   "outputs": [
    {
     "data": {
      "image/png": "[encoded data removed]",
      "text/plain": [
       "<Figure size 720x720 with 1 Axes>"
      ]
     },
     "metadata": {},
     "output_type": "display_data"
    }
   ],
   "source": [
    "# Ten most common words appearing in negative reviews\n",
    "neg_freq_dist = FreqDist(df['text_cleaned'].str.split().explode().loc[df['sentiment'] == 1])\n",
    "visualize_top_n(neg_freq_dist, 'Most Common Words in Negative Reviews', 10)"
   ]
  },
  {
   "cell_type": "markdown",
   "metadata": {},
   "source": [
    "### Identify and Remove Custom Stopwords\n",
    "The following section will be focused on identifying the most common words in reviews of each sentiment, and finding where these lists intersect. Words that appear frequently in both sentiments begin to lose their meaning, and we will attempt to address this by removing any words that are among the 10 most common in both sentiments. I chose 10 words as the cutoff because there seems to be a breakpoint at 10 words where the same words do not appear in both lists and are not ordered the same in terms of commonality. I created a custom stopwords list using the sw_finder function and extended the default stopwords list to include these common words. I then re-ran the cleaning function and saved the results to a .csv for use in the modeling notebook."
   ]
  },
  {
   "cell_type": "code",
   "execution_count": 22,
   "metadata": {},
   "outputs": [
    {
     "data": {
      "text/plain": [
       "['one', 'make', 'good', 'get', 'book', 'like']"
      ]
     },
     "execution_count": 22,
     "metadata": {},
     "output_type": "execute_result"
    }
   ],
   "source": [
    "# Identify common words among the 10 most frequent words in reviews of each sentiment\n",
    "train_sw = sw_finder(neg_freq_dist, pos_freq_dist, 10)\n",
    "train_sw"
   ]
  },
  {
   "cell_type": "code",
   "execution_count": 25,
   "metadata": {},
   "outputs": [],
   "source": [
    "# Extend stop_list to include the elements of custom_sw\n",
    "train_sw.extend(stopwords.words('english'))\n",
    "train_sw"
   ]
  },
  {
   "cell_type": "code",
   "execution_count": 32,
   "metadata": {},
   "outputs": [],
   "source": [
    "# Apply helper function to 'text' column and store the output in a new column\n",
    "df['text_cleaned'] = df['text'].apply(prepare_text, train_sw)\n",
    "\n",
    "# Create & store bi-grams in a new column\n",
    "df['bigrams'] = df['text_cleaned'].apply(ngram_creator, n=2)\n",
    "\n",
    "# Create & store trigrams in a new column\n",
    "df['trigrams'] = df['text_cleaned'].apply(ngram_creator, n=3)"
   ]
  },
  {
   "cell_type": "code",
   "execution_count": 33,
   "metadata": {},
   "outputs": [
    {
     "name": "stdout",
     "output_type": "stream",
     "text": [
      "sentiment        0\n",
      "title           77\n",
      "text             0\n",
      "text_cleaned     0\n",
      "bigrams          0\n",
      "trigrams         0\n",
      "dtype: int64\n"
     ]
    },
    {
     "data": {
      "text/html": [
       "<div>\n",
       "<style scoped>\n",
       "    .dataframe tbody tr th:only-of-type {\n",
       "        vertical-align: middle;\n",
       "    }\n",
       "\n",
       "    .dataframe tbody tr th {\n",
       "        vertical-align: top;\n",
       "    }\n",
       "\n",
       "    .dataframe thead th {\n",
       "        text-align: right;\n",
       "    }\n",
       "</style>\n",
       "<table border=\"1\" class=\"dataframe\">\n",
       "  <thead>\n",
       "    <tr style=\"text-align: right;\">\n",
       "      <th></th>\n",
       "      <th>sentiment</th>\n",
       "      <th>title</th>\n",
       "      <th>text</th>\n",
       "      <th>text_cleaned</th>\n",
       "      <th>bigrams</th>\n",
       "      <th>trigrams</th>\n",
       "    </tr>\n",
       "  </thead>\n",
       "  <tbody>\n",
       "  </tbody>\n",
       "</table>\n",
       "</div>"
      ],
      "text/plain": [
       "Empty DataFrame\n",
       "Columns: [sentiment, title, text, text_cleaned, bigrams, trigrams]\n",
       "Index: []"
      ]
     },
     "execution_count": 33,
     "metadata": {},
     "output_type": "execute_result"
    }
   ],
   "source": [
    "# Identify reviews where the cleaning function failed & display them\n",
    "print(df.isna().sum())\n",
    "df[df['text_cleaned'].isna()]"
   ]
  },
  {
   "cell_type": "code",
   "execution_count": 34,
   "metadata": {},
   "outputs": [],
   "source": [
    "# Create new dataframe with cleaned text and sentiment, save to csv.\n",
    "df.to_csv('../data/train_cleaned_10sw.csv', columns=['sentiment', 'text', 'text_cleaned', 'bigrams', 'trigrams'])"
   ]
  },
  {
   "cell_type": "markdown",
   "metadata": {},
   "source": [
    "## Transform Test Data\n",
    "For the test data, I followed the same cleaning process and utilized the same functions as on the train data. Although the specific stop words might vary, I followed the same procedure with custom words and removed any words that appeared in the 10 most common words in each sentiment. I saved off .csv files with and without the use of custom stopword filtering to see which will perform better in the [modeling notebook](modeling_nb.ipynb)."
   ]
  },
  {
   "cell_type": "code",
   "execution_count": 35,
   "metadata": {},
   "outputs": [
    {
     "data": {
      "text/html": [
       "<div>\n",
       "<style scoped>\n",
       "    .dataframe tbody tr th:only-of-type {\n",
       "        vertical-align: middle;\n",
       "    }\n",
       "\n",
       "    .dataframe tbody tr th {\n",
       "        vertical-align: top;\n",
       "    }\n",
       "\n",
       "    .dataframe thead th {\n",
       "        text-align: right;\n",
       "    }\n",
       "</style>\n",
       "<table border=\"1\" class=\"dataframe\">\n",
       "  <thead>\n",
       "    <tr style=\"text-align: right;\">\n",
       "      <th></th>\n",
       "      <th>sentiment</th>\n",
       "      <th>title</th>\n",
       "      <th>text</th>\n",
       "    </tr>\n",
       "  </thead>\n",
       "  <tbody>\n",
       "    <tr>\n",
       "      <th>0</th>\n",
       "      <td>2</td>\n",
       "      <td>Great CD</td>\n",
       "      <td>My lovely Pat has one of the GREAT voices of h...</td>\n",
       "    </tr>\n",
       "    <tr>\n",
       "      <th>1</th>\n",
       "      <td>2</td>\n",
       "      <td>One of the best game music soundtracks - for a...</td>\n",
       "      <td>Despite the fact that I have only played a sma...</td>\n",
       "    </tr>\n",
       "    <tr>\n",
       "      <th>2</th>\n",
       "      <td>1</td>\n",
       "      <td>Batteries died within a year ...</td>\n",
       "      <td>I bought this charger in Jul 2003 and it worke...</td>\n",
       "    </tr>\n",
       "    <tr>\n",
       "      <th>3</th>\n",
       "      <td>2</td>\n",
       "      <td>works fine, but Maha Energy is better</td>\n",
       "      <td>Check out Maha Energy's website. Their Powerex...</td>\n",
       "    </tr>\n",
       "    <tr>\n",
       "      <th>4</th>\n",
       "      <td>2</td>\n",
       "      <td>Great for the non-audiophile</td>\n",
       "      <td>Reviewed quite a bit of the combo players and ...</td>\n",
       "    </tr>\n",
       "  </tbody>\n",
       "</table>\n",
       "</div>"
      ],
      "text/plain": [
       "   sentiment                                              title  \\\n",
       "0          2                                           Great CD   \n",
       "1          2  One of the best game music soundtracks - for a...   \n",
       "2          1                   Batteries died within a year ...   \n",
       "3          2              works fine, but Maha Energy is better   \n",
       "4          2                       Great for the non-audiophile   \n",
       "\n",
       "                                                text  \n",
       "0  My lovely Pat has one of the GREAT voices of h...  \n",
       "1  Despite the fact that I have only played a sma...  \n",
       "2  I bought this charger in Jul 2003 and it worke...  \n",
       "3  Check out Maha Energy's website. Their Powerex...  \n",
       "4  Reviewed quite a bit of the combo players and ...  "
      ]
     },
     "execution_count": 35,
     "metadata": {},
     "output_type": "execute_result"
    }
   ],
   "source": [
    "# Read in valdiation data\n",
    "df_test = pd.read_csv('../data/test.csv', names=['sentiment', 'title', 'text']) \n",
    "df_test.head()"
   ]
  },
  {
   "cell_type": "code",
   "execution_count": 36,
   "metadata": {
    "scrolled": true
   },
   "outputs": [
    {
     "name": "stdout",
     "output_type": "stream",
     "text": [
      "<class 'pandas.core.frame.DataFrame'>\n",
      "RangeIndex: 400000 entries, 0 to 399999\n",
      "Data columns (total 3 columns):\n",
      " #   Column     Non-Null Count   Dtype \n",
      "---  ------     --------------   ----- \n",
      " 0   sentiment  400000 non-null  int64 \n",
      " 1   title      399990 non-null  object\n",
      " 2   text       400000 non-null  object\n",
      "dtypes: int64(1), object(2)\n",
      "memory usage: 9.2+ MB\n"
     ]
    }
   ],
   "source": [
    "df_test.info()"
   ]
  },
  {
   "cell_type": "code",
   "execution_count": 37,
   "metadata": {},
   "outputs": [
    {
     "data": {
      "text/plain": [
       "sentiment     0\n",
       "title        10\n",
       "text          0\n",
       "dtype: int64"
      ]
     },
     "execution_count": 37,
     "metadata": {},
     "output_type": "execute_result"
    }
   ],
   "source": [
    "# Check for NaNs - Unimportant because we will not use the title column.\n",
    "df_test.isna().sum()"
   ]
  },
  {
   "cell_type": "code",
   "execution_count": 39,
   "metadata": {},
   "outputs": [],
   "source": [
    "# Apply cleaning function to the validation set\n",
    "df_test['text_cleaned'] = df_test['text'].apply(prepare_text)\n",
    "\n",
    "# Create & store trigrams in a new column\n",
    "df_test['bigrams'] = df_test['text_cleaned'].apply(ngram_creator, n=2)\n",
    "\n",
    "# Create & store trigrams in a new column\n",
    "df_test['trigrams'] = df_test['text_cleaned'].apply(ngram_creator, n=3)"
   ]
  },
  {
   "cell_type": "code",
   "execution_count": 40,
   "metadata": {},
   "outputs": [
    {
     "data": {
      "text/html": [
       "<div>\n",
       "<style scoped>\n",
       "    .dataframe tbody tr th:only-of-type {\n",
       "        vertical-align: middle;\n",
       "    }\n",
       "\n",
       "    .dataframe tbody tr th {\n",
       "        vertical-align: top;\n",
       "    }\n",
       "\n",
       "    .dataframe thead th {\n",
       "        text-align: right;\n",
       "    }\n",
       "</style>\n",
       "<table border=\"1\" class=\"dataframe\">\n",
       "  <thead>\n",
       "    <tr style=\"text-align: right;\">\n",
       "      <th></th>\n",
       "      <th>sentiment</th>\n",
       "      <th>title</th>\n",
       "      <th>text</th>\n",
       "      <th>text_cleaned</th>\n",
       "      <th>bigrams</th>\n",
       "      <th>trigrams</th>\n",
       "    </tr>\n",
       "  </thead>\n",
       "  <tbody>\n",
       "    <tr>\n",
       "      <th>0</th>\n",
       "      <td>2</td>\n",
       "      <td>Great CD</td>\n",
       "      <td>My lovely Pat has one of the GREAT voices of h...</td>\n",
       "      <td>lovely pat one great voice generation listen c...</td>\n",
       "      <td>[(lovely, pat), (pat, one), (one, great), (gre...</td>\n",
       "      <td>[(lovely, pat, one), (pat, one, great), (one, ...</td>\n",
       "    </tr>\n",
       "    <tr>\n",
       "      <th>1</th>\n",
       "      <td>2</td>\n",
       "      <td>One of the best game music soundtracks - for a...</td>\n",
       "      <td>Despite the fact that I have only played a sma...</td>\n",
       "      <td>despite fact play small portion game music hea...</td>\n",
       "      <td>[(despite, fact), (fact, play), (play, small),...</td>\n",
       "      <td>[(despite, fact, play), (fact, play, small), (...</td>\n",
       "    </tr>\n",
       "    <tr>\n",
       "      <th>2</th>\n",
       "      <td>1</td>\n",
       "      <td>Batteries died within a year ...</td>\n",
       "      <td>I bought this charger in Jul 2003 and it worke...</td>\n",
       "      <td>bought charger jul work ok design nice conveni...</td>\n",
       "      <td>[(bought, charger), (charger, jul), (jul, work...</td>\n",
       "      <td>[(bought, charger, jul), (charger, jul, work),...</td>\n",
       "    </tr>\n",
       "    <tr>\n",
       "      <th>3</th>\n",
       "      <td>2</td>\n",
       "      <td>works fine, but Maha Energy is better</td>\n",
       "      <td>Check out Maha Energy's website. Their Powerex...</td>\n",
       "      <td>check maha energy's website powerex mh c f cha...</td>\n",
       "      <td>[(check, maha), (maha, energy's), (energy's, w...</td>\n",
       "      <td>[(check, maha, energy's), (maha, energy's, web...</td>\n",
       "    </tr>\n",
       "    <tr>\n",
       "      <th>4</th>\n",
       "      <td>2</td>\n",
       "      <td>Great for the non-audiophile</td>\n",
       "      <td>Reviewed quite a bit of the combo players and ...</td>\n",
       "      <td>review quite bit combo player hesitant due unf...</td>\n",
       "      <td>[(review, quite), (quite, bit), (bit, combo), ...</td>\n",
       "      <td>[(review, quite, bit), (quite, bit, combo), (b...</td>\n",
       "    </tr>\n",
       "  </tbody>\n",
       "</table>\n",
       "</div>"
      ],
      "text/plain": [
       "   sentiment                                              title  \\\n",
       "0          2                                           Great CD   \n",
       "1          2  One of the best game music soundtracks - for a...   \n",
       "2          1                   Batteries died within a year ...   \n",
       "3          2              works fine, but Maha Energy is better   \n",
       "4          2                       Great for the non-audiophile   \n",
       "\n",
       "                                                text  \\\n",
       "0  My lovely Pat has one of the GREAT voices of h...   \n",
       "1  Despite the fact that I have only played a sma...   \n",
       "2  I bought this charger in Jul 2003 and it worke...   \n",
       "3  Check out Maha Energy's website. Their Powerex...   \n",
       "4  Reviewed quite a bit of the combo players and ...   \n",
       "\n",
       "                                        text_cleaned  \\\n",
       "0  lovely pat one great voice generation listen c...   \n",
       "1  despite fact play small portion game music hea...   \n",
       "2  bought charger jul work ok design nice conveni...   \n",
       "3  check maha energy's website powerex mh c f cha...   \n",
       "4  review quite bit combo player hesitant due unf...   \n",
       "\n",
       "                                             bigrams  \\\n",
       "0  [(lovely, pat), (pat, one), (one, great), (gre...   \n",
       "1  [(despite, fact), (fact, play), (play, small),...   \n",
       "2  [(bought, charger), (charger, jul), (jul, work...   \n",
       "3  [(check, maha), (maha, energy's), (energy's, w...   \n",
       "4  [(review, quite), (quite, bit), (bit, combo), ...   \n",
       "\n",
       "                                            trigrams  \n",
       "0  [(lovely, pat, one), (pat, one, great), (one, ...  \n",
       "1  [(despite, fact, play), (fact, play, small), (...  \n",
       "2  [(bought, charger, jul), (charger, jul, work),...  \n",
       "3  [(check, maha, energy's), (maha, energy's, web...  \n",
       "4  [(review, quite, bit), (quite, bit, combo), (b...  "
      ]
     },
     "execution_count": 40,
     "metadata": {},
     "output_type": "execute_result"
    }
   ],
   "source": [
    "df_test.head()"
   ]
  },
  {
   "cell_type": "code",
   "execution_count": 41,
   "metadata": {},
   "outputs": [
    {
     "name": "stdout",
     "output_type": "stream",
     "text": [
      "sentiment        0\n",
      "title           10\n",
      "text             0\n",
      "text_cleaned     0\n",
      "bigrams          0\n",
      "trigrams         0\n",
      "dtype: int64\n"
     ]
    },
    {
     "data": {
      "text/html": [
       "<div>\n",
       "<style scoped>\n",
       "    .dataframe tbody tr th:only-of-type {\n",
       "        vertical-align: middle;\n",
       "    }\n",
       "\n",
       "    .dataframe tbody tr th {\n",
       "        vertical-align: top;\n",
       "    }\n",
       "\n",
       "    .dataframe thead th {\n",
       "        text-align: right;\n",
       "    }\n",
       "</style>\n",
       "<table border=\"1\" class=\"dataframe\">\n",
       "  <thead>\n",
       "    <tr style=\"text-align: right;\">\n",
       "      <th></th>\n",
       "      <th>sentiment</th>\n",
       "      <th>title</th>\n",
       "      <th>text</th>\n",
       "      <th>text_cleaned</th>\n",
       "      <th>bigrams</th>\n",
       "      <th>trigrams</th>\n",
       "    </tr>\n",
       "  </thead>\n",
       "  <tbody>\n",
       "  </tbody>\n",
       "</table>\n",
       "</div>"
      ],
      "text/plain": [
       "Empty DataFrame\n",
       "Columns: [sentiment, title, text, text_cleaned, bigrams, trigrams]\n",
       "Index: []"
      ]
     },
     "execution_count": 41,
     "metadata": {},
     "output_type": "execute_result"
    }
   ],
   "source": [
    "# Identify reviews where the cleaning function failed & display them\n",
    "print(df_test.isna().sum())\n",
    "df_test[df_test['text_cleaned'].isna()]"
   ]
  },
  {
   "cell_type": "code",
   "execution_count": 42,
   "metadata": {},
   "outputs": [],
   "source": [
    "# Save validation data to a new CSV file\n",
    "df_test.to_csv('../data/test_cleaned.csv', columns=['sentiment', 'text', 'text_cleaned', 'bigrams', 'trigrams'])"
   ]
  },
  {
   "cell_type": "code",
   "execution_count": 43,
   "metadata": {},
   "outputs": [
    {
     "data": {
      "image/png": "[encoded data removed]",
      "text/plain": [
       "<Figure size 720x720 with 1 Axes>"
      ]
     },
     "metadata": {},
     "output_type": "display_data"
    }
   ],
   "source": [
    "# Ten most common words appearing in positive test reviews\n",
    "pos_test_dist = FreqDist(df_test['text_cleaned'].str.split().explode().loc[df_test['sentiment'] == 2])\n",
    "visualize_top_n(pos_test_dist, 'Most Common Words in Positive Reviews', 10)"
   ]
  },
  {
   "cell_type": "code",
   "execution_count": 44,
   "metadata": {},
   "outputs": [
    {
     "data": {
      "image/png": "[encoded data removed]",
      "text/plain": [
       "<Figure size 720x720 with 1 Axes>"
      ]
     },
     "metadata": {},
     "output_type": "display_data"
    }
   ],
   "source": [
    "# Ten most common words appearing in negative reviews\n",
    "neg_test_dist = FreqDist(df_test['text_cleaned'].str.split().explode().loc[df_test['sentiment'] == 1])\n",
    "visualize_top_n(neg_test_dist, 'Most Common Words in Negative Reviews', 10)"
   ]
  },
  {
   "cell_type": "code",
   "execution_count": 45,
   "metadata": {},
   "outputs": [
    {
     "data": {
      "text/plain": [
       "['one', 'make', 'good', 'get', 'book', 'like']"
      ]
     },
     "execution_count": 45,
     "metadata": {},
     "output_type": "execute_result"
    }
   ],
   "source": [
    "# Identify common words among the 10 most frequent words in reviews of each sentiment\n",
    "test_sw = sw_finder(neg_test_dist, pos_test_dist, 10)\n",
    "test_sw"
   ]
  },
  {
   "cell_type": "code",
   "execution_count": 46,
   "metadata": {},
   "outputs": [
    {
     "data": {
      "text/plain": [
       "['one',\n",
       " 'make',\n",
       " 'good',\n",
       " 'get',\n",
       " 'book',\n",
       " 'like',\n",
       " 'i',\n",
       " 'me',\n",
       " 'my',\n",
       " 'myself',\n",
       " 'we',\n",
       " 'our',\n",
       " 'ours',\n",
       " 'ourselves',\n",
       " 'you',\n",
       " \"you're\",\n",
       " \"you've\",\n",
       " \"you'll\",\n",
       " \"you'd\",\n",
       " 'your',\n",
       " 'yours',\n",
       " 'yourself',\n",
       " 'yourselves',\n",
       " 'he',\n",
       " 'him',\n",
       " 'his',\n",
       " 'himself',\n",
       " 'she',\n",
       " \"she's\",\n",
       " 'her',\n",
       " 'hers',\n",
       " 'herself',\n",
       " 'it',\n",
       " \"it's\",\n",
       " 'its',\n",
       " 'itself',\n",
       " 'they',\n",
       " 'them',\n",
       " 'their',\n",
       " 'theirs',\n",
       " 'themselves',\n",
       " 'what',\n",
       " 'which',\n",
       " 'who',\n",
       " 'whom',\n",
       " 'this',\n",
       " 'that',\n",
       " \"that'll\",\n",
       " 'these',\n",
       " 'those',\n",
       " 'am',\n",
       " 'is',\n",
       " 'are',\n",
       " 'was',\n",
       " 'were',\n",
       " 'be',\n",
       " 'been',\n",
       " 'being',\n",
       " 'have',\n",
       " 'has',\n",
       " 'had',\n",
       " 'having',\n",
       " 'do',\n",
       " 'does',\n",
       " 'did',\n",
       " 'doing',\n",
       " 'a',\n",
       " 'an',\n",
       " 'the',\n",
       " 'and',\n",
       " 'but',\n",
       " 'if',\n",
       " 'or',\n",
       " 'because',\n",
       " 'as',\n",
       " 'until',\n",
       " 'while',\n",
       " 'of',\n",
       " 'at',\n",
       " 'by',\n",
       " 'for',\n",
       " 'with',\n",
       " 'about',\n",
       " 'against',\n",
       " 'between',\n",
       " 'into',\n",
       " 'through',\n",
       " 'during',\n",
       " 'before',\n",
       " 'after',\n",
       " 'above',\n",
       " 'below',\n",
       " 'to',\n",
       " 'from',\n",
       " 'up',\n",
       " 'down',\n",
       " 'in',\n",
       " 'out',\n",
       " 'on',\n",
       " 'off',\n",
       " 'over',\n",
       " 'under',\n",
       " 'again',\n",
       " 'further',\n",
       " 'then',\n",
       " 'once',\n",
       " 'here',\n",
       " 'there',\n",
       " 'when',\n",
       " 'where',\n",
       " 'why',\n",
       " 'how',\n",
       " 'all',\n",
       " 'any',\n",
       " 'both',\n",
       " 'each',\n",
       " 'few',\n",
       " 'more',\n",
       " 'most',\n",
       " 'other',\n",
       " 'some',\n",
       " 'such',\n",
       " 'no',\n",
       " 'nor',\n",
       " 'not',\n",
       " 'only',\n",
       " 'own',\n",
       " 'same',\n",
       " 'so',\n",
       " 'than',\n",
       " 'too',\n",
       " 'very',\n",
       " 's',\n",
       " 't',\n",
       " 'can',\n",
       " 'will',\n",
       " 'just',\n",
       " 'don',\n",
       " \"don't\",\n",
       " 'should',\n",
       " \"should've\",\n",
       " 'now',\n",
       " 'd',\n",
       " 'll',\n",
       " 'm',\n",
       " 'o',\n",
       " 're',\n",
       " 've',\n",
       " 'y',\n",
       " 'ain',\n",
       " 'aren',\n",
       " \"aren't\",\n",
       " 'couldn',\n",
       " \"couldn't\",\n",
       " 'didn',\n",
       " \"didn't\",\n",
       " 'doesn',\n",
       " \"doesn't\",\n",
       " 'hadn',\n",
       " \"hadn't\",\n",
       " 'hasn',\n",
       " \"hasn't\",\n",
       " 'haven',\n",
       " \"haven't\",\n",
       " 'isn',\n",
       " \"isn't\",\n",
       " 'ma',\n",
       " 'mightn',\n",
       " \"mightn't\",\n",
       " 'mustn',\n",
       " \"mustn't\",\n",
       " 'needn',\n",
       " \"needn't\",\n",
       " 'shan',\n",
       " \"shan't\",\n",
       " 'shouldn',\n",
       " \"shouldn't\",\n",
       " 'wasn',\n",
       " \"wasn't\",\n",
       " 'weren',\n",
       " \"weren't\",\n",
       " 'won',\n",
       " \"won't\",\n",
       " 'wouldn',\n",
       " \"wouldn't\"]"
      ]
     },
     "execution_count": 46,
     "metadata": {},
     "output_type": "execute_result"
    }
   ],
   "source": [
    "# Extend test_sw to include custom stop words from test data.\n",
    "test_sw.extend(stopwords.words(\"english\")) \n",
    "test_sw"
   ]
  },
  {
   "cell_type": "code",
   "execution_count": 47,
   "metadata": {},
   "outputs": [],
   "source": [
    "# Re-apply cleaning function to 'text' column using identified stopwords \n",
    "df_test['text_cleaned'] = df_test['text'].apply(prepare_text, sw=test_sw)\n",
    "\n",
    "# Create & store bi-grams in a new column\n",
    "df_test['bigrams'] = df_test['text_cleaned'].apply(ngram_creator, n=2)\n",
    "\n",
    "# Create & store trigrams in a new column\n",
    "df_test['trigrams'] = df_test['text_cleaned'].apply(ngram_creator, n=3)"
   ]
  },
  {
   "cell_type": "code",
   "execution_count": 48,
   "metadata": {},
   "outputs": [
    {
     "name": "stdout",
     "output_type": "stream",
     "text": [
      "sentiment        0\n",
      "title           10\n",
      "text             0\n",
      "text_cleaned     0\n",
      "bigrams          0\n",
      "trigrams         0\n",
      "dtype: int64\n"
     ]
    },
    {
     "data": {
      "text/html": [
       "<div>\n",
       "<style scoped>\n",
       "    .dataframe tbody tr th:only-of-type {\n",
       "        vertical-align: middle;\n",
       "    }\n",
       "\n",
       "    .dataframe tbody tr th {\n",
       "        vertical-align: top;\n",
       "    }\n",
       "\n",
       "    .dataframe thead th {\n",
       "        text-align: right;\n",
       "    }\n",
       "</style>\n",
       "<table border=\"1\" class=\"dataframe\">\n",
       "  <thead>\n",
       "    <tr style=\"text-align: right;\">\n",
       "      <th></th>\n",
       "      <th>sentiment</th>\n",
       "      <th>title</th>\n",
       "      <th>text</th>\n",
       "      <th>text_cleaned</th>\n",
       "      <th>bigrams</th>\n",
       "      <th>trigrams</th>\n",
       "    </tr>\n",
       "  </thead>\n",
       "  <tbody>\n",
       "  </tbody>\n",
       "</table>\n",
       "</div>"
      ],
      "text/plain": [
       "Empty DataFrame\n",
       "Columns: [sentiment, title, text, text_cleaned, bigrams, trigrams]\n",
       "Index: []"
      ]
     },
     "execution_count": 48,
     "metadata": {},
     "output_type": "execute_result"
    }
   ],
   "source": [
    "# Identify reviews where the cleaning function failed & display them\n",
    "print(df_test.isna().sum())\n",
    "df_test[df_test['text_cleaned'].isna()]"
   ]
  },
  {
   "cell_type": "code",
   "execution_count": 49,
   "metadata": {},
   "outputs": [],
   "source": [
    "# Create new dataframe with cleaned text inclusive of custom sw and sentiment, save to csv.\n",
    "df_test.to_csv('../data/test_cleaned_10sw.csv', columns=['sentiment', 'text', 'text_cleaned', 'bigrams', 'trigrams'])"
   ]
  }
 ],
 "metadata": {
  "kernelspec": {
   "display_name": "Python (spark-cap-env)",
   "language": "python",
   "name": "spark-cap-env"
  },
  "language_info": {
   "codemirror_mode": {
    "name": "ipython",
    "version": 3
   },
   "file_extension": ".py",
   "mimetype": "text/x-python",
   "name": "python",
   "nbconvert_exporter": "python",
   "pygments_lexer": "ipython3",
   "version": "3.8.13"
  }
 },
 "nbformat": 4,
 "nbformat_minor": 4
}
