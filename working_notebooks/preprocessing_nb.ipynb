{
 "cells": [
  {
   "cell_type": "markdown",
   "metadata": {},
   "source": [
    "# I HATE this Product! Five Stars!\n",
    "##### Reducing Rating Inflation Using NLP\n",
    "Author: Tom Chapman"
   ]
  },
  {
   "cell_type": "code",
   "execution_count": 3,
   "metadata": {},
   "outputs": [],
   "source": [
    "import pandas as pd\n",
    "import numpy as np\n",
    "import matplotlib.pyplot as plt\n",
    "from matplotlib.ticker import MaxNLocator\n",
    "from string import punctuation\n",
    "\n",
    "import nltk\n",
    "from nltk.corpus import stopwords, wordnet\n",
    "from nltk import pos_tag, FreqDist\n",
    "from nltk.stem import WordNetLemmatizer\n",
    "from nltk.tokenize import regexp_tokenize\n",
    "from nltk.tokenize import RegexpTokenizer\n",
    "from nltk.util import ngrams\n",
    "\n",
    "import pkg_resources"
   ]
  },
  {
   "cell_type": "code",
   "execution_count": 3,
   "metadata": {},
   "outputs": [
    {
     "name": "stderr",
     "output_type": "stream",
     "text": [
      "[nltk_data] Downloading package omw-1.4 to /Users/tom/nltk_data...\n",
      "[nltk_data]   Package omw-1.4 is already up-to-date!\n"
     ]
    },
    {
     "data": {
      "text/plain": [
       "True"
      ]
     },
     "execution_count": 3,
     "metadata": {},
     "output_type": "execute_result"
    }
   ],
   "source": [
    "nltk.download('omw-1.4')"
   ]
  },
  {
   "cell_type": "markdown",
   "metadata": {},
   "source": [
    "## Data Understanding\n",
    "The data used for training our models is a publicly-available dataset hosted by Kaggle. Users with a Kaggle account and API token already configued can execute the next cell to download the data directly. \n",
    "\n",
    "Users without a Kaggle account or that just want to access the data can download it from the [source page](https://www.kaggle.com/datasets/kritanjalijain/amazon-reviews?select=amazon_review_polarity_csv.tgz).\n",
    "\n",
    "The dataset is a subset of the Stanford Network Analysis Project (SNAP), which contains approximately 34 million Amazon reviews collected over a 13 year period. Our dataset consists of 1.8 million training samples in each polarity (positive or negative) and 200,000 validation samples in each polarity. The subset was created by labelling reviews that assigned a 1-2 star rating to the negative polarity, and reviews with a 4-5 star rating to the positive polarity. Ratings that gave 3 stars were omitted entirely.\n",
    "\n",
    "Because my goal is to train a classifier that will generalize well across different kinds of products, I chose a dataset that did not specialize in any one category. My hope is that this choice will drive greater accuracy on both Amazon reviews and reviews from other data sources."
   ]
  },
  {
   "cell_type": "code",
   "execution_count": null,
   "metadata": {},
   "outputs": [],
   "source": [
    "# Users with a Kaggle account & API token can run this cell to download the data directly.\n",
    "# import kaggle\n",
    "# kaggle datasets download -d kritanjalijain/amazon-reviews"
   ]
  },
  {
   "cell_type": "code",
   "execution_count": 36,
   "metadata": {},
   "outputs": [],
   "source": [
    "# Read Train Data\n",
    "df = pd.read_csv('../data/train.csv', names=['sentiment', 'title', 'text'])                "
   ]
  },
  {
   "cell_type": "code",
   "execution_count": 12,
   "metadata": {},
   "outputs": [],
   "source": [
    "# XXXX\n",
    "# Re-read to avoid duplicate cleaning iterations.\n",
    "# df = pd.read_csv('../data/train_cleaned.csv', index_col=0)"
   ]
  },
  {
   "cell_type": "markdown",
   "metadata": {},
   "source": [
    "# Data Understanding"
   ]
  },
  {
   "cell_type": "code",
   "execution_count": 27,
   "metadata": {},
   "outputs": [
    {
     "name": "stdout",
     "output_type": "stream",
     "text": [
      "<class 'pandas.core.frame.DataFrame'>\n",
      "Int64Index: 3600000 entries, 0 to 3599999\n",
      "Data columns (total 5 columns):\n",
      " #   Column        Dtype \n",
      "---  ------        ----- \n",
      " 0   sentiment     int64 \n",
      " 1   text_cleaned  object\n",
      " 2   toks          object\n",
      " 3   bigrams       object\n",
      " 4   trigrams      object\n",
      "dtypes: int64(1), object(4)\n",
      "memory usage: 293.8+ MB\n"
     ]
    }
   ],
   "source": [
    "df.info()"
   ]
  },
  {
   "cell_type": "code",
   "execution_count": 28,
   "metadata": {},
   "outputs": [
    {
     "data": {
      "text/html": [
       "<div>\n",
       "<style scoped>\n",
       "    .dataframe tbody tr th:only-of-type {\n",
       "        vertical-align: middle;\n",
       "    }\n",
       "\n",
       "    .dataframe tbody tr th {\n",
       "        vertical-align: top;\n",
       "    }\n",
       "\n",
       "    .dataframe thead th {\n",
       "        text-align: right;\n",
       "    }\n",
       "</style>\n",
       "<table border=\"1\" class=\"dataframe\">\n",
       "  <thead>\n",
       "    <tr style=\"text-align: right;\">\n",
       "      <th></th>\n",
       "      <th>sentiment</th>\n",
       "      <th>text_cleaned</th>\n",
       "      <th>toks</th>\n",
       "      <th>bigrams</th>\n",
       "      <th>trigrams</th>\n",
       "    </tr>\n",
       "  </thead>\n",
       "  <tbody>\n",
       "    <tr>\n",
       "      <th>0</th>\n",
       "      <td>2</td>\n",
       "      <td>sound track beautiful paint senery mind well w...</td>\n",
       "      <td>['sound', 'track', 'beautiful', 'paint', 'sene...</td>\n",
       "      <td>[('sound', 'track'), ('track', 'beautiful'), (...</td>\n",
       "      <td>[('sound', 'track', 'beautiful'), ('track', 'b...</td>\n",
       "    </tr>\n",
       "    <tr>\n",
       "      <th>1</th>\n",
       "      <td>2</td>\n",
       "      <td>i'm reading lot review say best game soundtrac...</td>\n",
       "      <td>[\"i'm\", 'reading', 'lot', 'review', 'say', 'be...</td>\n",
       "      <td>[(\"i'm\", 'reading'), ('reading', 'lot'), ('lot...</td>\n",
       "      <td>[(\"i'm\", 'reading', 'lot'), ('reading', 'lot',...</td>\n",
       "    </tr>\n",
       "    <tr>\n",
       "      <th>2</th>\n",
       "      <td>2</td>\n",
       "      <td>soundtrack favorite music time hand intense sa...</td>\n",
       "      <td>['soundtrack', 'favorite', 'music', 'time', 'h...</td>\n",
       "      <td>[('soundtrack', 'favorite'), ('favorite', 'mus...</td>\n",
       "      <td>[('soundtrack', 'favorite', 'music'), ('favori...</td>\n",
       "    </tr>\n",
       "    <tr>\n",
       "      <th>3</th>\n",
       "      <td>2</td>\n",
       "      <td>truly like soundtrack enjoy video game music p...</td>\n",
       "      <td>['truly', 'like', 'soundtrack', 'enjoy', 'vide...</td>\n",
       "      <td>[('truly', 'like'), ('like', 'soundtrack'), ('...</td>\n",
       "      <td>[('truly', 'like', 'soundtrack'), ('like', 'so...</td>\n",
       "    </tr>\n",
       "    <tr>\n",
       "      <th>4</th>\n",
       "      <td>2</td>\n",
       "      <td>played game know divine music every single son...</td>\n",
       "      <td>['played', 'game', 'know', 'divine', 'music', ...</td>\n",
       "      <td>[('played', 'game'), ('game', 'know'), ('know'...</td>\n",
       "      <td>[('played', 'game', 'know'), ('game', 'know', ...</td>\n",
       "    </tr>\n",
       "  </tbody>\n",
       "</table>\n",
       "</div>"
      ],
      "text/plain": [
       "   sentiment                                       text_cleaned  \\\n",
       "0          2  sound track beautiful paint senery mind well w...   \n",
       "1          2  i'm reading lot review say best game soundtrac...   \n",
       "2          2  soundtrack favorite music time hand intense sa...   \n",
       "3          2  truly like soundtrack enjoy video game music p...   \n",
       "4          2  played game know divine music every single son...   \n",
       "\n",
       "                                                toks  \\\n",
       "0  ['sound', 'track', 'beautiful', 'paint', 'sene...   \n",
       "1  [\"i'm\", 'reading', 'lot', 'review', 'say', 'be...   \n",
       "2  ['soundtrack', 'favorite', 'music', 'time', 'h...   \n",
       "3  ['truly', 'like', 'soundtrack', 'enjoy', 'vide...   \n",
       "4  ['played', 'game', 'know', 'divine', 'music', ...   \n",
       "\n",
       "                                             bigrams  \\\n",
       "0  [('sound', 'track'), ('track', 'beautiful'), (...   \n",
       "1  [(\"i'm\", 'reading'), ('reading', 'lot'), ('lot...   \n",
       "2  [('soundtrack', 'favorite'), ('favorite', 'mus...   \n",
       "3  [('truly', 'like'), ('like', 'soundtrack'), ('...   \n",
       "4  [('played', 'game'), ('game', 'know'), ('know'...   \n",
       "\n",
       "                                            trigrams  \n",
       "0  [('sound', 'track', 'beautiful'), ('track', 'b...  \n",
       "1  [(\"i'm\", 'reading', 'lot'), ('reading', 'lot',...  \n",
       "2  [('soundtrack', 'favorite', 'music'), ('favori...  \n",
       "3  [('truly', 'like', 'soundtrack'), ('like', 'so...  \n",
       "4  [('played', 'game', 'know'), ('game', 'know', ...  "
      ]
     },
     "execution_count": 28,
     "metadata": {},
     "output_type": "execute_result"
    }
   ],
   "source": [
    "df.head()"
   ]
  },
  {
   "cell_type": "code",
   "execution_count": 29,
   "metadata": {},
   "outputs": [
    {
     "data": {
      "text/plain": [
       "sentiment        0\n",
       "text_cleaned    19\n",
       "toks             0\n",
       "bigrams          0\n",
       "trigrams         0\n",
       "dtype: int64"
      ]
     },
     "execution_count": 29,
     "metadata": {},
     "output_type": "execute_result"
    }
   ],
   "source": [
    "# Check for NaNs - Unimportant because we will not use the title column.\n",
    "df.isna().sum()"
   ]
  },
  {
   "cell_type": "code",
   "execution_count": 40,
   "metadata": {},
   "outputs": [
    {
     "data": {
      "image/png": "[encoded data removed]",
      "text/plain": [
       "<Figure size 432x288 with 1 Axes>"
      ]
     },
     "metadata": {},
     "output_type": "display_data"
    }
   ],
   "source": [
    "# Visualize sentiment frequency within the dataset\n",
    "plt.hist(df['sentiment']);"
   ]
  },
  {
   "cell_type": "markdown",
   "metadata": {},
   "source": [
    "As expected, the data is near-perfectly distributed between the two sentiment classes."
   ]
  },
  {
   "cell_type": "markdown",
   "metadata": {},
   "source": [
    "# Data Preprocessing"
   ]
  },
  {
   "cell_type": "markdown",
   "metadata": {},
   "source": [
    "Preprocessing is a critical piece of any NLP project. Given the large size of the dataset, I created several helper functions to facilitate efficient text cleaning. They appear in order below\n"
   ]
  },
  {
   "cell_type": "markdown",
   "metadata": {},
   "source": [
    "## Helper Functions"
   ]
  },
  {
   "cell_type": "code",
   "execution_count": 6,
   "metadata": {},
   "outputs": [],
   "source": [
    "# POS-Tag Translator\n",
    "\n",
    "def get_wordnet_pos(treebank_tag):\n",
    "    '''\n",
    "    Translate nltk part of speech tags to wordnet tags that can be used by the lemmatizer.\n",
    "    '''\n",
    "    if treebank_tag.startswith('J'):\n",
    "        return wordnet.ADJ\n",
    "    elif treebank_tag.startswith('V'):\n",
    "        return wordnet.VERB\n",
    "    elif treebank_tag.startswith('N'):\n",
    "        return wordnet.NOUN\n",
    "    elif treebank_tag.startswith('R'):\n",
    "        return wordnet.ADV\n",
    "    else:\n",
    "        return wordnet.NOUN"
   ]
  },
  {
   "cell_type": "code",
   "execution_count": 6,
   "metadata": {},
   "outputs": [],
   "source": [
    "# Text Cleaner Function\n",
    "\n",
    "def prepare_text(text, sw=stop_list, regex_pattern = \"([a-zA-Z]+(?:'[a-z]+)?)\"):\n",
    "    \"\"\"\n",
    "    Tokenize, standardize case, remove punctuation, perform part of speech tagging\n",
    "    and lemmatize text from string.\n",
    "    \n",
    "    Tokenization is performed using a regular expression that grabs words that begin with\n",
    "    a capital or lowercase letter and end with a lowercase letter.\n",
    "    \"\"\"\n",
    "    # Identify regular expression that will be used to tokenize text\n",
    "    # regex_pattern = \"([a-zA-Z]+(?:'[a-z]+)?)\"\n",
    "    \n",
    "    # Tokenize words based on the regular expression stored in regex_pattern\n",
    "    tokenizer = RegexpTokenizer(regex_pattern)\n",
    "    tokens = tokenizer.tokenize(text)\n",
    "    \n",
    "    # Convert tokens to lowercase and remove words in the stop_list variable\n",
    "    tokens = [token.lower() for token in tokens if token.lower() not in sw]\n",
    "    \n",
    "    # Perform part of speech tagging\n",
    "    tokens_tagged = pos_tag(tokens)\n",
    "    tokens_tagged = [(word[0], get_wordnet_pos(word[1])) for word in tokens_tagged]\n",
    "    \n",
    "    # Perform lemmatization \n",
    "    lemmatizer = WordNetLemmatizer()\n",
    "    tokens = [lemmatizer.lemmatize(word[0], word[1]) for word in tokens_tagged]\n",
    "    \n",
    "    # Return a string consisting of all tokens\n",
    "    return ' '.join(tokens)"
   ]
  },
  {
   "cell_type": "code",
   "execution_count": 8,
   "metadata": {},
   "outputs": [],
   "source": [
    "# Function to convert lemmatized text into n-grams.\n",
    "def trigram_creator(text, n=3):\n",
    "    return list(ngrams(text.split(), n))\n",
    "\n",
    "def bigram_creator(text, n=2):\n",
    "    return list(ngrams(text.split(), n))"
   ]
  },
  {
   "cell_type": "code",
   "execution_count": 10,
   "metadata": {},
   "outputs": [],
   "source": [
    "# Visualization Function to plot the n most common words in a frequency distribution object\n",
    "\n",
    "def visualize_top_n(freq_dist, title, n=10):\n",
    "    \"\"\"\n",
    "    Create a dictionary of the n most common words in a frequency distribution and plot a bar\n",
    "    graph illustrating how many times those words appear in the frequency distribution object.\n",
    "    \"\"\"\n",
    "    plt.style.use('fivethirtyeight')\n",
    "    plt.rcParams.update({'font.size': 13})\n",
    "        \n",
    "    # Extract data for plotting\n",
    "    top_n = list(zip(*freq_dist.most_common(n)))\n",
    "    tokens = top_n[0]\n",
    "    counts = top_n[1]\n",
    "\n",
    "    # Set up plot and plot data\n",
    "    fig, ax = plt.subplots(figsize=(10,10))\n",
    "    ax.bar(tokens, counts)\n",
    "\n",
    "    # Customize plot appearance\n",
    "    ax.set_title(title)\n",
    "    ax.set_ylabel(\"Count\")\n",
    "    ax.yaxis.set_major_locator(MaxNLocator(integer=True))\n",
    "    ax.tick_params(axis=\"x\", rotation=90)\n",
    "    plt.tight_layout()\n",
    "    \n",
    "    # Save png of image to images folder using title as filename\n",
    "    # plt.savefig(f'./images/{title}', facecolor='white', dpi=500)"
   ]
  },
  {
   "cell_type": "code",
   "execution_count": 11,
   "metadata": {},
   "outputs": [],
   "source": [
    "# Function to identify common words in positive, negative reviews.\n",
    "\n",
    "def sw_finder(fd1, fd2, n=10):\n",
    "    \"\"\"\n",
    "    Intake two frequency distribution objects of length n and return a list of the words\n",
    "    that appear in both objects.\n",
    "    \"\"\"\n",
    "    return list(dict(fd1.most_common(n)).keys() & dict(fd2.most_common(n)).keys())"
   ]
  },
  {
   "cell_type": "markdown",
   "metadata": {},
   "source": [
    "## Data Cleaning"
   ]
  },
  {
   "cell_type": "code",
   "execution_count": 5,
   "metadata": {},
   "outputs": [],
   "source": [
    "# Define stopwords\n",
    "stop_list = stopwords.words(\"english\") "
   ]
  },
  {
   "cell_type": "code",
   "execution_count": 7,
   "metadata": {},
   "outputs": [
    {
     "ename": "NameError",
     "evalue": "name 'df' is not defined",
     "output_type": "error",
     "traceback": [
      "\u001b[0;31m---------------------------------------------------------------------------\u001b[0m",
      "\u001b[0;31mNameError\u001b[0m                                 Traceback (most recent call last)",
      "Input \u001b[0;32mIn [7]\u001b[0m, in \u001b[0;36m<cell line: 2>\u001b[0;34m()\u001b[0m\n\u001b[1;32m      1\u001b[0m \u001b[38;5;66;03m# Test cleaner function on one row\u001b[39;00m\n\u001b[0;32m----> 2\u001b[0m sample_row \u001b[38;5;241m=\u001b[39m prepare_text(\u001b[43mdf\u001b[49m[\u001b[38;5;124m'\u001b[39m\u001b[38;5;124mtext\u001b[39m\u001b[38;5;124m'\u001b[39m][\u001b[38;5;241m0\u001b[39m])\n\u001b[1;32m      3\u001b[0m \u001b[38;5;28mprint\u001b[39m(sample_row)\n\u001b[1;32m      5\u001b[0m \u001b[38;5;66;03m# Print original text for inspection\u001b[39;00m\n",
      "\u001b[0;31mNameError\u001b[0m: name 'df' is not defined"
     ]
    }
   ],
   "source": [
    "# Test cleaner function on one row\n",
    "sample_row = prepare_text(df['text'][0])\n",
    "print(sample_row)\n",
    "\n",
    "# Print original text for inspection\n",
    "df['text'][0]"
   ]
  },
  {
   "cell_type": "code",
   "execution_count": 14,
   "metadata": {},
   "outputs": [],
   "source": [
    "# Apply helper function to 'text' column and store the output in a new column\n",
    "#df['text_cleaned'] = df['text'].apply(prepare_text)\n",
    "\n",
    "# Store list of tokens in new column for visual exploration\n",
    "#df['toks'] = df['text_cleaned'].str.split()\n",
    "\n",
    "# Create & store bi-grams in a new column\n",
    "#df['bigrams'] = df['text_cleaned'].apply(bigram_creator)\n",
    "\n",
    "# Create & store trigrams in a new column\n",
    "#df['trigrams'] = df['text_cleaned'].apply(trigram_creator)\n"
   ]
  },
  {
   "cell_type": "code",
   "execution_count": 15,
   "metadata": {},
   "outputs": [],
   "source": [
    "# Create new dataframe with cleaned text and sentiment, save to csv.\n",
    "#df.to_csv('../data/train_cleaned.csv', columns=['sentiment', 'text', 'text_cleaned', 'toks', 'bigrams', 'trigrams'])"
   ]
  },
  {
   "cell_type": "code",
   "execution_count": 23,
   "metadata": {},
   "outputs": [
    {
     "data": {
      "text/html": [
       "<div>\n",
       "<style scoped>\n",
       "    .dataframe tbody tr th:only-of-type {\n",
       "        vertical-align: middle;\n",
       "    }\n",
       "\n",
       "    .dataframe tbody tr th {\n",
       "        vertical-align: top;\n",
       "    }\n",
       "\n",
       "    .dataframe thead th {\n",
       "        text-align: right;\n",
       "    }\n",
       "</style>\n",
       "<table border=\"1\" class=\"dataframe\">\n",
       "  <thead>\n",
       "    <tr style=\"text-align: right;\">\n",
       "      <th></th>\n",
       "      <th>sentiment</th>\n",
       "      <th>text_cleaned</th>\n",
       "      <th>toks</th>\n",
       "      <th>bigrams</th>\n",
       "      <th>trigrams</th>\n",
       "    </tr>\n",
       "  </thead>\n",
       "  <tbody>\n",
       "    <tr>\n",
       "      <th>0</th>\n",
       "      <td>2</td>\n",
       "      <td>sound track beautiful paint senery mind well w...</td>\n",
       "      <td>['sound', 'track', 'beautiful', 'paint', 'sene...</td>\n",
       "      <td>[('sound', 'track'), ('track', 'beautiful'), (...</td>\n",
       "      <td>[('sound', 'track', 'beautiful'), ('track', 'b...</td>\n",
       "    </tr>\n",
       "    <tr>\n",
       "      <th>1</th>\n",
       "      <td>2</td>\n",
       "      <td>i'm reading lot review say best game soundtrac...</td>\n",
       "      <td>[\"i'm\", 'reading', 'lot', 'review', 'say', 'be...</td>\n",
       "      <td>[(\"i'm\", 'reading'), ('reading', 'lot'), ('lot...</td>\n",
       "      <td>[(\"i'm\", 'reading', 'lot'), ('reading', 'lot',...</td>\n",
       "    </tr>\n",
       "    <tr>\n",
       "      <th>2</th>\n",
       "      <td>2</td>\n",
       "      <td>soundtrack favorite music time hand intense sa...</td>\n",
       "      <td>['soundtrack', 'favorite', 'music', 'time', 'h...</td>\n",
       "      <td>[('soundtrack', 'favorite'), ('favorite', 'mus...</td>\n",
       "      <td>[('soundtrack', 'favorite', 'music'), ('favori...</td>\n",
       "    </tr>\n",
       "    <tr>\n",
       "      <th>3</th>\n",
       "      <td>2</td>\n",
       "      <td>truly like soundtrack enjoy video game music p...</td>\n",
       "      <td>['truly', 'like', 'soundtrack', 'enjoy', 'vide...</td>\n",
       "      <td>[('truly', 'like'), ('like', 'soundtrack'), ('...</td>\n",
       "      <td>[('truly', 'like', 'soundtrack'), ('like', 'so...</td>\n",
       "    </tr>\n",
       "    <tr>\n",
       "      <th>4</th>\n",
       "      <td>2</td>\n",
       "      <td>played game know divine music every single son...</td>\n",
       "      <td>['played', 'game', 'know', 'divine', 'music', ...</td>\n",
       "      <td>[('played', 'game'), ('game', 'know'), ('know'...</td>\n",
       "      <td>[('played', 'game', 'know'), ('game', 'know', ...</td>\n",
       "    </tr>\n",
       "  </tbody>\n",
       "</table>\n",
       "</div>"
      ],
      "text/plain": [
       "   sentiment                                       text_cleaned  \\\n",
       "0          2  sound track beautiful paint senery mind well w...   \n",
       "1          2  i'm reading lot review say best game soundtrac...   \n",
       "2          2  soundtrack favorite music time hand intense sa...   \n",
       "3          2  truly like soundtrack enjoy video game music p...   \n",
       "4          2  played game know divine music every single son...   \n",
       "\n",
       "                                                toks  \\\n",
       "0  ['sound', 'track', 'beautiful', 'paint', 'sene...   \n",
       "1  [\"i'm\", 'reading', 'lot', 'review', 'say', 'be...   \n",
       "2  ['soundtrack', 'favorite', 'music', 'time', 'h...   \n",
       "3  ['truly', 'like', 'soundtrack', 'enjoy', 'vide...   \n",
       "4  ['played', 'game', 'know', 'divine', 'music', ...   \n",
       "\n",
       "                                             bigrams  \\\n",
       "0  [('sound', 'track'), ('track', 'beautiful'), (...   \n",
       "1  [(\"i'm\", 'reading'), ('reading', 'lot'), ('lot...   \n",
       "2  [('soundtrack', 'favorite'), ('favorite', 'mus...   \n",
       "3  [('truly', 'like'), ('like', 'soundtrack'), ('...   \n",
       "4  [('played', 'game'), ('game', 'know'), ('know'...   \n",
       "\n",
       "                                            trigrams  \n",
       "0  [('sound', 'track', 'beautiful'), ('track', 'b...  \n",
       "1  [(\"i'm\", 'reading', 'lot'), ('reading', 'lot',...  \n",
       "2  [('soundtrack', 'favorite', 'music'), ('favori...  \n",
       "3  [('truly', 'like', 'soundtrack'), ('like', 'so...  \n",
       "4  [('played', 'game', 'know'), ('game', 'know', ...  "
      ]
     },
     "execution_count": 23,
     "metadata": {},
     "output_type": "execute_result"
    }
   ],
   "source": [
    "df.head()"
   ]
  },
  {
   "cell_type": "code",
   "execution_count": null,
   "metadata": {},
   "outputs": [],
   "source": [
    "# Ten Most common words in the full dataset\n",
    "sample_freq_dist = FreqDist(df[\"text_cleaned\"].str.split().explode())\n",
    "visualize_top_20(sample_freq_dist, \"Most Common Words in All Reviews\")"
   ]
  },
  {
   "cell_type": "code",
   "execution_count": 15,
   "metadata": {},
   "outputs": [
    {
     "data": {
      "image/png": "[encoded data removed]",
      "text/plain": [
       "<Figure size 720x720 with 1 Axes>"
      ]
     },
     "metadata": {},
     "output_type": "display_data"
    }
   ],
   "source": [
    "# Ten most common words appearing in positive reviews\n",
    "pos_freq_dist = FreqDist(df['text_cleaned'].str.split().explode().loc[df['sentiment'] == 2])\n",
    "visualize_top_n(pos_freq_dist, 'Most Common Words in Positive Reviews', 10)"
   ]
  },
  {
   "cell_type": "code",
   "execution_count": 16,
   "metadata": {},
   "outputs": [
    {
     "data": {
      "image/png": "[encoded data removed]",
      "text/plain": [
       "<Figure size 720x720 with 1 Axes>"
      ]
     },
     "metadata": {},
     "output_type": "display_data"
    }
   ],
   "source": [
    "# Ten most common words appearing in negative reviews\n",
    "neg_freq_dist = FreqDist(df['text_cleaned'].str.split().explode().loc[df['sentiment'] == 1])\n",
    "visualize_top_n(neg_freq_dist, 'Most Common Words in Negative Reviews', 10)"
   ]
  },
  {
   "cell_type": "code",
   "execution_count": 17,
   "metadata": {},
   "outputs": [
    {
     "data": {
      "text/html": [
       "<div>\n",
       "<style scoped>\n",
       "    .dataframe tbody tr th:only-of-type {\n",
       "        vertical-align: middle;\n",
       "    }\n",
       "\n",
       "    .dataframe tbody tr th {\n",
       "        vertical-align: top;\n",
       "    }\n",
       "\n",
       "    .dataframe thead th {\n",
       "        text-align: right;\n",
       "    }\n",
       "</style>\n",
       "<table border=\"1\" class=\"dataframe\">\n",
       "  <thead>\n",
       "    <tr style=\"text-align: right;\">\n",
       "      <th></th>\n",
       "      <th>sentiment</th>\n",
       "      <th>text_cleaned</th>\n",
       "      <th>toks</th>\n",
       "      <th>bigrams</th>\n",
       "      <th>trigrams</th>\n",
       "    </tr>\n",
       "  </thead>\n",
       "  <tbody>\n",
       "    <tr>\n",
       "      <th>0</th>\n",
       "      <td>2</td>\n",
       "      <td>sound track beautiful paint senery mind well w...</td>\n",
       "      <td>['sound', 'track', 'beautiful', 'paint', 'sene...</td>\n",
       "      <td>[('sound', 'track'), ('track', 'beautiful'), (...</td>\n",
       "      <td>[('sound', 'track', 'beautiful'), ('track', 'b...</td>\n",
       "    </tr>\n",
       "    <tr>\n",
       "      <th>1</th>\n",
       "      <td>2</td>\n",
       "      <td>i'm reading lot review say best game soundtrac...</td>\n",
       "      <td>[\"i'm\", 'reading', 'lot', 'review', 'say', 'be...</td>\n",
       "      <td>[(\"i'm\", 'reading'), ('reading', 'lot'), ('lot...</td>\n",
       "      <td>[(\"i'm\", 'reading', 'lot'), ('reading', 'lot',...</td>\n",
       "    </tr>\n",
       "    <tr>\n",
       "      <th>2</th>\n",
       "      <td>2</td>\n",
       "      <td>soundtrack favorite music time hand intense sa...</td>\n",
       "      <td>['soundtrack', 'favorite', 'music', 'time', 'h...</td>\n",
       "      <td>[('soundtrack', 'favorite'), ('favorite', 'mus...</td>\n",
       "      <td>[('soundtrack', 'favorite', 'music'), ('favori...</td>\n",
       "    </tr>\n",
       "    <tr>\n",
       "      <th>3</th>\n",
       "      <td>2</td>\n",
       "      <td>truly like soundtrack enjoy video game music p...</td>\n",
       "      <td>['truly', 'like', 'soundtrack', 'enjoy', 'vide...</td>\n",
       "      <td>[('truly', 'like'), ('like', 'soundtrack'), ('...</td>\n",
       "      <td>[('truly', 'like', 'soundtrack'), ('like', 'so...</td>\n",
       "    </tr>\n",
       "    <tr>\n",
       "      <th>4</th>\n",
       "      <td>2</td>\n",
       "      <td>played game know divine music every single son...</td>\n",
       "      <td>['played', 'game', 'know', 'divine', 'music', ...</td>\n",
       "      <td>[('played', 'game'), ('game', 'know'), ('know'...</td>\n",
       "      <td>[('played', 'game', 'know'), ('game', 'know', ...</td>\n",
       "    </tr>\n",
       "  </tbody>\n",
       "</table>\n",
       "</div>"
      ],
      "text/plain": [
       "   sentiment                                       text_cleaned  \\\n",
       "0          2  sound track beautiful paint senery mind well w...   \n",
       "1          2  i'm reading lot review say best game soundtrac...   \n",
       "2          2  soundtrack favorite music time hand intense sa...   \n",
       "3          2  truly like soundtrack enjoy video game music p...   \n",
       "4          2  played game know divine music every single son...   \n",
       "\n",
       "                                                toks  \\\n",
       "0  ['sound', 'track', 'beautiful', 'paint', 'sene...   \n",
       "1  [\"i'm\", 'reading', 'lot', 'review', 'say', 'be...   \n",
       "2  ['soundtrack', 'favorite', 'music', 'time', 'h...   \n",
       "3  ['truly', 'like', 'soundtrack', 'enjoy', 'vide...   \n",
       "4  ['played', 'game', 'know', 'divine', 'music', ...   \n",
       "\n",
       "                                             bigrams  \\\n",
       "0  [('sound', 'track'), ('track', 'beautiful'), (...   \n",
       "1  [(\"i'm\", 'reading'), ('reading', 'lot'), ('lot...   \n",
       "2  [('soundtrack', 'favorite'), ('favorite', 'mus...   \n",
       "3  [('truly', 'like'), ('like', 'soundtrack'), ('...   \n",
       "4  [('played', 'game'), ('game', 'know'), ('know'...   \n",
       "\n",
       "                                            trigrams  \n",
       "0  [('sound', 'track', 'beautiful'), ('track', 'b...  \n",
       "1  [(\"i'm\", 'reading', 'lot'), ('reading', 'lot',...  \n",
       "2  [('soundtrack', 'favorite', 'music'), ('favori...  \n",
       "3  [('truly', 'like', 'soundtrack'), ('like', 'so...  \n",
       "4  [('played', 'game', 'know'), ('game', 'know', ...  "
      ]
     },
     "execution_count": 17,
     "metadata": {},
     "output_type": "execute_result"
    }
   ],
   "source": [
    "# Display the first five rows for visual inspection\n",
    "df.head()"
   ]
  },
  {
   "cell_type": "markdown",
   "metadata": {},
   "source": [
    "### Custom Stopwords"
   ]
  },
  {
   "cell_type": "code",
   "execution_count": 18,
   "metadata": {},
   "outputs": [
    {
     "data": {
      "text/plain": [
       "['make', 'book', 'good', 'like', 'get', 'one']"
      ]
     },
     "execution_count": 18,
     "metadata": {},
     "output_type": "execute_result"
    }
   ],
   "source": [
    "# Identify common words among the 10 most frequent words in reviews of each sentiment\n",
    "train_sw = sw_finder(neg_freq_dist, pos_freq_dist, 10)\n",
    "train_sw"
   ]
  },
  {
   "cell_type": "code",
   "execution_count": 49,
   "metadata": {},
   "outputs": [],
   "source": [
    "# Extend stop_list to include the elements of custom_sw\n",
    "stop_list.extend(train_sw)"
   ]
  },
  {
   "cell_type": "code",
   "execution_count": 50,
   "metadata": {},
   "outputs": [
    {
     "data": {
      "text/plain": [
       "['i',\n",
       " 'me',\n",
       " 'my',\n",
       " 'myself',\n",
       " 'we',\n",
       " 'our',\n",
       " 'ours',\n",
       " 'ourselves',\n",
       " 'you',\n",
       " \"you're\",\n",
       " \"you've\",\n",
       " \"you'll\",\n",
       " \"you'd\",\n",
       " 'your',\n",
       " 'yours',\n",
       " 'yourself',\n",
       " 'yourselves',\n",
       " 'he',\n",
       " 'him',\n",
       " 'his',\n",
       " 'himself',\n",
       " 'she',\n",
       " \"she's\",\n",
       " 'her',\n",
       " 'hers',\n",
       " 'herself',\n",
       " 'it',\n",
       " \"it's\",\n",
       " 'its',\n",
       " 'itself',\n",
       " 'they',\n",
       " 'them',\n",
       " 'their',\n",
       " 'theirs',\n",
       " 'themselves',\n",
       " 'what',\n",
       " 'which',\n",
       " 'who',\n",
       " 'whom',\n",
       " 'this',\n",
       " 'that',\n",
       " \"that'll\",\n",
       " 'these',\n",
       " 'those',\n",
       " 'am',\n",
       " 'is',\n",
       " 'are',\n",
       " 'was',\n",
       " 'were',\n",
       " 'be',\n",
       " 'been',\n",
       " 'being',\n",
       " 'have',\n",
       " 'has',\n",
       " 'had',\n",
       " 'having',\n",
       " 'do',\n",
       " 'does',\n",
       " 'did',\n",
       " 'doing',\n",
       " 'a',\n",
       " 'an',\n",
       " 'the',\n",
       " 'and',\n",
       " 'but',\n",
       " 'if',\n",
       " 'or',\n",
       " 'because',\n",
       " 'as',\n",
       " 'until',\n",
       " 'while',\n",
       " 'of',\n",
       " 'at',\n",
       " 'by',\n",
       " 'for',\n",
       " 'with',\n",
       " 'about',\n",
       " 'against',\n",
       " 'between',\n",
       " 'into',\n",
       " 'through',\n",
       " 'during',\n",
       " 'before',\n",
       " 'after',\n",
       " 'above',\n",
       " 'below',\n",
       " 'to',\n",
       " 'from',\n",
       " 'up',\n",
       " 'down',\n",
       " 'in',\n",
       " 'out',\n",
       " 'on',\n",
       " 'off',\n",
       " 'over',\n",
       " 'under',\n",
       " 'again',\n",
       " 'further',\n",
       " 'then',\n",
       " 'once',\n",
       " 'here',\n",
       " 'there',\n",
       " 'when',\n",
       " 'where',\n",
       " 'why',\n",
       " 'how',\n",
       " 'all',\n",
       " 'any',\n",
       " 'both',\n",
       " 'each',\n",
       " 'few',\n",
       " 'more',\n",
       " 'most',\n",
       " 'other',\n",
       " 'some',\n",
       " 'such',\n",
       " 'no',\n",
       " 'nor',\n",
       " 'not',\n",
       " 'only',\n",
       " 'own',\n",
       " 'same',\n",
       " 'so',\n",
       " 'than',\n",
       " 'too',\n",
       " 'very',\n",
       " 's',\n",
       " 't',\n",
       " 'can',\n",
       " 'will',\n",
       " 'just',\n",
       " 'don',\n",
       " \"don't\",\n",
       " 'should',\n",
       " \"should've\",\n",
       " 'now',\n",
       " 'd',\n",
       " 'll',\n",
       " 'm',\n",
       " 'o',\n",
       " 're',\n",
       " 've',\n",
       " 'y',\n",
       " 'ain',\n",
       " 'aren',\n",
       " \"aren't\",\n",
       " 'couldn',\n",
       " \"couldn't\",\n",
       " 'didn',\n",
       " \"didn't\",\n",
       " 'doesn',\n",
       " \"doesn't\",\n",
       " 'hadn',\n",
       " \"hadn't\",\n",
       " 'hasn',\n",
       " \"hasn't\",\n",
       " 'haven',\n",
       " \"haven't\",\n",
       " 'isn',\n",
       " \"isn't\",\n",
       " 'ma',\n",
       " 'mightn',\n",
       " \"mightn't\",\n",
       " 'mustn',\n",
       " \"mustn't\",\n",
       " 'needn',\n",
       " \"needn't\",\n",
       " 'shan',\n",
       " \"shan't\",\n",
       " 'shouldn',\n",
       " \"shouldn't\",\n",
       " 'wasn',\n",
       " \"wasn't\",\n",
       " 'weren',\n",
       " \"weren't\",\n",
       " 'won',\n",
       " \"won't\",\n",
       " 'wouldn',\n",
       " \"wouldn't\",\n",
       " 'make',\n",
       " 'get',\n",
       " 'good',\n",
       " 'one',\n",
       " 'book',\n",
       " 'like']"
      ]
     },
     "execution_count": 50,
     "metadata": {},
     "output_type": "execute_result"
    }
   ],
   "source": [
    "stop_list"
   ]
  },
  {
   "cell_type": "code",
   "execution_count": 51,
   "metadata": {},
   "outputs": [],
   "source": [
    "# Apply helper function to 'text' column and store the output in a new column\n",
    "#df['text_cleaned'] = df['text'].apply(prepare_text)\n",
    "\n",
    "# Store list of tokens in new column for visual exploration\n",
    "#df['toks'] = df['text_cleaned'].str.split()\n",
    "\n",
    "# Create & store bi-grams in a new column\n",
    "#df['bigrams'] = df['text_cleaned'].apply(bigram_creator)\n",
    "\n",
    "# Create & store trigrams in a new column\n",
    "#df['trigrams'] = df['text_cleaned'].apply(trigram_creator)"
   ]
  },
  {
   "cell_type": "code",
   "execution_count": 52,
   "metadata": {},
   "outputs": [],
   "source": [
    "# Create new dataframe with cleaned text and sentiment, save to csv.\n",
    "#df.to_csv('../data/train_cleaned_10sw.csv', columns=['sentiment', 'text', 'text_cleaned', 'toks', 'bigrams', 'trigrams'])"
   ]
  },
  {
   "cell_type": "code",
   "execution_count": null,
   "metadata": {},
   "outputs": [],
   "source": []
  },
  {
   "cell_type": "code",
   "execution_count": null,
   "metadata": {},
   "outputs": [],
   "source": []
  },
  {
   "cell_type": "code",
   "execution_count": null,
   "metadata": {},
   "outputs": [],
   "source": []
  },
  {
   "cell_type": "markdown",
   "metadata": {},
   "source": [
    "## Transform Test Data"
   ]
  },
  {
   "cell_type": "code",
   "execution_count": 34,
   "metadata": {},
   "outputs": [],
   "source": [
    "# Read in valdiation data\n",
    "df_test = pd.read_csv('../data/test.csv', names=['sentiment', 'title', 'text']) "
   ]
  },
  {
   "cell_type": "code",
   "execution_count": 35,
   "metadata": {},
   "outputs": [
    {
     "data": {
      "text/html": [
       "<div>\n",
       "<style scoped>\n",
       "    .dataframe tbody tr th:only-of-type {\n",
       "        vertical-align: middle;\n",
       "    }\n",
       "\n",
       "    .dataframe tbody tr th {\n",
       "        vertical-align: top;\n",
       "    }\n",
       "\n",
       "    .dataframe thead th {\n",
       "        text-align: right;\n",
       "    }\n",
       "</style>\n",
       "<table border=\"1\" class=\"dataframe\">\n",
       "  <thead>\n",
       "    <tr style=\"text-align: right;\">\n",
       "      <th></th>\n",
       "      <th>sentiment</th>\n",
       "      <th>title</th>\n",
       "      <th>text</th>\n",
       "    </tr>\n",
       "  </thead>\n",
       "  <tbody>\n",
       "    <tr>\n",
       "      <th>0</th>\n",
       "      <td>2</td>\n",
       "      <td>Great CD</td>\n",
       "      <td>My lovely Pat has one of the GREAT voices of h...</td>\n",
       "    </tr>\n",
       "    <tr>\n",
       "      <th>1</th>\n",
       "      <td>2</td>\n",
       "      <td>One of the best game music soundtracks - for a...</td>\n",
       "      <td>Despite the fact that I have only played a sma...</td>\n",
       "    </tr>\n",
       "    <tr>\n",
       "      <th>2</th>\n",
       "      <td>1</td>\n",
       "      <td>Batteries died within a year ...</td>\n",
       "      <td>I bought this charger in Jul 2003 and it worke...</td>\n",
       "    </tr>\n",
       "    <tr>\n",
       "      <th>3</th>\n",
       "      <td>2</td>\n",
       "      <td>works fine, but Maha Energy is better</td>\n",
       "      <td>Check out Maha Energy's website. Their Powerex...</td>\n",
       "    </tr>\n",
       "    <tr>\n",
       "      <th>4</th>\n",
       "      <td>2</td>\n",
       "      <td>Great for the non-audiophile</td>\n",
       "      <td>Reviewed quite a bit of the combo players and ...</td>\n",
       "    </tr>\n",
       "  </tbody>\n",
       "</table>\n",
       "</div>"
      ],
      "text/plain": [
       "   sentiment                                              title  \\\n",
       "0          2                                           Great CD   \n",
       "1          2  One of the best game music soundtracks - for a...   \n",
       "2          1                   Batteries died within a year ...   \n",
       "3          2              works fine, but Maha Energy is better   \n",
       "4          2                       Great for the non-audiophile   \n",
       "\n",
       "                                                text  \n",
       "0  My lovely Pat has one of the GREAT voices of h...  \n",
       "1  Despite the fact that I have only played a sma...  \n",
       "2  I bought this charger in Jul 2003 and it worke...  \n",
       "3  Check out Maha Energy's website. Their Powerex...  \n",
       "4  Reviewed quite a bit of the combo players and ...  "
      ]
     },
     "execution_count": 35,
     "metadata": {},
     "output_type": "execute_result"
    }
   ],
   "source": [
    "df_test.head()"
   ]
  },
  {
   "cell_type": "code",
   "execution_count": 36,
   "metadata": {
    "scrolled": true
   },
   "outputs": [
    {
     "name": "stdout",
     "output_type": "stream",
     "text": [
      "<class 'pandas.core.frame.DataFrame'>\n",
      "RangeIndex: 400000 entries, 0 to 399999\n",
      "Data columns (total 3 columns):\n",
      " #   Column     Non-Null Count   Dtype \n",
      "---  ------     --------------   ----- \n",
      " 0   sentiment  400000 non-null  int64 \n",
      " 1   title      399990 non-null  object\n",
      " 2   text       400000 non-null  object\n",
      "dtypes: int64(1), object(2)\n",
      "memory usage: 9.2+ MB\n"
     ]
    }
   ],
   "source": [
    "df_test.info()"
   ]
  },
  {
   "cell_type": "code",
   "execution_count": 37,
   "metadata": {},
   "outputs": [
    {
     "data": {
      "text/plain": [
       "sentiment     0\n",
       "title        10\n",
       "text          0\n",
       "dtype: int64"
      ]
     },
     "execution_count": 37,
     "metadata": {},
     "output_type": "execute_result"
    }
   ],
   "source": [
    "# Check for NaNs - Unimportant because we will not use the title column.\n",
    "df_test.isna().sum()"
   ]
  },
  {
   "cell_type": "code",
   "execution_count": 38,
   "metadata": {},
   "outputs": [],
   "source": [
    "# Apply cleaning function to the validation set\n",
    "df_test['text_cleaned'] = df_test['text'].apply(prepare_text)\n",
    "\n",
    "# Create & store trigrams in a new column\n",
    "df_test['bigrams'] = df_test['text_cleaned'].apply(bigram_creator)\n",
    "\n",
    "# Create & store trigrams in a new column\n",
    "df_test['trigrams'] = df_test['text_cleaned'].apply(trigram_creator)"
   ]
  },
  {
   "cell_type": "code",
   "execution_count": 39,
   "metadata": {},
   "outputs": [
    {
     "data": {
      "text/html": [
       "<div>\n",
       "<style scoped>\n",
       "    .dataframe tbody tr th:only-of-type {\n",
       "        vertical-align: middle;\n",
       "    }\n",
       "\n",
       "    .dataframe tbody tr th {\n",
       "        vertical-align: top;\n",
       "    }\n",
       "\n",
       "    .dataframe thead th {\n",
       "        text-align: right;\n",
       "    }\n",
       "</style>\n",
       "<table border=\"1\" class=\"dataframe\">\n",
       "  <thead>\n",
       "    <tr style=\"text-align: right;\">\n",
       "      <th></th>\n",
       "      <th>sentiment</th>\n",
       "      <th>title</th>\n",
       "      <th>text</th>\n",
       "      <th>text_cleaned</th>\n",
       "      <th>bigrams</th>\n",
       "      <th>trigrams</th>\n",
       "    </tr>\n",
       "  </thead>\n",
       "  <tbody>\n",
       "    <tr>\n",
       "      <th>0</th>\n",
       "      <td>2</td>\n",
       "      <td>Great CD</td>\n",
       "      <td>My lovely Pat has one of the GREAT voices of h...</td>\n",
       "      <td>lovely pat one great voice generation listen c...</td>\n",
       "      <td>[(lovely, pat), (pat, one), (one, great), (gre...</td>\n",
       "      <td>[(lovely, pat, one), (pat, one, great), (one, ...</td>\n",
       "    </tr>\n",
       "    <tr>\n",
       "      <th>1</th>\n",
       "      <td>2</td>\n",
       "      <td>One of the best game music soundtracks - for a...</td>\n",
       "      <td>Despite the fact that I have only played a sma...</td>\n",
       "      <td>despite fact play small portion game music hea...</td>\n",
       "      <td>[(despite, fact), (fact, play), (play, small),...</td>\n",
       "      <td>[(despite, fact, play), (fact, play, small), (...</td>\n",
       "    </tr>\n",
       "    <tr>\n",
       "      <th>2</th>\n",
       "      <td>1</td>\n",
       "      <td>Batteries died within a year ...</td>\n",
       "      <td>I bought this charger in Jul 2003 and it worke...</td>\n",
       "      <td>bought charger jul work ok design nice conveni...</td>\n",
       "      <td>[(bought, charger), (charger, jul), (jul, work...</td>\n",
       "      <td>[(bought, charger, jul), (charger, jul, work),...</td>\n",
       "    </tr>\n",
       "    <tr>\n",
       "      <th>3</th>\n",
       "      <td>2</td>\n",
       "      <td>works fine, but Maha Energy is better</td>\n",
       "      <td>Check out Maha Energy's website. Their Powerex...</td>\n",
       "      <td>check maha energy's website powerex mh c f cha...</td>\n",
       "      <td>[(check, maha), (maha, energy's), (energy's, w...</td>\n",
       "      <td>[(check, maha, energy's), (maha, energy's, web...</td>\n",
       "    </tr>\n",
       "    <tr>\n",
       "      <th>4</th>\n",
       "      <td>2</td>\n",
       "      <td>Great for the non-audiophile</td>\n",
       "      <td>Reviewed quite a bit of the combo players and ...</td>\n",
       "      <td>review quite bit combo player hesitant due unf...</td>\n",
       "      <td>[(review, quite), (quite, bit), (bit, combo), ...</td>\n",
       "      <td>[(review, quite, bit), (quite, bit, combo), (b...</td>\n",
       "    </tr>\n",
       "  </tbody>\n",
       "</table>\n",
       "</div>"
      ],
      "text/plain": [
       "   sentiment                                              title  \\\n",
       "0          2                                           Great CD   \n",
       "1          2  One of the best game music soundtracks - for a...   \n",
       "2          1                   Batteries died within a year ...   \n",
       "3          2              works fine, but Maha Energy is better   \n",
       "4          2                       Great for the non-audiophile   \n",
       "\n",
       "                                                text  \\\n",
       "0  My lovely Pat has one of the GREAT voices of h...   \n",
       "1  Despite the fact that I have only played a sma...   \n",
       "2  I bought this charger in Jul 2003 and it worke...   \n",
       "3  Check out Maha Energy's website. Their Powerex...   \n",
       "4  Reviewed quite a bit of the combo players and ...   \n",
       "\n",
       "                                        text_cleaned  \\\n",
       "0  lovely pat one great voice generation listen c...   \n",
       "1  despite fact play small portion game music hea...   \n",
       "2  bought charger jul work ok design nice conveni...   \n",
       "3  check maha energy's website powerex mh c f cha...   \n",
       "4  review quite bit combo player hesitant due unf...   \n",
       "\n",
       "                                             bigrams  \\\n",
       "0  [(lovely, pat), (pat, one), (one, great), (gre...   \n",
       "1  [(despite, fact), (fact, play), (play, small),...   \n",
       "2  [(bought, charger), (charger, jul), (jul, work...   \n",
       "3  [(check, maha), (maha, energy's), (energy's, w...   \n",
       "4  [(review, quite), (quite, bit), (bit, combo), ...   \n",
       "\n",
       "                                            trigrams  \n",
       "0  [(lovely, pat, one), (pat, one, great), (one, ...  \n",
       "1  [(despite, fact, play), (fact, play, small), (...  \n",
       "2  [(bought, charger, jul), (charger, jul, work),...  \n",
       "3  [(check, maha, energy's), (maha, energy's, web...  \n",
       "4  [(review, quite, bit), (quite, bit, combo), (b...  "
      ]
     },
     "execution_count": 39,
     "metadata": {},
     "output_type": "execute_result"
    }
   ],
   "source": [
    "df_test.head()"
   ]
  },
  {
   "cell_type": "code",
   "execution_count": 40,
   "metadata": {},
   "outputs": [],
   "source": [
    "# Save validation data to a new CSV file\n",
    "df_test.to_csv('../data/test_cleaned.csv', columns=['sentiment', 'text', 'text_cleaned', 'bigrams', 'trigrams'])"
   ]
  },
  {
   "cell_type": "code",
   "execution_count": 42,
   "metadata": {},
   "outputs": [
    {
     "data": {
      "image/png": "[encoded data removed]",
      "text/plain": [
       "<Figure size 720x720 with 1 Axes>"
      ]
     },
     "metadata": {},
     "output_type": "display_data"
    }
   ],
   "source": [
    "# Ten Most common words in the test dataset\n",
    "test_freq_dist = FreqDist(df_test[\"text_cleaned\"].str.split().explode())\n",
    "visualize_top_n(test_freq_dist, \"Most Common Words in Test Reviews\")"
   ]
  },
  {
   "cell_type": "code",
   "execution_count": 43,
   "metadata": {},
   "outputs": [
    {
     "data": {
      "image/png": "[encoded data removed]",
      "text/plain": [
       "<Figure size 720x720 with 1 Axes>"
      ]
     },
     "metadata": {},
     "output_type": "display_data"
    }
   ],
   "source": [
    "# Ten most common words appearing in positive test reviews\n",
    "pos_test_dist = FreqDist(df_test['text_cleaned'].str.split().explode().loc[df_test['sentiment'] == 2])\n",
    "visualize_top_n(pos_test_dist, 'Most Common Words in Positive Reviews', 10)"
   ]
  },
  {
   "cell_type": "code",
   "execution_count": 44,
   "metadata": {},
   "outputs": [
    {
     "data": {
      "image/png": "[encoded data removed]",
      "text/plain": [
       "<Figure size 720x720 with 1 Axes>"
      ]
     },
     "metadata": {},
     "output_type": "display_data"
    }
   ],
   "source": [
    "# Ten most common words appearing in negative reviews\n",
    "neg_test_dist = FreqDist(df_test['text_cleaned'].str.split().explode().loc[df_test['sentiment'] == 1])\n",
    "visualize_top_n(neg_test_dist, 'Most Common Words in Negative Reviews', 10)"
   ]
  },
  {
   "cell_type": "code",
   "execution_count": 45,
   "metadata": {},
   "outputs": [
    {
     "data": {
      "text/plain": [
       "['make', 'book', 'good', 'like', 'get', 'one']"
      ]
     },
     "execution_count": 45,
     "metadata": {},
     "output_type": "execute_result"
    }
   ],
   "source": [
    "# Identify common words among the 10 most frequent words in reviews of each sentiment\n",
    "test_sw = sw_finder(neg_test_dist, pos_test_dist, 10)\n",
    "test_sw"
   ]
  },
  {
   "cell_type": "code",
   "execution_count": 46,
   "metadata": {},
   "outputs": [],
   "source": [
    "# Re-instantiate stopwords list and extend it to include custom stop words from test data.\n",
    "stop_list = stopwords.words(\"english\") \n",
    "stop_list.extend(test_sw)"
   ]
  },
  {
   "cell_type": "code",
   "execution_count": 49,
   "metadata": {},
   "outputs": [],
   "source": [
    "# Re-apply cleaning function to 'text' column using identified stopwords \n",
    "df_test['text_cleaned'] = df_test['text'].apply(prepare_text)\n",
    "\n",
    "# Create & store bi-grams in a new column\n",
    "df_test['bigrams'] = df_test['text_cleaned'].apply(bigram_creator)\n",
    "\n",
    "# Create & store trigrams in a new column\n",
    "df_test['trigrams'] = df_test['text_cleaned'].apply(trigram_creator)"
   ]
  },
  {
   "cell_type": "code",
   "execution_count": 51,
   "metadata": {},
   "outputs": [],
   "source": [
    "# Create new dataframe with cleaned text inclusive of custom sw and sentiment, save to csv.\n",
    "# df_test.to_csv('../data/test_cleaned_10sw.csv', columns=['sentiment', 'text', 'text_cleaned', 'bigrams', 'trigrams'])"
   ]
  },
  {
   "cell_type": "code",
   "execution_count": null,
   "metadata": {},
   "outputs": [],
   "source": []
  }
 ],
 "metadata": {
  "kernelspec": {
   "display_name": "Python (spark-cap-env)",
   "language": "python",
   "name": "spark-cap-env"
  },
  "language_info": {
   "codemirror_mode": {
    "name": "ipython",
    "version": 3
   },
   "file_extension": ".py",
   "mimetype": "text/x-python",
   "name": "python",
   "nbconvert_exporter": "python",
   "pygments_lexer": "ipython3",
   "version": "3.8.13"
  }
 },
 "nbformat": 4,
 "nbformat_minor": 4
}
