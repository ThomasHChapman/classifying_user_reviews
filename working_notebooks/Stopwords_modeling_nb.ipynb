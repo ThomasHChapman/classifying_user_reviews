{
 "cells": [
  {
   "cell_type": "markdown",
   "metadata": {},
   "source": [
    "# I HATE this Product! Five Stars!\n",
    "##### Reducing Rating Inflation Using NLP\n",
    "Author: Tom Chapman"
   ]
  },
  {
   "cell_type": "markdown",
   "metadata": {},
   "source": [
    "## Business Understanding\n",
    "Since their inception, online marketplaces have fundamentally shifted how consumers shop. With a near limitless number of products and services available online, it has never been easier to avoid the hassle of brick-and-mortar stores. However, identifying which products or services are high-quality has become increasingly difficult. The popularity of the 5-star rating scale has led to a number of well-documented challenges. [Harvard Business Review](https://hbr.org/2019/07/the-problems-with-5-star-rating-systems-and-how-to-fix-them) summed these challenges up nicely as follows:\n",
    "\n",
    "- There is little incentive for consumers to provide truthful feedback, meaning that extreme experiences (whether positive or negative) are much more likely to lead a consumer to leave a review.\n",
    "- Compounding the lack of incentive for truth, 5-star rating scales are prone to grade inflation. There is no correlation between the star-rating and the sentiment the user expresses in a review. It's possible (and surprisingly common) for a user to hate a product, excoriate it in a review, and then rate it 5-stars. This leads to inflated ratings, and makes it harder for the consumer to understand the meaning behind varied product ratings. How much better is a product with a 4.7 star rating than a 4.5 star average rating?\n",
    "\n",
    "My model is intended to help address rating inflation by classifying user feedback as positive or negative based on its content. \n",
    "\n",
    "Amazon is the largest online marketplace currently in existence, and its challenges with rating inflation are well-documented. However, any marketplace that uses a five-star rating system (Google Play, Apple App Store, Wal-mart, Etsy, Rakuten, etc.) can utilize my model to reclassify user reviews into positive or negative polarity. Offering customers a clearer display of product quality allows customers to make more informed purchases, and should drive improved satisfaction. It should also help mitigate poor quality or scam sellers inherently, as poor reviews are less likely to be drowned out by inflated ratings.\n",
    "\n",
    "The tool is also useful for sellers that want to move away from Amazon or implement their own storefront. By implementing my algorithm in a newly-created storefront, sellers can mostly automate the classification of consumer feedback and derive a more accurate understanding of how their products or services are being received. On [average](https://fitsmallbusiness.com/amazon-seller-fees/), Amazon sellers pay the website about 15% of their sale price on each item sold. There’s no question the visibility and customer reach that Amazon provides is valuable, but 15% is an extremely hefty cost for small companies. For certain product categories, the cost per item can range as high as 45%, an enormous amount to pay simply for the storefront component of the site.\n"
   ]
  },
  {
   "cell_type": "markdown",
   "metadata": {},
   "source": [
    "## Data Preparation\n",
    "Because of the enormity of the dataset, all substantive data cleaning was performed in [the cleaning notebook](preprocessing_nb.ipynb). The data preparation section in this notebook will be limited to importing necessary packages, reading in our pre-cleaned data, and dropping any null values."
   ]
  },
  {
   "cell_type": "code",
   "execution_count": 1,
   "metadata": {},
   "outputs": [],
   "source": [
    "# Package Imports\n",
    "import pandas as pd\n",
    "import numpy as np\n",
    "import matplotlib.pyplot as plt\n",
    "\n",
    "\n",
    "from sklearn.compose import ColumnTransformer\n",
    "from sklearn.dummy import DummyClassifier\n",
    "from sklearn.feature_extraction.text import TfidfVectorizer\n",
    "from sklearn.metrics import plot_confusion_matrix, confusion_matrix, accuracy_score, classification_report\n",
    "from sklearn.naive_bayes import MultinomialNB\n",
    "from sklearn.model_selection import ParameterGrid, GridSearchCV, cross_validate, cross_val_score\n",
    "from sklearn.linear_model import SGDClassifier, LogisticRegression\n",
    "from imblearn.pipeline import Pipeline as ImPipeline\n",
    "\n",
    "import pickle\n",
    "import joblib\n",
    "import warnings\n",
    "warnings.filterwarnings('ignore')"
   ]
  },
  {
   "cell_type": "code",
   "execution_count": 2,
   "metadata": {},
   "outputs": [
    {
     "data": {
      "text/html": [
       "<div>\n",
       "<style scoped>\n",
       "    .dataframe tbody tr th:only-of-type {\n",
       "        vertical-align: middle;\n",
       "    }\n",
       "\n",
       "    .dataframe tbody tr th {\n",
       "        vertical-align: top;\n",
       "    }\n",
       "\n",
       "    .dataframe thead th {\n",
       "        text-align: right;\n",
       "    }\n",
       "</style>\n",
       "<table border=\"1\" class=\"dataframe\">\n",
       "  <thead>\n",
       "    <tr style=\"text-align: right;\">\n",
       "      <th></th>\n",
       "      <th>sentiment</th>\n",
       "      <th>text</th>\n",
       "      <th>text_cleaned</th>\n",
       "      <th>bigrams</th>\n",
       "      <th>trigrams</th>\n",
       "    </tr>\n",
       "  </thead>\n",
       "  <tbody>\n",
       "    <tr>\n",
       "      <th>0</th>\n",
       "      <td>2</td>\n",
       "      <td>This sound track was beautiful! It paints the ...</td>\n",
       "      <td>sound track beautiful paint senery mind well w...</td>\n",
       "      <td>[('sound', 'track'), ('track', 'beautiful'), (...</td>\n",
       "      <td>[('sound', 'track', 'beautiful'), ('track', 'b...</td>\n",
       "    </tr>\n",
       "    <tr>\n",
       "      <th>1</th>\n",
       "      <td>2</td>\n",
       "      <td>I'm reading a lot of reviews saying that this ...</td>\n",
       "      <td>i'm reading lot review say best game soundtrac...</td>\n",
       "      <td>[(\"i'm\", 'reading'), ('reading', 'lot'), ('lot...</td>\n",
       "      <td>[(\"i'm\", 'reading', 'lot'), ('reading', 'lot',...</td>\n",
       "    </tr>\n",
       "    <tr>\n",
       "      <th>2</th>\n",
       "      <td>2</td>\n",
       "      <td>This soundtrack is my favorite music of all ti...</td>\n",
       "      <td>soundtrack favorite music time hand intense sa...</td>\n",
       "      <td>[('soundtrack', 'favorite'), ('favorite', 'mus...</td>\n",
       "      <td>[('soundtrack', 'favorite', 'music'), ('favori...</td>\n",
       "    </tr>\n",
       "    <tr>\n",
       "      <th>3</th>\n",
       "      <td>2</td>\n",
       "      <td>I truly like this soundtrack and I enjoy video...</td>\n",
       "      <td>truly like soundtrack enjoy video game music p...</td>\n",
       "      <td>[('truly', 'like'), ('like', 'soundtrack'), ('...</td>\n",
       "      <td>[('truly', 'like', 'soundtrack'), ('like', 'so...</td>\n",
       "    </tr>\n",
       "    <tr>\n",
       "      <th>4</th>\n",
       "      <td>2</td>\n",
       "      <td>If you've played the game, you know how divine...</td>\n",
       "      <td>played game know divine music every single son...</td>\n",
       "      <td>[('played', 'game'), ('game', 'know'), ('know'...</td>\n",
       "      <td>[('played', 'game', 'know'), ('game', 'know', ...</td>\n",
       "    </tr>\n",
       "  </tbody>\n",
       "</table>\n",
       "</div>"
      ],
      "text/plain": [
       "   sentiment                                               text  \\\n",
       "0          2  This sound track was beautiful! It paints the ...   \n",
       "1          2  I'm reading a lot of reviews saying that this ...   \n",
       "2          2  This soundtrack is my favorite music of all ti...   \n",
       "3          2  I truly like this soundtrack and I enjoy video...   \n",
       "4          2  If you've played the game, you know how divine...   \n",
       "\n",
       "                                        text_cleaned  \\\n",
       "0  sound track beautiful paint senery mind well w...   \n",
       "1  i'm reading lot review say best game soundtrac...   \n",
       "2  soundtrack favorite music time hand intense sa...   \n",
       "3  truly like soundtrack enjoy video game music p...   \n",
       "4  played game know divine music every single son...   \n",
       "\n",
       "                                             bigrams  \\\n",
       "0  [('sound', 'track'), ('track', 'beautiful'), (...   \n",
       "1  [(\"i'm\", 'reading'), ('reading', 'lot'), ('lot...   \n",
       "2  [('soundtrack', 'favorite'), ('favorite', 'mus...   \n",
       "3  [('truly', 'like'), ('like', 'soundtrack'), ('...   \n",
       "4  [('played', 'game'), ('game', 'know'), ('know'...   \n",
       "\n",
       "                                            trigrams  \n",
       "0  [('sound', 'track', 'beautiful'), ('track', 'b...  \n",
       "1  [(\"i'm\", 'reading', 'lot'), ('reading', 'lot',...  \n",
       "2  [('soundtrack', 'favorite', 'music'), ('favori...  \n",
       "3  [('truly', 'like', 'soundtrack'), ('like', 'so...  \n",
       "4  [('played', 'game', 'know'), ('game', 'know', ...  "
      ]
     },
     "execution_count": 2,
     "metadata": {},
     "output_type": "execute_result"
    }
   ],
   "source": [
    "# Read in the data & preview its contents\n",
    "df = pd.read_csv('../data/train_cleaned_10sw.csv', index_col=0)\n",
    "df.head()"
   ]
  },
  {
   "cell_type": "code",
   "execution_count": 61,
   "metadata": {},
   "outputs": [
    {
     "data": {
      "text/html": [
       "<div>\n",
       "<style scoped>\n",
       "    .dataframe tbody tr th:only-of-type {\n",
       "        vertical-align: middle;\n",
       "    }\n",
       "\n",
       "    .dataframe tbody tr th {\n",
       "        vertical-align: top;\n",
       "    }\n",
       "\n",
       "    .dataframe thead th {\n",
       "        text-align: right;\n",
       "    }\n",
       "</style>\n",
       "<table border=\"1\" class=\"dataframe\">\n",
       "  <thead>\n",
       "    <tr style=\"text-align: right;\">\n",
       "      <th></th>\n",
       "      <th>sentiment</th>\n",
       "      <th>text</th>\n",
       "      <th>text_cleaned</th>\n",
       "      <th>bigrams</th>\n",
       "      <th>trigrams</th>\n",
       "    </tr>\n",
       "  </thead>\n",
       "  <tbody>\n",
       "    <tr>\n",
       "      <th>6</th>\n",
       "      <td>1</td>\n",
       "      <td>This is a self-published book, and if you want...</td>\n",
       "      <td>self publish book want know read paragraphs st...</td>\n",
       "      <td>[('self', 'publish'), ('publish', 'book'), ('b...</td>\n",
       "      <td>[('self', 'publish', 'book'), ('publish', 'boo...</td>\n",
       "    </tr>\n",
       "    <tr>\n",
       "      <th>7</th>\n",
       "      <td>2</td>\n",
       "      <td>I loved Whisper of the wicked saints. The stor...</td>\n",
       "      <td>love whisper wicked saint story amaze pleasant...</td>\n",
       "      <td>[('love', 'whisper'), ('whisper', 'wicked'), (...</td>\n",
       "      <td>[('love', 'whisper', 'wicked'), ('whisper', 'w...</td>\n",
       "    </tr>\n",
       "    <tr>\n",
       "      <th>8</th>\n",
       "      <td>2</td>\n",
       "      <td>I just finished reading Whisper of the Wicked ...</td>\n",
       "      <td>finish reading whisper wicked saint fell love ...</td>\n",
       "      <td>[('finish', 'reading'), ('reading', 'whisper')...</td>\n",
       "      <td>[('finish', 'reading', 'whisper'), ('reading',...</td>\n",
       "    </tr>\n",
       "    <tr>\n",
       "      <th>9</th>\n",
       "      <td>2</td>\n",
       "      <td>This was a easy to read book that made me want...</td>\n",
       "      <td>easy read book make want keep reading easy put...</td>\n",
       "      <td>[('easy', 'read'), ('read', 'book'), ('book', ...</td>\n",
       "      <td>[('easy', 'read', 'book'), ('read', 'book', 'm...</td>\n",
       "    </tr>\n",
       "    <tr>\n",
       "      <th>10</th>\n",
       "      <td>1</td>\n",
       "      <td>A complete waste of time. Typographical errors...</td>\n",
       "      <td>complete waste time typographical error poor g...</td>\n",
       "      <td>[('complete', 'waste'), ('waste', 'time'), ('t...</td>\n",
       "      <td>[('complete', 'waste', 'time'), ('waste', 'tim...</td>\n",
       "    </tr>\n",
       "    <tr>\n",
       "      <th>...</th>\n",
       "      <td>...</td>\n",
       "      <td>...</td>\n",
       "      <td>...</td>\n",
       "      <td>...</td>\n",
       "      <td>...</td>\n",
       "    </tr>\n",
       "    <tr>\n",
       "      <th>3599984</th>\n",
       "      <td>2</td>\n",
       "      <td>This is a great book, I sadly believe I have l...</td>\n",
       "      <td>great book sadly believe lose mine however una...</td>\n",
       "      <td>[('great', 'book'), ('book', 'sadly'), ('sadly...</td>\n",
       "      <td>[('great', 'book', 'sadly'), ('book', 'sadly',...</td>\n",
       "    </tr>\n",
       "    <tr>\n",
       "      <th>3599985</th>\n",
       "      <td>2</td>\n",
       "      <td>This book is useful for pretty much any boat r...</td>\n",
       "      <td>book useful pretty much boat relate knowledge ...</td>\n",
       "      <td>[('book', 'useful'), ('useful', 'pretty'), ('p...</td>\n",
       "      <td>[('book', 'useful', 'pretty'), ('useful', 'pre...</td>\n",
       "    </tr>\n",
       "    <tr>\n",
       "      <th>3599994</th>\n",
       "      <td>1</td>\n",
       "      <td>While Mr. Harrison makes some extremely valid ...</td>\n",
       "      <td>mr harrison make extremely valid argument book...</td>\n",
       "      <td>[('mr', 'harrison'), ('harrison', 'make'), ('m...</td>\n",
       "      <td>[('mr', 'harrison', 'make'), ('harrison', 'mak...</td>\n",
       "    </tr>\n",
       "    <tr>\n",
       "      <th>3599998</th>\n",
       "      <td>1</td>\n",
       "      <td>not sure what this book is supposed to be. It ...</td>\n",
       "      <td>sure book suppose really rehash old idea carro...</td>\n",
       "      <td>[('sure', 'book'), ('book', 'suppose'), ('supp...</td>\n",
       "      <td>[('sure', 'book', 'suppose'), ('book', 'suppos...</td>\n",
       "    </tr>\n",
       "    <tr>\n",
       "      <th>3599999</th>\n",
       "      <td>2</td>\n",
       "      <td>I agree that every American should read this b...</td>\n",
       "      <td>agree every american read book everybody else ...</td>\n",
       "      <td>[('agree', 'every'), ('every', 'american'), ('...</td>\n",
       "      <td>[('agree', 'every', 'american'), ('every', 'am...</td>\n",
       "    </tr>\n",
       "  </tbody>\n",
       "</table>\n",
       "<p>971183 rows × 5 columns</p>\n",
       "</div>"
      ],
      "text/plain": [
       "         sentiment                                               text  \\\n",
       "6                1  This is a self-published book, and if you want...   \n",
       "7                2  I loved Whisper of the wicked saints. The stor...   \n",
       "8                2  I just finished reading Whisper of the Wicked ...   \n",
       "9                2  This was a easy to read book that made me want...   \n",
       "10               1  A complete waste of time. Typographical errors...   \n",
       "...            ...                                                ...   \n",
       "3599984          2  This is a great book, I sadly believe I have l...   \n",
       "3599985          2  This book is useful for pretty much any boat r...   \n",
       "3599994          1  While Mr. Harrison makes some extremely valid ...   \n",
       "3599998          1  not sure what this book is supposed to be. It ...   \n",
       "3599999          2  I agree that every American should read this b...   \n",
       "\n",
       "                                              text_cleaned  \\\n",
       "6        self publish book want know read paragraphs st...   \n",
       "7        love whisper wicked saint story amaze pleasant...   \n",
       "8        finish reading whisper wicked saint fell love ...   \n",
       "9        easy read book make want keep reading easy put...   \n",
       "10       complete waste time typographical error poor g...   \n",
       "...                                                    ...   \n",
       "3599984  great book sadly believe lose mine however una...   \n",
       "3599985  book useful pretty much boat relate knowledge ...   \n",
       "3599994  mr harrison make extremely valid argument book...   \n",
       "3599998  sure book suppose really rehash old idea carro...   \n",
       "3599999  agree every american read book everybody else ...   \n",
       "\n",
       "                                                   bigrams  \\\n",
       "6        [('self', 'publish'), ('publish', 'book'), ('b...   \n",
       "7        [('love', 'whisper'), ('whisper', 'wicked'), (...   \n",
       "8        [('finish', 'reading'), ('reading', 'whisper')...   \n",
       "9        [('easy', 'read'), ('read', 'book'), ('book', ...   \n",
       "10       [('complete', 'waste'), ('waste', 'time'), ('t...   \n",
       "...                                                    ...   \n",
       "3599984  [('great', 'book'), ('book', 'sadly'), ('sadly...   \n",
       "3599985  [('book', 'useful'), ('useful', 'pretty'), ('p...   \n",
       "3599994  [('mr', 'harrison'), ('harrison', 'make'), ('m...   \n",
       "3599998  [('sure', 'book'), ('book', 'suppose'), ('supp...   \n",
       "3599999  [('agree', 'every'), ('every', 'american'), ('...   \n",
       "\n",
       "                                                  trigrams  \n",
       "6        [('self', 'publish', 'book'), ('publish', 'boo...  \n",
       "7        [('love', 'whisper', 'wicked'), ('whisper', 'w...  \n",
       "8        [('finish', 'reading', 'whisper'), ('reading',...  \n",
       "9        [('easy', 'read', 'book'), ('read', 'book', 'm...  \n",
       "10       [('complete', 'waste', 'time'), ('waste', 'tim...  \n",
       "...                                                    ...  \n",
       "3599984  [('great', 'book', 'sadly'), ('book', 'sadly',...  \n",
       "3599985  [('book', 'useful', 'pretty'), ('useful', 'pre...  \n",
       "3599994  [('mr', 'harrison', 'make'), ('harrison', 'mak...  \n",
       "3599998  [('sure', 'book', 'suppose'), ('book', 'suppos...  \n",
       "3599999  [('agree', 'every', 'american'), ('every', 'am...  \n",
       "\n",
       "[971183 rows x 5 columns]"
      ]
     },
     "execution_count": 61,
     "metadata": {},
     "output_type": "execute_result"
    }
   ],
   "source": [
    "df[df['text_cleaned'].str.contains('book')]"
   ]
  },
  {
   "cell_type": "code",
   "execution_count": 3,
   "metadata": {},
   "outputs": [
    {
     "name": "stdout",
     "output_type": "stream",
     "text": [
      "<class 'pandas.core.frame.DataFrame'>\n",
      "Int64Index: 3600000 entries, 0 to 3599999\n",
      "Data columns (total 5 columns):\n",
      " #   Column        Dtype \n",
      "---  ------        ----- \n",
      " 0   sentiment     int64 \n",
      " 1   text          object\n",
      " 2   text_cleaned  object\n",
      " 3   bigrams       object\n",
      " 4   trigrams      object\n",
      "dtypes: int64(1), object(4)\n",
      "memory usage: 164.8+ MB\n"
     ]
    }
   ],
   "source": [
    "df.info()"
   ]
  },
  {
   "cell_type": "code",
   "execution_count": 4,
   "metadata": {},
   "outputs": [
    {
     "data": {
      "text/plain": [
       "2    1800000\n",
       "1    1800000\n",
       "Name: sentiment, dtype: int64"
      ]
     },
     "execution_count": 4,
     "metadata": {},
     "output_type": "execute_result"
    }
   ],
   "source": [
    "# Review target variable distribution\n",
    "df['sentiment'].value_counts()"
   ]
  },
  {
   "cell_type": "code",
   "execution_count": 5,
   "metadata": {},
   "outputs": [
    {
     "name": "stdout",
     "output_type": "stream",
     "text": [
      "sentiment        0\n",
      "text             0\n",
      "text_cleaned    19\n",
      "bigrams          0\n",
      "trigrams         0\n",
      "dtype: int64\n"
     ]
    },
    {
     "data": {
      "text/html": [
       "<div>\n",
       "<style scoped>\n",
       "    .dataframe tbody tr th:only-of-type {\n",
       "        vertical-align: middle;\n",
       "    }\n",
       "\n",
       "    .dataframe tbody tr th {\n",
       "        vertical-align: top;\n",
       "    }\n",
       "\n",
       "    .dataframe thead th {\n",
       "        text-align: right;\n",
       "    }\n",
       "</style>\n",
       "<table border=\"1\" class=\"dataframe\">\n",
       "  <thead>\n",
       "    <tr style=\"text-align: right;\">\n",
       "      <th></th>\n",
       "      <th>sentiment</th>\n",
       "      <th>text</th>\n",
       "      <th>text_cleaned</th>\n",
       "      <th>bigrams</th>\n",
       "      <th>trigrams</th>\n",
       "    </tr>\n",
       "  </thead>\n",
       "  <tbody>\n",
       "    <tr>\n",
       "      <th>217919</th>\n",
       "      <td>2</td>\n",
       "      <td>ò ñàìà ì áèìà ñí è íí ñàìé áèìé äèñ . ß ìíäó ñ...</td>\n",
       "      <td>NaN</td>\n",
       "      <td>[]</td>\n",
       "      <td>[]</td>\n",
       "    </tr>\n",
       "    <tr>\n",
       "      <th>294435</th>\n",
       "      <td>2</td>\n",
       "      <td>............ ..... ..... ...... ...... ..........</td>\n",
       "      <td>NaN</td>\n",
       "      <td>[]</td>\n",
       "      <td>[]</td>\n",
       "    </tr>\n",
       "    <tr>\n",
       "      <th>629878</th>\n",
       "      <td>1</td>\n",
       "      <td>...............................</td>\n",
       "      <td>NaN</td>\n",
       "      <td>[]</td>\n",
       "      <td>[]</td>\n",
       "    </tr>\n",
       "    <tr>\n",
       "      <th>680354</th>\n",
       "      <td>2</td>\n",
       "      <td>ò äèí è ñàì ìè áèì ìèò. à ò ññèè èàò ìà èäàò ä...</td>\n",
       "      <td>NaN</td>\n",
       "      <td>[]</td>\n",
       "      <td>[]</td>\n",
       "    </tr>\n",
       "    <tr>\n",
       "      <th>1440939</th>\n",
       "      <td>1</td>\n",
       "      <td>|||||||||||||||||||| |||||||||| ||||||||||||||...</td>\n",
       "      <td>NaN</td>\n",
       "      <td>[]</td>\n",
       "      <td>[]</td>\n",
       "    </tr>\n",
       "    <tr>\n",
       "      <th>1786231</th>\n",
       "      <td>2</td>\n",
       "      <td>38493 34740 47383 37054 48624 78568? 18581 286...</td>\n",
       "      <td>NaN</td>\n",
       "      <td>[]</td>\n",
       "      <td>[]</td>\n",
       "    </tr>\n",
       "    <tr>\n",
       "      <th>1989004</th>\n",
       "      <td>2</td>\n",
       "      <td>&amp;#4315;&amp;#4304;&amp;#4306;&amp;#4304;&amp;#4320;&amp;#4312;&amp;#43...</td>\n",
       "      <td>NaN</td>\n",
       "      <td>[]</td>\n",
       "      <td>[]</td>\n",
       "    </tr>\n",
       "    <tr>\n",
       "      <th>2005370</th>\n",
       "      <td>1</td>\n",
       "      <td>&amp;#1575;&amp;#1606;&amp;#1578;&amp;#1605; &amp;#1594;&amp;#1610;&amp;#1...</td>\n",
       "      <td>NaN</td>\n",
       "      <td>[]</td>\n",
       "      <td>[]</td>\n",
       "    </tr>\n",
       "    <tr>\n",
       "      <th>2071299</th>\n",
       "      <td>2</td>\n",
       "      <td>&amp;#1042;&amp;#1089;&amp;#1077; &amp;#1087;&amp;#1088;&amp;#1080;&amp;#1...</td>\n",
       "      <td>NaN</td>\n",
       "      <td>[]</td>\n",
       "      <td>[]</td>\n",
       "    </tr>\n",
       "    <tr>\n",
       "      <th>2220519</th>\n",
       "      <td>2</td>\n",
       "      <td>!!!!! ! 1 !!!!!!!!!! 234 !!!!!!!! 2 !! 34 !!!!...</td>\n",
       "      <td>NaN</td>\n",
       "      <td>[]</td>\n",
       "      <td>[]</td>\n",
       "    </tr>\n",
       "    <tr>\n",
       "      <th>2282778</th>\n",
       "      <td>2</td>\n",
       "      <td>'''' ''' '''''' '''''' '''''' ''''' '''' '''''...</td>\n",
       "      <td>NaN</td>\n",
       "      <td>[]</td>\n",
       "      <td>[]</td>\n",
       "    </tr>\n",
       "    <tr>\n",
       "      <th>2330988</th>\n",
       "      <td>1</td>\n",
       "      <td>&amp;#12479;&amp;#12483;&amp;#12503; &amp;#12398; &amp;#20869;&amp;#20...</td>\n",
       "      <td>NaN</td>\n",
       "      <td>[]</td>\n",
       "      <td>[]</td>\n",
       "    </tr>\n",
       "    <tr>\n",
       "      <th>2357286</th>\n",
       "      <td>2</td>\n",
       "      <td>&amp;#1579;&amp;#1604;&amp;#1575;&amp;#1579;&amp;#1577; &amp;#1602;&amp;#1...</td>\n",
       "      <td>NaN</td>\n",
       "      <td>[]</td>\n",
       "      <td>[]</td>\n",
       "    </tr>\n",
       "    <tr>\n",
       "      <th>2375843</th>\n",
       "      <td>2</td>\n",
       "      <td>&amp;#47784;&amp;#46160; &amp;#45208;&amp;#47924;&amp;#47196; &amp;#46...</td>\n",
       "      <td>NaN</td>\n",
       "      <td>[]</td>\n",
       "      <td>[]</td>\n",
       "    </tr>\n",
       "    <tr>\n",
       "      <th>2490037</th>\n",
       "      <td>1</td>\n",
       "      <td>&amp;#51060;&amp;#44148; &amp;#53944;&amp;#47000;&amp;#53433;&amp;#453...</td>\n",
       "      <td>NaN</td>\n",
       "      <td>[]</td>\n",
       "      <td>[]</td>\n",
       "    </tr>\n",
       "    <tr>\n",
       "      <th>2604873</th>\n",
       "      <td>1</td>\n",
       "      <td>........ ...... .. . .... ... ...... ..... ......</td>\n",
       "      <td>NaN</td>\n",
       "      <td>[]</td>\n",
       "      <td>[]</td>\n",
       "    </tr>\n",
       "    <tr>\n",
       "      <th>2618232</th>\n",
       "      <td>2</td>\n",
       "      <td>'''''''''' ''''', ''''' ''''''''''', '''''''''...</td>\n",
       "      <td>NaN</td>\n",
       "      <td>[]</td>\n",
       "      <td>[]</td>\n",
       "    </tr>\n",
       "    <tr>\n",
       "      <th>2751281</th>\n",
       "      <td>2</td>\n",
       "      <td>À ÀÌ ÖÈÄÀ À ÖíÀ óÀ ÖíÀ ¡ 3¿¡ 5ÀÌ Ü¿ì Ñ''Ù ¿¡' ...</td>\n",
       "      <td>NaN</td>\n",
       "      <td>[]</td>\n",
       "      <td>[]</td>\n",
       "    </tr>\n",
       "    <tr>\n",
       "      <th>3584048</th>\n",
       "      <td>1</td>\n",
       "      <td>' ' '''' '''' '' '' ''' '''''? '' '' ' '' ''' ...</td>\n",
       "      <td>NaN</td>\n",
       "      <td>[]</td>\n",
       "      <td>[]</td>\n",
       "    </tr>\n",
       "  </tbody>\n",
       "</table>\n",
       "</div>"
      ],
      "text/plain": [
       "         sentiment                                               text  \\\n",
       "217919           2  ò ñàìà ì áèìà ñí è íí ñàìé áèìé äèñ . ß ìíäó ñ...   \n",
       "294435           2  ............ ..... ..... ...... ...... ..........   \n",
       "629878           1                    ...............................   \n",
       "680354           2  ò äèí è ñàì ìè áèì ìèò. à ò ññèè èàò ìà èäàò ä...   \n",
       "1440939          1  |||||||||||||||||||| |||||||||| ||||||||||||||...   \n",
       "1786231          2  38493 34740 47383 37054 48624 78568? 18581 286...   \n",
       "1989004          2  &#4315;&#4304;&#4306;&#4304;&#4320;&#4312;&#43...   \n",
       "2005370          1  &#1575;&#1606;&#1578;&#1605; &#1594;&#1610;&#1...   \n",
       "2071299          2  &#1042;&#1089;&#1077; &#1087;&#1088;&#1080;&#1...   \n",
       "2220519          2  !!!!! ! 1 !!!!!!!!!! 234 !!!!!!!! 2 !! 34 !!!!...   \n",
       "2282778          2  '''' ''' '''''' '''''' '''''' ''''' '''' '''''...   \n",
       "2330988          1  &#12479;&#12483;&#12503; &#12398; &#20869;&#20...   \n",
       "2357286          2  &#1579;&#1604;&#1575;&#1579;&#1577; &#1602;&#1...   \n",
       "2375843          2  &#47784;&#46160; &#45208;&#47924;&#47196; &#46...   \n",
       "2490037          1  &#51060;&#44148; &#53944;&#47000;&#53433;&#453...   \n",
       "2604873          1  ........ ...... .. . .... ... ...... ..... ......   \n",
       "2618232          2  '''''''''' ''''', ''''' ''''''''''', '''''''''...   \n",
       "2751281          2  À ÀÌ ÖÈÄÀ À ÖíÀ óÀ ÖíÀ ¡ 3¿¡ 5ÀÌ Ü¿ì Ñ''Ù ¿¡' ...   \n",
       "3584048          1  ' ' '''' '''' '' '' ''' '''''? '' '' ' '' ''' ...   \n",
       "\n",
       "        text_cleaned bigrams trigrams  \n",
       "217919           NaN      []       []  \n",
       "294435           NaN      []       []  \n",
       "629878           NaN      []       []  \n",
       "680354           NaN      []       []  \n",
       "1440939          NaN      []       []  \n",
       "1786231          NaN      []       []  \n",
       "1989004          NaN      []       []  \n",
       "2005370          NaN      []       []  \n",
       "2071299          NaN      []       []  \n",
       "2220519          NaN      []       []  \n",
       "2282778          NaN      []       []  \n",
       "2330988          NaN      []       []  \n",
       "2357286          NaN      []       []  \n",
       "2375843          NaN      []       []  \n",
       "2490037          NaN      []       []  \n",
       "2604873          NaN      []       []  \n",
       "2618232          NaN      []       []  \n",
       "2751281          NaN      []       []  \n",
       "3584048          NaN      []       []  "
      ]
     },
     "execution_count": 5,
     "metadata": {},
     "output_type": "execute_result"
    }
   ],
   "source": [
    "print(df.isna().sum())\n",
    "df[df['text_cleaned'].isna()]"
   ]
  },
  {
   "cell_type": "code",
   "execution_count": 6,
   "metadata": {},
   "outputs": [],
   "source": [
    "# Drop rows with missing text_cleaned values\n",
    "df.dropna(inplace=True)"
   ]
  },
  {
   "cell_type": "code",
   "execution_count": 7,
   "metadata": {},
   "outputs": [],
   "source": [
    "# Save off feature combinations for use in model iteration\n",
    "X = df['text_cleaned']\n",
    "\n",
    "X_bigrams = df[['text_cleaned', 'bigrams']]\n",
    "X_trigrams = df[['text_cleaned', 'trigrams']]\n",
    "X_allgrams = df[['text_cleaned', 'bigrams', 'trigrams']]\n",
    "\n",
    "y = df['sentiment']"
   ]
  },
  {
   "cell_type": "markdown",
   "metadata": {},
   "source": [
    "# Modeling\n",
    "I utilized a number of sklearn's modeling techniques for the project. As noted in the data-preparation description, I experimented with the inclusion of bi-grams and tri-grams created from user input during the modeling process as well. I evaluated each model based on its accuracy score, as the real-world impact of a false positive or negative is quite low. With basic python it is easy to collect all the reviews that the classifier scores mislables for human review. Ultimately, a logistic regression classifier with default parameters was the best performer."
   ]
  },
  {
   "cell_type": "markdown",
   "metadata": {},
   "source": [
    "### Dummy Classifier\n",
    "To begin modelling efforts, I built a dummy classifier that simply guesses the most common class every time. Given that our training data is almost (but not perfectly) balanced, we should expect it to predict that every review is negative since there are slightly more negative reviews than positive reviews. If we can't beat a 50-50 guess with a dataset this large, something is horribly wrong. Predictably, the dummy classifier achieved an accuracy score of almost exactly 50%."
   ]
  },
  {
   "cell_type": "code",
   "execution_count": 8,
   "metadata": {},
   "outputs": [],
   "source": [
    "# Instantiate Dummy Classifier pipeline\n",
    "dummy_pipe = ImPipeline(steps=[\n",
    "                                ('vect', TfidfVectorizer()),\n",
    "                                ('cf', DummyClassifier(strategy='most_frequent',\n",
    "                                                           random_state=42))\n",
    "                              ]\n",
    ")"
   ]
  },
  {
   "cell_type": "code",
   "execution_count": 9,
   "metadata": {},
   "outputs": [
    {
     "name": "stdout",
     "output_type": "stream",
     "text": [
      "0.5000006944481096\n"
     ]
    },
    {
     "data": {
      "image/png": "[encoded data removed]",
      "text/plain": [
       "<Figure size 432x288 with 2 Axes>"
      ]
     },
     "metadata": {
      "needs_background": "light"
     },
     "output_type": "display_data"
    }
   ],
   "source": [
    "# Fit dummy pipe on the training data and plot confusion matrix\n",
    "dummy_pipe.fit(X, y)\n",
    "dummy_yhat = dummy_pipe.predict(X)\n",
    "plot_confusion_matrix(dummy_pipe, X, y, normalize='true');\n",
    "print(accuracy_score(y, dummy_yhat))"
   ]
  },
  {
   "cell_type": "markdown",
   "metadata": {},
   "source": [
    "### Multinomial Naive Bayes\n",
    "MNB is a commonly-used algorithm for natural language processing due to effectiveness in classifying topics while maintaining a low training time and relative simplicity. It predicts the probability that a given document belongs to a particular class based on the words it contains. I employed a multinomial naive bayes classifier as my first simple model for these reasons, and it will be the baseline model that I attempt to beat. "
   ]
  },
  {
   "cell_type": "code",
   "execution_count": 10,
   "metadata": {
    "scrolled": true
   },
   "outputs": [
    {
     "name": "stdout",
     "output_type": "stream",
     "text": [
      "0.8282546491217593\n"
     ]
    },
    {
     "data": {
      "image/png": "[encoded data removed]",
      "text/plain": [
       "<Figure size 432x288 with 2 Axes>"
      ]
     },
     "metadata": {
      "needs_background": "light"
     },
     "output_type": "display_data"
    }
   ],
   "source": [
    "# Instantiate the Multinomial Naieve Bayes Pipeline\n",
    "mnb_pipe = ImPipeline(steps=[\n",
    "                            ('vect', TfidfVectorizer()),\n",
    "                            ('cf', MultinomialNB())\n",
    "                            ]\n",
    ")\n",
    "\n",
    "# Fit MNB pipe on the training data, get predictions and plot confusion matrix\n",
    "mnb_pipe.fit(X, y)\n",
    "mnb_yhat = mnb_pipe.predict(X)\n",
    "plot_confusion_matrix(mnb_pipe, X, y, normalize='true');\n",
    "print(accuracy_score(y, mnb_yhat))"
   ]
  },
  {
   "cell_type": "code",
   "execution_count": 11,
   "metadata": {},
   "outputs": [
    {
     "name": "stdout",
     "output_type": "stream",
     "text": [
      "{'fit_time': array([61.60668182, 61.49791622, 61.65206385, 61.90786886, 62.00734282]), 'score_time': array([15.17341399, 15.01449275, 15.02250433, 14.76996398, 14.71663094]), 'test_score': array([0.8183548 , 0.81463647, 0.81260451, 0.81016839, 0.81096145])}\n"
     ]
    }
   ],
   "source": [
    "# Obtained cross-validated accuracy score\n",
    "mnb_cv = cross_validate(mnb_pipe, X, y)\n",
    "print(mnb_cv)"
   ]
  },
  {
   "cell_type": "markdown",
   "metadata": {},
   "source": [
    "- 'fit_time': 63.91176295, 64.27754903, 63.07658076, 62.96271181, 63.14784789\n",
    "- 'score_time': 14.80177712, 14.56706309, 14.5999763 , 14.49988723, 14.33135796\n",
    "- 'test_score': 0.81850038, 0.81476842, 0.81272648, 0.81008618, 0.81112924"
   ]
  },
  {
   "cell_type": "code",
   "execution_count": 12,
   "metadata": {},
   "outputs": [
    {
     "data": {
      "text/plain": [
       "0.8133451245965816"
      ]
     },
     "execution_count": 12,
     "metadata": {},
     "output_type": "execute_result"
    }
   ],
   "source": [
    "mnb_cv['test_score'].mean()"
   ]
  },
  {
   "cell_type": "code",
   "execution_count": 13,
   "metadata": {},
   "outputs": [],
   "source": [
    "# Stored classification report for comparison\n",
    "mnb_cr = classification_report(y, mnb_yhat, output_dict=True)"
   ]
  },
  {
   "cell_type": "code",
   "execution_count": 14,
   "metadata": {},
   "outputs": [],
   "source": [
    "# Define model_performance Dictionary for use in visualizations, add mean model result.\n",
    "mod_perf = {}\n",
    "mod_perf['mnb_1grams'] = mnb_cv['test_score'].mean()"
   ]
  },
  {
   "cell_type": "markdown",
   "metadata": {},
   "source": [
    "#### Using N-grams as Features\n",
    "To see if I could improve on the model's performance over using single words, I tried giving it bi-grams and tri-grams as additional features. Ultimately, the MNB classifier was most accurate using only single words from each review as its inputs."
   ]
  },
  {
   "cell_type": "markdown",
   "metadata": {},
   "source": [
    "##### Single Words & Bi-Grams"
   ]
  },
  {
   "cell_type": "code",
   "execution_count": 15,
   "metadata": {
    "scrolled": false
   },
   "outputs": [
    {
     "name": "stdout",
     "output_type": "stream",
     "text": [
      "0.8266504739886127\n"
     ]
    },
    {
     "data": {
      "image/png": "[encoded data removed]",
      "text/plain": [
       "<Figure size 432x288 with 2 Axes>"
      ]
     },
     "metadata": {
      "needs_background": "light"
     },
     "output_type": "display_data"
    }
   ],
   "source": [
    "# Instantiate the MNB Pipeline with cleaned text and bi-grams\n",
    "mnb_bigrams_pipe = ImPipeline(steps=[\n",
    "            ('CT', ColumnTransformer([(x, TfidfVectorizer(), x) for x in ['text_cleaned',\n",
    "                                                                          'bigrams']\n",
    "                                     ])),\n",
    "            ('cf', MultinomialNB())\n",
    "]\n",
    ")\n",
    "\n",
    "# Fit MNB pipe on the cleaned text and bi-grams, get predictions, plot confusion matrix\n",
    "mnb_bigrams_pipe.fit(X_bigrams, y)\n",
    "mnb_bigrams_yhat = mnb_bigrams_pipe.predict(X_bigrams)\n",
    "plot_confusion_matrix(mnb_bigrams_pipe, X_bigrams, y, normalize='true');\n",
    "print(accuracy_score(y, mnb_bigrams_yhat))"
   ]
  },
  {
   "cell_type": "code",
   "execution_count": 16,
   "metadata": {},
   "outputs": [
    {
     "name": "stdout",
     "output_type": "stream",
     "text": [
      "{'fit_time': array([184.62536073, 184.66326118, 183.3298111 , 183.57797503,\n",
      "       183.55716205]), 'score_time': array([43.4236412 , 42.840096  , 42.04221296, 41.73780417, 41.40423298]), 'test_score': array([0.81658535, 0.81276702, 0.810892  , 0.8084781 , 0.80936561])}\n"
     ]
    }
   ],
   "source": [
    "# Obtained cross-validated accuracy score\n",
    "mnb_bigrams_cv = cross_validate(mnb_bigrams_pipe, X_bigrams, y)\n",
    "print(mnb_bigrams_cv)"
   ]
  },
  {
   "cell_type": "code",
   "execution_count": 17,
   "metadata": {},
   "outputs": [
    {
     "name": "stdout",
     "output_type": "stream",
     "text": [
      "0.811617615490823\n"
     ]
    }
   ],
   "source": [
    "# Print cross-validated mean accuracy score & add to model performance dictionary\n",
    "print(mnb_bigrams_cv['test_score'].mean())\n",
    "mod_perf['mnb_2grams'] = mnb_bigrams_cv['test_score'].mean()"
   ]
  },
  {
   "cell_type": "code",
   "execution_count": 18,
   "metadata": {},
   "outputs": [],
   "source": [
    "# Stored classification report for comparison\n",
    "mnb_bigram_cr = classification_report(y, mnb_bigrams_yhat, output_dict=True)"
   ]
  },
  {
   "cell_type": "markdown",
   "metadata": {},
   "source": [
    "##### Single Words & Tri-Grams"
   ]
  },
  {
   "cell_type": "code",
   "execution_count": 19,
   "metadata": {},
   "outputs": [
    {
     "name": "stdout",
     "output_type": "stream",
     "text": [
      "0.8254332453421281\n"
     ]
    },
    {
     "data": {
      "image/png": "[encoded data removed]",
      "text/plain": [
       "<Figure size 432x288 with 2 Axes>"
      ]
     },
     "metadata": {
      "needs_background": "light"
     },
     "output_type": "display_data"
    }
   ],
   "source": [
    "# Instantiate the Multinomial Naive Bayes Pipeline with clean text and tri-grams\n",
    "mnb_trigrams_pipe = ImPipeline(steps=[\n",
    "                ('CT', ColumnTransformer([(x, TfidfVectorizer(), x) for x in ['text_cleaned',\n",
    "                                                                              'trigrams']\n",
    "                                         ])),\n",
    "                ('cf', MultinomialNB())\n",
    "]\n",
    ")\n",
    "\n",
    "# Fit MNB pipe on the training data, get predictions and plot confusion matrix\n",
    "mnb_trigrams_pipe.fit(X_trigrams, y)\n",
    "mnb_trigrams_yhat = mnb_trigrams_pipe.predict(X_trigrams)\n",
    "plot_confusion_matrix(mnb_trigrams_pipe, X_trigrams, y, normalize='true');\n",
    "print(accuracy_score(y, mnb_trigrams_yhat))"
   ]
  },
  {
   "cell_type": "code",
   "execution_count": 20,
   "metadata": {},
   "outputs": [
    {
     "name": "stdout",
     "output_type": "stream",
     "text": [
      "{'fit_time': array([226.76871395, 229.6818521 , 225.62399602, 226.00936699,\n",
      "       226.06742239]), 'score_time': array([53.82677126, 52.26931787, 51.9769311 , 51.47933221, 51.2420938 ]), 'test_score': array([0.81521312, 0.81136145, 0.80962255, 0.80705865, 0.80785727])}\n"
     ]
    }
   ],
   "source": [
    "# Obtained cross-validated accuracy score\n",
    "mnb_trigrams_cv = cross_validate(mnb_trigrams_pipe, X_trigrams, y)\n",
    "print(mnb_trigrams_cv)"
   ]
  },
  {
   "cell_type": "code",
   "execution_count": 21,
   "metadata": {},
   "outputs": [
    {
     "name": "stdout",
     "output_type": "stream",
     "text": [
      "0.8102226081219566\n"
     ]
    }
   ],
   "source": [
    "# Print cross-validated mean accuracy score & add to model performance dictionary\n",
    "print(mnb_trigrams_cv['test_score'].mean())\n",
    "mod_perf['mnb_3grams'] = mnb_trigrams_cv['test_score'].mean()"
   ]
  },
  {
   "cell_type": "code",
   "execution_count": 22,
   "metadata": {},
   "outputs": [],
   "source": [
    "# Stored classification report for comparison\n",
    "mnb_trigram_cr = classification_report(y, mnb_trigrams_yhat, output_dict=True)"
   ]
  },
  {
   "cell_type": "markdown",
   "metadata": {},
   "source": [
    "##### Single Words, Bi-Grams & Tri-Grams"
   ]
  },
  {
   "cell_type": "code",
   "execution_count": 23,
   "metadata": {},
   "outputs": [
    {
     "name": "stdout",
     "output_type": "stream",
     "text": [
      "0.8251551883190494\n"
     ]
    },
    {
     "data": {
      "image/png": "[encoded data removed]",
      "text/plain": [
       "<Figure size 432x288 with 2 Axes>"
      ]
     },
     "metadata": {
      "needs_background": "light"
     },
     "output_type": "display_data"
    }
   ],
   "source": [
    "# Instantiate the Multinomial Naieve Bayes pipeline with clean text, bi-grams and tri-grams\n",
    "mnb_allgrams_pipe = ImPipeline(steps=[          \n",
    "                ('CT', ColumnTransformer([(x, TfidfVectorizer(), x) for x in ['text_cleaned',\n",
    "                                                                              'bigrams',\n",
    "                                                                              'trigrams']\n",
    "                                         ])),\n",
    "                ('cf', MultinomialNB())\n",
    "]\n",
    ")\n",
    "\n",
    "# Fit MNB pipe on the training data, get predictions and plot confusion matrix\n",
    "mnb_allgrams_pipe.fit(X_allgrams, y)\n",
    "mnb_allgrams_yhat = mnb_allgrams_pipe.predict(X_allgrams)\n",
    "plot_confusion_matrix(mnb_allgrams_pipe, X_allgrams, y, normalize='true');\n",
    "print(accuracy_score(y, mnb_allgrams_yhat))"
   ]
  },
  {
   "cell_type": "code",
   "execution_count": 24,
   "metadata": {},
   "outputs": [
    {
     "name": "stdout",
     "output_type": "stream",
     "text": [
      "{'fit_time': array([342.64789295, 343.64856291, 345.6268537 , 348.01601696,\n",
      "       345.5555799 ]), 'score_time': array([80.74884725, 80.18565202, 80.59539819, 78.76368117, 78.5033102 ]), 'test_score': array([0.81491728, 0.81096839, 0.80926838, 0.80677809, 0.80761004])}\n"
     ]
    }
   ],
   "source": [
    "# Obtained cross-validated accuracy score\n",
    "mnb_allgrams_cv = cross_validate(mnb_allgrams_pipe, X_allgrams, y)\n",
    "print(mnb_allgrams_cv)"
   ]
  },
  {
   "cell_type": "code",
   "execution_count": 25,
   "metadata": {},
   "outputs": [
    {
     "name": "stdout",
     "output_type": "stream",
     "text": [
      "0.8099084397920866\n"
     ]
    }
   ],
   "source": [
    "# Print cross-validated mean accuracy score & add to model performance dictionary\n",
    "print(mnb_allgrams_cv['test_score'].mean())\n",
    "mod_perf['mnb_allgrams'] = mnb_allgrams_cv['test_score'].mean()"
   ]
  },
  {
   "cell_type": "code",
   "execution_count": 26,
   "metadata": {},
   "outputs": [],
   "source": [
    "# Stored classification report for comparison\n",
    "mnb_allgram_cr = classification_report(y, mnb_allgrams_yhat, output_dict=True)"
   ]
  },
  {
   "cell_type": "markdown",
   "metadata": {},
   "source": [
    "### Logistic Regression\n",
    "Logistic Regression is a common step in any binary classification problem, so I elected to use it as my next modeling approach. It is a linear classification method that learns the probability of an observation belonging to a target class, and then finds the decision boundary that best separates the classes. It splits feature space linearly and typically works well even when there is correlation among the variables, as is the case in our dataset. Because the data is made up of consumer reviews, it is likely that similar language patterns may be observed throughout.\n",
    "\n",
    "Right away, we see a significant (5.6%) improvement in accuracy over our best-performing Naive Bayes model. By including tri-grams of our corpus along with single words, we see a performance gain of 5.8% over our best Naive Bayes model."
   ]
  },
  {
   "cell_type": "code",
   "execution_count": 27,
   "metadata": {},
   "outputs": [
    {
     "name": "stdout",
     "output_type": "stream",
     "text": [
      "0.8753801756175935\n"
     ]
    },
    {
     "data": {
      "image/png": "[encoded data removed]",
      "text/plain": [
       "<Figure size 432x288 with 2 Axes>"
      ]
     },
     "metadata": {
      "needs_background": "light"
     },
     "output_type": "display_data"
    }
   ],
   "source": [
    "# Instantiate the Logistic Regression Pipeline\n",
    "logreg_pipe = ImPipeline(steps=[\n",
    "                                 ('vect', TfidfVectorizer()),                              \n",
    "                                 ('lr', LogisticRegression(n_jobs=-2))\n",
    "                                ]\n",
    ")\n",
    "\n",
    "\n",
    "# Fit Logistic Regression pipeline on the training data, get predictions and plot confusion matrix\n",
    "logreg_pipe.fit(X, y)\n",
    "logreg_yhat = logreg_pipe.predict(X)\n",
    "plot_confusion_matrix(logreg_pipe, X, y, normalize='true');\n",
    "print(accuracy_score(y, logreg_yhat))"
   ]
  },
  {
   "cell_type": "code",
   "execution_count": 28,
   "metadata": {},
   "outputs": [
    {
     "name": "stdout",
     "output_type": "stream",
     "text": [
      "{'fit_time': array([117.61020708, 116.46035624, 117.91320086, 120.99235392,\n",
      "       116.28010201]), 'score_time': array([16.10829592, 16.070539  , 15.48543   , 15.39111114, 15.95615196]), 'test_score': array([0.86982446, 0.86967566, 0.870509  , 0.87070762, 0.86841732])}\n"
     ]
    }
   ],
   "source": [
    "# Obtained cross-validated accuracy score\n",
    "logreg_cv = cross_validate(logreg_pipe, X, y)\n",
    "print(logreg_cv)"
   ]
  },
  {
   "cell_type": "code",
   "execution_count": 29,
   "metadata": {},
   "outputs": [
    {
     "name": "stdout",
     "output_type": "stream",
     "text": [
      "0.8698268129755006\n"
     ]
    }
   ],
   "source": [
    "# Print cross-validated mean accuracy score & add to model performance dictionary\n",
    "print(logreg_cv['test_score'].mean())\n",
    "mod_perf['logreg_1grams'] = logreg_cv['test_score'].mean()"
   ]
  },
  {
   "cell_type": "code",
   "execution_count": 30,
   "metadata": {},
   "outputs": [],
   "source": [
    "# Stored classification report for comparison\n",
    "logreg_cr = classification_report(y, logreg_yhat, output_dict=True)"
   ]
  },
  {
   "cell_type": "code",
   "execution_count": 31,
   "metadata": {},
   "outputs": [],
   "source": [
    "with open ('sw_logreg_base.pkl', 'wb') as files:\n",
    "    joblib.dump(logreg_pipe, files)"
   ]
  },
  {
   "cell_type": "markdown",
   "metadata": {},
   "source": [
    "#### Using N-grams as Features\n",
    "To see if I could improve on the model's performance over using single words, I tried giving it bi-grams and tri-grams as additional features. This time, the combination of single words and tri-grams proved to be the best performer of the group, with a cross-validated accuracy score of 87.14%."
   ]
  },
  {
   "cell_type": "markdown",
   "metadata": {},
   "source": [
    "##### Single Words & Bi-Grams"
   ]
  },
  {
   "cell_type": "code",
   "execution_count": 32,
   "metadata": {},
   "outputs": [
    {
     "name": "stdout",
     "output_type": "stream",
     "text": [
      "0.8779940783020799\n"
     ]
    },
    {
     "data": {
      "image/png": "[encoded data removed]",
      "text/plain": [
       "<Figure size 432x288 with 2 Axes>"
      ]
     },
     "metadata": {
      "needs_background": "light"
     },
     "output_type": "display_data"
    }
   ],
   "source": [
    "# Instantiated the Logistic Regression Pipeline with clean text and bi-grams\n",
    "logreg_bigram_pipe = ImPipeline(steps=[\n",
    "                ('CT', ColumnTransformer([(x, TfidfVectorizer(), x) for x in ['text_cleaned',\n",
    "                                                                              'bigrams']\n",
    "                                         ])),                             \n",
    "                ('lr', LogisticRegression(n_jobs=-2))\n",
    "]\n",
    ")\n",
    "\n",
    "\n",
    "# Fit Logistic Regression pipeline on the training data, get predictions and plot confusion matrix\n",
    "logreg_bigram_pipe.fit(X_bigrams, y)\n",
    "logreg_bigram_yhat = logreg_bigram_pipe.predict(X_bigrams)\n",
    "plot_confusion_matrix(logreg_bigram_pipe, X_bigrams, y, normalize='true');\n",
    "print(accuracy_score(y, logreg_bigram_yhat))"
   ]
  },
  {
   "cell_type": "code",
   "execution_count": 33,
   "metadata": {},
   "outputs": [
    {
     "name": "stdout",
     "output_type": "stream",
     "text": [
      "{'fit_time': array([277.32423687, 281.03227711, 280.57133508, 284.42348695,\n",
      "       282.57329702]), 'score_time': array([44.43833303, 44.38392401, 44.31989789, 43.15733814, 42.87890506]), 'test_score': array([0.87056196, 0.869709  , 0.8706715 , 0.87053123, 0.86986872])}\n"
     ]
    }
   ],
   "source": [
    "# Obtained cross-validated accuracy score\n",
    "logreg_bigram_cv = cross_validate(logreg_bigram_pipe, X_bigrams, y)\n",
    "print(logreg_bigram_cv)"
   ]
  },
  {
   "cell_type": "code",
   "execution_count": 34,
   "metadata": {},
   "outputs": [
    {
     "name": "stdout",
     "output_type": "stream",
     "text": [
      "0.8702684818910214\n"
     ]
    }
   ],
   "source": [
    "# Print cross-validated mean accuracy score & add to model performance dictionary\n",
    "print(logreg_bigram_cv['test_score'].mean())\n",
    "mod_perf['logreg_2grams'] = logreg_bigram_cv['test_score'].mean()"
   ]
  },
  {
   "cell_type": "code",
   "execution_count": 35,
   "metadata": {},
   "outputs": [],
   "source": [
    "# Stored classification report for comparison\n",
    "logreg_bigram_cr = classification_report(y, logreg_bigram_yhat, output_dict=True)"
   ]
  },
  {
   "cell_type": "markdown",
   "metadata": {},
   "source": [
    "##### Single Words & Tri-Grams"
   ]
  },
  {
   "cell_type": "code",
   "execution_count": 36,
   "metadata": {},
   "outputs": [
    {
     "name": "stdout",
     "output_type": "stream",
     "text": [
      "0.8822288228743429\n"
     ]
    },
    {
     "data": {
      "image/png": "[encoded data removed]",
      "text/plain": [
       "<Figure size 432x288 with 2 Axes>"
      ]
     },
     "metadata": {
      "needs_background": "light"
     },
     "output_type": "display_data"
    }
   ],
   "source": [
    "# Instantiate the Logistic Regression Pipeline with clean text and tri-grams\n",
    "logreg_trigram_pipe = ImPipeline(steps=[\n",
    "                ('CT', ColumnTransformer([(x, TfidfVectorizer(), x) for x in ['text_cleaned',\n",
    "                                                                              'trigrams']\n",
    "                                         ])),                             \n",
    "                ('lr', LogisticRegression(n_jobs=-2))\n",
    "]\n",
    ")\n",
    "\n",
    "\n",
    "# Fit LogReg pipeline on the training data, get predictions and plot confusion matrix\n",
    "logreg_trigram_pipe.fit(X_trigrams, y)\n",
    "logreg_trigram_yhat = logreg_trigram_pipe.predict(X_trigrams)\n",
    "plot_confusion_matrix(logreg_trigram_pipe, X_trigrams, y, normalize='true');\n",
    "print(accuracy_score(y, logreg_trigram_yhat))"
   ]
  },
  {
   "cell_type": "code",
   "execution_count": 37,
   "metadata": {},
   "outputs": [
    {
     "name": "stdout",
     "output_type": "stream",
     "text": [
      "{'fit_time': array([317.63490582, 317.91757512, 317.58800912, 319.58003211,\n",
      "       318.24426794]), 'score_time': array([54.08445311, 54.13068485, 52.91159916, 52.76969075, 52.53457904]), 'test_score': array([0.87161752, 0.87061873, 0.87147429, 0.8723604 , 0.87103817])}\n"
     ]
    }
   ],
   "source": [
    "# Obtained cross-validated accuracy score\n",
    "logreg_trigram_cv = cross_validate(logreg_trigram_pipe, X_trigrams, y)\n",
    "print(logreg_trigram_cv)"
   ]
  },
  {
   "cell_type": "code",
   "execution_count": 38,
   "metadata": {},
   "outputs": [
    {
     "name": "stdout",
     "output_type": "stream",
     "text": [
      "0.871421821338585\n"
     ]
    }
   ],
   "source": [
    "# Print cross-validated mean accuracy score & add to model performance dictionary\n",
    "print(logreg_trigram_cv['test_score'].mean())\n",
    "mod_perf['logreg_3grams'] = logreg_trigram_cv['test_score'].mean()"
   ]
  },
  {
   "cell_type": "code",
   "execution_count": 39,
   "metadata": {},
   "outputs": [],
   "source": [
    "# Stored classification report for comparison\n",
    "logreg_trigram_cr = classification_report(y, logreg_trigram_yhat, output_dict=True)"
   ]
  },
  {
   "cell_type": "code",
   "execution_count": 40,
   "metadata": {},
   "outputs": [],
   "source": [
    "# Save model for future use\n",
    "with open('sw_logreg_trigram_model.pkl', 'wb') as files:\n",
    "    joblib.dump(logreg_trigram_pipe, files)"
   ]
  },
  {
   "cell_type": "markdown",
   "metadata": {},
   "source": [
    "##### Single Words, Bi-Grams & Tri-Grams"
   ]
  },
  {
   "cell_type": "code",
   "execution_count": 41,
   "metadata": {},
   "outputs": [
    {
     "name": "stdout",
     "output_type": "stream",
     "text": [
      "0.8822343784592196\n"
     ]
    },
    {
     "data": {
      "image/png": "[encoded data removed]",
      "text/plain": [
       "<Figure size 432x288 with 2 Axes>"
      ]
     },
     "metadata": {
      "needs_background": "light"
     },
     "output_type": "display_data"
    }
   ],
   "source": [
    "# Instantiate the LR Pipeline with clean text, bi-grams and tri-grams\n",
    "logreg_allgram_pipe = ImPipeline(steps=[\n",
    "                ('CT', ColumnTransformer([(x, TfidfVectorizer(), x) for x in ['text_cleaned',\n",
    "                                                                              'bigrams',\n",
    "                                                                              'trigrams']\n",
    "                                         ])),                             \n",
    "                ('lr', LogisticRegression(n_jobs=-2))\n",
    "]\n",
    ")\n",
    "\n",
    "\n",
    "# Fit Logistic Regression pipeline on the training data, get predictions and plot confusion matrix\n",
    "logreg_allgram_pipe.fit(X_allgrams, y)\n",
    "logreg_allgram_yhat = logreg_allgram_pipe.predict(X_allgrams)\n",
    "plot_confusion_matrix(logreg_allgram_pipe, X_allgrams, y, normalize='true');\n",
    "print(accuracy_score(y, logreg_allgram_yhat))"
   ]
  },
  {
   "cell_type": "code",
   "execution_count": 42,
   "metadata": {},
   "outputs": [
    {
     "name": "stdout",
     "output_type": "stream",
     "text": [
      "{'fit_time': array([489.09044623, 494.07887387, 492.28652906, 497.07662392,\n",
      "       489.62351203]), 'score_time': array([82.347049  , 82.07308221, 81.52572584, 79.68450117, 79.53372598]), 'test_score': array([0.87147169, 0.87062011, 0.87127567, 0.8717604 , 0.87118956])}\n"
     ]
    }
   ],
   "source": [
    "# Obtained cross-validated accuracy score\n",
    "logreg_allgram_cv = cross_validate(logreg_allgram_pipe, X_allgrams, y)\n",
    "print(logreg_allgram_cv)"
   ]
  },
  {
   "cell_type": "code",
   "execution_count": 43,
   "metadata": {},
   "outputs": [
    {
     "name": "stdout",
     "output_type": "stream",
     "text": [
      "0.8712634871661269\n"
     ]
    }
   ],
   "source": [
    "# Print cross-validated mean accuracy score & add to model performance dictionary\n",
    "print(logreg_allgram_cv['test_score'].mean())\n",
    "mod_perf['logreg_allgrams'] = logreg_allgram_cv['test_score'].mean()"
   ]
  },
  {
   "cell_type": "code",
   "execution_count": 44,
   "metadata": {},
   "outputs": [],
   "source": [
    "# Stored classification report for comparison\n",
    "logreg_allgram_cr = classification_report(y, logreg_allgram_yhat, output_dict=True)"
   ]
  },
  {
   "cell_type": "code",
   "execution_count": 45,
   "metadata": {},
   "outputs": [],
   "source": [
    "# Save model for future use\n",
    "with open('sw_logreg_allgram_model.pkl', 'wb') as files:\n",
    "    joblib.dump(logreg_allgram_pipe, files)"
   ]
  },
  {
   "cell_type": "markdown",
   "metadata": {},
   "source": [
    "### Linear Support Vector Machine - Stochastic Gradient Descent\n",
    "Stochastic gradient descent is another technique that is very common in natural language processing due to its efficiency. Rather than calculating the gradient at each iteration using every observation in the dataset, it selects one observation at random for each step, drastically reducing the computational requirements. It uses linear models, similar to logistic regression, but performs gradient descent in a random (Stochastic) manner. It also works very well with sparse data, which makes it a natural fit for NLP. Given the size of my dataset, efficiency is very valuable and so SGD was a natural next step."
   ]
  },
  {
   "cell_type": "code",
   "execution_count": 46,
   "metadata": {},
   "outputs": [
    {
     "name": "stdout",
     "output_type": "stream",
     "text": [
      "0.8517450508766574\n"
     ]
    },
    {
     "data": {
      "image/png": "[encoded data removed]",
      "text/plain": [
       "<Figure size 432x288 with 2 Axes>"
      ]
     },
     "metadata": {
      "needs_background": "light"
     },
     "output_type": "display_data"
    }
   ],
   "source": [
    "# Instantiate the SGDC Classifier pipeline\n",
    "sgdc_pipe = ImPipeline(steps=[\n",
    "                            ('vect', TfidfVectorizer()),\n",
    "                            ('cf', SGDClassifier(random_state=42))\n",
    "                            ]\n",
    ")\n",
    "\n",
    "#Fit SGDC pipe on the training data, get predictions and plot confusion matrix\n",
    "sgdc_pipe.fit(X, y)\n",
    "sgdc_yhat = sgdc_pipe.predict(X)\n",
    "plot_confusion_matrix(sgdc_pipe, X, y, normalize='true');\n",
    "print(accuracy_score(y, sgdc_yhat))"
   ]
  },
  {
   "cell_type": "code",
   "execution_count": 47,
   "metadata": {},
   "outputs": [
    {
     "name": "stdout",
     "output_type": "stream",
     "text": [
      "{'fit_time': array([71.60417295, 71.87110615, 71.77728367, 71.67054367, 73.97509789]), 'score_time': array([15.48146725, 15.35006309, 15.32556605, 15.92800689, 16.32239199]), 'test_score': array([0.84946465, 0.84980611, 0.8513714 , 0.85151723, 0.85146306])}\n"
     ]
    }
   ],
   "source": [
    "# Obtained cross-validated accuracy score\n",
    "sgdc_cv = cross_validate(sgdc_pipe, X, y)\n",
    "print(sgdc_cv)"
   ]
  },
  {
   "cell_type": "markdown",
   "metadata": {},
   "source": [
    "- 'fit_time': array([70.02949595, 70.80230594, 70.30221891, 70.43828201, 70.43610787])\n",
    "- 'score_time': array([14.75940609, 14.66371202, 14.59122682, 14.39158106, 14.41444707])\n",
    "- 'test_score': array([0.84893944, 0.84923944, 0.85029202, 0.85031702, 0.85053785])"
   ]
  },
  {
   "cell_type": "code",
   "execution_count": 48,
   "metadata": {},
   "outputs": [
    {
     "name": "stdout",
     "output_type": "stream",
     "text": [
      "0.8507244902847655\n"
     ]
    }
   ],
   "source": [
    "# Print cross-validated mean accuracy score & add to model performance dictionary\n",
    "print(sgdc_cv['test_score'].mean())\n",
    "mod_perf['sgdc_1grams'] = sgdc_cv['test_score'].mean()"
   ]
  },
  {
   "cell_type": "code",
   "execution_count": 49,
   "metadata": {},
   "outputs": [],
   "source": [
    "# Stored classification report for comparison\n",
    "sgdc_cr = classification_report(y, sgdc_yhat, output_dict=True)"
   ]
  },
  {
   "cell_type": "code",
   "execution_count": 50,
   "metadata": {},
   "outputs": [],
   "source": [
    "# Save pickled model\n",
    "with open ('sw_sgdc_base.pkl', 'wb') as files:\n",
    "    joblib.dump(sgdc_pipe, files)"
   ]
  },
  {
   "cell_type": "markdown",
   "metadata": {},
   "source": [
    "#### Using N-grams as Features \n",
    "To see if I could improve on the model's performance over using single words, I tried giving it bi-grams and tri-grams as additional features. Ultimately, the model realized a small accuracy gain of 0.0062 by showing it bi-grams and tri-grams in addition to single words. The sgd classifier did not outperform logistic regression with the settings used."
   ]
  },
  {
   "cell_type": "markdown",
   "metadata": {},
   "source": [
    "##### Single Words & Bi-Grams"
   ]
  },
  {
   "cell_type": "code",
   "execution_count": 51,
   "metadata": {},
   "outputs": [
    {
     "name": "stdout",
     "output_type": "stream",
     "text": [
      "0.8566650768434612\n"
     ]
    },
    {
     "data": {
      "image/png": "[encoded data removed]",
      "text/plain": [
       "<Figure size 432x288 with 2 Axes>"
      ]
     },
     "metadata": {
      "needs_background": "light"
     },
     "output_type": "display_data"
    }
   ],
   "source": [
    "# Instantiate the SGDC pipeline with cleaned text and bi-grams\n",
    "sgdc_bigrams_pipe = ImPipeline(steps=[\n",
    "                ('CT', ColumnTransformer([(x, TfidfVectorizer(), x) for x in ['text_cleaned',\n",
    "                                                                              'bigrams']\n",
    "                                         ])),\n",
    "                ('cf', SGDClassifier(random_state=42))\n",
    "]\n",
    ")\n",
    "\n",
    "# Fit SGDC pipe on the training data, get predictions and plot confusion matrix\n",
    "sgdc_bigrams_pipe.fit(X_bigrams, y)\n",
    "sgdc_bigrams_yhat = sgdc_bigrams_pipe.predict(X_bigrams)\n",
    "plot_confusion_matrix(sgdc_bigrams_pipe, X_bigrams, y, normalize='true');\n",
    "print(accuracy_score(y, sgdc_bigrams_yhat))"
   ]
  },
  {
   "cell_type": "code",
   "execution_count": 52,
   "metadata": {},
   "outputs": [
    {
     "name": "stdout",
     "output_type": "stream",
     "text": [
      "{'fit_time': array([196.46975899, 196.28581977, 197.05569577, 197.68176627,\n",
      "       197.94330382]), 'score_time': array([43.65220499, 43.01963425, 42.78643703, 42.58723783, 42.24030423]), 'test_score': array([0.85462162, 0.85441447, 0.85587281, 0.85611448, 0.85577281])}\n"
     ]
    }
   ],
   "source": [
    "sgdc_bigrams_cv = cross_validate(sgdc_bigrams_pipe, X_bigrams, y)\n",
    "print(sgdc_bigrams_cv)"
   ]
  },
  {
   "cell_type": "code",
   "execution_count": 53,
   "metadata": {},
   "outputs": [
    {
     "name": "stdout",
     "output_type": "stream",
     "text": [
      "0.8553592368230889\n"
     ]
    }
   ],
   "source": [
    "# Print cross-validated mean accuracy score & add to model performance dictionary\n",
    "print(sgdc_bigrams_cv['test_score'].mean())\n",
    "mod_perf['sgdc_2grams'] = sgdc_bigrams_cv['test_score'].mean()"
   ]
  },
  {
   "cell_type": "code",
   "execution_count": 54,
   "metadata": {},
   "outputs": [],
   "source": [
    "# Stored classification report for comparison\n",
    "sgdc_bigrams_cr = classification_report(y, sgdc_bigrams_yhat, output_dict=True)"
   ]
  },
  {
   "cell_type": "markdown",
   "metadata": {},
   "source": [
    "##### Single Words & Tri-Grams"
   ]
  },
  {
   "cell_type": "code",
   "execution_count": 55,
   "metadata": {},
   "outputs": [
    {
     "name": "stdout",
     "output_type": "stream",
     "text": [
      "0.8558317391119564\n"
     ]
    },
    {
     "data": {
      "image/png": "[encoded data removed]",
      "text/plain": [
       "<Figure size 432x288 with 2 Axes>"
      ]
     },
     "metadata": {
      "needs_background": "light"
     },
     "output_type": "display_data"
    }
   ],
   "source": [
    "# Instantiate the SGDC pipeline with clean text and tri-grams\n",
    "sgdc_trigrams_pipe = ImPipeline(steps=[\n",
    "                ('CT', ColumnTransformer([(x, TfidfVectorizer(), x) for x in ['text_cleaned',\n",
    "                                                                              'trigrams']\n",
    "                                                             ])),                             \n",
    "                ('cf', SGDClassifier(random_state=42))\n",
    "]\n",
    ")\n",
    "\n",
    "# Fit SGDC pipe on the training data, get predictions and plot confusion matrix\n",
    "sgdc_trigrams_pipe.fit(X_trigrams, y)\n",
    "sgdc_trigrams_yhat = sgdc_trigrams_pipe.predict(X_trigrams)\n",
    "plot_confusion_matrix(sgdc_trigrams_pipe, X_trigrams, y, normalize='true');\n",
    "print(accuracy_score(y, sgdc_trigrams_yhat))"
   ]
  },
  {
   "cell_type": "code",
   "execution_count": 56,
   "metadata": {},
   "outputs": [
    {
     "name": "stdout",
     "output_type": "stream",
     "text": [
      "{'fit_time': array([230.73132014, 232.96319723, 240.65783072, 245.21030283,\n",
      "       245.826056  ]), 'score_time': array([52.29956698, 52.37887287, 54.26529217, 52.50482821, 53.23976803]), 'test_score': array([0.85372578, 0.85357141, 0.85502281, 0.85525475, 0.85490336])}\n"
     ]
    }
   ],
   "source": [
    "sgdc_trigrams_cv = cross_validate(sgdc_trigrams_pipe, X_trigrams, y)\n",
    "print(sgdc_trigrams_cv)"
   ]
  },
  {
   "cell_type": "code",
   "execution_count": 57,
   "metadata": {},
   "outputs": [
    {
     "name": "stdout",
     "output_type": "stream",
     "text": [
      "0.8544956211629566\n"
     ]
    }
   ],
   "source": [
    "# Print cross-validated mean accuracy score & add to model performance dictionary\n",
    "print(sgdc_trigrams_cv['test_score'].mean())\n",
    "mod_perf['sgdc_3grams'] = sgdc_trigrams_cv['test_score'].mean()"
   ]
  },
  {
   "cell_type": "code",
   "execution_count": 58,
   "metadata": {},
   "outputs": [],
   "source": [
    "# Stored classification report for comparison\n",
    "sgdc_trigrams_cr = classification_report(y, sgdc_trigrams_yhat, output_dict=True)"
   ]
  },
  {
   "cell_type": "markdown",
   "metadata": {},
   "source": [
    "##### Single Words, Bi-Grams & Tri-Grams"
   ]
  },
  {
   "cell_type": "code",
   "execution_count": 62,
   "metadata": {},
   "outputs": [
    {
     "name": "stdout",
     "output_type": "stream",
     "text": [
      "0.8585356422714453\n"
     ]
    },
    {
     "data": {
      "image/png": "[encoded data removed]",
      "text/plain": [
       "<Figure size 432x288 with 2 Axes>"
      ]
     },
     "metadata": {
      "needs_background": "light"
     },
     "output_type": "display_data"
    }
   ],
   "source": [
    "# Instantiate the SGDC pipeline with clean text, bi-grams and tri-grams\n",
    "sgdc_allgrams_pipe = ImPipeline(steps=[\n",
    "                ('CT', ColumnTransformer([(x, TfidfVectorizer(), x) for x in ['text_cleaned',\n",
    "                                                                              'bigrams',\n",
    "                                                                              'trigrams']\n",
    "                                                             ])),                             \n",
    "                ('cf', SGDClassifier(random_state=42))\n",
    "]\n",
    ")\n",
    "\n",
    "# Fit SGDC pipe on the training data, get predictions and plot confusion matrix\n",
    "sgdc_allgrams_pipe.fit(X_allgrams, y)\n",
    "sgdc_allgrams_yhat = sgdc_allgrams_pipe.predict(X_allgrams)\n",
    "plot_confusion_matrix(sgdc_allgrams_pipe, X_allgrams, y, normalize='true');\n",
    "print(accuracy_score(y, sgdc_allgrams_yhat))"
   ]
  },
  {
   "cell_type": "code",
   "execution_count": 63,
   "metadata": {},
   "outputs": [
    {
     "name": "stdout",
     "output_type": "stream",
     "text": [
      "{'fit_time': array([362.63283992, 359.40279484, 354.29417205, 354.11182594,\n",
      "       358.57265306]), 'score_time': array([80.95219731, 80.20839405, 78.64608598, 77.95393395, 79.44217229]), 'test_score': array([0.85646329, 0.85610198, 0.85739365, 0.85773393, 0.85714921])}\n"
     ]
    }
   ],
   "source": [
    "# Obtained cross-validated accuracy score\n",
    "sgdc_allgrams_cv = cross_validate(sgdc_allgrams_pipe, X_allgrams, y)\n",
    "print(sgdc_allgrams_cv)"
   ]
  },
  {
   "cell_type": "code",
   "execution_count": 64,
   "metadata": {},
   "outputs": [
    {
     "name": "stdout",
     "output_type": "stream",
     "text": [
      "0.856968411918041\n"
     ]
    }
   ],
   "source": [
    "# Print cross-validated mean accuracy score & add to model performance dictionary\n",
    "print(sgdc_allgrams_cv['test_score'].mean())\n",
    "mod_perf['sgdc_allgrams'] = sgdc_allgrams_cv['test_score'].mean()"
   ]
  },
  {
   "cell_type": "code",
   "execution_count": 65,
   "metadata": {},
   "outputs": [],
   "source": [
    "# Stored classification report for comparison\n",
    "sgdc_allgrams_cr = classification_report(y, sgdc_allgrams_yhat, output_dict=True)"
   ]
  },
  {
   "cell_type": "code",
   "execution_count": 66,
   "metadata": {},
   "outputs": [],
   "source": [
    "# Save pickled model\n",
    "with open ('sw_sgdc_allgrams.pkl', 'wb') as files:\n",
    "    joblib.dump(sgdc_allgrams_pipe, files)"
   ]
  },
  {
   "cell_type": "markdown",
   "metadata": {},
   "source": [
    "#### Visualizing Model Performance"
   ]
  },
  {
   "cell_type": "code",
   "execution_count": 67,
   "metadata": {},
   "outputs": [],
   "source": [
    "# Create dataframe of model performance using the mod_perf dictionary\n",
    "mod_perf_df = pd.DataFrame.from_dict(mod_perf, orient='index')\n",
    "mod_perf_df.reset_index(inplace=True)\n",
    "mod_perf_df.columns = ['model', 'accuracy']\n",
    "\n",
    "# Save model performance to disk for future use, given long execution time for the notebook.\n",
    "mod_perf_df.to_csv('../data/model_performance.csv')"
   ]
  },
  {
   "cell_type": "code",
   "execution_count": 68,
   "metadata": {},
   "outputs": [
    {
     "data": {
      "text/plain": [
       "{'mnb_1grams': 0.8133451245965816,\n",
       " 'mnb_2grams': 0.811617615490823,\n",
       " 'mnb_3grams': 0.8102226081219566,\n",
       " 'mnb_allgrams': 0.8099084397920866,\n",
       " 'logreg_1grams': 0.8698268129755006,\n",
       " 'logreg_2grams': 0.8702684818910214,\n",
       " 'logreg_3grams': 0.871421821338585,\n",
       " 'logreg_allgrams': 0.8712634871661269,\n",
       " 'sgdc_1grams': 0.8507244902847655,\n",
       " 'sgdc_2grams': 0.8553592368230889,\n",
       " 'sgdc_3grams': 0.8544956211629566,\n",
       " 'sgdc_allgrams': 0.856968411918041}"
      ]
     },
     "execution_count": 68,
     "metadata": {},
     "output_type": "execute_result"
    }
   ],
   "source": [
    "mod_perf"
   ]
  },
  {
   "cell_type": "code",
   "execution_count": 69,
   "metadata": {},
   "outputs": [
    {
     "data": {
      "image/png": "[encoded data removed]",
      "text/plain": [
       "<Figure size 720x720 with 1 Axes>"
      ]
     },
     "metadata": {
      "needs_background": "light"
     },
     "output_type": "display_data"
    }
   ],
   "source": [
    "# Visualization of Model Perforamnce\n",
    "\n",
    "# Read model performance from csv\n",
    "mod_perf_df = pd.read_csv('../data/model_performance.csv', index_col=0)\n",
    "\n",
    "# Set custom colorblind-friendly colors\n",
    "colors = [[86/255,180/255,233/255], [86/255,180/255,233/255], [86/255,180/255,233/255],\n",
    "         [86/255,180/255,233/255], [86/255,180/255,233/255], [86/255,180/255,233/255],\n",
    "         [0,158/255,115/255], [86/255,180/255,233/255], [86/255,180/255,233/255],\n",
    "         [86/255,180/255,233/255], [86/255,180/255,233/255], [86/255,180/255,233/255]]\n",
    "\n",
    "# Plot Bar Graph\n",
    "fig, ax = plt.subplots(figsize=(10,10))\n",
    "plt.style.use('fivethirtyeight')\n",
    "plt.rcParams.update({'font.size': 13})\n",
    "plt.axis([None, None, 0.8, 0.88])\n",
    "\n",
    "ax.bar(mod_perf_df['model'], mod_perf_df['accuracy'], color=colors)\n",
    "ax.set_title('Model Performance by Cross-validated Accuracy Score')\n",
    "ax.set_ylabel('Accuracy Score (%)', labelpad=10)\n",
    "ax.set_xlabel('Model Variety', labelpad=10)\n",
    "ax.set_yticklabels(labels = ['80', '81', '82', '83', '84', '85', '86', '87', '88'])\n",
    "ax.tick_params(axis=\"x\", rotation=90)\n",
    "plt.tight_layout()\n",
    "\n",
    "# Save figure to file for use in presentation\n",
    "plt.savefig('../images/model_performance.png', dpi=500)"
   ]
  },
  {
   "cell_type": "markdown",
   "metadata": {},
   "source": [
    "## Final Model Evaluation\n",
    "The logistic regression model that trained on a combination of 1-grams and 3-grams had the highest accuracy score, so I selected it as the appropriate model for this task. The model's accuracy was only very slightly (0.002) better than a similarly-configured model that received 1-grams, 2-grams and 3-grams. However slight the margin, when combined with the fact that it requires significantly less data and therefore a shorter cleaning process, its superiority becomes clear.\n",
    "\n",
    "The model appears to generalize quite well, as it produced an accuracy score of 87.15% on completely unseen data, as compared to cross-validated accuracy of 87% on the training data. It correctly classified 88% of positive reviews and 87% of negative reviews in the test data, suggesting that it is slightly more accurate at determining positive sentiment than negative sentiment. The model avoids significant weaknesses with false positives or negatives, and significantly reduces the number of reviews that would require human review in a real-world setting. Particularly for sellers that wish to set up their own online storefront, the model’s efficiency is highly appealing.\n",
    "\n",
    "The primary weakness of my model lies in its performance relative to more sophisticated NLP algorithms. There are a number of highly accurate classifiers available, and NLP as a field is advancing rapidly. However, more advanced techniques can require compute resources that may not be available to small sellers for budgetary or technical literacy reasons. My model is small enough to be deployed in a web application for easy upload/download of customer reviews and classification. It could be improved upon by a large marketplace with the financial and technical resources to tune its hyperparameters, though it is likely that an organization with those resources could implement a more sophisticated and accurate model."
   ]
  },
  {
   "cell_type": "markdown",
   "metadata": {},
   "source": [
    "### Prepare Test Data\n",
    "The process below follows the same process as the training data."
   ]
  },
  {
   "cell_type": "code",
   "execution_count": 70,
   "metadata": {},
   "outputs": [],
   "source": [
    "# Read in the test data\n",
    "df_test = pd.read_csv('../data/test_cleaned_10sw.csv', index_col=0)"
   ]
  },
  {
   "cell_type": "code",
   "execution_count": 71,
   "metadata": {},
   "outputs": [
    {
     "name": "stdout",
     "output_type": "stream",
     "text": [
      "sentiment       0\n",
      "text            0\n",
      "text_cleaned    3\n",
      "bigrams         0\n",
      "trigrams        0\n",
      "dtype: int64\n"
     ]
    },
    {
     "data": {
      "text/html": [
       "<div>\n",
       "<style scoped>\n",
       "    .dataframe tbody tr th:only-of-type {\n",
       "        vertical-align: middle;\n",
       "    }\n",
       "\n",
       "    .dataframe tbody tr th {\n",
       "        vertical-align: top;\n",
       "    }\n",
       "\n",
       "    .dataframe thead th {\n",
       "        text-align: right;\n",
       "    }\n",
       "</style>\n",
       "<table border=\"1\" class=\"dataframe\">\n",
       "  <thead>\n",
       "    <tr style=\"text-align: right;\">\n",
       "      <th></th>\n",
       "      <th>sentiment</th>\n",
       "      <th>text</th>\n",
       "      <th>text_cleaned</th>\n",
       "      <th>bigrams</th>\n",
       "      <th>trigrams</th>\n",
       "    </tr>\n",
       "  </thead>\n",
       "  <tbody>\n",
       "    <tr>\n",
       "      <th>132765</th>\n",
       "      <td>2</td>\n",
       "      <td>good good good good good good good good good g...</td>\n",
       "      <td>NaN</td>\n",
       "      <td>[]</td>\n",
       "      <td>[]</td>\n",
       "    </tr>\n",
       "    <tr>\n",
       "      <th>328805</th>\n",
       "      <td>2</td>\n",
       "      <td>good good good good good good good good good g...</td>\n",
       "      <td>NaN</td>\n",
       "      <td>[]</td>\n",
       "      <td>[]</td>\n",
       "    </tr>\n",
       "    <tr>\n",
       "      <th>369851</th>\n",
       "      <td>2</td>\n",
       "      <td>&amp;#26379;&amp;#21451; &amp;#24478;&amp;#32654; &amp;#22283; &amp;#2...</td>\n",
       "      <td>NaN</td>\n",
       "      <td>[]</td>\n",
       "      <td>[]</td>\n",
       "    </tr>\n",
       "  </tbody>\n",
       "</table>\n",
       "</div>"
      ],
      "text/plain": [
       "        sentiment                                               text  \\\n",
       "132765          2  good good good good good good good good good g...   \n",
       "328805          2  good good good good good good good good good g...   \n",
       "369851          2  &#26379;&#21451; &#24478;&#32654; &#22283; &#2...   \n",
       "\n",
       "       text_cleaned bigrams trigrams  \n",
       "132765          NaN      []       []  \n",
       "328805          NaN      []       []  \n",
       "369851          NaN      []       []  "
      ]
     },
     "execution_count": 71,
     "metadata": {},
     "output_type": "execute_result"
    }
   ],
   "source": [
    "# Find & Display any NaN values for cleaned text -- in this case, \n",
    "print(df_test.isna().sum())\n",
    "df_test[df_test['text_cleaned'].isna()]"
   ]
  },
  {
   "cell_type": "code",
   "execution_count": 72,
   "metadata": {},
   "outputs": [],
   "source": [
    "# Drop the single NaN row\n",
    "df_test.dropna(inplace=True)"
   ]
  },
  {
   "cell_type": "code",
   "execution_count": 73,
   "metadata": {},
   "outputs": [],
   "source": [
    "# Save off feature combinations as required for use in the final model.\n",
    "X_test_trigrams = df_test[['text_cleaned', 'trigrams']]\n",
    "y_test = df_test['sentiment']"
   ]
  },
  {
   "cell_type": "markdown",
   "metadata": {},
   "source": [
    "### Load & Score Final Model"
   ]
  },
  {
   "cell_type": "code",
   "execution_count": 74,
   "metadata": {},
   "outputs": [],
   "source": [
    "# Load best-performing model from file\n",
    "with open('sw_logreg_trigram_model.pkl', 'rb') as f:\n",
    "    logreg_trigram_pipe = joblib.load(f)"
   ]
  },
  {
   "cell_type": "code",
   "execution_count": 75,
   "metadata": {},
   "outputs": [
    {
     "name": "stdout",
     "output_type": "stream",
     "text": [
      "0.8715415365615242\n"
     ]
    },
    {
     "data": {
      "image/png": "[encoded data removed]",
      "text/plain": [
       "<Figure size 640x480 with 2 Axes>"
      ]
     },
     "metadata": {},
     "output_type": "display_data"
    }
   ],
   "source": [
    "# Score the final model on the test data & plot confusion matrix\n",
    "print(logreg_trigram_pipe.score(X_test_trigrams, y_test))\n",
    "plt.style.use('default')\n",
    "plot_confusion_matrix(logreg_trigram_pipe, X_test_trigrams, y_test, normalize='true');"
   ]
  },
  {
   "cell_type": "code",
   "execution_count": 76,
   "metadata": {},
   "outputs": [
    {
     "name": "stdout",
     "output_type": "stream",
     "text": [
      "              precision    recall  f1-score   support\n",
      "\n",
      "           1       0.87      0.88      0.87    200000\n",
      "           2       0.87      0.87      0.87    199997\n",
      "\n",
      "    accuracy                           0.87    399997\n",
      "   macro avg       0.87      0.87      0.87    399997\n",
      "weighted avg       0.87      0.87      0.87    399997\n",
      "\n"
     ]
    }
   ],
   "source": [
    "# Make predictions and print classification report for visual inspection\n",
    "yhat_test = logreg_trigram_pipe.predict(X_test_trigrams)\n",
    "print(classification_report(y_test, yhat_test))"
   ]
  },
  {
   "cell_type": "markdown",
   "metadata": {},
   "source": [
    "Let's see how it does on text from another source. The below dataset came from XXXX and was cleaned using the same methodology as the train/test data."
   ]
  },
  {
   "cell_type": "markdown",
   "metadata": {},
   "source": [
    "XXXX"
   ]
  },
  {
   "cell_type": "markdown",
   "metadata": {},
   "source": [
    "## Conclusion\n",
    "The model was able to achieve solid accuracy scores and improve upon the baseline MNB model with limited tuning and a reasonable train time. The performance is thanks largely to the quality, size and balance of the dataset. I would recommend the model to businesses wishing to create their own storefronts in order to avoid rating inflation problems down the road. It has proven to be very accurate at classifying review sentiment, and it is relatively easy to identify a list of incorrect predictions with basic python that could be inspected by a human.\n",
    "\n",
    "The model is likely less suited for large-scale deployment by Amazon or a similar marketplace, as there are superior options that exist, and large marketplaces have the resources to support the computational demands of more sophisticated models. In the case of Amazon, it’s likely to be cost-efficient to develop their own classifier that is constantly training on new user reviews as they happen. \n",
    "\n",
    "### Further Development\n",
    "The next step in the project will be to refactor the cleaning & training code to be utilized in a web application. I envision the application providing a way for sellers that have previously used a storefront like Amazon or Rakuten to upload all of their review data and have it classified before leaving the site. Amazon famously does not provide an api for review data, so it will be up to the business to gather the data themselves. This functionality would help a business efficiently classify product sentiment at the time of transition, and form a baseline for their understanding to build from. \n",
    "\n",
    "From a legal perspective, a business would need written permission from each review author in order to actually transfer the reviews. That process will be horribly inefficient and likely not worth the trouble, especially for heavily-reviewed products. My tool provides a partial solution by helping businesses understand with a high degree of accuracy the proportion of their reviews that are actually positive or negative before transitioning away from the larger marketplace.\n",
    "\n"
   ]
  },
  {
   "cell_type": "code",
   "execution_count": null,
   "metadata": {},
   "outputs": [],
   "source": []
  }
 ],
 "metadata": {
  "kernelspec": {
   "display_name": "Python (spark-cap-env)",
   "language": "python",
   "name": "spark-cap-env"
  },
  "language_info": {
   "codemirror_mode": {
    "name": "ipython",
    "version": 3
   },
   "file_extension": ".py",
   "mimetype": "text/x-python",
   "name": "python",
   "nbconvert_exporter": "python",
   "pygments_lexer": "ipython3",
   "version": "3.8.13"
  }
 },
 "nbformat": 4,
 "nbformat_minor": 4
}
