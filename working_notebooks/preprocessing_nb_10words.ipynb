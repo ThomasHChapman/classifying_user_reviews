{
 "cells": [
  {
   "cell_type": "markdown",
   "metadata": {},
   "source": [
    "![](./images/banner.jpeg)\n",
    "Photo by <a href=\"https://unsplash.com/@towfiqu999999?utm_source=unsplash&utm_medium=referral&utm_content=creditCopyText\">Towfiqu barbhuiya</a> on <a href=\"https://unsplash.com/s/photos/customer-ratings?utm_source=unsplash&utm_medium=referral&utm_content=creditCopyText\">Unsplash</a>\n",
    "  \n",
    "# I HATE this Product! Five Stars!\n",
    "### Reducing Rating Inflation Using NLP\n",
    "Author: Tom Chapman | [email](mailto:thomas.h.chapman@gmail.com) | [linkedin](https://www.linkedin.com/in/thomashchapman/) | [github](https://github.com/ThomasHChapman)\n",
    "\n",
    "Most online marketplaces use 5-star product rating systems which are prone to rating inflation, obscuring product quality and customer sentiment. In addition to being problematic for the consumer, rating inflation makes it difficult for sellers to parse customer feedback and understand how their products are being received by the public. My project uses natural language processing to train a model on review sentiment so that it can be used to accurately classify customer reviews based on their content.\n",
    "\n",
    "\n",
    "## Business Understanding\n",
    "Since their inception, online marketplaces have fundamentally shifted how consumers shop. With a near limitless number of products and services available online, it has never been easier to avoid the hassle of brick-and-mortar stores. However, identifying which products or services are high-quality has become increasingly difficult. The popularity of the 5-star rating scale has led to a number of well-documented challenges. [Harvard Business Review](https://hbr.org/2019/07/the-problems-with-5-star-rating-systems-and-how-to-fix-them) summed these challenges up nicely as follows:\n",
    "\n",
    "- There is little incentive for consumers to provide truthful feedback, meaning that extreme experiences (whether positive or negative) are much more likely to lead a consumer to leave a review.\n",
    "- Compounding the lack of incentive for truth, 5-star rating scales are prone to grade inflation. There is no correlation between the star-rating and the sentiment the user expresses in a review. It's possible (and surprisingly common) for a user to hate a product, excoriate it in a review, and then rate it 5-stars. This leads to inflated ratings, and makes it harder for the consumer to understand the meaning behind varied product ratings. How much better is a product with a 4.7 star rating than a 4.5 star average rating?\n",
    "My model is intended to help address rating inflation by classifying user feedback as positive or negative based on its content.\n",
    "\n",
    "Amazon is the largest online marketplace currently in existence, and its challenges with rating inflation are [common knowledge](https://www.nytimes.com/2021/06/18/technology/amazon-reviews.html). However, any marketplace that uses a five-star rating system (Google Play, Apple App Store, Chewy, Wal-mart, Etsy, Rakuten, etc.) can utilize my model to reclassify user reviews into positive or negative polarity. Offering customers a clearer display of product quality allows customers to make more informed purchases, and should drive improved satisfaction. It should also help mitigate poor quality or scam sellers inherently, as poor reviews are less likely to be drowned out by inflated ratings.\n",
    "\n",
    "The tool is also useful for sellers that want to move away from Amazon or implement their own storefront. By implementing my algorithm in a newly-created storefront, sellers can mostly automate the classification of consumer feedback and derive a more accurate understanding of how their products or services are being received. On average, Amazon sellers pay the website about 15% of their sale price on each item sold. There's no question the visibility and customer reach that Amazon provides is valuable, but 15% is an extremely hefty cost for small companies. For certain product categories, the cost per item can range as high as 45%, an enormous amount to pay simply for the storefront component of the site."
   ]
  },
  {
   "cell_type": "code",
   "execution_count": 298,
   "metadata": {},
   "outputs": [],
   "source": [
    "# Package Imports\n",
    "import pandas as pd\n",
    "import re\n",
    "import numpy as np\n",
    "import matplotlib.pyplot as plt\n",
    "from matplotlib.ticker import MaxNLocator\n",
    "\n",
    "import nltk\n",
    "from nltk.corpus import stopwords, wordnet\n",
    "from nltk import pos_tag, FreqDist\n",
    "from nltk.stem import WordNetLemmatizer\n",
    "from nltk.tokenize import RegexpTokenizer\n",
    "from nltk.util import ngrams\n",
    "\n",
    "import warnings\n",
    "warnings.filterwarnings('ignore')"
   ]
  },
  {
   "cell_type": "code",
   "execution_count": 299,
   "metadata": {},
   "outputs": [
    {
     "name": "stderr",
     "output_type": "stream",
     "text": [
      "[nltk_data] Downloading package omw-1.4 to /Users/tom/nltk_data...\n",
      "[nltk_data]   Package omw-1.4 is already up-to-date!\n"
     ]
    },
    {
     "data": {
      "text/plain": [
       "True"
      ]
     },
     "execution_count": 299,
     "metadata": {},
     "output_type": "execute_result"
    }
   ],
   "source": [
    "nltk.download('omw-1.4')"
   ]
  },
  {
   "cell_type": "markdown",
   "metadata": {},
   "source": [
    "## Data Understanding\n",
    "The data used for training our models is a publicly-available dataset hosted by Kaggle. Users with a Kaggle account and API token already configued can execute the next cell to download the data directly. \n",
    "\n",
    "Users without a Kaggle account or that just want to access the data can download it from the [source page](https://www.kaggle.com/datasets/kritanjalijain/amazon-reviews?select=amazon_review_polarity_csv.tgz).\n",
    "\n",
    "The dataset is a subset of the Stanford Network Analysis Project (SNAP), which contains approximately 34 million Amazon reviews collected over a 13 year period. Our dataset consists of 1.8 million training samples in each polarity (positive or negative) and 200,000 validation samples in each polarity. The subset was created by labelling reviews that assigned a 1-2 star rating to the negative polarity, and reviews with a 4-5 star rating to the positive polarity. Ratings that gave 3 stars were omitted entirely.\n",
    "\n",
    "Because my goal is to train a classifier that will generalize well across different kinds of products, I chose a dataset that did not specialize in any one category. My hope is that this choice will drive greater accuracy on both Amazon reviews and reviews from other data sources."
   ]
  },
  {
   "cell_type": "code",
   "execution_count": 300,
   "metadata": {},
   "outputs": [],
   "source": [
    "# Users with a Kaggle account & API token can run this cell to download the data directly.\n",
    "# import kaggle\n",
    "# kaggle datasets download -d kritanjalijain/amazon-reviews"
   ]
  },
  {
   "cell_type": "code",
   "execution_count": 301,
   "metadata": {},
   "outputs": [
    {
     "data": {
      "text/html": [
       "<div>\n",
       "<style scoped>\n",
       "    .dataframe tbody tr th:only-of-type {\n",
       "        vertical-align: middle;\n",
       "    }\n",
       "\n",
       "    .dataframe tbody tr th {\n",
       "        vertical-align: top;\n",
       "    }\n",
       "\n",
       "    .dataframe thead th {\n",
       "        text-align: right;\n",
       "    }\n",
       "</style>\n",
       "<table border=\"1\" class=\"dataframe\">\n",
       "  <thead>\n",
       "    <tr style=\"text-align: right;\">\n",
       "      <th></th>\n",
       "      <th>sentiment</th>\n",
       "      <th>title</th>\n",
       "      <th>text</th>\n",
       "    </tr>\n",
       "  </thead>\n",
       "  <tbody>\n",
       "    <tr>\n",
       "      <th>0</th>\n",
       "      <td>2</td>\n",
       "      <td>Stuning even for the non-gamer</td>\n",
       "      <td>This sound track was beautiful! It paints the ...</td>\n",
       "    </tr>\n",
       "    <tr>\n",
       "      <th>1</th>\n",
       "      <td>2</td>\n",
       "      <td>The best soundtrack ever to anything.</td>\n",
       "      <td>I'm reading a lot of reviews saying that this ...</td>\n",
       "    </tr>\n",
       "    <tr>\n",
       "      <th>2</th>\n",
       "      <td>2</td>\n",
       "      <td>Amazing!</td>\n",
       "      <td>This soundtrack is my favorite music of all ti...</td>\n",
       "    </tr>\n",
       "    <tr>\n",
       "      <th>3</th>\n",
       "      <td>2</td>\n",
       "      <td>Excellent Soundtrack</td>\n",
       "      <td>I truly like this soundtrack and I enjoy video...</td>\n",
       "    </tr>\n",
       "    <tr>\n",
       "      <th>4</th>\n",
       "      <td>2</td>\n",
       "      <td>Remember, Pull Your Jaw Off The Floor After He...</td>\n",
       "      <td>If you've played the game, you know how divine...</td>\n",
       "    </tr>\n",
       "  </tbody>\n",
       "</table>\n",
       "</div>"
      ],
      "text/plain": [
       "   sentiment                                              title  \\\n",
       "0          2                     Stuning even for the non-gamer   \n",
       "1          2              The best soundtrack ever to anything.   \n",
       "2          2                                           Amazing!   \n",
       "3          2                               Excellent Soundtrack   \n",
       "4          2  Remember, Pull Your Jaw Off The Floor After He...   \n",
       "\n",
       "                                                text  \n",
       "0  This sound track was beautiful! It paints the ...  \n",
       "1  I'm reading a lot of reviews saying that this ...  \n",
       "2  This soundtrack is my favorite music of all ti...  \n",
       "3  I truly like this soundtrack and I enjoy video...  \n",
       "4  If you've played the game, you know how divine...  "
      ]
     },
     "execution_count": 301,
     "metadata": {},
     "output_type": "execute_result"
    }
   ],
   "source": [
    "# Read training data & assign column names\n",
    "df = pd.read_csv('../large_data/train.csv', names=['sentiment', 'title', 'text'])\n",
    "df.head()"
   ]
  },
  {
   "cell_type": "code",
   "execution_count": 302,
   "metadata": {},
   "outputs": [
    {
     "name": "stdout",
     "output_type": "stream",
     "text": [
      "<class 'pandas.core.frame.DataFrame'>\n",
      "RangeIndex: 3600000 entries, 0 to 3599999\n",
      "Data columns (total 3 columns):\n",
      " #   Column     Dtype \n",
      "---  ------     ----- \n",
      " 0   sentiment  int64 \n",
      " 1   title      object\n",
      " 2   text       object\n",
      "dtypes: int64(1), object(2)\n",
      "memory usage: 82.4+ MB\n"
     ]
    }
   ],
   "source": [
    "df.info()"
   ]
  },
  {
   "cell_type": "code",
   "execution_count": 303,
   "metadata": {},
   "outputs": [
    {
     "data": {
      "text/plain": [
       "sentiment     0\n",
       "title        77\n",
       "text          0\n",
       "dtype: int64"
      ]
     },
     "execution_count": 303,
     "metadata": {},
     "output_type": "execute_result"
    }
   ],
   "source": [
    "# Check for NaNs - Unimportant because we will not use the title column.\n",
    "df.isna().sum()"
   ]
  },
  {
   "cell_type": "code",
   "execution_count": 317,
   "metadata": {},
   "outputs": [
    {
     "data": {
      "image/png": "[encoded data removed]",
      "text/plain": [
       "<Figure size 720x720 with 1 Axes>"
      ]
     },
     "metadata": {},
     "output_type": "display_data"
    }
   ],
   "source": [
    "# Visualize sentiment frequency within the dataset\n",
    "plt.style.use('fivethirtyeight')\n",
    "plt.rcParams.update({'font.size': 13})\n",
    "\n",
    "fig, ax = plt.subplots(figsize=(10,10))\n",
    "plt.axis([None, None, .9, 1.8])\n",
    "plt.hist(df['sentiment'], color=[86/255,180/255,233/255])\n",
    "ax.set_title('Sentiment Distribution in Dataset')\n",
    "ax.set_ylabel('Number of Occurences (000s)',labelpad=10)\n",
    "ax.set_xlabel('Review Polarity')\n",
    "ax.set_xticklabels(labels = [None, 'Positive', None, None, None, None, 'Negative']);\n",
    "ax.set_yticklabels(labels = [None, '1,000', '1,100', '1,200', '1,300', '1,400', '1,500', '1,600', '1,700', '1,800']);\n",
    "plt.tight_layout()\n",
    "#plt.savefig('../images/sent_dist.png', dpi=500, facecolor='auto')"
   ]
  },
  {
   "cell_type": "markdown",
   "metadata": {},
   "source": [
    "As expected, the data is near-perfectly distributed between the two sentiment classes."
   ]
  },
  {
   "cell_type": "markdown",
   "metadata": {},
   "source": [
    "# Data Preprocessing"
   ]
  },
  {
   "cell_type": "markdown",
   "metadata": {},
   "source": [
    "Preprocessing is a critical piece of any NLP project.  They appear in order below, and perform the following tasks:\n",
    "\n",
    "**get_wordnet_pos** -- Translates the part of speech tags assigned by nltk into wordnet tags that can be utilized by the lemmatizer.\n",
    "\n",
    "**prepare_text** -- Main cleaner function. Performs the following tasks:\n",
    "- Performs tokenization using a defined regular expression. By default the expression is words of any length that start with a capital or lowercase letter, and end with a lowercase letter.\n",
    "- Converts all text to lowercase.\n",
    "- Removes stopwords.\n",
    "- Performs part of speech tagging and lemmatizes words.\n",
    "- Returns a string of tokens.\n",
    "\n",
    "**ngram_creator** -- Creates a list of tuples containing all possible n-grams in a text, where n is specified at runtime.\n",
    "\n",
    "**visualize_top_n** -- Creates a dictionary of the n most common words in a FrequencyDistribution object, and plots a bar graph of their frequency.\n",
    "\n",
    "**sw_finder** -- Returns a list of common words between two FrequencyDistribution Objects"
   ]
  },
  {
   "cell_type": "markdown",
   "metadata": {},
   "source": [
    "## Helper Functions\n",
    "Given the large size of the dataset, I created several helper functions to facilitate efficient text cleaning outside of the model pipelines prepared in the [modeling notebook](modeling_nb.ipynb)."
   ]
  },
  {
   "cell_type": "code",
   "execution_count": 99,
   "metadata": {},
   "outputs": [],
   "source": [
    "# POS-Tag Translator\n",
    "\n",
    "def get_wordnet_pos(treebank_tag):\n",
    "    '''\n",
    "    Translate nltk part of speech tags to wordnet tags that can be used by the lemmatizer.\n",
    "    '''\n",
    "    if treebank_tag.startswith('J'):\n",
    "        return wordnet.ADJ\n",
    "    elif treebank_tag.startswith('V'):\n",
    "        return wordnet.VERB\n",
    "    elif treebank_tag.startswith('N'):\n",
    "        return wordnet.NOUN\n",
    "    elif treebank_tag.startswith('R'):\n",
    "        return wordnet.ADV\n",
    "    else:\n",
    "        return wordnet.NOUN"
   ]
  },
  {
   "cell_type": "code",
   "execution_count": 136,
   "metadata": {},
   "outputs": [],
   "source": [
    "# Text Cleaner Function\n",
    "\n",
    "def prepare_text(text, sw=stopwords.words('english'), regex_pattern = \"([a-zA-Z]+(?:'[a-z]+)?)\"):\n",
    "    \"\"\"\n",
    "    Tokenize, standardize case, remove punctuation, perform part of speech tagging\n",
    "    and lemmatize text from string.\n",
    "    \n",
    "    By default, tokenization is performed using a regular expression that grabs words \n",
    "    that begin with a capital or lowercase letter and end with a lowercase letter.\n",
    "    \"\"\"\n",
    "    # Identify hyperlinks in the subject data & strip them out\n",
    "    # Credit to Prajwal @ https://gitlab.com/praj88/twitter-analytics/blob/master/scripts/twitter-analytics.ipynb\n",
    "    isURL = re.compile(r'http[s]?:// (?:[a-z]|[0-9]|[$-_@.&+]|[!*\\(\\),]|(?:%[0-9a-f][0-9a-f]))+', re.VERBOSE | re.IGNORECASE)\n",
    "    text = isURL.sub(\"\", text)\n",
    "    \n",
    "    # Tokenize words based on the regular expression stored in regex_pattern\n",
    "    tokenizer = RegexpTokenizer(regex_pattern)\n",
    "    tokens = tokenizer.tokenize(text)\n",
    "    \n",
    "    # Convert tokens to lowercase and remove words in the stop_list variable\n",
    "    tokens = [token.lower() for token in tokens if token.lower() not in sw]\n",
    "    \n",
    "    # Perform part of speech tagging\n",
    "    tokens_tagged = pos_tag(tokens)\n",
    "    tokens_tagged = [(word[0], get_wordnet_pos(word[1])) for word in tokens_tagged]\n",
    "    \n",
    "    # Perform lemmatization \n",
    "    lemmatizer = WordNetLemmatizer()\n",
    "    tokens = [lemmatizer.lemmatize(word[0], word[1]) for word in tokens_tagged]\n",
    "    \n",
    "    # Return a string consisting of all tokens\n",
    "    return ' '.join(tokens)"
   ]
  },
  {
   "cell_type": "code",
   "execution_count": 101,
   "metadata": {},
   "outputs": [],
   "source": [
    "# Function to convert prepared text into n-grams.\n",
    "\n",
    "def ngram_creator(text, n):\n",
    "    \"\"\"\n",
    "    Return a list of all possible n-grams from the specified text.\n",
    "    \"\"\"\n",
    "    return list(ngrams(text.split(), n))"
   ]
  },
  {
   "cell_type": "code",
   "execution_count": 102,
   "metadata": {},
   "outputs": [],
   "source": [
    "# Visualization Function to plot the n most common words in a frequency distribution object\n",
    "\n",
    "def visualize_top_n(freq_dist, title, n=10):\n",
    "    \"\"\"\n",
    "    Create a dictionary of the n most common words in a frequency distribution and plot a bar\n",
    "    graph illustrating how many times those words appear in the frequency distribution object.\n",
    "    \"\"\"\n",
    "    plt.style.use('fivethirtyeight')\n",
    "    plt.rcParams.update({'font.size': 13})\n",
    "        \n",
    "    # Extract data for plotting\n",
    "    top_n = list(zip(*freq_dist.most_common(n)))\n",
    "    tokens = top_n[0]\n",
    "    counts = top_n[1]\n",
    "\n",
    "    # Set up plot and plot data\n",
    "    fig, ax = plt.subplots(figsize=(10,10))\n",
    "    ax.bar(tokens, counts)\n",
    "\n",
    "    # Customize plot appearance\n",
    "    ax.set_title(title)\n",
    "    ax.set_ylabel(\"Count\")\n",
    "    ax.yaxis.set_major_locator(MaxNLocator(integer=True))\n",
    "    ax.tick_params(axis=\"x\", rotation=90)\n",
    "    plt.tight_layout()\n",
    "    \n",
    "    # Save png of image to images folder using title as filename\n",
    "    plt.savefig(f'../images/{title}', dpi=500, facecolor='auto')"
   ]
  },
  {
   "cell_type": "code",
   "execution_count": 103,
   "metadata": {},
   "outputs": [],
   "source": [
    "# Function to identify common words in positive, negative reviews.\n",
    "\n",
    "def sw_finder(fd1, fd2, n=10):\n",
    "    \"\"\"\n",
    "    Intake two frequency distribution objects and return a list of n words\n",
    "    that appear in both objects.\n",
    "    \"\"\"\n",
    "    return list(dict(fd1.most_common(n)).keys() & dict(fd2.most_common(n)).keys())"
   ]
  },
  {
   "cell_type": "markdown",
   "metadata": {},
   "source": [
    "## Data Cleaning\n",
    "I began the cleaning process by testing the cleaner function on a single cell. It appears to be working correctly, so I moved on to create a new column called 'text_cleaned' to hold the results of the cleaning function. I then called the ngram_creator function on that cleaned text to create new columns that store bi-grams and tri-grams for each review. Finally, I checked for any instances of failure by the cleaning function to determine whether additional steps were needed. As it turned out, the cleaning function performed well and there were no instances of missing cleaned reviews."
   ]
  },
  {
   "cell_type": "code",
   "execution_count": 13,
   "metadata": {},
   "outputs": [
    {
     "name": "stdout",
     "output_type": "stream",
     "text": [
      "sound track beautiful paint senery mind well would recomend even people hate vid game music play game chrono cross game ever play best music back away crude keyboarding take fresh step grate guitar soulful orchestra would impress anyone care listen\n"
     ]
    },
    {
     "data": {
      "text/plain": [
       "'This sound track was beautiful! It paints the senery in your mind so well I would recomend it even to people who hate vid. game music! I have played the game Chrono Cross but out of all of the games I have ever played it has the best music! It backs away from crude keyboarding and takes a fresher step with grate guitars and soulful orchestras. It would impress anyone who cares to listen! ^_^'"
      ]
     },
     "execution_count": 13,
     "metadata": {},
     "output_type": "execute_result"
    }
   ],
   "source": [
    "# Test cleaner function on one row\n",
    "sample_row = prepare_text(df['text'][0])\n",
    "print(sample_row)\n",
    "\n",
    "# Print original text for inspection\n",
    "df['text'][0]"
   ]
  },
  {
   "cell_type": "code",
   "execution_count": 14,
   "metadata": {},
   "outputs": [],
   "source": [
    "# Apply helper function to 'text' column and store the output in a new column\n",
    "df['text_cleaned'] = df['text'].apply(prepare_text)\n",
    "\n",
    "# Create & store bi-grams in a new column\n",
    "df['bigrams'] = df['text_cleaned'].apply(ngram_creator, n=2)\n",
    "\n",
    "# Create & store trigrams in a new column\n",
    "df['trigrams'] = df['text_cleaned'].apply(ngram_creator, n=3)"
   ]
  },
  {
   "cell_type": "code",
   "execution_count": 15,
   "metadata": {},
   "outputs": [
    {
     "name": "stdout",
     "output_type": "stream",
     "text": [
      "sentiment        0\n",
      "title           77\n",
      "text             0\n",
      "text_cleaned     0\n",
      "bigrams          0\n",
      "trigrams         0\n",
      "dtype: int64\n"
     ]
    },
    {
     "data": {
      "text/html": [
       "<div>\n",
       "<style scoped>\n",
       "    .dataframe tbody tr th:only-of-type {\n",
       "        vertical-align: middle;\n",
       "    }\n",
       "\n",
       "    .dataframe tbody tr th {\n",
       "        vertical-align: top;\n",
       "    }\n",
       "\n",
       "    .dataframe thead th {\n",
       "        text-align: right;\n",
       "    }\n",
       "</style>\n",
       "<table border=\"1\" class=\"dataframe\">\n",
       "  <thead>\n",
       "    <tr style=\"text-align: right;\">\n",
       "      <th></th>\n",
       "      <th>sentiment</th>\n",
       "      <th>title</th>\n",
       "      <th>text</th>\n",
       "      <th>text_cleaned</th>\n",
       "      <th>bigrams</th>\n",
       "      <th>trigrams</th>\n",
       "    </tr>\n",
       "  </thead>\n",
       "  <tbody>\n",
       "  </tbody>\n",
       "</table>\n",
       "</div>"
      ],
      "text/plain": [
       "Empty DataFrame\n",
       "Columns: [sentiment, title, text, text_cleaned, bigrams, trigrams]\n",
       "Index: []"
      ]
     },
     "execution_count": 15,
     "metadata": {},
     "output_type": "execute_result"
    }
   ],
   "source": [
    "# Check for reviews where the cleaning function failed & display them\n",
    "print(df.isna().sum())\n",
    "df[df['text_cleaned'].isna()]"
   ]
  },
  {
   "cell_type": "code",
   "execution_count": 16,
   "metadata": {},
   "outputs": [],
   "source": [
    "# Create new dataframe with cleaned text, sentiment and n-grams, save to csv.\n",
    "df.to_csv('../large_data/train_cleaned.csv', columns=['sentiment', 'text', 'text_cleaned', 'bigrams', 'trigrams'])"
   ]
  },
  {
   "cell_type": "code",
   "execution_count": 17,
   "metadata": {},
   "outputs": [
    {
     "data": {
      "text/html": [
       "<div>\n",
       "<style scoped>\n",
       "    .dataframe tbody tr th:only-of-type {\n",
       "        vertical-align: middle;\n",
       "    }\n",
       "\n",
       "    .dataframe tbody tr th {\n",
       "        vertical-align: top;\n",
       "    }\n",
       "\n",
       "    .dataframe thead th {\n",
       "        text-align: right;\n",
       "    }\n",
       "</style>\n",
       "<table border=\"1\" class=\"dataframe\">\n",
       "  <thead>\n",
       "    <tr style=\"text-align: right;\">\n",
       "      <th></th>\n",
       "      <th>sentiment</th>\n",
       "      <th>title</th>\n",
       "      <th>text</th>\n",
       "      <th>text_cleaned</th>\n",
       "      <th>bigrams</th>\n",
       "      <th>trigrams</th>\n",
       "    </tr>\n",
       "  </thead>\n",
       "  <tbody>\n",
       "    <tr>\n",
       "      <th>0</th>\n",
       "      <td>2</td>\n",
       "      <td>Stuning even for the non-gamer</td>\n",
       "      <td>This sound track was beautiful! It paints the ...</td>\n",
       "      <td>sound track beautiful paint senery mind well w...</td>\n",
       "      <td>[(sound, track), (track, beautiful), (beautifu...</td>\n",
       "      <td>[(sound, track, beautiful), (track, beautiful,...</td>\n",
       "    </tr>\n",
       "    <tr>\n",
       "      <th>1</th>\n",
       "      <td>2</td>\n",
       "      <td>The best soundtrack ever to anything.</td>\n",
       "      <td>I'm reading a lot of reviews saying that this ...</td>\n",
       "      <td>i'm reading lot review say best game soundtrac...</td>\n",
       "      <td>[(i'm, reading), (reading, lot), (lot, review)...</td>\n",
       "      <td>[(i'm, reading, lot), (reading, lot, review), ...</td>\n",
       "    </tr>\n",
       "    <tr>\n",
       "      <th>2</th>\n",
       "      <td>2</td>\n",
       "      <td>Amazing!</td>\n",
       "      <td>This soundtrack is my favorite music of all ti...</td>\n",
       "      <td>soundtrack favorite music time hand intense sa...</td>\n",
       "      <td>[(soundtrack, favorite), (favorite, music), (m...</td>\n",
       "      <td>[(soundtrack, favorite, music), (favorite, mus...</td>\n",
       "    </tr>\n",
       "    <tr>\n",
       "      <th>3</th>\n",
       "      <td>2</td>\n",
       "      <td>Excellent Soundtrack</td>\n",
       "      <td>I truly like this soundtrack and I enjoy video...</td>\n",
       "      <td>truly like soundtrack enjoy video game music p...</td>\n",
       "      <td>[(truly, like), (like, soundtrack), (soundtrac...</td>\n",
       "      <td>[(truly, like, soundtrack), (like, soundtrack,...</td>\n",
       "    </tr>\n",
       "    <tr>\n",
       "      <th>4</th>\n",
       "      <td>2</td>\n",
       "      <td>Remember, Pull Your Jaw Off The Floor After He...</td>\n",
       "      <td>If you've played the game, you know how divine...</td>\n",
       "      <td>played game know divine music every single son...</td>\n",
       "      <td>[(played, game), (game, know), (know, divine),...</td>\n",
       "      <td>[(played, game, know), (game, know, divine), (...</td>\n",
       "    </tr>\n",
       "  </tbody>\n",
       "</table>\n",
       "</div>"
      ],
      "text/plain": [
       "   sentiment                                              title  \\\n",
       "0          2                     Stuning even for the non-gamer   \n",
       "1          2              The best soundtrack ever to anything.   \n",
       "2          2                                           Amazing!   \n",
       "3          2                               Excellent Soundtrack   \n",
       "4          2  Remember, Pull Your Jaw Off The Floor After He...   \n",
       "\n",
       "                                                text  \\\n",
       "0  This sound track was beautiful! It paints the ...   \n",
       "1  I'm reading a lot of reviews saying that this ...   \n",
       "2  This soundtrack is my favorite music of all ti...   \n",
       "3  I truly like this soundtrack and I enjoy video...   \n",
       "4  If you've played the game, you know how divine...   \n",
       "\n",
       "                                        text_cleaned  \\\n",
       "0  sound track beautiful paint senery mind well w...   \n",
       "1  i'm reading lot review say best game soundtrac...   \n",
       "2  soundtrack favorite music time hand intense sa...   \n",
       "3  truly like soundtrack enjoy video game music p...   \n",
       "4  played game know divine music every single son...   \n",
       "\n",
       "                                             bigrams  \\\n",
       "0  [(sound, track), (track, beautiful), (beautifu...   \n",
       "1  [(i'm, reading), (reading, lot), (lot, review)...   \n",
       "2  [(soundtrack, favorite), (favorite, music), (m...   \n",
       "3  [(truly, like), (like, soundtrack), (soundtrac...   \n",
       "4  [(played, game), (game, know), (know, divine),...   \n",
       "\n",
       "                                            trigrams  \n",
       "0  [(sound, track, beautiful), (track, beautiful,...  \n",
       "1  [(i'm, reading, lot), (reading, lot, review), ...  \n",
       "2  [(soundtrack, favorite, music), (favorite, mus...  \n",
       "3  [(truly, like, soundtrack), (like, soundtrack,...  \n",
       "4  [(played, game, know), (game, know, divine), (...  "
      ]
     },
     "execution_count": 17,
     "metadata": {},
     "output_type": "execute_result"
    }
   ],
   "source": [
    "# Display the first five rows for visual inspection\n",
    "df.head()"
   ]
  },
  {
   "cell_type": "code",
   "execution_count": 18,
   "metadata": {
    "scrolled": false
   },
   "outputs": [
    {
     "data": {
      "image/png": "[encoded data removed]",
      "text/plain": [
       "<Figure size 720x720 with 1 Axes>"
      ]
     },
     "metadata": {},
     "output_type": "display_data"
    }
   ],
   "source": [
    "# Ten most common words appearing in positive reviews\n",
    "pos_freq_dist = FreqDist(df['text_cleaned'].str.split().explode().loc[df['sentiment'] == 2])\n",
    "visualize_top_n(pos_freq_dist, 'Most Common Words in Positive Reviews', 10)"
   ]
  },
  {
   "cell_type": "code",
   "execution_count": 19,
   "metadata": {},
   "outputs": [
    {
     "data": {
      "image/png": "[encoded data removed]",
      "text/plain": [
       "<Figure size 720x720 with 1 Axes>"
      ]
     },
     "metadata": {},
     "output_type": "display_data"
    }
   ],
   "source": [
    "# Ten most common words appearing in negative reviews\n",
    "neg_freq_dist = FreqDist(df['text_cleaned'].str.split().explode().loc[df['sentiment'] == 1])\n",
    "visualize_top_n(neg_freq_dist, 'Most Common Words in Negative Reviews', 10)"
   ]
  },
  {
   "cell_type": "markdown",
   "metadata": {},
   "source": [
    "### Identify and Remove Custom Stopwords\n",
    "The following section will be focused on identifying the most common words in reviews of each sentiment, and finding where these lists intersect. Words that appear frequently in both sentiments begin to lose their meaning, and we will attempt to address this by removing any words that are among the 10 most common in both sentiments. I chose 10 words as the cutoff because there seems to be a breakpoint at 10 words where the same words do not appear in both lists and are not ordered the same in terms of commonality. I created a custom stopwords list using the sw_finder function and extended the default stopwords list to include these common words. I then re-ran the cleaning function and saved the results to a .csv for use in the modeling notebook."
   ]
  },
  {
   "cell_type": "code",
   "execution_count": 20,
   "metadata": {},
   "outputs": [
    {
     "data": {
      "text/plain": [
       "['good', 'get', 'like', 'book', 'one', 'make']"
      ]
     },
     "execution_count": 20,
     "metadata": {},
     "output_type": "execute_result"
    }
   ],
   "source": [
    "# Identify common words among the 10 most frequent words in reviews of each sentiment\n",
    "train_sw = sw_finder(neg_freq_dist, pos_freq_dist, 10)\n",
    "train_sw"
   ]
  },
  {
   "cell_type": "code",
   "execution_count": 21,
   "metadata": {},
   "outputs": [
    {
     "data": {
      "text/plain": [
       "['good',\n",
       " 'get',\n",
       " 'like',\n",
       " 'book',\n",
       " 'one',\n",
       " 'make',\n",
       " 'i',\n",
       " 'me',\n",
       " 'my',\n",
       " 'myself',\n",
       " 'we',\n",
       " 'our',\n",
       " 'ours',\n",
       " 'ourselves',\n",
       " 'you',\n",
       " \"you're\",\n",
       " \"you've\",\n",
       " \"you'll\",\n",
       " \"you'd\",\n",
       " 'your',\n",
       " 'yours',\n",
       " 'yourself',\n",
       " 'yourselves',\n",
       " 'he',\n",
       " 'him',\n",
       " 'his',\n",
       " 'himself',\n",
       " 'she',\n",
       " \"she's\",\n",
       " 'her',\n",
       " 'hers',\n",
       " 'herself',\n",
       " 'it',\n",
       " \"it's\",\n",
       " 'its',\n",
       " 'itself',\n",
       " 'they',\n",
       " 'them',\n",
       " 'their',\n",
       " 'theirs',\n",
       " 'themselves',\n",
       " 'what',\n",
       " 'which',\n",
       " 'who',\n",
       " 'whom',\n",
       " 'this',\n",
       " 'that',\n",
       " \"that'll\",\n",
       " 'these',\n",
       " 'those',\n",
       " 'am',\n",
       " 'is',\n",
       " 'are',\n",
       " 'was',\n",
       " 'were',\n",
       " 'be',\n",
       " 'been',\n",
       " 'being',\n",
       " 'have',\n",
       " 'has',\n",
       " 'had',\n",
       " 'having',\n",
       " 'do',\n",
       " 'does',\n",
       " 'did',\n",
       " 'doing',\n",
       " 'a',\n",
       " 'an',\n",
       " 'the',\n",
       " 'and',\n",
       " 'but',\n",
       " 'if',\n",
       " 'or',\n",
       " 'because',\n",
       " 'as',\n",
       " 'until',\n",
       " 'while',\n",
       " 'of',\n",
       " 'at',\n",
       " 'by',\n",
       " 'for',\n",
       " 'with',\n",
       " 'about',\n",
       " 'against',\n",
       " 'between',\n",
       " 'into',\n",
       " 'through',\n",
       " 'during',\n",
       " 'before',\n",
       " 'after',\n",
       " 'above',\n",
       " 'below',\n",
       " 'to',\n",
       " 'from',\n",
       " 'up',\n",
       " 'down',\n",
       " 'in',\n",
       " 'out',\n",
       " 'on',\n",
       " 'off',\n",
       " 'over',\n",
       " 'under',\n",
       " 'again',\n",
       " 'further',\n",
       " 'then',\n",
       " 'once',\n",
       " 'here',\n",
       " 'there',\n",
       " 'when',\n",
       " 'where',\n",
       " 'why',\n",
       " 'how',\n",
       " 'all',\n",
       " 'any',\n",
       " 'both',\n",
       " 'each',\n",
       " 'few',\n",
       " 'more',\n",
       " 'most',\n",
       " 'other',\n",
       " 'some',\n",
       " 'such',\n",
       " 'no',\n",
       " 'nor',\n",
       " 'not',\n",
       " 'only',\n",
       " 'own',\n",
       " 'same',\n",
       " 'so',\n",
       " 'than',\n",
       " 'too',\n",
       " 'very',\n",
       " 's',\n",
       " 't',\n",
       " 'can',\n",
       " 'will',\n",
       " 'just',\n",
       " 'don',\n",
       " \"don't\",\n",
       " 'should',\n",
       " \"should've\",\n",
       " 'now',\n",
       " 'd',\n",
       " 'll',\n",
       " 'm',\n",
       " 'o',\n",
       " 're',\n",
       " 've',\n",
       " 'y',\n",
       " 'ain',\n",
       " 'aren',\n",
       " \"aren't\",\n",
       " 'couldn',\n",
       " \"couldn't\",\n",
       " 'didn',\n",
       " \"didn't\",\n",
       " 'doesn',\n",
       " \"doesn't\",\n",
       " 'hadn',\n",
       " \"hadn't\",\n",
       " 'hasn',\n",
       " \"hasn't\",\n",
       " 'haven',\n",
       " \"haven't\",\n",
       " 'isn',\n",
       " \"isn't\",\n",
       " 'ma',\n",
       " 'mightn',\n",
       " \"mightn't\",\n",
       " 'mustn',\n",
       " \"mustn't\",\n",
       " 'needn',\n",
       " \"needn't\",\n",
       " 'shan',\n",
       " \"shan't\",\n",
       " 'shouldn',\n",
       " \"shouldn't\",\n",
       " 'wasn',\n",
       " \"wasn't\",\n",
       " 'weren',\n",
       " \"weren't\",\n",
       " 'won',\n",
       " \"won't\",\n",
       " 'wouldn',\n",
       " \"wouldn't\"]"
      ]
     },
     "execution_count": 21,
     "metadata": {},
     "output_type": "execute_result"
    }
   ],
   "source": [
    "# Extend stop_list to include the elements of custom_sw\n",
    "train_sw.extend(stopwords.words('english'))\n",
    "train_sw"
   ]
  },
  {
   "cell_type": "code",
   "execution_count": 22,
   "metadata": {},
   "outputs": [],
   "source": [
    "# Apply helper function to 'text' column and store the output in a new column\n",
    "df['text_cleaned'] = df['text'].apply(prepare_text, sw=train_sw)\n",
    "\n",
    "# Create & store bi-grams in a new column\n",
    "df['bigrams'] = df['text_cleaned'].apply(ngram_creator, n=2)\n",
    "\n",
    "# Create & store trigrams in a new column\n",
    "df['trigrams'] = df['text_cleaned'].apply(ngram_creator, n=3)"
   ]
  },
  {
   "cell_type": "code",
   "execution_count": 23,
   "metadata": {},
   "outputs": [
    {
     "name": "stdout",
     "output_type": "stream",
     "text": [
      "sentiment        0\n",
      "title           77\n",
      "text             0\n",
      "text_cleaned     0\n",
      "bigrams          0\n",
      "trigrams         0\n",
      "dtype: int64\n"
     ]
    },
    {
     "data": {
      "text/html": [
       "<div>\n",
       "<style scoped>\n",
       "    .dataframe tbody tr th:only-of-type {\n",
       "        vertical-align: middle;\n",
       "    }\n",
       "\n",
       "    .dataframe tbody tr th {\n",
       "        vertical-align: top;\n",
       "    }\n",
       "\n",
       "    .dataframe thead th {\n",
       "        text-align: right;\n",
       "    }\n",
       "</style>\n",
       "<table border=\"1\" class=\"dataframe\">\n",
       "  <thead>\n",
       "    <tr style=\"text-align: right;\">\n",
       "      <th></th>\n",
       "      <th>sentiment</th>\n",
       "      <th>title</th>\n",
       "      <th>text</th>\n",
       "      <th>text_cleaned</th>\n",
       "      <th>bigrams</th>\n",
       "      <th>trigrams</th>\n",
       "    </tr>\n",
       "  </thead>\n",
       "  <tbody>\n",
       "  </tbody>\n",
       "</table>\n",
       "</div>"
      ],
      "text/plain": [
       "Empty DataFrame\n",
       "Columns: [sentiment, title, text, text_cleaned, bigrams, trigrams]\n",
       "Index: []"
      ]
     },
     "execution_count": 23,
     "metadata": {},
     "output_type": "execute_result"
    }
   ],
   "source": [
    "# Identify reviews where the cleaning function failed & display them\n",
    "print(df.isna().sum())\n",
    "df[df['text_cleaned'].isna()]"
   ]
  },
  {
   "cell_type": "code",
   "execution_count": 24,
   "metadata": {},
   "outputs": [],
   "source": [
    "# Create new dataframe with cleaned text and sentiment, save to csv.\n",
    "df.to_csv('../large_data/train_cleaned_10sw.csv', columns=['sentiment', 'text', 'text_cleaned', 'bigrams', 'trigrams'])"
   ]
  },
  {
   "cell_type": "markdown",
   "metadata": {},
   "source": [
    "## Transform Test Data\n",
    "For the test data, I followed the same cleaning process and utilized the same functions as on the train data. Although the specific stop words might vary, I followed the same procedure with custom words and removed any words that appeared in the 10 most common words in each sentiment. I saved off .csv files with and without the use of custom stopword filtering to see which will perform better in the [modeling notebook](modeling_nb.ipynb)."
   ]
  },
  {
   "cell_type": "code",
   "execution_count": 35,
   "metadata": {},
   "outputs": [
    {
     "data": {
      "text/html": [
       "<div>\n",
       "<style scoped>\n",
       "    .dataframe tbody tr th:only-of-type {\n",
       "        vertical-align: middle;\n",
       "    }\n",
       "\n",
       "    .dataframe tbody tr th {\n",
       "        vertical-align: top;\n",
       "    }\n",
       "\n",
       "    .dataframe thead th {\n",
       "        text-align: right;\n",
       "    }\n",
       "</style>\n",
       "<table border=\"1\" class=\"dataframe\">\n",
       "  <thead>\n",
       "    <tr style=\"text-align: right;\">\n",
       "      <th></th>\n",
       "      <th>sentiment</th>\n",
       "      <th>title</th>\n",
       "      <th>text</th>\n",
       "    </tr>\n",
       "  </thead>\n",
       "  <tbody>\n",
       "    <tr>\n",
       "      <th>0</th>\n",
       "      <td>2</td>\n",
       "      <td>Great CD</td>\n",
       "      <td>My lovely Pat has one of the GREAT voices of h...</td>\n",
       "    </tr>\n",
       "    <tr>\n",
       "      <th>1</th>\n",
       "      <td>2</td>\n",
       "      <td>One of the best game music soundtracks - for a...</td>\n",
       "      <td>Despite the fact that I have only played a sma...</td>\n",
       "    </tr>\n",
       "    <tr>\n",
       "      <th>2</th>\n",
       "      <td>1</td>\n",
       "      <td>Batteries died within a year ...</td>\n",
       "      <td>I bought this charger in Jul 2003 and it worke...</td>\n",
       "    </tr>\n",
       "    <tr>\n",
       "      <th>3</th>\n",
       "      <td>2</td>\n",
       "      <td>works fine, but Maha Energy is better</td>\n",
       "      <td>Check out Maha Energy's website. Their Powerex...</td>\n",
       "    </tr>\n",
       "    <tr>\n",
       "      <th>4</th>\n",
       "      <td>2</td>\n",
       "      <td>Great for the non-audiophile</td>\n",
       "      <td>Reviewed quite a bit of the combo players and ...</td>\n",
       "    </tr>\n",
       "  </tbody>\n",
       "</table>\n",
       "</div>"
      ],
      "text/plain": [
       "   sentiment                                              title  \\\n",
       "0          2                                           Great CD   \n",
       "1          2  One of the best game music soundtracks - for a...   \n",
       "2          1                   Batteries died within a year ...   \n",
       "3          2              works fine, but Maha Energy is better   \n",
       "4          2                       Great for the non-audiophile   \n",
       "\n",
       "                                                text  \n",
       "0  My lovely Pat has one of the GREAT voices of h...  \n",
       "1  Despite the fact that I have only played a sma...  \n",
       "2  I bought this charger in Jul 2003 and it worke...  \n",
       "3  Check out Maha Energy's website. Their Powerex...  \n",
       "4  Reviewed quite a bit of the combo players and ...  "
      ]
     },
     "execution_count": 35,
     "metadata": {},
     "output_type": "execute_result"
    }
   ],
   "source": [
    "# Read in valdiation data\n",
    "df_test = pd.read_csv('../large_data/test.csv', names=['sentiment', 'title', 'text']) \n",
    "df_test.head()"
   ]
  },
  {
   "cell_type": "code",
   "execution_count": 36,
   "metadata": {
    "scrolled": true
   },
   "outputs": [
    {
     "name": "stdout",
     "output_type": "stream",
     "text": [
      "<class 'pandas.core.frame.DataFrame'>\n",
      "RangeIndex: 400000 entries, 0 to 399999\n",
      "Data columns (total 3 columns):\n",
      " #   Column     Non-Null Count   Dtype \n",
      "---  ------     --------------   ----- \n",
      " 0   sentiment  400000 non-null  int64 \n",
      " 1   title      399990 non-null  object\n",
      " 2   text       400000 non-null  object\n",
      "dtypes: int64(1), object(2)\n",
      "memory usage: 9.2+ MB\n"
     ]
    }
   ],
   "source": [
    "df_test.info()"
   ]
  },
  {
   "cell_type": "code",
   "execution_count": 37,
   "metadata": {},
   "outputs": [
    {
     "data": {
      "text/plain": [
       "sentiment     0\n",
       "title        10\n",
       "text          0\n",
       "dtype: int64"
      ]
     },
     "execution_count": 37,
     "metadata": {},
     "output_type": "execute_result"
    }
   ],
   "source": [
    "# Check for NaNs - Unimportant because we will not use the title column.\n",
    "df_test.isna().sum()"
   ]
  },
  {
   "cell_type": "code",
   "execution_count": 39,
   "metadata": {},
   "outputs": [],
   "source": [
    "# Apply cleaning function to the validation set\n",
    "df_test['text_cleaned'] = df_test['text'].apply(prepare_text)\n",
    "\n",
    "# Create & store trigrams in a new column\n",
    "df_test['bigrams'] = df_test['text_cleaned'].apply(ngram_creator, n=2)\n",
    "\n",
    "# Create & store trigrams in a new column\n",
    "df_test['trigrams'] = df_test['text_cleaned'].apply(ngram_creator, n=3)"
   ]
  },
  {
   "cell_type": "code",
   "execution_count": 40,
   "metadata": {},
   "outputs": [
    {
     "data": {
      "text/html": [
       "<div>\n",
       "<style scoped>\n",
       "    .dataframe tbody tr th:only-of-type {\n",
       "        vertical-align: middle;\n",
       "    }\n",
       "\n",
       "    .dataframe tbody tr th {\n",
       "        vertical-align: top;\n",
       "    }\n",
       "\n",
       "    .dataframe thead th {\n",
       "        text-align: right;\n",
       "    }\n",
       "</style>\n",
       "<table border=\"1\" class=\"dataframe\">\n",
       "  <thead>\n",
       "    <tr style=\"text-align: right;\">\n",
       "      <th></th>\n",
       "      <th>sentiment</th>\n",
       "      <th>title</th>\n",
       "      <th>text</th>\n",
       "      <th>text_cleaned</th>\n",
       "      <th>bigrams</th>\n",
       "      <th>trigrams</th>\n",
       "    </tr>\n",
       "  </thead>\n",
       "  <tbody>\n",
       "    <tr>\n",
       "      <th>0</th>\n",
       "      <td>2</td>\n",
       "      <td>Great CD</td>\n",
       "      <td>My lovely Pat has one of the GREAT voices of h...</td>\n",
       "      <td>lovely pat one great voice generation listen c...</td>\n",
       "      <td>[(lovely, pat), (pat, one), (one, great), (gre...</td>\n",
       "      <td>[(lovely, pat, one), (pat, one, great), (one, ...</td>\n",
       "    </tr>\n",
       "    <tr>\n",
       "      <th>1</th>\n",
       "      <td>2</td>\n",
       "      <td>One of the best game music soundtracks - for a...</td>\n",
       "      <td>Despite the fact that I have only played a sma...</td>\n",
       "      <td>despite fact play small portion game music hea...</td>\n",
       "      <td>[(despite, fact), (fact, play), (play, small),...</td>\n",
       "      <td>[(despite, fact, play), (fact, play, small), (...</td>\n",
       "    </tr>\n",
       "    <tr>\n",
       "      <th>2</th>\n",
       "      <td>1</td>\n",
       "      <td>Batteries died within a year ...</td>\n",
       "      <td>I bought this charger in Jul 2003 and it worke...</td>\n",
       "      <td>bought charger jul work ok design nice conveni...</td>\n",
       "      <td>[(bought, charger), (charger, jul), (jul, work...</td>\n",
       "      <td>[(bought, charger, jul), (charger, jul, work),...</td>\n",
       "    </tr>\n",
       "    <tr>\n",
       "      <th>3</th>\n",
       "      <td>2</td>\n",
       "      <td>works fine, but Maha Energy is better</td>\n",
       "      <td>Check out Maha Energy's website. Their Powerex...</td>\n",
       "      <td>check maha energy's website powerex mh c f cha...</td>\n",
       "      <td>[(check, maha), (maha, energy's), (energy's, w...</td>\n",
       "      <td>[(check, maha, energy's), (maha, energy's, web...</td>\n",
       "    </tr>\n",
       "    <tr>\n",
       "      <th>4</th>\n",
       "      <td>2</td>\n",
       "      <td>Great for the non-audiophile</td>\n",
       "      <td>Reviewed quite a bit of the combo players and ...</td>\n",
       "      <td>review quite bit combo player hesitant due unf...</td>\n",
       "      <td>[(review, quite), (quite, bit), (bit, combo), ...</td>\n",
       "      <td>[(review, quite, bit), (quite, bit, combo), (b...</td>\n",
       "    </tr>\n",
       "  </tbody>\n",
       "</table>\n",
       "</div>"
      ],
      "text/plain": [
       "   sentiment                                              title  \\\n",
       "0          2                                           Great CD   \n",
       "1          2  One of the best game music soundtracks - for a...   \n",
       "2          1                   Batteries died within a year ...   \n",
       "3          2              works fine, but Maha Energy is better   \n",
       "4          2                       Great for the non-audiophile   \n",
       "\n",
       "                                                text  \\\n",
       "0  My lovely Pat has one of the GREAT voices of h...   \n",
       "1  Despite the fact that I have only played a sma...   \n",
       "2  I bought this charger in Jul 2003 and it worke...   \n",
       "3  Check out Maha Energy's website. Their Powerex...   \n",
       "4  Reviewed quite a bit of the combo players and ...   \n",
       "\n",
       "                                        text_cleaned  \\\n",
       "0  lovely pat one great voice generation listen c...   \n",
       "1  despite fact play small portion game music hea...   \n",
       "2  bought charger jul work ok design nice conveni...   \n",
       "3  check maha energy's website powerex mh c f cha...   \n",
       "4  review quite bit combo player hesitant due unf...   \n",
       "\n",
       "                                             bigrams  \\\n",
       "0  [(lovely, pat), (pat, one), (one, great), (gre...   \n",
       "1  [(despite, fact), (fact, play), (play, small),...   \n",
       "2  [(bought, charger), (charger, jul), (jul, work...   \n",
       "3  [(check, maha), (maha, energy's), (energy's, w...   \n",
       "4  [(review, quite), (quite, bit), (bit, combo), ...   \n",
       "\n",
       "                                            trigrams  \n",
       "0  [(lovely, pat, one), (pat, one, great), (one, ...  \n",
       "1  [(despite, fact, play), (fact, play, small), (...  \n",
       "2  [(bought, charger, jul), (charger, jul, work),...  \n",
       "3  [(check, maha, energy's), (maha, energy's, web...  \n",
       "4  [(review, quite, bit), (quite, bit, combo), (b...  "
      ]
     },
     "execution_count": 40,
     "metadata": {},
     "output_type": "execute_result"
    }
   ],
   "source": [
    "df_test.head()"
   ]
  },
  {
   "cell_type": "code",
   "execution_count": 41,
   "metadata": {},
   "outputs": [
    {
     "name": "stdout",
     "output_type": "stream",
     "text": [
      "sentiment        0\n",
      "title           10\n",
      "text             0\n",
      "text_cleaned     0\n",
      "bigrams          0\n",
      "trigrams         0\n",
      "dtype: int64\n"
     ]
    },
    {
     "data": {
      "text/html": [
       "<div>\n",
       "<style scoped>\n",
       "    .dataframe tbody tr th:only-of-type {\n",
       "        vertical-align: middle;\n",
       "    }\n",
       "\n",
       "    .dataframe tbody tr th {\n",
       "        vertical-align: top;\n",
       "    }\n",
       "\n",
       "    .dataframe thead th {\n",
       "        text-align: right;\n",
       "    }\n",
       "</style>\n",
       "<table border=\"1\" class=\"dataframe\">\n",
       "  <thead>\n",
       "    <tr style=\"text-align: right;\">\n",
       "      <th></th>\n",
       "      <th>sentiment</th>\n",
       "      <th>title</th>\n",
       "      <th>text</th>\n",
       "      <th>text_cleaned</th>\n",
       "      <th>bigrams</th>\n",
       "      <th>trigrams</th>\n",
       "    </tr>\n",
       "  </thead>\n",
       "  <tbody>\n",
       "  </tbody>\n",
       "</table>\n",
       "</div>"
      ],
      "text/plain": [
       "Empty DataFrame\n",
       "Columns: [sentiment, title, text, text_cleaned, bigrams, trigrams]\n",
       "Index: []"
      ]
     },
     "execution_count": 41,
     "metadata": {},
     "output_type": "execute_result"
    }
   ],
   "source": [
    "# Identify reviews where the cleaning function failed & display them\n",
    "print(df_test.isna().sum())\n",
    "df_test[df_test['text_cleaned'].isna()]"
   ]
  },
  {
   "cell_type": "code",
   "execution_count": 42,
   "metadata": {},
   "outputs": [],
   "source": [
    "# Save validation data to a new CSV file\n",
    "df_test.to_csv('../large_data/test_cleaned.csv', columns=['sentiment', 'text', 'text_cleaned', 'bigrams', 'trigrams'])"
   ]
  },
  {
   "cell_type": "code",
   "execution_count": 43,
   "metadata": {},
   "outputs": [
    {
     "data": {
      "image/png": "[encoded data removed]",
      "text/plain": [
       "<Figure size 720x720 with 1 Axes>"
      ]
     },
     "metadata": {},
     "output_type": "display_data"
    }
   ],
   "source": [
    "# Ten most common words appearing in positive test reviews\n",
    "pos_test_dist = FreqDist(df_test['text_cleaned'].str.split().explode().loc[df_test['sentiment'] == 2])\n",
    "visualize_top_n(pos_test_dist, 'Most Common Words in Positive Reviews', 10)"
   ]
  },
  {
   "cell_type": "code",
   "execution_count": 44,
   "metadata": {},
   "outputs": [
    {
     "data": {
      "image/png": "[encoded data removed]",
      "text/plain": [
       "<Figure size 720x720 with 1 Axes>"
      ]
     },
     "metadata": {},
     "output_type": "display_data"
    }
   ],
   "source": [
    "# Ten most common words appearing in negative reviews\n",
    "neg_test_dist = FreqDist(df_test['text_cleaned'].str.split().explode().loc[df_test['sentiment'] == 1])\n",
    "visualize_top_n(neg_test_dist, 'Most Common Words in Negative Reviews', 10)"
   ]
  },
  {
   "cell_type": "code",
   "execution_count": 45,
   "metadata": {},
   "outputs": [
    {
     "data": {
      "text/plain": [
       "['one', 'make', 'good', 'get', 'book', 'like']"
      ]
     },
     "execution_count": 45,
     "metadata": {},
     "output_type": "execute_result"
    }
   ],
   "source": [
    "# Identify common words among the 10 most frequent words in reviews of each sentiment\n",
    "test_sw = sw_finder(neg_test_dist, pos_test_dist, 10)\n",
    "test_sw"
   ]
  },
  {
   "cell_type": "code",
   "execution_count": 46,
   "metadata": {},
   "outputs": [
    {
     "data": {
      "text/plain": [
       "['one',\n",
       " 'make',\n",
       " 'good',\n",
       " 'get',\n",
       " 'book',\n",
       " 'like',\n",
       " 'i',\n",
       " 'me',\n",
       " 'my',\n",
       " 'myself',\n",
       " 'we',\n",
       " 'our',\n",
       " 'ours',\n",
       " 'ourselves',\n",
       " 'you',\n",
       " \"you're\",\n",
       " \"you've\",\n",
       " \"you'll\",\n",
       " \"you'd\",\n",
       " 'your',\n",
       " 'yours',\n",
       " 'yourself',\n",
       " 'yourselves',\n",
       " 'he',\n",
       " 'him',\n",
       " 'his',\n",
       " 'himself',\n",
       " 'she',\n",
       " \"she's\",\n",
       " 'her',\n",
       " 'hers',\n",
       " 'herself',\n",
       " 'it',\n",
       " \"it's\",\n",
       " 'its',\n",
       " 'itself',\n",
       " 'they',\n",
       " 'them',\n",
       " 'their',\n",
       " 'theirs',\n",
       " 'themselves',\n",
       " 'what',\n",
       " 'which',\n",
       " 'who',\n",
       " 'whom',\n",
       " 'this',\n",
       " 'that',\n",
       " \"that'll\",\n",
       " 'these',\n",
       " 'those',\n",
       " 'am',\n",
       " 'is',\n",
       " 'are',\n",
       " 'was',\n",
       " 'were',\n",
       " 'be',\n",
       " 'been',\n",
       " 'being',\n",
       " 'have',\n",
       " 'has',\n",
       " 'had',\n",
       " 'having',\n",
       " 'do',\n",
       " 'does',\n",
       " 'did',\n",
       " 'doing',\n",
       " 'a',\n",
       " 'an',\n",
       " 'the',\n",
       " 'and',\n",
       " 'but',\n",
       " 'if',\n",
       " 'or',\n",
       " 'because',\n",
       " 'as',\n",
       " 'until',\n",
       " 'while',\n",
       " 'of',\n",
       " 'at',\n",
       " 'by',\n",
       " 'for',\n",
       " 'with',\n",
       " 'about',\n",
       " 'against',\n",
       " 'between',\n",
       " 'into',\n",
       " 'through',\n",
       " 'during',\n",
       " 'before',\n",
       " 'after',\n",
       " 'above',\n",
       " 'below',\n",
       " 'to',\n",
       " 'from',\n",
       " 'up',\n",
       " 'down',\n",
       " 'in',\n",
       " 'out',\n",
       " 'on',\n",
       " 'off',\n",
       " 'over',\n",
       " 'under',\n",
       " 'again',\n",
       " 'further',\n",
       " 'then',\n",
       " 'once',\n",
       " 'here',\n",
       " 'there',\n",
       " 'when',\n",
       " 'where',\n",
       " 'why',\n",
       " 'how',\n",
       " 'all',\n",
       " 'any',\n",
       " 'both',\n",
       " 'each',\n",
       " 'few',\n",
       " 'more',\n",
       " 'most',\n",
       " 'other',\n",
       " 'some',\n",
       " 'such',\n",
       " 'no',\n",
       " 'nor',\n",
       " 'not',\n",
       " 'only',\n",
       " 'own',\n",
       " 'same',\n",
       " 'so',\n",
       " 'than',\n",
       " 'too',\n",
       " 'very',\n",
       " 's',\n",
       " 't',\n",
       " 'can',\n",
       " 'will',\n",
       " 'just',\n",
       " 'don',\n",
       " \"don't\",\n",
       " 'should',\n",
       " \"should've\",\n",
       " 'now',\n",
       " 'd',\n",
       " 'll',\n",
       " 'm',\n",
       " 'o',\n",
       " 're',\n",
       " 've',\n",
       " 'y',\n",
       " 'ain',\n",
       " 'aren',\n",
       " \"aren't\",\n",
       " 'couldn',\n",
       " \"couldn't\",\n",
       " 'didn',\n",
       " \"didn't\",\n",
       " 'doesn',\n",
       " \"doesn't\",\n",
       " 'hadn',\n",
       " \"hadn't\",\n",
       " 'hasn',\n",
       " \"hasn't\",\n",
       " 'haven',\n",
       " \"haven't\",\n",
       " 'isn',\n",
       " \"isn't\",\n",
       " 'ma',\n",
       " 'mightn',\n",
       " \"mightn't\",\n",
       " 'mustn',\n",
       " \"mustn't\",\n",
       " 'needn',\n",
       " \"needn't\",\n",
       " 'shan',\n",
       " \"shan't\",\n",
       " 'shouldn',\n",
       " \"shouldn't\",\n",
       " 'wasn',\n",
       " \"wasn't\",\n",
       " 'weren',\n",
       " \"weren't\",\n",
       " 'won',\n",
       " \"won't\",\n",
       " 'wouldn',\n",
       " \"wouldn't\"]"
      ]
     },
     "execution_count": 46,
     "metadata": {},
     "output_type": "execute_result"
    }
   ],
   "source": [
    "# Extend test_sw to include custom stop words from test data.\n",
    "test_sw.extend(stopwords.words(\"english\")) \n",
    "test_sw"
   ]
  },
  {
   "cell_type": "code",
   "execution_count": 47,
   "metadata": {},
   "outputs": [],
   "source": [
    "# Re-apply cleaning function to 'text' column using identified stopwords \n",
    "df_test['text_cleaned'] = df_test['text'].apply(prepare_text, sw=test_sw)\n",
    "\n",
    "# Create & store bi-grams in a new column\n",
    "df_test['bigrams'] = df_test['text_cleaned'].apply(ngram_creator, n=2)\n",
    "\n",
    "# Create & store trigrams in a new column\n",
    "df_test['trigrams'] = df_test['text_cleaned'].apply(ngram_creator, n=3)"
   ]
  },
  {
   "cell_type": "code",
   "execution_count": 48,
   "metadata": {},
   "outputs": [
    {
     "name": "stdout",
     "output_type": "stream",
     "text": [
      "sentiment        0\n",
      "title           10\n",
      "text             0\n",
      "text_cleaned     0\n",
      "bigrams          0\n",
      "trigrams         0\n",
      "dtype: int64\n"
     ]
    },
    {
     "data": {
      "text/html": [
       "<div>\n",
       "<style scoped>\n",
       "    .dataframe tbody tr th:only-of-type {\n",
       "        vertical-align: middle;\n",
       "    }\n",
       "\n",
       "    .dataframe tbody tr th {\n",
       "        vertical-align: top;\n",
       "    }\n",
       "\n",
       "    .dataframe thead th {\n",
       "        text-align: right;\n",
       "    }\n",
       "</style>\n",
       "<table border=\"1\" class=\"dataframe\">\n",
       "  <thead>\n",
       "    <tr style=\"text-align: right;\">\n",
       "      <th></th>\n",
       "      <th>sentiment</th>\n",
       "      <th>title</th>\n",
       "      <th>text</th>\n",
       "      <th>text_cleaned</th>\n",
       "      <th>bigrams</th>\n",
       "      <th>trigrams</th>\n",
       "    </tr>\n",
       "  </thead>\n",
       "  <tbody>\n",
       "  </tbody>\n",
       "</table>\n",
       "</div>"
      ],
      "text/plain": [
       "Empty DataFrame\n",
       "Columns: [sentiment, title, text, text_cleaned, bigrams, trigrams]\n",
       "Index: []"
      ]
     },
     "execution_count": 48,
     "metadata": {},
     "output_type": "execute_result"
    }
   ],
   "source": [
    "# Identify reviews where the cleaning function failed & display them\n",
    "print(df_test.isna().sum())\n",
    "df_test[df_test['text_cleaned'].isna()]"
   ]
  },
  {
   "cell_type": "code",
   "execution_count": 49,
   "metadata": {},
   "outputs": [],
   "source": [
    "# Create new dataframe with cleaned text inclusive of custom sw and sentiment, save to csv.\n",
    "df_test.to_csv('../large_data/test_cleaned_10sw.csv', columns=['sentiment', 'text', 'text_cleaned', 'bigrams', 'trigrams'])"
   ]
  },
  {
   "cell_type": "markdown",
   "metadata": {},
   "source": [
    "## Reddit Product Reveiws\n",
    "As part of the project, I wanted to see how my cleaning process and final model would perform on real-world data. This section covers how I extracted 100 posts from Reddit's r/productreviews subreddit and cleaned the resulting extract for use in our model.\n",
    "\n",
    "Reddit's API requires users to create an account and register their application in order to obtain an oauth token. This process is fairly simple, and can be completed in a matter of minutes [at this link](https://www.reddit.com/prefs/apps). James Briggs has an excellent tutorial available on [Medium](https://towardsdatascience.com/how-to-use-the-reddit-api-in-python-5e05ddfd1e5c), which I followed to get access to the API. **NOTE:** James's example code involves hard coding the API credentials, which is an insecure practice for a notebook that will be stored in a public repository. If you have any intention of storing this notebook in a public repository, please use safe coding practices to protect your API credentials from misuse. Scott Harden has published a [simple blog post](https://swharden.com/blog/2021-05-15-python-credentials/) which outlines several options and their advantages and drawbacks. \n",
    "\n",
    "This notebook is set up to read the necessary API credentials from a text file stored in ./creds/reddit.txt. The creds folder is omitted from my repository for security reasons, so the following bits of code may not function without some additional work. To replicate this process, simply create a creds directory containing a blank reddit.txt file, and paste your application's personal use token, secret token, username and password on the first four lines of reddit.txt. Alternatively, you can create your own credentials file in a location of your choosing and modify the file path in the following cell to point to where it is stored.\n",
    "\n",
    "Not to worry--the cleaned Reddit data will be uploaded to the [data](./data) folder so that the modeling process can be replicated."
   ]
  },
  {
   "cell_type": "code",
   "execution_count": 284,
   "metadata": {},
   "outputs": [],
   "source": [
    "# Read necessary API credentials from reddit.txt file.\n",
    "\n",
    "with open(\"../creds/reddit.txt\") as f:\n",
    "    lines = f.readlines()\n",
    "    client_id = lines[0].strip()\n",
    "    secret_token = lines[1].strip()\n",
    "    username = lines[2].strip()\n",
    "    password = lines[3].strip()"
   ]
  },
  {
   "cell_type": "code",
   "execution_count": 285,
   "metadata": {},
   "outputs": [
    {
     "data": {
      "text/plain": [
       "<Response [200]>"
      ]
     },
     "execution_count": 285,
     "metadata": {},
     "output_type": "execute_result"
    }
   ],
   "source": [
    "# Credit to James Briggs for the starter code used to create our API session.\n",
    "# https://towardsdatascience.com/how-to-use-the-reddit-api-in-python-5e05ddfd1e5c)\n",
    "\n",
    "# Define auth type, inclusive of my Reddit script's API tokens\n",
    "auth = requests.auth.HTTPBasicAuth(client_id, secret_token)\n",
    "\n",
    "# Define my reddit account's username and password to be used in token generation\n",
    "data = {'grant_type': 'password',\n",
    "        'username': username,\n",
    "        'password': password}\n",
    "\n",
    "# Define my application's header information which gives Reddit a brief description of the app\n",
    "headers = {'User-Agent': 'review-finder/0.0.1'}\n",
    "\n",
    "# Send request for an OAuth token\n",
    "res = requests.post('https://www.reddit.com/api/v1/access_token', \n",
    "                    auth = auth, data = data, headers = headers)\n",
    "\n",
    "# Convert response to JSON and extract the access_token value\n",
    "TOKEN = res.json()['access_token']\n",
    "\n",
    "# Add authorization to our headers directory\n",
    "headers = {**headers, **{'Authorization': f\"bearer {TOKEN}\"}}\n",
    "\n",
    "# While the OAuth token is valid (~2 hours), we can add headers=headers to API calls\n",
    "requests.get('https://oauth.reddit.com/api/v1/me', headers=headers)"
   ]
  },
  {
   "cell_type": "markdown",
   "metadata": {},
   "source": [
    "Now we're ready to make our first call to extract post data. By default, reddit's API returns 25 posts with each call unless the limit parameter is increased. We will increase this to 100 posts, and execute our first call."
   ]
  },
  {
   "cell_type": "code",
   "execution_count": 286,
   "metadata": {},
   "outputs": [],
   "source": [
    "# Make an API call using a limit parameter of 100\n",
    "req_new = requests.get(\"https://oauth.reddit.com/r/ProductReviews/new\",\n",
    "                   headers=headers,\n",
    "                   params={'limit': '100'})     "
   ]
  },
  {
   "cell_type": "code",
   "execution_count": 287,
   "metadata": {},
   "outputs": [
    {
     "data": {
      "text/html": [
       "<div>\n",
       "<style scoped>\n",
       "    .dataframe tbody tr th:only-of-type {\n",
       "        vertical-align: middle;\n",
       "    }\n",
       "\n",
       "    .dataframe tbody tr th {\n",
       "        vertical-align: top;\n",
       "    }\n",
       "\n",
       "    .dataframe thead th {\n",
       "        text-align: right;\n",
       "    }\n",
       "</style>\n",
       "<table border=\"1\" class=\"dataframe\">\n",
       "  <thead>\n",
       "    <tr style=\"text-align: right;\">\n",
       "      <th></th>\n",
       "      <th>subreddit</th>\n",
       "      <th>title</th>\n",
       "      <th>selftext</th>\n",
       "    </tr>\n",
       "  </thead>\n",
       "  <tbody>\n",
       "    <tr>\n",
       "      <th>0</th>\n",
       "      <td>ProductReviews</td>\n",
       "      <td>Kingston DataTraveler Exodia 32GB USB 3.2 Flas...</td>\n",
       "      <td>&amp;amp;#x200B;\\n\\nhttps://preview.redd.it/6l2ty5...</td>\n",
       "    </tr>\n",
       "    <tr>\n",
       "      <th>1</th>\n",
       "      <td>ProductReviews</td>\n",
       "      <td>Farmer Leaf Huey Wa Big Trees Tea Review - Pro...</td>\n",
       "      <td></td>\n",
       "    </tr>\n",
       "    <tr>\n",
       "      <th>2</th>\n",
       "      <td>ProductReviews</td>\n",
       "      <td>Cooking boxed cake mix in the microwave review</td>\n",
       "      <td></td>\n",
       "    </tr>\n",
       "    <tr>\n",
       "      <th>3</th>\n",
       "      <td>ProductReviews</td>\n",
       "      <td>2014 Hai Lang Hao \"Glorious Years\" Bu Lang Raw...</td>\n",
       "      <td></td>\n",
       "    </tr>\n",
       "    <tr>\n",
       "      <th>4</th>\n",
       "      <td>ProductReviews</td>\n",
       "      <td>Paper VS Styrofoam airplanes</td>\n",
       "      <td></td>\n",
       "    </tr>\n",
       "    <tr>\n",
       "      <th>...</th>\n",
       "      <td>...</td>\n",
       "      <td>...</td>\n",
       "      <td>...</td>\n",
       "    </tr>\n",
       "    <tr>\n",
       "      <th>95</th>\n",
       "      <td>ProductReviews</td>\n",
       "      <td>BETTER BUSINESS FOR A BETTER TOMORROW</td>\n",
       "      <td></td>\n",
       "    </tr>\n",
       "    <tr>\n",
       "      <th>96</th>\n",
       "      <td>ProductReviews</td>\n",
       "      <td>$10 MOUSEPAD!</td>\n",
       "      <td></td>\n",
       "    </tr>\n",
       "    <tr>\n",
       "      <th>97</th>\n",
       "      <td>ProductReviews</td>\n",
       "      <td>Reviewing The 6 Best Power Racks For Your Home...</td>\n",
       "      <td></td>\n",
       "    </tr>\n",
       "    <tr>\n",
       "      <th>98</th>\n",
       "      <td>ProductReviews</td>\n",
       "      <td>Neewer Camera Monitor: It comes with a battery!</td>\n",
       "      <td></td>\n",
       "    </tr>\n",
       "    <tr>\n",
       "      <th>99</th>\n",
       "      <td>ProductReviews</td>\n",
       "      <td>Smooth Skin?</td>\n",
       "      <td></td>\n",
       "    </tr>\n",
       "  </tbody>\n",
       "</table>\n",
       "<p>100 rows × 3 columns</p>\n",
       "</div>"
      ],
      "text/plain": [
       "         subreddit                                              title  \\\n",
       "0   ProductReviews  Kingston DataTraveler Exodia 32GB USB 3.2 Flas...   \n",
       "1   ProductReviews  Farmer Leaf Huey Wa Big Trees Tea Review - Pro...   \n",
       "2   ProductReviews     Cooking boxed cake mix in the microwave review   \n",
       "3   ProductReviews  2014 Hai Lang Hao \"Glorious Years\" Bu Lang Raw...   \n",
       "4   ProductReviews                       Paper VS Styrofoam airplanes   \n",
       "..             ...                                                ...   \n",
       "95  ProductReviews              BETTER BUSINESS FOR A BETTER TOMORROW   \n",
       "96  ProductReviews                                      $10 MOUSEPAD!   \n",
       "97  ProductReviews  Reviewing The 6 Best Power Racks For Your Home...   \n",
       "98  ProductReviews    Neewer Camera Monitor: It comes with a battery!   \n",
       "99  ProductReviews                                       Smooth Skin?   \n",
       "\n",
       "                                             selftext  \n",
       "0   &amp;#x200B;\\n\\nhttps://preview.redd.it/6l2ty5...  \n",
       "1                                                      \n",
       "2                                                      \n",
       "3                                                      \n",
       "4                                                      \n",
       "..                                                ...  \n",
       "95                                                     \n",
       "96                                                     \n",
       "97                                                     \n",
       "98                                                     \n",
       "99                                                     \n",
       "\n",
       "[100 rows x 3 columns]"
      ]
     },
     "execution_count": 287,
     "metadata": {},
     "output_type": "execute_result"
    }
   ],
   "source": [
    "# Instantiate a new dataframe to hold the results of our calls\n",
    "df_red_new = pd.DataFrame()\n",
    "\n",
    "# Loop over the posts in the response\n",
    "for post in req_new.json()['data']['children']:\n",
    "    \n",
    "    # Append relevant post data to dataframe\n",
    "    df_red_new = df_red_new.append({\n",
    "        'subreddit': post['data']['subreddit'],\n",
    "        'title': post['data']['title'],\n",
    "        'selftext': post['data']['selftext']\n",
    "        }, \n",
    "        ignore_index=True)  \n",
    "\n",
    "# Visually inspect the dataframe\n",
    "df_red_new"
   ]
  },
  {
   "cell_type": "code",
   "execution_count": 288,
   "metadata": {},
   "outputs": [],
   "source": [
    "# Save Reviews to .csv prior to cleaning.\n",
    "df_red_new.to_csv('../data/reddit_new.csv')"
   ]
  },
  {
   "cell_type": "markdown",
   "metadata": {},
   "source": [
    "When we visually inspected the dataframe above, we noted that many of the selftext fields were blank. This can happen if a user populates the \"link\" field in a reddit post and does not add any text to their post. For our purposes, we will drop these posts since we don't have an easy way to get the review text from the linked pages."
   ]
  },
  {
   "cell_type": "code",
   "execution_count": 289,
   "metadata": {},
   "outputs": [
    {
     "data": {
      "text/html": [
       "<div>\n",
       "<style scoped>\n",
       "    .dataframe tbody tr th:only-of-type {\n",
       "        vertical-align: middle;\n",
       "    }\n",
       "\n",
       "    .dataframe tbody tr th {\n",
       "        vertical-align: top;\n",
       "    }\n",
       "\n",
       "    .dataframe thead th {\n",
       "        text-align: right;\n",
       "    }\n",
       "</style>\n",
       "<table border=\"1\" class=\"dataframe\">\n",
       "  <thead>\n",
       "    <tr style=\"text-align: right;\">\n",
       "      <th></th>\n",
       "      <th>subreddit</th>\n",
       "      <th>title</th>\n",
       "      <th>selftext</th>\n",
       "    </tr>\n",
       "  </thead>\n",
       "  <tbody>\n",
       "    <tr>\n",
       "      <th>0</th>\n",
       "      <td>ProductReviews</td>\n",
       "      <td>Kingston DataTraveler Exodia 32GB USB 3.2 Flas...</td>\n",
       "      <td>&amp;amp;#x200B;\\n\\nhttps://preview.redd.it/6l2ty5...</td>\n",
       "    </tr>\n",
       "    <tr>\n",
       "      <th>7</th>\n",
       "      <td>ProductReviews</td>\n",
       "      <td>Brita Flow Water Filter Tank Review | Trusted ...</td>\n",
       "      <td>&amp;amp;#x200B;\\n\\nhttps://preview.redd.it/rcxdqi...</td>\n",
       "    </tr>\n",
       "    <tr>\n",
       "      <th>19</th>\n",
       "      <td>ProductReviews</td>\n",
       "      <td>SPRAY ON DEODORANT WORTH IT? - Degree MotionSe...</td>\n",
       "      <td>Degree MotionSense Antiperspirant Deodorant Dr...</td>\n",
       "    </tr>\n",
       "    <tr>\n",
       "      <th>26</th>\n",
       "      <td>ProductReviews</td>\n",
       "      <td>Do not buy from PortoProjector</td>\n",
       "      <td>I don't think any negative review I write on [...</td>\n",
       "    </tr>\n",
       "    <tr>\n",
       "      <th>28</th>\n",
       "      <td>ProductReviews</td>\n",
       "      <td>12 Smart LED Lamps to Buy This Year!</td>\n",
       "      <td>[https://estheticselections.com/12-smart-led-l...</td>\n",
       "    </tr>\n",
       "    <tr>\n",
       "      <th>30</th>\n",
       "      <td>ProductReviews</td>\n",
       "      <td>Anker PowerWave Pad Review</td>\n",
       "      <td>https://www.reddit.com/user/tht_prelude_guy/co...</td>\n",
       "    </tr>\n",
       "    <tr>\n",
       "      <th>32</th>\n",
       "      <td>ProductReviews</td>\n",
       "      <td>My home gym. A little tour of my space and som...</td>\n",
       "      <td>[https://youtu.be/eGJyt25mPqU](https://youtu.b...</td>\n",
       "    </tr>\n",
       "    <tr>\n",
       "      <th>33</th>\n",
       "      <td>ProductReviews</td>\n",
       "      <td>Herr's Barbecue Cheese Puff Review</td>\n",
       "      <td>[https://youtu.be/CavIcNRyrZk](https://youtu.b...</td>\n",
       "    </tr>\n",
       "    <tr>\n",
       "      <th>34</th>\n",
       "      <td>ProductReviews</td>\n",
       "      <td>An unbiased review of FlexTrim's 3/4 round fle...</td>\n",
       "      <td>[https://youtu.be/RGubqwaMKYM](https://youtu.b...</td>\n",
       "    </tr>\n",
       "    <tr>\n",
       "      <th>35</th>\n",
       "      <td>ProductReviews</td>\n",
       "      <td>My review of a reverse osmosis filtration syst...</td>\n",
       "      <td>[https://youtu.be/JC6Zgx0-oj8](https://youtu.b...</td>\n",
       "    </tr>\n",
       "    <tr>\n",
       "      <th>39</th>\n",
       "      <td>ProductReviews</td>\n",
       "      <td>Taotronics Active Noise Cancelling Headphone (...</td>\n",
       "      <td>I had a chance to use Taotronics' Active Noise...</td>\n",
       "    </tr>\n",
       "    <tr>\n",
       "      <th>41</th>\n",
       "      <td>ProductReviews</td>\n",
       "      <td>US ONLY! Free!</td>\n",
       "      <td>We have free item for US only!\\n\\nNitrile Disp...</td>\n",
       "    </tr>\n",
       "    <tr>\n",
       "      <th>46</th>\n",
       "      <td>ProductReviews</td>\n",
       "      <td>I just launched a tech product review page on ...</td>\n",
       "      <td>I will review different tech products every we...</td>\n",
       "    </tr>\n",
       "    <tr>\n",
       "      <th>47</th>\n",
       "      <td>ProductReviews</td>\n",
       "      <td>Best Muscle \" massage \" Guns in 2020 - Reviews</td>\n",
       "      <td>A percussion massager or massage gun is extre...</td>\n",
       "    </tr>\n",
       "    <tr>\n",
       "      <th>49</th>\n",
       "      <td>ProductReviews</td>\n",
       "      <td>Did Thymuskin hair-growth treatment give you a...</td>\n",
       "      <td>I have been using Thymuskin hair shampoo and s...</td>\n",
       "    </tr>\n",
       "    <tr>\n",
       "      <th>57</th>\n",
       "      <td>ProductReviews</td>\n",
       "      <td>Self-installed bluetooth in 15 yr old Scion in...</td>\n",
       "      <td>I rarely review anything except books, and th...</td>\n",
       "    </tr>\n",
       "    <tr>\n",
       "      <th>59</th>\n",
       "      <td>ProductReviews</td>\n",
       "      <td>“Comfy Kiddo” a reliable webshop?</td>\n",
       "      <td>[Review]\\nI wanted to share my personal experi...</td>\n",
       "    </tr>\n",
       "    <tr>\n",
       "      <th>63</th>\n",
       "      <td>ProductReviews</td>\n",
       "      <td>Curology Reviews</td>\n",
       "      <td>Massive acne build-up, also known as the acne ...</td>\n",
       "    </tr>\n",
       "    <tr>\n",
       "      <th>72</th>\n",
       "      <td>ProductReviews</td>\n",
       "      <td>Free Charter/ Spectrum Internet for 60 Days</td>\n",
       "      <td>[https://youtu.be/xg2ODQd1ueg](https://youtu.b...</td>\n",
       "    </tr>\n",
       "    <tr>\n",
       "      <th>74</th>\n",
       "      <td>ProductReviews</td>\n",
       "      <td>Review of \"The 12 Minute Affiliate System\"</td>\n",
       "      <td>WHAT IS THE 12 MINUTE AFFILIATE SYSTEM?\\n\\nThe...</td>\n",
       "    </tr>\n",
       "    <tr>\n",
       "      <th>77</th>\n",
       "      <td>ProductReviews</td>\n",
       "      <td>Review of \"Brain Training for Dogs\" 2020 - Hel...</td>\n",
       "      <td>\\n\\n## WHAT IS “BRAIN TRAINING FOR DOGS” PROG...</td>\n",
       "    </tr>\n",
       "  </tbody>\n",
       "</table>\n",
       "</div>"
      ],
      "text/plain": [
       "         subreddit                                              title  \\\n",
       "0   ProductReviews  Kingston DataTraveler Exodia 32GB USB 3.2 Flas...   \n",
       "7   ProductReviews  Brita Flow Water Filter Tank Review | Trusted ...   \n",
       "19  ProductReviews  SPRAY ON DEODORANT WORTH IT? - Degree MotionSe...   \n",
       "26  ProductReviews                     Do not buy from PortoProjector   \n",
       "28  ProductReviews               12 Smart LED Lamps to Buy This Year!   \n",
       "30  ProductReviews                         Anker PowerWave Pad Review   \n",
       "32  ProductReviews  My home gym. A little tour of my space and som...   \n",
       "33  ProductReviews                 Herr's Barbecue Cheese Puff Review   \n",
       "34  ProductReviews  An unbiased review of FlexTrim's 3/4 round fle...   \n",
       "35  ProductReviews  My review of a reverse osmosis filtration syst...   \n",
       "39  ProductReviews  Taotronics Active Noise Cancelling Headphone (...   \n",
       "41  ProductReviews                                     US ONLY! Free!   \n",
       "46  ProductReviews  I just launched a tech product review page on ...   \n",
       "47  ProductReviews     Best Muscle \" massage \" Guns in 2020 - Reviews   \n",
       "49  ProductReviews  Did Thymuskin hair-growth treatment give you a...   \n",
       "57  ProductReviews  Self-installed bluetooth in 15 yr old Scion in...   \n",
       "59  ProductReviews                  “Comfy Kiddo” a reliable webshop?   \n",
       "63  ProductReviews                                   Curology Reviews   \n",
       "72  ProductReviews        Free Charter/ Spectrum Internet for 60 Days   \n",
       "74  ProductReviews         Review of \"The 12 Minute Affiliate System\"   \n",
       "77  ProductReviews  Review of \"Brain Training for Dogs\" 2020 - Hel...   \n",
       "\n",
       "                                             selftext  \n",
       "0   &amp;#x200B;\\n\\nhttps://preview.redd.it/6l2ty5...  \n",
       "7   &amp;#x200B;\\n\\nhttps://preview.redd.it/rcxdqi...  \n",
       "19  Degree MotionSense Antiperspirant Deodorant Dr...  \n",
       "26  I don't think any negative review I write on [...  \n",
       "28  [https://estheticselections.com/12-smart-led-l...  \n",
       "30  https://www.reddit.com/user/tht_prelude_guy/co...  \n",
       "32  [https://youtu.be/eGJyt25mPqU](https://youtu.b...  \n",
       "33  [https://youtu.be/CavIcNRyrZk](https://youtu.b...  \n",
       "34  [https://youtu.be/RGubqwaMKYM](https://youtu.b...  \n",
       "35  [https://youtu.be/JC6Zgx0-oj8](https://youtu.b...  \n",
       "39  I had a chance to use Taotronics' Active Noise...  \n",
       "41  We have free item for US only!\\n\\nNitrile Disp...  \n",
       "46  I will review different tech products every we...  \n",
       "47   A percussion massager or massage gun is extre...  \n",
       "49  I have been using Thymuskin hair shampoo and s...  \n",
       "57   I rarely review anything except books, and th...  \n",
       "59  [Review]\\nI wanted to share my personal experi...  \n",
       "63  Massive acne build-up, also known as the acne ...  \n",
       "72  [https://youtu.be/xg2ODQd1ueg](https://youtu.b...  \n",
       "74  WHAT IS THE 12 MINUTE AFFILIATE SYSTEM?\\n\\nThe...  \n",
       "77   \\n\\n## WHAT IS “BRAIN TRAINING FOR DOGS” PROG...  "
      ]
     },
     "execution_count": 289,
     "metadata": {},
     "output_type": "execute_result"
    }
   ],
   "source": [
    "# Convert posts with no text to show NaN so they can be dropped.\n",
    "df_red_new.replace(r'^\\s*$', np.NaN, regex=True, inplace=True)\n",
    "df_red_new.dropna(inplace=True)\n",
    "df_red_new"
   ]
  },
  {
   "cell_type": "markdown",
   "metadata": {},
   "source": [
    "From here, we will apply the same text-cleaning and n-gram creation functions to the Reddit text that we used for our Amazon data. We'll also re-check the data for posts with blank \"text_cleaned\" fields. In our case, this appears to happen when users paste a link to their video or text review and no other text in the text box. Reddit renders the video so it can be easily accessed by anyone that visits the subreddit, but we are left without any usable review text to parse. Our cleaning process will vary slightly from the Amazon data for reddit posts--because we do not have a large amount of labeled data, we cannot create custom stopwords for reddit posts. Instead we will use the default English stop words specified by nltk.\n",
    "\n",
    "After the cleaning functions are applied, we are left with 14 of our original 99 posts to pass to our model. This isn't a huge population, but should provide some anecdotal examples of whether or not the model is correctly classifying reviews based on our inspection of the text. That process is covered in the [modeling notebook](./modeling_nb.ipynb)."
   ]
  },
  {
   "cell_type": "code",
   "execution_count": 290,
   "metadata": {},
   "outputs": [
    {
     "data": {
      "text/plain": [
       "subreddit       0\n",
       "title           0\n",
       "selftext        0\n",
       "text_cleaned    0\n",
       "bigrams         0\n",
       "trigrams        0\n",
       "dtype: int64"
      ]
     },
     "execution_count": 290,
     "metadata": {},
     "output_type": "execute_result"
    }
   ],
   "source": [
    "# Apply cleaning function to the reddit data\n",
    "df_red_new['text_cleaned'] = df_red_new['selftext'].apply(prepare_text)\n",
    "\n",
    "# Create & store trigrams in a new column\n",
    "df_red_new['bigrams'] = df_red_new['text_cleaned'].apply(ngram_creator, n=2)\n",
    "\n",
    "# Create & store trigrams in a new column\n",
    "df_red_new['trigrams'] = df_red_new['text_cleaned'].apply(ngram_creator, n=3)\n",
    "\n",
    "# Convert posts with no text to show NaN so they can be dropped & drop them.\n",
    "df_red_new.replace(r'^\\s*$', np.NaN, regex=True, inplace=True)\n",
    "df_red_new.dropna(inplace=True)\n",
    "\n",
    "# Reset dataframe index after dropping instances of blank posts\n",
    "df_red_new.reset_index(drop=True, inplace=True)\n",
    "\n",
    "# Confirm we have no missing values\n",
    "df_red_new.isna().sum()"
   ]
  },
  {
   "cell_type": "code",
   "execution_count": 291,
   "metadata": {},
   "outputs": [
    {
     "data": {
      "text/html": [
       "<div>\n",
       "<style scoped>\n",
       "    .dataframe tbody tr th:only-of-type {\n",
       "        vertical-align: middle;\n",
       "    }\n",
       "\n",
       "    .dataframe tbody tr th {\n",
       "        vertical-align: top;\n",
       "    }\n",
       "\n",
       "    .dataframe thead th {\n",
       "        text-align: right;\n",
       "    }\n",
       "</style>\n",
       "<table border=\"1\" class=\"dataframe\">\n",
       "  <thead>\n",
       "    <tr style=\"text-align: right;\">\n",
       "      <th></th>\n",
       "      <th>subreddit</th>\n",
       "      <th>title</th>\n",
       "      <th>selftext</th>\n",
       "      <th>text_cleaned</th>\n",
       "      <th>bigrams</th>\n",
       "      <th>trigrams</th>\n",
       "    </tr>\n",
       "  </thead>\n",
       "  <tbody>\n",
       "    <tr>\n",
       "      <th>0</th>\n",
       "      <td>ProductReviews</td>\n",
       "      <td>Kingston DataTraveler Exodia 32GB USB 3.2 Flas...</td>\n",
       "      <td>&amp;amp;#x200B;\\n\\nhttps://preview.redd.it/6l2ty5...</td>\n",
       "      <td>amp x b kingston datatraveler exodia affordabl...</td>\n",
       "      <td>[(amp, x), (x, b), (b, kingston), (kingston, d...</td>\n",
       "      <td>[(amp, x, b), (x, b, kingston), (b, kingston, ...</td>\n",
       "    </tr>\n",
       "    <tr>\n",
       "      <th>1</th>\n",
       "      <td>ProductReviews</td>\n",
       "      <td>Brita Flow Water Filter Tank Review | Trusted ...</td>\n",
       "      <td>&amp;amp;#x200B;\\n\\nhttps://preview.redd.it/rcxdqi...</td>\n",
       "      <td>amp x b brita flow water tank design filter ta...</td>\n",
       "      <td>[(amp, x), (x, b), (b, brita), (brita, flow), ...</td>\n",
       "      <td>[(amp, x, b), (x, b, brita), (b, brita, flow),...</td>\n",
       "    </tr>\n",
       "    <tr>\n",
       "      <th>2</th>\n",
       "      <td>ProductReviews</td>\n",
       "      <td>SPRAY ON DEODORANT WORTH IT? - Degree MotionSe...</td>\n",
       "      <td>Degree MotionSense Antiperspirant Deodorant Dr...</td>\n",
       "      <td>degree motionsense antiperspirant deodorant dr...</td>\n",
       "      <td>[(degree, motionsense), (motionsense, antipers...</td>\n",
       "      <td>[(degree, motionsense, antiperspirant), (motio...</td>\n",
       "    </tr>\n",
       "    <tr>\n",
       "      <th>3</th>\n",
       "      <td>ProductReviews</td>\n",
       "      <td>Do not buy from PortoProjector</td>\n",
       "      <td>I don't think any negative review I write on [...</td>\n",
       "      <td>think negative review write site display i'll ...</td>\n",
       "      <td>[(think, negative), (negative, review), (revie...</td>\n",
       "      <td>[(think, negative, review), (negative, review,...</td>\n",
       "    </tr>\n",
       "    <tr>\n",
       "      <th>4</th>\n",
       "      <td>ProductReviews</td>\n",
       "      <td>Taotronics Active Noise Cancelling Headphone (...</td>\n",
       "      <td>I had a chance to use Taotronics' Active Noise...</td>\n",
       "      <td>chance use taotronics active noise cancel head...</td>\n",
       "      <td>[(chance, use), (use, taotronics), (taotronics...</td>\n",
       "      <td>[(chance, use, taotronics), (use, taotronics, ...</td>\n",
       "    </tr>\n",
       "    <tr>\n",
       "      <th>5</th>\n",
       "      <td>ProductReviews</td>\n",
       "      <td>US ONLY! Free!</td>\n",
       "      <td>We have free item for US only!\\n\\nNitrile Disp...</td>\n",
       "      <td>free item u nitrile disposable glove pcs inter...</td>\n",
       "      <td>[(free, item), (item, u), (u, nitrile), (nitri...</td>\n",
       "      <td>[(free, item, u), (item, u, nitrile), (u, nitr...</td>\n",
       "    </tr>\n",
       "    <tr>\n",
       "      <th>6</th>\n",
       "      <td>ProductReviews</td>\n",
       "      <td>I just launched a tech product review page on ...</td>\n",
       "      <td>I will review different tech products every we...</td>\n",
       "      <td>review different tech product every week join ...</td>\n",
       "      <td>[(review, different), (different, tech), (tech...</td>\n",
       "      <td>[(review, different, tech), (different, tech, ...</td>\n",
       "    </tr>\n",
       "    <tr>\n",
       "      <th>7</th>\n",
       "      <td>ProductReviews</td>\n",
       "      <td>Best Muscle \" massage \" Guns in 2020 - Reviews</td>\n",
       "      <td>A percussion massager or massage gun is extre...</td>\n",
       "      <td>percussion massager massage gun extremely usef...</td>\n",
       "      <td>[(percussion, massager), (massager, massage), ...</td>\n",
       "      <td>[(percussion, massager, massage), (massager, m...</td>\n",
       "    </tr>\n",
       "    <tr>\n",
       "      <th>8</th>\n",
       "      <td>ProductReviews</td>\n",
       "      <td>Did Thymuskin hair-growth treatment give you a...</td>\n",
       "      <td>I have been using Thymuskin hair shampoo and s...</td>\n",
       "      <td>use thymuskin hair shampoo serum medium month ...</td>\n",
       "      <td>[(use, thymuskin), (thymuskin, hair), (hair, s...</td>\n",
       "      <td>[(use, thymuskin, hair), (thymuskin, hair, sha...</td>\n",
       "    </tr>\n",
       "    <tr>\n",
       "      <th>9</th>\n",
       "      <td>ProductReviews</td>\n",
       "      <td>Self-installed bluetooth in 15 yr old Scion in...</td>\n",
       "      <td>I rarely review anything except books, and th...</td>\n",
       "      <td>rarely review anything except book excellent p...</td>\n",
       "      <td>[(rarely, review), (review, anything), (anythi...</td>\n",
       "      <td>[(rarely, review, anything), (review, anything...</td>\n",
       "    </tr>\n",
       "    <tr>\n",
       "      <th>10</th>\n",
       "      <td>ProductReviews</td>\n",
       "      <td>“Comfy Kiddo” a reliable webshop?</td>\n",
       "      <td>[Review]\\nI wanted to share my personal experi...</td>\n",
       "      <td>review want share personal experience regard p...</td>\n",
       "      <td>[(review, want), (want, share), (share, person...</td>\n",
       "      <td>[(review, want, share), (want, share, personal...</td>\n",
       "    </tr>\n",
       "    <tr>\n",
       "      <th>11</th>\n",
       "      <td>ProductReviews</td>\n",
       "      <td>Curology Reviews</td>\n",
       "      <td>Massive acne build-up, also known as the acne ...</td>\n",
       "      <td>massive acne build also know acne vulgaris les...</td>\n",
       "      <td>[(massive, acne), (acne, build), (build, also)...</td>\n",
       "      <td>[(massive, acne, build), (acne, build, also), ...</td>\n",
       "    </tr>\n",
       "    <tr>\n",
       "      <th>12</th>\n",
       "      <td>ProductReviews</td>\n",
       "      <td>Review of \"The 12 Minute Affiliate System\"</td>\n",
       "      <td>WHAT IS THE 12 MINUTE AFFILIATE SYSTEM?\\n\\nThe...</td>\n",
       "      <td>minute affiliate system minute affiliate syste...</td>\n",
       "      <td>[(minute, affiliate), (affiliate, system), (sy...</td>\n",
       "      <td>[(minute, affiliate, system), (affiliate, syst...</td>\n",
       "    </tr>\n",
       "    <tr>\n",
       "      <th>13</th>\n",
       "      <td>ProductReviews</td>\n",
       "      <td>Review of \"Brain Training for Dogs\" 2020 - Hel...</td>\n",
       "      <td>\\n\\n## WHAT IS “BRAIN TRAINING FOR DOGS” PROG...</td>\n",
       "      <td>brain training dog program brain train dog cou...</td>\n",
       "      <td>[(brain, training), (training, dog), (dog, pro...</td>\n",
       "      <td>[(brain, training, dog), (training, dog, progr...</td>\n",
       "    </tr>\n",
       "  </tbody>\n",
       "</table>\n",
       "</div>"
      ],
      "text/plain": [
       "         subreddit                                              title  \\\n",
       "0   ProductReviews  Kingston DataTraveler Exodia 32GB USB 3.2 Flas...   \n",
       "1   ProductReviews  Brita Flow Water Filter Tank Review | Trusted ...   \n",
       "2   ProductReviews  SPRAY ON DEODORANT WORTH IT? - Degree MotionSe...   \n",
       "3   ProductReviews                     Do not buy from PortoProjector   \n",
       "4   ProductReviews  Taotronics Active Noise Cancelling Headphone (...   \n",
       "5   ProductReviews                                     US ONLY! Free!   \n",
       "6   ProductReviews  I just launched a tech product review page on ...   \n",
       "7   ProductReviews     Best Muscle \" massage \" Guns in 2020 - Reviews   \n",
       "8   ProductReviews  Did Thymuskin hair-growth treatment give you a...   \n",
       "9   ProductReviews  Self-installed bluetooth in 15 yr old Scion in...   \n",
       "10  ProductReviews                  “Comfy Kiddo” a reliable webshop?   \n",
       "11  ProductReviews                                   Curology Reviews   \n",
       "12  ProductReviews         Review of \"The 12 Minute Affiliate System\"   \n",
       "13  ProductReviews  Review of \"Brain Training for Dogs\" 2020 - Hel...   \n",
       "\n",
       "                                             selftext  \\\n",
       "0   &amp;#x200B;\\n\\nhttps://preview.redd.it/6l2ty5...   \n",
       "1   &amp;#x200B;\\n\\nhttps://preview.redd.it/rcxdqi...   \n",
       "2   Degree MotionSense Antiperspirant Deodorant Dr...   \n",
       "3   I don't think any negative review I write on [...   \n",
       "4   I had a chance to use Taotronics' Active Noise...   \n",
       "5   We have free item for US only!\\n\\nNitrile Disp...   \n",
       "6   I will review different tech products every we...   \n",
       "7    A percussion massager or massage gun is extre...   \n",
       "8   I have been using Thymuskin hair shampoo and s...   \n",
       "9    I rarely review anything except books, and th...   \n",
       "10  [Review]\\nI wanted to share my personal experi...   \n",
       "11  Massive acne build-up, also known as the acne ...   \n",
       "12  WHAT IS THE 12 MINUTE AFFILIATE SYSTEM?\\n\\nThe...   \n",
       "13   \\n\\n## WHAT IS “BRAIN TRAINING FOR DOGS” PROG...   \n",
       "\n",
       "                                         text_cleaned  \\\n",
       "0   amp x b kingston datatraveler exodia affordabl...   \n",
       "1   amp x b brita flow water tank design filter ta...   \n",
       "2   degree motionsense antiperspirant deodorant dr...   \n",
       "3   think negative review write site display i'll ...   \n",
       "4   chance use taotronics active noise cancel head...   \n",
       "5   free item u nitrile disposable glove pcs inter...   \n",
       "6   review different tech product every week join ...   \n",
       "7   percussion massager massage gun extremely usef...   \n",
       "8   use thymuskin hair shampoo serum medium month ...   \n",
       "9   rarely review anything except book excellent p...   \n",
       "10  review want share personal experience regard p...   \n",
       "11  massive acne build also know acne vulgaris les...   \n",
       "12  minute affiliate system minute affiliate syste...   \n",
       "13  brain training dog program brain train dog cou...   \n",
       "\n",
       "                                              bigrams  \\\n",
       "0   [(amp, x), (x, b), (b, kingston), (kingston, d...   \n",
       "1   [(amp, x), (x, b), (b, brita), (brita, flow), ...   \n",
       "2   [(degree, motionsense), (motionsense, antipers...   \n",
       "3   [(think, negative), (negative, review), (revie...   \n",
       "4   [(chance, use), (use, taotronics), (taotronics...   \n",
       "5   [(free, item), (item, u), (u, nitrile), (nitri...   \n",
       "6   [(review, different), (different, tech), (tech...   \n",
       "7   [(percussion, massager), (massager, massage), ...   \n",
       "8   [(use, thymuskin), (thymuskin, hair), (hair, s...   \n",
       "9   [(rarely, review), (review, anything), (anythi...   \n",
       "10  [(review, want), (want, share), (share, person...   \n",
       "11  [(massive, acne), (acne, build), (build, also)...   \n",
       "12  [(minute, affiliate), (affiliate, system), (sy...   \n",
       "13  [(brain, training), (training, dog), (dog, pro...   \n",
       "\n",
       "                                             trigrams  \n",
       "0   [(amp, x, b), (x, b, kingston), (b, kingston, ...  \n",
       "1   [(amp, x, b), (x, b, brita), (b, brita, flow),...  \n",
       "2   [(degree, motionsense, antiperspirant), (motio...  \n",
       "3   [(think, negative, review), (negative, review,...  \n",
       "4   [(chance, use, taotronics), (use, taotronics, ...  \n",
       "5   [(free, item, u), (item, u, nitrile), (u, nitr...  \n",
       "6   [(review, different, tech), (different, tech, ...  \n",
       "7   [(percussion, massager, massage), (massager, m...  \n",
       "8   [(use, thymuskin, hair), (thymuskin, hair, sha...  \n",
       "9   [(rarely, review, anything), (review, anything...  \n",
       "10  [(review, want, share), (want, share, personal...  \n",
       "11  [(massive, acne, build), (acne, build, also), ...  \n",
       "12  [(minute, affiliate, system), (affiliate, syst...  \n",
       "13  [(brain, training, dog), (training, dog, progr...  "
      ]
     },
     "execution_count": 291,
     "metadata": {},
     "output_type": "execute_result"
    }
   ],
   "source": [
    "# Visually Inspect the Results\n",
    "df_red_new"
   ]
  },
  {
   "cell_type": "code",
   "execution_count": 292,
   "metadata": {},
   "outputs": [],
   "source": [
    "# Create new dataframe with cleaned text inclusive of custom sw and sentiment, save to csv.\n",
    "df_red_new.to_csv('../data/reddit_cleaned.csv')"
   ]
  },
  {
   "cell_type": "markdown",
   "metadata": {},
   "source": [
    "### Testing Women's Fashion Data\n",
    "As one final test of the model, we will need a labeled set of unseen data. For this purpose, I am utilizing [a dataset from Kaggle](https://www.kaggle.com/datasets/nicapotato/womens-ecommerce-clothing-reviews) which contains 23,500 reviews of women's fashion items. Each product is rated on a scale from 1-5, so it should provide a reasonable test of my model's ability to make predictions on a more targeted category of reviews. This data will be used as a validation set in the [modeling notebook](modeling_nb.ipynb) to test the model's accuracy on unseen data.\n",
    "\n",
    "To mimic my training data's preparation, I elected to drop all instances of \"3\" rated products. I considered these neutral for the purposes of the exercise and therefore it is not possible for my model to correctly (or incorrectly) predict them. Like many rating datasets, there is a class imbalance in favor of 5-star rated products, but this should not matter as it will not be used for model training. If anything, it demonstrates a common issue with consumer review data."
   ]
  },
  {
   "cell_type": "code",
   "execution_count": 346,
   "metadata": {},
   "outputs": [],
   "source": [
    "# Read in the Data, using only the columns needed to evaluate using the final model.\n",
    "df_fash = pd.read_csv('../data/Womens Clothing E-Commerce Reviews.csv', index_col=0, \n",
    "                      usecols = ['Clothing ID', 'Review Text', 'Rating'])"
   ]
  },
  {
   "cell_type": "code",
   "execution_count": 356,
   "metadata": {},
   "outputs": [
    {
     "data": {
      "image/png": "[encoded data removed]",
      "text/plain": [
       "<Figure size 720x720 with 1 Axes>"
      ]
     },
     "metadata": {},
     "output_type": "display_data"
    }
   ],
   "source": [
    "# Visualize sentiment frequency within the dataset\n",
    "plt.style.use('fivethirtyeight')\n",
    "plt.rcParams.update({'font.size': 13})\n",
    "\n",
    "fig, ax = plt.subplots(figsize=(10,10))\n",
    "\n",
    "plt.hist(df_fash['Rating'], color=[86/255,180/255,233/255])\n",
    "ax.set_title(\"Sentiment Distribution in Women's Fashion Dataset\")\n",
    "ax.set_ylabel('Number of Occurences')\n",
    "ax.set_xlabel('Review Polarity')\n",
    "plt.tight_layout();\n",
    "#plt.savefig('../images/sent_dist_fashion.png', dpi=500, facecolor='auto')"
   ]
  },
  {
   "cell_type": "code",
   "execution_count": 348,
   "metadata": {},
   "outputs": [
    {
     "data": {
      "text/plain": [
       "5    13131\n",
       "4     5077\n",
       "2     1565\n",
       "1      842\n",
       "Name: Rating, dtype: int64"
      ]
     },
     "execution_count": 348,
     "metadata": {},
     "output_type": "execute_result"
    }
   ],
   "source": [
    "# Drop reviews with a rating of 3.0\n",
    "df_fash = df_fash[df_fash['Rating'] != 3]\n",
    "df_fash['Rating'].value_counts()"
   ]
  },
  {
   "cell_type": "code",
   "execution_count": 349,
   "metadata": {},
   "outputs": [
    {
     "name": "stdout",
     "output_type": "stream",
     "text": [
      "<class 'pandas.core.frame.DataFrame'>\n",
      "Int64Index: 20615 entries, 767 to 1104\n",
      "Data columns (total 2 columns):\n",
      " #   Column       Non-Null Count  Dtype \n",
      "---  ------       --------------  ----- \n",
      " 0   Review Text  19818 non-null  object\n",
      " 1   Rating       20615 non-null  int64 \n",
      "dtypes: int64(1), object(1)\n",
      "memory usage: 483.2+ KB\n"
     ]
    }
   ],
   "source": [
    "# Review info\n",
    "df_fash.info()"
   ]
  },
  {
   "cell_type": "code",
   "execution_count": 351,
   "metadata": {},
   "outputs": [],
   "source": [
    "# Convert posts with no text to show NaN so they can be dropped & drop them.\n",
    "df_fash.replace(r'^\\s*$', np.NaN, regex=True, inplace=True)\n",
    "df_fash.dropna(inplace=True)\n",
    "\n",
    "# Reset dataframe index after dropping instances of blank posts\n",
    "df_red_new.reset_index(drop=True, inplace=True)\n",
    "\n",
    "# Confirm we have no missing values\n",
    "df_red_new.isna().sum()\n",
    "\n",
    "# Apply cleaning function to the reddit data\n",
    "df_fash['text_cleaned'] = df_fash['Review Text'].apply(prepare_text)\n",
    "\n",
    "# Create & store trigrams in a new column\n",
    "df_fash['bigrams'] = df_fash['text_cleaned'].apply(ngram_creator, n=2)\n",
    "\n",
    "# Create & store trigrams in a new column\n",
    "df_fash['trigrams'] = df_fash['text_cleaned'].apply(ngram_creator, n=3)"
   ]
  },
  {
   "cell_type": "code",
   "execution_count": 352,
   "metadata": {},
   "outputs": [
    {
     "data": {
      "text/plain": [
       "Review Text     0\n",
       "Rating          0\n",
       "text_cleaned    0\n",
       "bigrams         0\n",
       "trigrams        0\n",
       "dtype: int64"
      ]
     },
     "execution_count": 352,
     "metadata": {},
     "output_type": "execute_result"
    }
   ],
   "source": [
    "# Confirm no missing fields\n",
    "df_fash.isna().sum()"
   ]
  },
  {
   "cell_type": "code",
   "execution_count": 354,
   "metadata": {},
   "outputs": [
    {
     "data": {
      "text/html": [
       "<div>\n",
       "<style scoped>\n",
       "    .dataframe tbody tr th:only-of-type {\n",
       "        vertical-align: middle;\n",
       "    }\n",
       "\n",
       "    .dataframe tbody tr th {\n",
       "        vertical-align: top;\n",
       "    }\n",
       "\n",
       "    .dataframe thead th {\n",
       "        text-align: right;\n",
       "    }\n",
       "</style>\n",
       "<table border=\"1\" class=\"dataframe\">\n",
       "  <thead>\n",
       "    <tr style=\"text-align: right;\">\n",
       "      <th></th>\n",
       "      <th>Review Text</th>\n",
       "      <th>Rating</th>\n",
       "      <th>text_cleaned</th>\n",
       "      <th>bigrams</th>\n",
       "      <th>trigrams</th>\n",
       "    </tr>\n",
       "    <tr>\n",
       "      <th>Clothing ID</th>\n",
       "      <th></th>\n",
       "      <th></th>\n",
       "      <th></th>\n",
       "      <th></th>\n",
       "      <th></th>\n",
       "    </tr>\n",
       "  </thead>\n",
       "  <tbody>\n",
       "    <tr>\n",
       "      <th>767</th>\n",
       "      <td>Absolutely wonderful - silky and sexy and comf...</td>\n",
       "      <td>4</td>\n",
       "      <td>absolutely wonderful silky sexy comfortable</td>\n",
       "      <td>[(absolutely, wonderful), (wonderful, silky), ...</td>\n",
       "      <td>[(absolutely, wonderful, silky), (wonderful, s...</td>\n",
       "    </tr>\n",
       "    <tr>\n",
       "      <th>1080</th>\n",
       "      <td>Love this dress!  it's sooo pretty.  i happene...</td>\n",
       "      <td>5</td>\n",
       "      <td>love dress sooo pretty happen find store i'm g...</td>\n",
       "      <td>[(love, dress), (dress, sooo), (sooo, pretty),...</td>\n",
       "      <td>[(love, dress, sooo), (dress, sooo, pretty), (...</td>\n",
       "    </tr>\n",
       "    <tr>\n",
       "      <th>1049</th>\n",
       "      <td>I love, love, love this jumpsuit. it's fun, fl...</td>\n",
       "      <td>5</td>\n",
       "      <td>love love love jumpsuit fun flirty fabulous ev...</td>\n",
       "      <td>[(love, love), (love, love), (love, jumpsuit),...</td>\n",
       "      <td>[(love, love, love), (love, love, jumpsuit), (...</td>\n",
       "    </tr>\n",
       "    <tr>\n",
       "      <th>847</th>\n",
       "      <td>This shirt is very flattering to all due to th...</td>\n",
       "      <td>5</td>\n",
       "      <td>shirt flatter due adjustable front tie perfect...</td>\n",
       "      <td>[(shirt, flatter), (flatter, due), (due, adjus...</td>\n",
       "      <td>[(shirt, flatter, due), (flatter, due, adjusta...</td>\n",
       "    </tr>\n",
       "    <tr>\n",
       "      <th>1080</th>\n",
       "      <td>I love tracy reese dresses, but this one is no...</td>\n",
       "      <td>2</td>\n",
       "      <td>love tracy reese dress one petite foot tall us...</td>\n",
       "      <td>[(love, tracy), (tracy, reese), (reese, dress)...</td>\n",
       "      <td>[(love, tracy, reese), (tracy, reese, dress), ...</td>\n",
       "    </tr>\n",
       "  </tbody>\n",
       "</table>\n",
       "</div>"
      ],
      "text/plain": [
       "                                                   Review Text  Rating  \\\n",
       "Clothing ID                                                              \n",
       "767          Absolutely wonderful - silky and sexy and comf...       4   \n",
       "1080         Love this dress!  it's sooo pretty.  i happene...       5   \n",
       "1049         I love, love, love this jumpsuit. it's fun, fl...       5   \n",
       "847          This shirt is very flattering to all due to th...       5   \n",
       "1080         I love tracy reese dresses, but this one is no...       2   \n",
       "\n",
       "                                                  text_cleaned  \\\n",
       "Clothing ID                                                      \n",
       "767                absolutely wonderful silky sexy comfortable   \n",
       "1080         love dress sooo pretty happen find store i'm g...   \n",
       "1049         love love love jumpsuit fun flirty fabulous ev...   \n",
       "847          shirt flatter due adjustable front tie perfect...   \n",
       "1080         love tracy reese dress one petite foot tall us...   \n",
       "\n",
       "                                                       bigrams  \\\n",
       "Clothing ID                                                      \n",
       "767          [(absolutely, wonderful), (wonderful, silky), ...   \n",
       "1080         [(love, dress), (dress, sooo), (sooo, pretty),...   \n",
       "1049         [(love, love), (love, love), (love, jumpsuit),...   \n",
       "847          [(shirt, flatter), (flatter, due), (due, adjus...   \n",
       "1080         [(love, tracy), (tracy, reese), (reese, dress)...   \n",
       "\n",
       "                                                      trigrams  \n",
       "Clothing ID                                                     \n",
       "767          [(absolutely, wonderful, silky), (wonderful, s...  \n",
       "1080         [(love, dress, sooo), (dress, sooo, pretty), (...  \n",
       "1049         [(love, love, love), (love, love, jumpsuit), (...  \n",
       "847          [(shirt, flatter, due), (flatter, due, adjusta...  \n",
       "1080         [(love, tracy, reese), (tracy, reese, dress), ...  "
      ]
     },
     "execution_count": 354,
     "metadata": {},
     "output_type": "execute_result"
    }
   ],
   "source": [
    "# Visually inspect header\n",
    "df_fash.head()"
   ]
  },
  {
   "cell_type": "code",
   "execution_count": 359,
   "metadata": {},
   "outputs": [],
   "source": [
    "# Bin ratings into binary categories for use in final model\n",
    "df_fash.loc[df_fash['Rating'].between(1, 2, 'both'), 'sentiment'] = 1\n",
    "df_fash.loc[df_fash['Rating'].between(4, 5, 'both'), 'sentiment'] = 2\n",
    "df_fash"
   ]
  },
  {
   "cell_type": "code",
   "execution_count": 361,
   "metadata": {},
   "outputs": [],
   "source": [
    "# Save cleaned fashion data to .csv\n",
    "df_fash.to_csv('../data/fashion_cleaned.csv')"
   ]
  },
  {
   "cell_type": "code",
   "execution_count": null,
   "metadata": {},
   "outputs": [],
   "source": []
  }
 ],
 "metadata": {
  "kernelspec": {
   "display_name": "Python (spark-cap-env)",
   "language": "python",
   "name": "spark-cap-env"
  },
  "language_info": {
   "codemirror_mode": {
    "name": "ipython",
    "version": 3
   },
   "file_extension": ".py",
   "mimetype": "text/x-python",
   "name": "python",
   "nbconvert_exporter": "python",
   "pygments_lexer": "ipython3",
   "version": "3.8.13"
  }
 },
 "nbformat": 4,
 "nbformat_minor": 4
}
