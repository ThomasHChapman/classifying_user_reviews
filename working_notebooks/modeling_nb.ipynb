{
 "cells": [
  {
   "cell_type": "code",
   "execution_count": 1,
   "metadata": {},
   "outputs": [],
   "source": [
    "# Package Imports\n",
    "import pandas as pd\n",
    "import numpy as np\n",
    "import pickle\n",
    "\n",
    "from sklearn.dummy import DummyClassifier\n",
    "from sklearn.feature_extraction.text import TfidfVectorizer\n",
    "from sklearn.metrics import plot_confusion_matrix, confusion_matrix, make_scorer, recall_score, accuracy_score, precision_score, f1_score, classification_report\n",
    "from sklearn.naive_bayes import MultinomialNB\n",
    "from sklearn.model_selection import train_test_split, ParameterGrid, GridSearchCV, cross_validate, cross_val_score\n",
    "from sklearn.ensemble import RandomForestClassifier, GradientBoostingClassifier\n",
    "from sklearn.linear_model import SGDClassifier\n",
    "\n",
    "from imblearn.pipeline import Pipeline as ImPipeline\n",
    "\n",
    "import keras\n",
    "from tensorflow.keras.models import Sequential\n",
    "from tensorflow.keras.layers import Dense\n",
    "from tensorflow.keras.preprocessing.text import Tokenizer"
   ]
  },
  {
   "cell_type": "markdown",
   "metadata": {},
   "source": [
    "# Modeling"
   ]
  },
  {
   "cell_type": "code",
   "execution_count": 2,
   "metadata": {},
   "outputs": [],
   "source": [
    "max_features = 100000"
   ]
  },
  {
   "cell_type": "code",
   "execution_count": 3,
   "metadata": {},
   "outputs": [],
   "source": [
    "# Read in the data\n",
    "df = pd.read_csv('../data/train_cleaned.csv', usecols=['sentiment', 'text_cleaned', 'toks', 'trigrams'])"
   ]
  },
  {
   "cell_type": "code",
   "execution_count": 4,
   "metadata": {},
   "outputs": [
    {
     "data": {
      "text/html": [
       "<div>\n",
       "<style scoped>\n",
       "    .dataframe tbody tr th:only-of-type {\n",
       "        vertical-align: middle;\n",
       "    }\n",
       "\n",
       "    .dataframe tbody tr th {\n",
       "        vertical-align: top;\n",
       "    }\n",
       "\n",
       "    .dataframe thead th {\n",
       "        text-align: right;\n",
       "    }\n",
       "</style>\n",
       "<table border=\"1\" class=\"dataframe\">\n",
       "  <thead>\n",
       "    <tr style=\"text-align: right;\">\n",
       "      <th></th>\n",
       "      <th>sentiment</th>\n",
       "      <th>text_cleaned</th>\n",
       "      <th>toks</th>\n",
       "      <th>trigrams</th>\n",
       "    </tr>\n",
       "  </thead>\n",
       "  <tbody>\n",
       "    <tr>\n",
       "      <th>0</th>\n",
       "      <td>2</td>\n",
       "      <td>sound track beautiful paint senery mind well w...</td>\n",
       "      <td>['sound', 'track', 'beautiful', 'paint', 'sene...</td>\n",
       "      <td>[('sound', 'track', 'beautiful'), ('track', 'b...</td>\n",
       "    </tr>\n",
       "    <tr>\n",
       "      <th>1</th>\n",
       "      <td>2</td>\n",
       "      <td>i'm reading lot review say best game soundtrac...</td>\n",
       "      <td>[\"i'm\", 'reading', 'lot', 'review', 'say', 'be...</td>\n",
       "      <td>[(\"i'm\", 'reading', 'lot'), ('reading', 'lot',...</td>\n",
       "    </tr>\n",
       "    <tr>\n",
       "      <th>2</th>\n",
       "      <td>2</td>\n",
       "      <td>soundtrack favorite music time hand intense sa...</td>\n",
       "      <td>['soundtrack', 'favorite', 'music', 'time', 'h...</td>\n",
       "      <td>[('soundtrack', 'favorite', 'music'), ('favori...</td>\n",
       "    </tr>\n",
       "    <tr>\n",
       "      <th>3</th>\n",
       "      <td>2</td>\n",
       "      <td>truly like soundtrack enjoy video game music p...</td>\n",
       "      <td>['truly', 'like', 'soundtrack', 'enjoy', 'vide...</td>\n",
       "      <td>[('truly', 'like', 'soundtrack'), ('like', 'so...</td>\n",
       "    </tr>\n",
       "    <tr>\n",
       "      <th>4</th>\n",
       "      <td>2</td>\n",
       "      <td>played game know divine music every single son...</td>\n",
       "      <td>['played', 'game', 'know', 'divine', 'music', ...</td>\n",
       "      <td>[('played', 'game', 'know'), ('game', 'know', ...</td>\n",
       "    </tr>\n",
       "    <tr>\n",
       "      <th>5</th>\n",
       "      <td>2</td>\n",
       "      <td>quite sure actually take time read played game...</td>\n",
       "      <td>['quite', 'sure', 'actually', 'take', 'time', ...</td>\n",
       "      <td>[('quite', 'sure', 'actually'), ('sure', 'actu...</td>\n",
       "    </tr>\n",
       "    <tr>\n",
       "      <th>6</th>\n",
       "      <td>1</td>\n",
       "      <td>self publish book want know read paragraphs st...</td>\n",
       "      <td>['self', 'publish', 'book', 'want', 'know', 'r...</td>\n",
       "      <td>[('self', 'publish', 'book'), ('publish', 'boo...</td>\n",
       "    </tr>\n",
       "    <tr>\n",
       "      <th>7</th>\n",
       "      <td>2</td>\n",
       "      <td>love whisper wicked saint story amaze pleasant...</td>\n",
       "      <td>['love', 'whisper', 'wicked', 'saint', 'story'...</td>\n",
       "      <td>[('love', 'whisper', 'wicked'), ('whisper', 'w...</td>\n",
       "    </tr>\n",
       "    <tr>\n",
       "      <th>8</th>\n",
       "      <td>2</td>\n",
       "      <td>finish reading whisper wicked saint fell love ...</td>\n",
       "      <td>['finish', 'reading', 'whisper', 'wicked', 'sa...</td>\n",
       "      <td>[('finish', 'reading', 'whisper'), ('reading',...</td>\n",
       "    </tr>\n",
       "    <tr>\n",
       "      <th>9</th>\n",
       "      <td>2</td>\n",
       "      <td>easy read book make want keep reading easy put...</td>\n",
       "      <td>['easy', 'read', 'book', 'make', 'want', 'keep...</td>\n",
       "      <td>[('easy', 'read', 'book'), ('read', 'book', 'm...</td>\n",
       "    </tr>\n",
       "    <tr>\n",
       "      <th>10</th>\n",
       "      <td>1</td>\n",
       "      <td>complete waste time typographical error poor g...</td>\n",
       "      <td>['complete', 'waste', 'time', 'typographical',...</td>\n",
       "      <td>[('complete', 'waste', 'time'), ('waste', 'tim...</td>\n",
       "    </tr>\n",
       "    <tr>\n",
       "      <th>11</th>\n",
       "      <td>2</td>\n",
       "      <td>great book could put could read fast enough bo...</td>\n",
       "      <td>['great', 'book', 'could', 'put', 'could', 're...</td>\n",
       "      <td>[('great', 'book', 'could'), ('book', 'could',...</td>\n",
       "    </tr>\n",
       "    <tr>\n",
       "      <th>12</th>\n",
       "      <td>2</td>\n",
       "      <td>think book brilliant yet realistic show error ...</td>\n",
       "      <td>['think', 'book', 'brilliant', 'yet', 'realist...</td>\n",
       "      <td>[('think', 'book', 'brilliant'), ('book', 'bri...</td>\n",
       "    </tr>\n",
       "    <tr>\n",
       "      <th>13</th>\n",
       "      <td>1</td>\n",
       "      <td>guess romance novel lover one discern one othe...</td>\n",
       "      <td>['guess', 'romance', 'novel', 'lover', 'one', ...</td>\n",
       "      <td>[('guess', 'romance', 'novel'), ('romance', 'n...</td>\n",
       "    </tr>\n",
       "    <tr>\n",
       "      <th>14</th>\n",
       "      <td>1</td>\n",
       "      <td>feel write keep others waste money book seem w...</td>\n",
       "      <td>['feel', 'write', 'keep', 'others', 'waste', '...</td>\n",
       "      <td>[('feel', 'write', 'keep'), ('write', 'keep', ...</td>\n",
       "    </tr>\n",
       "    <tr>\n",
       "      <th>15</th>\n",
       "      <td>1</td>\n",
       "      <td>glaringly obvious glow review write person per...</td>\n",
       "      <td>['glaringly', 'obvious', 'glow', 'review', 'wr...</td>\n",
       "      <td>[('glaringly', 'obvious', 'glow'), ('obvious',...</td>\n",
       "    </tr>\n",
       "    <tr>\n",
       "      <th>16</th>\n",
       "      <td>2</td>\n",
       "      <td>hear folk say make em like anymore might talk ...</td>\n",
       "      <td>['hear', 'folk', 'say', 'make', 'em', 'like', ...</td>\n",
       "      <td>[('hear', 'folk', 'say'), ('folk', 'say', 'mak...</td>\n",
       "    </tr>\n",
       "    <tr>\n",
       "      <th>17</th>\n",
       "      <td>2</td>\n",
       "      <td>dvt doctor require wear compression stocking w...</td>\n",
       "      <td>['dvt', 'doctor', 'require', 'wear', 'compress...</td>\n",
       "      <td>[('dvt', 'doctor', 'require'), ('doctor', 'req...</td>\n",
       "    </tr>\n",
       "    <tr>\n",
       "      <th>18</th>\n",
       "      <td>2</td>\n",
       "      <td>excellent product however difficult get old pe...</td>\n",
       "      <td>['excellent', 'product', 'however', 'difficult...</td>\n",
       "      <td>[('excellent', 'product', 'however'), ('produc...</td>\n",
       "    </tr>\n",
       "    <tr>\n",
       "      <th>19</th>\n",
       "      <td>1</td>\n",
       "      <td>sizes much small recomended chart try put shee...</td>\n",
       "      <td>['sizes', 'much', 'small', 'recomended', 'char...</td>\n",
       "      <td>[('sizes', 'much', 'small'), ('much', 'small',...</td>\n",
       "    </tr>\n",
       "    <tr>\n",
       "      <th>20</th>\n",
       "      <td>1</td>\n",
       "      <td>model may ok sedentary type i'm active get aro...</td>\n",
       "      <td>['model', 'may', 'ok', 'sedentary', 'type', \"i...</td>\n",
       "      <td>[('model', 'may', 'ok'), ('may', 'ok', 'sedent...</td>\n",
       "    </tr>\n",
       "    <tr>\n",
       "      <th>21</th>\n",
       "      <td>2</td>\n",
       "      <td>think funny buy product without know mix read ...</td>\n",
       "      <td>['think', 'funny', 'buy', 'product', 'without'...</td>\n",
       "      <td>[('think', 'funny', 'buy'), ('funny', 'buy', '...</td>\n",
       "    </tr>\n",
       "    <tr>\n",
       "      <th>22</th>\n",
       "      <td>1</td>\n",
       "      <td>rather scratch insect droppings one random pix...</td>\n",
       "      <td>['rather', 'scratch', 'insect', 'droppings', '...</td>\n",
       "      <td>[('rather', 'scratch', 'insect'), ('scratch', ...</td>\n",
       "    </tr>\n",
       "    <tr>\n",
       "      <th>23</th>\n",
       "      <td>2</td>\n",
       "      <td>thoroughly enjoy rise son daughter know book l...</td>\n",
       "      <td>['thoroughly', 'enjoy', 'rise', 'son', 'daught...</td>\n",
       "      <td>[('thoroughly', 'enjoy', 'rise'), ('enjoy', 'r...</td>\n",
       "    </tr>\n",
       "    <tr>\n",
       "      <th>24</th>\n",
       "      <td>2</td>\n",
       "      <td>heard song two thought listen song like blue a...</td>\n",
       "      <td>['heard', 'song', 'two', 'thought', 'listen', ...</td>\n",
       "      <td>[('heard', 'song', 'two'), ('song', 'two', 'th...</td>\n",
       "    </tr>\n",
       "  </tbody>\n",
       "</table>\n",
       "</div>"
      ],
      "text/plain": [
       "    sentiment                                       text_cleaned  \\\n",
       "0           2  sound track beautiful paint senery mind well w...   \n",
       "1           2  i'm reading lot review say best game soundtrac...   \n",
       "2           2  soundtrack favorite music time hand intense sa...   \n",
       "3           2  truly like soundtrack enjoy video game music p...   \n",
       "4           2  played game know divine music every single son...   \n",
       "5           2  quite sure actually take time read played game...   \n",
       "6           1  self publish book want know read paragraphs st...   \n",
       "7           2  love whisper wicked saint story amaze pleasant...   \n",
       "8           2  finish reading whisper wicked saint fell love ...   \n",
       "9           2  easy read book make want keep reading easy put...   \n",
       "10          1  complete waste time typographical error poor g...   \n",
       "11          2  great book could put could read fast enough bo...   \n",
       "12          2  think book brilliant yet realistic show error ...   \n",
       "13          1  guess romance novel lover one discern one othe...   \n",
       "14          1  feel write keep others waste money book seem w...   \n",
       "15          1  glaringly obvious glow review write person per...   \n",
       "16          2  hear folk say make em like anymore might talk ...   \n",
       "17          2  dvt doctor require wear compression stocking w...   \n",
       "18          2  excellent product however difficult get old pe...   \n",
       "19          1  sizes much small recomended chart try put shee...   \n",
       "20          1  model may ok sedentary type i'm active get aro...   \n",
       "21          2  think funny buy product without know mix read ...   \n",
       "22          1  rather scratch insect droppings one random pix...   \n",
       "23          2  thoroughly enjoy rise son daughter know book l...   \n",
       "24          2  heard song two thought listen song like blue a...   \n",
       "\n",
       "                                                 toks  \\\n",
       "0   ['sound', 'track', 'beautiful', 'paint', 'sene...   \n",
       "1   [\"i'm\", 'reading', 'lot', 'review', 'say', 'be...   \n",
       "2   ['soundtrack', 'favorite', 'music', 'time', 'h...   \n",
       "3   ['truly', 'like', 'soundtrack', 'enjoy', 'vide...   \n",
       "4   ['played', 'game', 'know', 'divine', 'music', ...   \n",
       "5   ['quite', 'sure', 'actually', 'take', 'time', ...   \n",
       "6   ['self', 'publish', 'book', 'want', 'know', 'r...   \n",
       "7   ['love', 'whisper', 'wicked', 'saint', 'story'...   \n",
       "8   ['finish', 'reading', 'whisper', 'wicked', 'sa...   \n",
       "9   ['easy', 'read', 'book', 'make', 'want', 'keep...   \n",
       "10  ['complete', 'waste', 'time', 'typographical',...   \n",
       "11  ['great', 'book', 'could', 'put', 'could', 're...   \n",
       "12  ['think', 'book', 'brilliant', 'yet', 'realist...   \n",
       "13  ['guess', 'romance', 'novel', 'lover', 'one', ...   \n",
       "14  ['feel', 'write', 'keep', 'others', 'waste', '...   \n",
       "15  ['glaringly', 'obvious', 'glow', 'review', 'wr...   \n",
       "16  ['hear', 'folk', 'say', 'make', 'em', 'like', ...   \n",
       "17  ['dvt', 'doctor', 'require', 'wear', 'compress...   \n",
       "18  ['excellent', 'product', 'however', 'difficult...   \n",
       "19  ['sizes', 'much', 'small', 'recomended', 'char...   \n",
       "20  ['model', 'may', 'ok', 'sedentary', 'type', \"i...   \n",
       "21  ['think', 'funny', 'buy', 'product', 'without'...   \n",
       "22  ['rather', 'scratch', 'insect', 'droppings', '...   \n",
       "23  ['thoroughly', 'enjoy', 'rise', 'son', 'daught...   \n",
       "24  ['heard', 'song', 'two', 'thought', 'listen', ...   \n",
       "\n",
       "                                             trigrams  \n",
       "0   [('sound', 'track', 'beautiful'), ('track', 'b...  \n",
       "1   [(\"i'm\", 'reading', 'lot'), ('reading', 'lot',...  \n",
       "2   [('soundtrack', 'favorite', 'music'), ('favori...  \n",
       "3   [('truly', 'like', 'soundtrack'), ('like', 'so...  \n",
       "4   [('played', 'game', 'know'), ('game', 'know', ...  \n",
       "5   [('quite', 'sure', 'actually'), ('sure', 'actu...  \n",
       "6   [('self', 'publish', 'book'), ('publish', 'boo...  \n",
       "7   [('love', 'whisper', 'wicked'), ('whisper', 'w...  \n",
       "8   [('finish', 'reading', 'whisper'), ('reading',...  \n",
       "9   [('easy', 'read', 'book'), ('read', 'book', 'm...  \n",
       "10  [('complete', 'waste', 'time'), ('waste', 'tim...  \n",
       "11  [('great', 'book', 'could'), ('book', 'could',...  \n",
       "12  [('think', 'book', 'brilliant'), ('book', 'bri...  \n",
       "13  [('guess', 'romance', 'novel'), ('romance', 'n...  \n",
       "14  [('feel', 'write', 'keep'), ('write', 'keep', ...  \n",
       "15  [('glaringly', 'obvious', 'glow'), ('obvious',...  \n",
       "16  [('hear', 'folk', 'say'), ('folk', 'say', 'mak...  \n",
       "17  [('dvt', 'doctor', 'require'), ('doctor', 'req...  \n",
       "18  [('excellent', 'product', 'however'), ('produc...  \n",
       "19  [('sizes', 'much', 'small'), ('much', 'small',...  \n",
       "20  [('model', 'may', 'ok'), ('may', 'ok', 'sedent...  \n",
       "21  [('think', 'funny', 'buy'), ('funny', 'buy', '...  \n",
       "22  [('rather', 'scratch', 'insect'), ('scratch', ...  \n",
       "23  [('thoroughly', 'enjoy', 'rise'), ('enjoy', 'r...  \n",
       "24  [('heard', 'song', 'two'), ('song', 'two', 'th...  "
      ]
     },
     "execution_count": 4,
     "metadata": {},
     "output_type": "execute_result"
    }
   ],
   "source": [
    "df.head(25)"
   ]
  },
  {
   "cell_type": "code",
   "execution_count": 5,
   "metadata": {},
   "outputs": [
    {
     "name": "stdout",
     "output_type": "stream",
     "text": [
      "sentiment        0\n",
      "text_cleaned    19\n",
      "toks             0\n",
      "trigrams         0\n",
      "dtype: int64\n"
     ]
    },
    {
     "data": {
      "text/html": [
       "<div>\n",
       "<style scoped>\n",
       "    .dataframe tbody tr th:only-of-type {\n",
       "        vertical-align: middle;\n",
       "    }\n",
       "\n",
       "    .dataframe tbody tr th {\n",
       "        vertical-align: top;\n",
       "    }\n",
       "\n",
       "    .dataframe thead th {\n",
       "        text-align: right;\n",
       "    }\n",
       "</style>\n",
       "<table border=\"1\" class=\"dataframe\">\n",
       "  <thead>\n",
       "    <tr style=\"text-align: right;\">\n",
       "      <th></th>\n",
       "      <th>sentiment</th>\n",
       "      <th>text_cleaned</th>\n",
       "      <th>toks</th>\n",
       "      <th>trigrams</th>\n",
       "    </tr>\n",
       "  </thead>\n",
       "  <tbody>\n",
       "    <tr>\n",
       "      <th>217919</th>\n",
       "      <td>2</td>\n",
       "      <td>NaN</td>\n",
       "      <td>[]</td>\n",
       "      <td>[]</td>\n",
       "    </tr>\n",
       "    <tr>\n",
       "      <th>294435</th>\n",
       "      <td>2</td>\n",
       "      <td>NaN</td>\n",
       "      <td>[]</td>\n",
       "      <td>[]</td>\n",
       "    </tr>\n",
       "    <tr>\n",
       "      <th>629878</th>\n",
       "      <td>1</td>\n",
       "      <td>NaN</td>\n",
       "      <td>[]</td>\n",
       "      <td>[]</td>\n",
       "    </tr>\n",
       "    <tr>\n",
       "      <th>680354</th>\n",
       "      <td>2</td>\n",
       "      <td>NaN</td>\n",
       "      <td>[]</td>\n",
       "      <td>[]</td>\n",
       "    </tr>\n",
       "    <tr>\n",
       "      <th>1440939</th>\n",
       "      <td>1</td>\n",
       "      <td>NaN</td>\n",
       "      <td>[]</td>\n",
       "      <td>[]</td>\n",
       "    </tr>\n",
       "    <tr>\n",
       "      <th>1786231</th>\n",
       "      <td>2</td>\n",
       "      <td>NaN</td>\n",
       "      <td>[]</td>\n",
       "      <td>[]</td>\n",
       "    </tr>\n",
       "    <tr>\n",
       "      <th>1989004</th>\n",
       "      <td>2</td>\n",
       "      <td>NaN</td>\n",
       "      <td>[]</td>\n",
       "      <td>[]</td>\n",
       "    </tr>\n",
       "    <tr>\n",
       "      <th>2005370</th>\n",
       "      <td>1</td>\n",
       "      <td>NaN</td>\n",
       "      <td>[]</td>\n",
       "      <td>[]</td>\n",
       "    </tr>\n",
       "    <tr>\n",
       "      <th>2071299</th>\n",
       "      <td>2</td>\n",
       "      <td>NaN</td>\n",
       "      <td>[]</td>\n",
       "      <td>[]</td>\n",
       "    </tr>\n",
       "    <tr>\n",
       "      <th>2220519</th>\n",
       "      <td>2</td>\n",
       "      <td>NaN</td>\n",
       "      <td>[]</td>\n",
       "      <td>[]</td>\n",
       "    </tr>\n",
       "    <tr>\n",
       "      <th>2282778</th>\n",
       "      <td>2</td>\n",
       "      <td>NaN</td>\n",
       "      <td>[]</td>\n",
       "      <td>[]</td>\n",
       "    </tr>\n",
       "    <tr>\n",
       "      <th>2330988</th>\n",
       "      <td>1</td>\n",
       "      <td>NaN</td>\n",
       "      <td>[]</td>\n",
       "      <td>[]</td>\n",
       "    </tr>\n",
       "    <tr>\n",
       "      <th>2357286</th>\n",
       "      <td>2</td>\n",
       "      <td>NaN</td>\n",
       "      <td>[]</td>\n",
       "      <td>[]</td>\n",
       "    </tr>\n",
       "    <tr>\n",
       "      <th>2375843</th>\n",
       "      <td>2</td>\n",
       "      <td>NaN</td>\n",
       "      <td>[]</td>\n",
       "      <td>[]</td>\n",
       "    </tr>\n",
       "    <tr>\n",
       "      <th>2490037</th>\n",
       "      <td>1</td>\n",
       "      <td>NaN</td>\n",
       "      <td>[]</td>\n",
       "      <td>[]</td>\n",
       "    </tr>\n",
       "    <tr>\n",
       "      <th>2604873</th>\n",
       "      <td>1</td>\n",
       "      <td>NaN</td>\n",
       "      <td>[]</td>\n",
       "      <td>[]</td>\n",
       "    </tr>\n",
       "    <tr>\n",
       "      <th>2618232</th>\n",
       "      <td>2</td>\n",
       "      <td>NaN</td>\n",
       "      <td>[]</td>\n",
       "      <td>[]</td>\n",
       "    </tr>\n",
       "    <tr>\n",
       "      <th>2751281</th>\n",
       "      <td>2</td>\n",
       "      <td>NaN</td>\n",
       "      <td>[]</td>\n",
       "      <td>[]</td>\n",
       "    </tr>\n",
       "    <tr>\n",
       "      <th>3584048</th>\n",
       "      <td>1</td>\n",
       "      <td>NaN</td>\n",
       "      <td>[]</td>\n",
       "      <td>[]</td>\n",
       "    </tr>\n",
       "  </tbody>\n",
       "</table>\n",
       "</div>"
      ],
      "text/plain": [
       "         sentiment text_cleaned toks trigrams\n",
       "217919           2          NaN   []       []\n",
       "294435           2          NaN   []       []\n",
       "629878           1          NaN   []       []\n",
       "680354           2          NaN   []       []\n",
       "1440939          1          NaN   []       []\n",
       "1786231          2          NaN   []       []\n",
       "1989004          2          NaN   []       []\n",
       "2005370          1          NaN   []       []\n",
       "2071299          2          NaN   []       []\n",
       "2220519          2          NaN   []       []\n",
       "2282778          2          NaN   []       []\n",
       "2330988          1          NaN   []       []\n",
       "2357286          2          NaN   []       []\n",
       "2375843          2          NaN   []       []\n",
       "2490037          1          NaN   []       []\n",
       "2604873          1          NaN   []       []\n",
       "2618232          2          NaN   []       []\n",
       "2751281          2          NaN   []       []\n",
       "3584048          1          NaN   []       []"
      ]
     },
     "execution_count": 5,
     "metadata": {},
     "output_type": "execute_result"
    }
   ],
   "source": [
    "print(df.isna().sum())\n",
    "df[df['text_cleaned'].isna()]"
   ]
  },
  {
   "cell_type": "code",
   "execution_count": 8,
   "metadata": {},
   "outputs": [],
   "source": [
    "# Drop rows with missing text_cleaned values\n",
    "df.dropna(inplace=True)"
   ]
  },
  {
   "cell_type": "code",
   "execution_count": 9,
   "metadata": {},
   "outputs": [],
   "source": [
    "X = df['text_cleaned']\n",
    "y = df['sentiment']"
   ]
  },
  {
   "cell_type": "code",
   "execution_count": 10,
   "metadata": {},
   "outputs": [],
   "source": [
    "# Instantiate Dummy Classifier pipeline\n",
    "dummy_pipe = ImPipeline(steps=[\n",
    "                                ('vect', TfidfVectorizer(max_features=max_features)),\n",
    "                                ('dc', DummyClassifier(strategy='most_frequent',\n",
    "                                                           random_state=42))\n",
    "                              ]\n",
    ")"
   ]
  },
  {
   "cell_type": "code",
   "execution_count": 11,
   "metadata": {},
   "outputs": [
    {
     "name": "stderr",
     "output_type": "stream",
     "text": [
      "/Users/tom/opt/anaconda3/envs/spark-cap-env/lib/python3.8/site-packages/sklearn/utils/deprecation.py:87: FutureWarning: Function plot_confusion_matrix is deprecated; Function `plot_confusion_matrix` is deprecated in 1.0 and will be removed in 1.2. Use one of the class methods: ConfusionMatrixDisplay.from_predictions or ConfusionMatrixDisplay.from_estimator.\n",
      "  warnings.warn(msg, category=FutureWarning)\n"
     ]
    },
    {
     "name": "stdout",
     "output_type": "stream",
     "text": [
      "0.5000006944481096\n"
     ]
    },
    {
     "data": {
      "image/png": "[encoded data removed]",
      "text/plain": [
       "<Figure size 432x288 with 2 Axes>"
      ]
     },
     "metadata": {
      "needs_background": "light"
     },
     "output_type": "display_data"
    }
   ],
   "source": [
    "# Fit dummy pipe on the training data and plot confusion matrix\n",
    "dummy_pipe.fit(X, y)\n",
    "dummy_yhat = dummy_pipe.predict(X)\n",
    "plot_confusion_matrix(dummy_pipe, X, y);\n",
    "print(accuracy_score(y, dummy_yhat))"
   ]
  },
  {
   "cell_type": "code",
   "execution_count": 15,
   "metadata": {},
   "outputs": [
    {
     "name": "stderr",
     "output_type": "stream",
     "text": [
      "/Users/tom/opt/anaconda3/envs/spark-cap-env/lib/python3.8/site-packages/sklearn/utils/deprecation.py:87: FutureWarning: Function plot_confusion_matrix is deprecated; Function `plot_confusion_matrix` is deprecated in 1.0 and will be removed in 1.2. Use one of the class methods: ConfusionMatrixDisplay.from_predictions or ConfusionMatrixDisplay.from_estimator.\n",
      "  warnings.warn(msg, category=FutureWarning)\n"
     ]
    },
    {
     "name": "stdout",
     "output_type": "stream",
     "text": [
      "0.8200618281040928\n"
     ]
    },
    {
     "data": {
      "image/png": "[encoded data removed]",
      "text/plain": [
       "<Figure size 432x288 with 2 Axes>"
      ]
     },
     "metadata": {
      "needs_background": "light"
     },
     "output_type": "display_data"
    }
   ],
   "source": [
    "# Instantiate the Multinomial Naieve Bayes Pipeline\n",
    "mnb_pipe = ImPipeline(steps=[\n",
    "                            ('vect', TfidfVectorizer(max_features=max_features)),\n",
    "                            ('mnb', MultinomialNB())\n",
    "                            ]\n",
    ")\n",
    "\n",
    "# Fit MNB pipe on the training data, get predictions and plot confusion matrix\n",
    "mnb_pipe.fit(X, y)\n",
    "mnb_yhat = mnb_pipe.predict(X)\n",
    "plot_confusion_matrix(mnb_pipe, X, y, normalize='true');\n",
    "print(accuracy_score(y, mnb_yhat))"
   ]
  },
  {
   "cell_type": "code",
   "execution_count": 13,
   "metadata": {},
   "outputs": [
    {
     "name": "stderr",
     "output_type": "stream",
     "text": [
      "/Users/tom/opt/anaconda3/envs/spark-cap-env/lib/python3.8/site-packages/sklearn/utils/deprecation.py:103: FutureWarning: Attribute `n_features_` was deprecated in version 1.0 and will be removed in 1.2. Use `n_features_in_` instead.\n",
      "  warnings.warn(msg, category=FutureWarning)\n"
     ]
    },
    {
     "data": {
      "text/plain": [
       "100000"
      ]
     },
     "execution_count": 13,
     "metadata": {},
     "output_type": "execute_result"
    }
   ],
   "source": [
    "mnb_pipe.named_steps['mnb'].n_features_\n",
    "#__mnb.n_features_"
   ]
  },
  {
   "cell_type": "code",
   "execution_count": 14,
   "metadata": {},
   "outputs": [
    {
     "data": {
      "text/plain": [
       "{'fit_time': array([62.13884497, 61.7850492 , 62.02747703, 62.03161287, 61.89556217]),\n",
       " 'score_time': array([16.25729895, 16.04060602, 15.91219211, 15.74802613, 15.81075191]),\n",
       " 'test_score': array([0.81789646, 0.81439341, 0.81300313, 0.81050867, 0.81168923])}"
      ]
     },
     "execution_count": 14,
     "metadata": {},
     "output_type": "execute_result"
    }
   ],
   "source": [
    "# Obtained cross-validated accuracy score\n",
    "cross_validate(mnb_pipe, X, y)"
   ]
  },
  {
   "cell_type": "code",
   "execution_count": null,
   "metadata": {},
   "outputs": [],
   "source": []
  },
  {
   "cell_type": "code",
   "execution_count": null,
   "metadata": {},
   "outputs": [],
   "source": []
  },
  {
   "cell_type": "code",
   "execution_count": null,
   "metadata": {},
   "outputs": [],
   "source": []
  },
  {
   "cell_type": "code",
   "execution_count": null,
   "metadata": {},
   "outputs": [],
   "source": []
  },
  {
   "cell_type": "code",
   "execution_count": null,
   "metadata": {},
   "outputs": [],
   "source": [
    "# Instantiate the Random Forest Pipeline\n",
    "rf_pipe = ImPipeline(steps=[\n",
    "                            ('vect', TfidfVectorizer(max_features=max_features)),\n",
    "                            ('rf', RandomForestClassifier())\n",
    "                            ]\n",
    ")\n",
    "\n",
    "# Fit RF pipe on the training data, get predictions and plot confusion matrix\n",
    "# rf_pipe.fit(X, y)\n",
    "rf_yhat = rf_pipe.predict(X)\n",
    "plot_confusion_matrix(rf_pipe, X, y);\n",
    "print(accuracy_score(y, rf_yhat))"
   ]
  },
  {
   "cell_type": "code",
   "execution_count": null,
   "metadata": {},
   "outputs": [],
   "source": [
    "# Obtained cross-validated accuracy score\n",
    "# cross_validate(rf_pipe, X, y)"
   ]
  },
  {
   "cell_type": "code",
   "execution_count": null,
   "metadata": {},
   "outputs": [],
   "source": []
  },
  {
   "cell_type": "code",
   "execution_count": null,
   "metadata": {},
   "outputs": [],
   "source": [
    "with open ('rf_pkl', 'wb') as files:\n",
    "    pickle.dump(rf_pipe, files)"
   ]
  },
  {
   "cell_type": "code",
   "execution_count": null,
   "metadata": {},
   "outputs": [],
   "source": []
  },
  {
   "cell_type": "code",
   "execution_count": 16,
   "metadata": {},
   "outputs": [
    {
     "name": "stderr",
     "output_type": "stream",
     "text": [
      "/Users/tom/opt/anaconda3/envs/spark-cap-env/lib/python3.8/site-packages/sklearn/utils/deprecation.py:87: FutureWarning: Function plot_confusion_matrix is deprecated; Function `plot_confusion_matrix` is deprecated in 1.0 and will be removed in 1.2. Use one of the class methods: ConfusionMatrixDisplay.from_predictions or ConfusionMatrixDisplay.from_estimator.\n",
      "  warnings.warn(msg, category=FutureWarning)\n"
     ]
    },
    {
     "name": "stdout",
     "output_type": "stream",
     "text": [
      "0.8522014421742782\n"
     ]
    },
    {
     "data": {
      "image/png": "[encoded data removed]",
      "text/plain": [
       "<Figure size 432x288 with 2 Axes>"
      ]
     },
     "metadata": {
      "needs_background": "light"
     },
     "output_type": "display_data"
    }
   ],
   "source": [
    "# Instantiate the SDGC Classifier pipeline\n",
    "sgdc_pipe = ImPipeline(steps=[\n",
    "                            ('vect', TfidfVectorizer(max_features=max_features,\n",
    "                                                    #max_df=0.95,\n",
    "                                                   # min_df=0.05\n",
    "                                                    )),\n",
    "                            ('sgdc', SGDClassifier(random_state=42))\n",
    "                            ]\n",
    ")\n",
    "\n",
    "#Fit SGDC pipe on the training data, get predictions and plot confusion matrix\n",
    "sgdc_pipe.fit(X, y)\n",
    "sgdc_yhat = sgdc_pipe.predict(X)\n",
    "plot_confusion_matrix(sgdc_pipe, X, y, normalize='true');\n",
    "print(accuracy_score(y, sgdc_yhat))"
   ]
  },
  {
   "cell_type": "code",
   "execution_count": 17,
   "metadata": {},
   "outputs": [
    {
     "data": {
      "text/plain": [
       "{'fit_time': array([68.95836902, 68.93960977, 70.01590133, 69.20251417, 69.27705789]),\n",
       " 'score_time': array([16.33984685, 16.05096602, 15.98277092, 15.80469513, 15.93526602]),\n",
       " 'test_score': array([0.84999104, 0.8502825 , 0.85179779, 0.85199501, 0.85184501])}"
      ]
     },
     "execution_count": 17,
     "metadata": {},
     "output_type": "execute_result"
    }
   ],
   "source": [
    "# Obtained cross-validated accuracy score\n",
    "cross_validate(sgdc_pipe, X, y)"
   ]
  },
  {
   "cell_type": "code",
   "execution_count": 18,
   "metadata": {},
   "outputs": [],
   "source": [
    "sgdc_params = {\n",
    "            'sgdc__alpha': [1e-4, 1e-3, 1e-2, 1e-1, 1e0, 1e1, 1e2, 1e3, 0.0002, 0.0005],\n",
    "            #'sgdc__n_iter': [50, 100, 500],\n",
    "            'sgdc__loss': ['hinge', 'log', 'huber'],\n",
    "            'sgdc__penalty': ['l2', 'l1', 'elasticnet'],\n",
    "            'vect__max_features': [None, 50000, 100000, 200000]\n",
    "             }"
   ]
  },
  {
   "cell_type": "code",
   "execution_count": 19,
   "metadata": {},
   "outputs": [
    {
     "name": "stdout",
     "output_type": "stream",
     "text": [
      "Fitting 3 folds for each of 360 candidates, totalling 1080 fits\n"
     ]
    },
    {
     "data": {
      "text/plain": [
       "GridSearchCV(cv=3,\n",
       "             estimator=Pipeline(steps=[('vect',\n",
       "                                        TfidfVectorizer(max_features=100000)),\n",
       "                                       ('sgdc',\n",
       "                                        SGDClassifier(random_state=42))]),\n",
       "             n_jobs=-2,\n",
       "             param_grid={'sgdc__alpha': [0.0001, 0.001, 0.01, 0.1, 1.0, 10.0,\n",
       "                                         100.0, 1000.0, 0.0002, 0.0005],\n",
       "                         'sgdc__loss': ['hinge', 'log', 'huber'],\n",
       "                         'sgdc__penalty': ['l2', 'l1', 'elasticnet'],\n",
       "                         'vect__max_features': [None, 50000, 100000, 200000]},\n",
       "             verbose=3)"
      ]
     },
     "execution_count": 19,
     "metadata": {},
     "output_type": "execute_result"
    }
   ],
   "source": [
    "sgdc_gs = GridSearchCV(sgdc_pipe, param_grid=sgdc_params, n_jobs=-2, verbose=3, cv=3)\n",
    "sgdc_gs.fit(X, y)"
   ]
  },
  {
   "cell_type": "code",
   "execution_count": 20,
   "metadata": {},
   "outputs": [
    {
     "data": {
      "text/plain": [
       "{'sgdc__alpha': 0.0001,\n",
       " 'sgdc__loss': 'hinge',\n",
       " 'sgdc__penalty': 'l2',\n",
       " 'vect__max_features': 50000}"
      ]
     },
     "execution_count": 20,
     "metadata": {},
     "output_type": "execute_result"
    }
   ],
   "source": [
    "sgdc_gs.best_params_"
   ]
  },
  {
   "cell_type": "code",
   "execution_count": null,
   "metadata": {},
   "outputs": [],
   "source": []
  },
  {
   "cell_type": "code",
   "execution_count": 21,
   "metadata": {},
   "outputs": [
    {
     "name": "stderr",
     "output_type": "stream",
     "text": [
      "/Users/tom/opt/anaconda3/envs/spark-cap-env/lib/python3.8/site-packages/sklearn/utils/deprecation.py:87: FutureWarning: Function plot_confusion_matrix is deprecated; Function `plot_confusion_matrix` is deprecated in 1.0 and will be removed in 1.2. Use one of the class methods: ConfusionMatrixDisplay.from_predictions or ConfusionMatrixDisplay.from_estimator.\n",
      "  warnings.warn(msg, category=FutureWarning)\n"
     ]
    },
    {
     "name": "stdout",
     "output_type": "stream",
     "text": [
      "0.8524669991313844\n"
     ]
    },
    {
     "data": {
      "image/png": "[encoded data removed]",
      "text/plain": [
       "<Figure size 432x288 with 2 Axes>"
      ]
     },
     "metadata": {
      "needs_background": "light"
     },
     "output_type": "display_data"
    }
   ],
   "source": [
    "# Instantiate the SDGC Classifier pipeline\n",
    "sgdc_tuned_pipe = ImPipeline(steps=[\n",
    "                            ('vect', TfidfVectorizer(max_features=50000,\n",
    "                                                    #max_df=0.95,\n",
    "                                                   # min_df=0.05\n",
    "                                                    )),\n",
    "                            ('sgdc', SGDClassifier(random_state=42,\n",
    "                                                  alpha=0.0001,\n",
    "                                                  loss = 'hinge',\n",
    "                                                  penalty='l2'\n",
    "                                                  ))\n",
    "                            ]\n",
    ")\n",
    "\n",
    "#Fit SGDC pipe on the training data, get predictions and plot confusion matrix\n",
    "sgdc_tuned_pipe.fit(X, y)\n",
    "sgdc_tuned_yhat = sgdc_tuned_pipe.predict(X)\n",
    "plot_confusion_matrix(sgdc_tuned_pipe, X, y, normalize='true');\n",
    "print(accuracy_score(y, sgdc_tuned_yhat))"
   ]
  },
  {
   "cell_type": "code",
   "execution_count": null,
   "metadata": {},
   "outputs": [],
   "source": []
  },
  {
   "cell_type": "code",
   "execution_count": null,
   "metadata": {},
   "outputs": [],
   "source": []
  },
  {
   "cell_type": "code",
   "execution_count": null,
   "metadata": {},
   "outputs": [],
   "source": []
  },
  {
   "cell_type": "code",
   "execution_count": null,
   "metadata": {},
   "outputs": [],
   "source": [
    "# Instantiate the gradient boosting classifier pipeline\n",
    "gbc_pipe = ImPipeline(steps=[\n",
    "                                 ('vect', TfidfVectorizer(max_features=max_features)),\n",
    "                                 ('gbc',  GradientBoostingClassifier())\n",
    "                                ]\n",
    ")\n",
    "\n",
    "#Fit SGDC pipe on the training data, get predictions and plot confusion matrix\n",
    "gbc_pipe.fit(X, y)\n",
    "gbc_yhat = gbc_pipe.predict(X)\n",
    "plot_confusion_matrix(gbc_pipe, X, y);\n",
    "print(accuracy_score(y, gbc_yhat))"
   ]
  },
  {
   "cell_type": "code",
   "execution_count": null,
   "metadata": {},
   "outputs": [],
   "source": [
    "# Obtained cross-validated accuracy score\n",
    "cross_validate(gbc_pipe, X, y)"
   ]
  },
  {
   "cell_type": "code",
   "execution_count": null,
   "metadata": {},
   "outputs": [],
   "source": []
  },
  {
   "cell_type": "code",
   "execution_count": null,
   "metadata": {},
   "outputs": [],
   "source": []
  }
 ],
 "metadata": {
  "kernelspec": {
   "display_name": "Python (spark-cap-env)",
   "language": "python",
   "name": "spark-cap-env"
  },
  "language_info": {
   "codemirror_mode": {
    "name": "ipython",
    "version": 3
   },
   "file_extension": ".py",
   "mimetype": "text/x-python",
   "name": "python",
   "nbconvert_exporter": "python",
   "pygments_lexer": "ipython3",
   "version": "3.8.13"
  }
 },
 "nbformat": 4,
 "nbformat_minor": 4
}
