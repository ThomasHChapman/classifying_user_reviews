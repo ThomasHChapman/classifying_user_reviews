{
 "cells": [
  {
   "cell_type": "code",
   "execution_count": 42,
   "metadata": {},
   "outputs": [],
   "source": [
    "# Package Imports\n",
    "import pandas as pd\n",
    "import numpy as np\n",
    "\n",
    "# \n",
    "from sklearn.dummy import DummyClassifier\n",
    "from sklearn.feature_extraction.text import TfidfVectorizer\n",
    "from sklearn.metrics import plot_confusion_matrix, confusion_matrix, make_scorer, recall_score, accuracy_score, precision_score, f1_score, classification_report\n",
    "from sklearn.naive_bayes import MultinomialNB\n",
    "\n",
    "\n",
    "from imblearn.pipeline import Pipeline as ImPipeline"
   ]
  },
  {
   "cell_type": "markdown",
   "metadata": {},
   "source": [
    "# Modeling"
   ]
  },
  {
   "cell_type": "code",
   "execution_count": 17,
   "metadata": {},
   "outputs": [],
   "source": [
    "max_features = 5000"
   ]
  },
  {
   "cell_type": "code",
   "execution_count": 8,
   "metadata": {},
   "outputs": [],
   "source": [
    "# Read in the data\n",
    "df = pd.read_csv('../data/train_cleaned.csv', usecols=['sentiment', 'text_cleaned', 'toks'])"
   ]
  },
  {
   "cell_type": "code",
   "execution_count": 16,
   "metadata": {},
   "outputs": [
    {
     "data": {
      "text/html": [
       "<div>\n",
       "<style scoped>\n",
       "    .dataframe tbody tr th:only-of-type {\n",
       "        vertical-align: middle;\n",
       "    }\n",
       "\n",
       "    .dataframe tbody tr th {\n",
       "        vertical-align: top;\n",
       "    }\n",
       "\n",
       "    .dataframe thead th {\n",
       "        text-align: right;\n",
       "    }\n",
       "</style>\n",
       "<table border=\"1\" class=\"dataframe\">\n",
       "  <thead>\n",
       "    <tr style=\"text-align: right;\">\n",
       "      <th></th>\n",
       "      <th>sentiment</th>\n",
       "      <th>text_cleaned</th>\n",
       "      <th>toks</th>\n",
       "    </tr>\n",
       "  </thead>\n",
       "  <tbody>\n",
       "    <tr>\n",
       "      <th>0</th>\n",
       "      <td>2</td>\n",
       "      <td>lovely pat one great voice generation listen c...</td>\n",
       "      <td>['lovely', 'pat', 'one', 'great', 'voice', 'ge...</td>\n",
       "    </tr>\n",
       "    <tr>\n",
       "      <th>1</th>\n",
       "      <td>2</td>\n",
       "      <td>despite fact play small portion game music hea...</td>\n",
       "      <td>['despite', 'fact', 'play', 'small', 'portion'...</td>\n",
       "    </tr>\n",
       "    <tr>\n",
       "      <th>2</th>\n",
       "      <td>1</td>\n",
       "      <td>bought charger jul work ok design nice conveni...</td>\n",
       "      <td>['bought', 'charger', 'jul', 'work', 'ok', 'de...</td>\n",
       "    </tr>\n",
       "    <tr>\n",
       "      <th>3</th>\n",
       "      <td>2</td>\n",
       "      <td>check maha energy's website powerex mh c f cha...</td>\n",
       "      <td>['check', 'maha', \"energy's\", 'website', 'powe...</td>\n",
       "    </tr>\n",
       "    <tr>\n",
       "      <th>4</th>\n",
       "      <td>2</td>\n",
       "      <td>review quite bit combo player hesitant due unf...</td>\n",
       "      <td>['review', 'quite', 'bit', 'combo', 'player', ...</td>\n",
       "    </tr>\n",
       "    <tr>\n",
       "      <th>5</th>\n",
       "      <td>1</td>\n",
       "      <td>also begin incorrect disc problem i've read vc...</td>\n",
       "      <td>['also', 'begin', 'incorrect', 'disc', 'proble...</td>\n",
       "    </tr>\n",
       "    <tr>\n",
       "      <th>6</th>\n",
       "      <td>1</td>\n",
       "      <td>love style couple year dvd give problem even w...</td>\n",
       "      <td>['love', 'style', 'couple', 'year', 'dvd', 'gi...</td>\n",
       "    </tr>\n",
       "    <tr>\n",
       "      <th>7</th>\n",
       "      <td>1</td>\n",
       "      <td>cannot scroll dvd menu set vertically triangle...</td>\n",
       "      <td>['cannot', 'scroll', 'dvd', 'menu', 'set', 've...</td>\n",
       "    </tr>\n",
       "    <tr>\n",
       "      <th>8</th>\n",
       "      <td>2</td>\n",
       "      <td>exotic tale orient dr shen fu weird tale magaz...</td>\n",
       "      <td>['exotic', 'tale', 'orient', 'dr', 'shen', 'fu...</td>\n",
       "    </tr>\n",
       "    <tr>\n",
       "      <th>9</th>\n",
       "      <td>1</td>\n",
       "      <td>firstly enjoy format tone book author address ...</td>\n",
       "      <td>['firstly', 'enjoy', 'format', 'tone', 'book',...</td>\n",
       "    </tr>\n",
       "    <tr>\n",
       "      <th>10</th>\n",
       "      <td>2</td>\n",
       "      <td>currently live europe book recommend visitor c...</td>\n",
       "      <td>['currently', 'live', 'europe', 'book', 'recom...</td>\n",
       "    </tr>\n",
       "    <tr>\n",
       "      <th>11</th>\n",
       "      <td>1</td>\n",
       "      <td>want listen el duke well access shower gimmick...</td>\n",
       "      <td>['want', 'listen', 'el', 'duke', 'well', 'acce...</td>\n",
       "    </tr>\n",
       "    <tr>\n",
       "      <th>12</th>\n",
       "      <td>1</td>\n",
       "      <td>game require quicktime work well version quick...</td>\n",
       "      <td>['game', 'require', 'quicktime', 'work', 'well...</td>\n",
       "    </tr>\n",
       "    <tr>\n",
       "      <th>13</th>\n",
       "      <td>2</td>\n",
       "      <td>use product couple year start use hair gotten ...</td>\n",
       "      <td>['use', 'product', 'couple', 'year', 'start', ...</td>\n",
       "    </tr>\n",
       "    <tr>\n",
       "      <th>14</th>\n",
       "      <td>1</td>\n",
       "      <td>hop drive would run bus power require adapter ...</td>\n",
       "      <td>['hop', 'drive', 'would', 'run', 'bus', 'power...</td>\n",
       "    </tr>\n",
       "    <tr>\n",
       "      <th>15</th>\n",
       "      <td>1</td>\n",
       "      <td>first company take money send email tell produ...</td>\n",
       "      <td>['first', 'company', 'take', 'money', 'send', ...</td>\n",
       "    </tr>\n",
       "    <tr>\n",
       "      <th>16</th>\n",
       "      <td>2</td>\n",
       "      <td>awesome game almost everyone know tic tac toe ...</td>\n",
       "      <td>['awesome', 'game', 'almost', 'everyone', 'kno...</td>\n",
       "    </tr>\n",
       "    <tr>\n",
       "      <th>17</th>\n",
       "      <td>2</td>\n",
       "      <td>price pc game well worth great graphic colorfu...</td>\n",
       "      <td>['price', 'pc', 'game', 'well', 'worth', 'grea...</td>\n",
       "    </tr>\n",
       "    <tr>\n",
       "      <th>18</th>\n",
       "      <td>2</td>\n",
       "      <td>este libro est espl ndido lo disfrutas lo pued...</td>\n",
       "      <td>['este', 'libro', 'est', 'espl', 'ndido', 'lo'...</td>\n",
       "    </tr>\n",
       "    <tr>\n",
       "      <th>19</th>\n",
       "      <td>2</td>\n",
       "      <td>excellent album great fiddle play ryan amazing...</td>\n",
       "      <td>['excellent', 'album', 'great', 'fiddle', 'pla...</td>\n",
       "    </tr>\n",
       "    <tr>\n",
       "      <th>20</th>\n",
       "      <td>1</td>\n",
       "      <td>i've read book much expectation bore book</td>\n",
       "      <td>[\"i've\", 'read', 'book', 'much', 'expectation'...</td>\n",
       "    </tr>\n",
       "    <tr>\n",
       "      <th>21</th>\n",
       "      <td>1</td>\n",
       "      <td>product smell open package appear one gel cush...</td>\n",
       "      <td>['product', 'smell', 'open', 'package', 'appea...</td>\n",
       "    </tr>\n",
       "    <tr>\n",
       "      <th>22</th>\n",
       "      <td>2</td>\n",
       "      <td>magazine good condition usual high standard ar...</td>\n",
       "      <td>['magazine', 'good', 'condition', 'usual', 'hi...</td>\n",
       "    </tr>\n",
       "    <tr>\n",
       "      <th>23</th>\n",
       "      <td>2</td>\n",
       "      <td>believe happy camcorder small light easy handl...</td>\n",
       "      <td>['believe', 'happy', 'camcorder', 'small', 'li...</td>\n",
       "    </tr>\n",
       "    <tr>\n",
       "      <th>24</th>\n",
       "      <td>1</td>\n",
       "      <td>purchase data cable need know receive real dir...</td>\n",
       "      <td>['purchase', 'data', 'cable', 'need', 'know', ...</td>\n",
       "    </tr>\n",
       "  </tbody>\n",
       "</table>\n",
       "</div>"
      ],
      "text/plain": [
       "    sentiment                                       text_cleaned  \\\n",
       "0           2  lovely pat one great voice generation listen c...   \n",
       "1           2  despite fact play small portion game music hea...   \n",
       "2           1  bought charger jul work ok design nice conveni...   \n",
       "3           2  check maha energy's website powerex mh c f cha...   \n",
       "4           2  review quite bit combo player hesitant due unf...   \n",
       "5           1  also begin incorrect disc problem i've read vc...   \n",
       "6           1  love style couple year dvd give problem even w...   \n",
       "7           1  cannot scroll dvd menu set vertically triangle...   \n",
       "8           2  exotic tale orient dr shen fu weird tale magaz...   \n",
       "9           1  firstly enjoy format tone book author address ...   \n",
       "10          2  currently live europe book recommend visitor c...   \n",
       "11          1  want listen el duke well access shower gimmick...   \n",
       "12          1  game require quicktime work well version quick...   \n",
       "13          2  use product couple year start use hair gotten ...   \n",
       "14          1  hop drive would run bus power require adapter ...   \n",
       "15          1  first company take money send email tell produ...   \n",
       "16          2  awesome game almost everyone know tic tac toe ...   \n",
       "17          2  price pc game well worth great graphic colorfu...   \n",
       "18          2  este libro est espl ndido lo disfrutas lo pued...   \n",
       "19          2  excellent album great fiddle play ryan amazing...   \n",
       "20          1          i've read book much expectation bore book   \n",
       "21          1  product smell open package appear one gel cush...   \n",
       "22          2  magazine good condition usual high standard ar...   \n",
       "23          2  believe happy camcorder small light easy handl...   \n",
       "24          1  purchase data cable need know receive real dir...   \n",
       "\n",
       "                                                 toks  \n",
       "0   ['lovely', 'pat', 'one', 'great', 'voice', 'ge...  \n",
       "1   ['despite', 'fact', 'play', 'small', 'portion'...  \n",
       "2   ['bought', 'charger', 'jul', 'work', 'ok', 'de...  \n",
       "3   ['check', 'maha', \"energy's\", 'website', 'powe...  \n",
       "4   ['review', 'quite', 'bit', 'combo', 'player', ...  \n",
       "5   ['also', 'begin', 'incorrect', 'disc', 'proble...  \n",
       "6   ['love', 'style', 'couple', 'year', 'dvd', 'gi...  \n",
       "7   ['cannot', 'scroll', 'dvd', 'menu', 'set', 've...  \n",
       "8   ['exotic', 'tale', 'orient', 'dr', 'shen', 'fu...  \n",
       "9   ['firstly', 'enjoy', 'format', 'tone', 'book',...  \n",
       "10  ['currently', 'live', 'europe', 'book', 'recom...  \n",
       "11  ['want', 'listen', 'el', 'duke', 'well', 'acce...  \n",
       "12  ['game', 'require', 'quicktime', 'work', 'well...  \n",
       "13  ['use', 'product', 'couple', 'year', 'start', ...  \n",
       "14  ['hop', 'drive', 'would', 'run', 'bus', 'power...  \n",
       "15  ['first', 'company', 'take', 'money', 'send', ...  \n",
       "16  ['awesome', 'game', 'almost', 'everyone', 'kno...  \n",
       "17  ['price', 'pc', 'game', 'well', 'worth', 'grea...  \n",
       "18  ['este', 'libro', 'est', 'espl', 'ndido', 'lo'...  \n",
       "19  ['excellent', 'album', 'great', 'fiddle', 'pla...  \n",
       "20  [\"i've\", 'read', 'book', 'much', 'expectation'...  \n",
       "21  ['product', 'smell', 'open', 'package', 'appea...  \n",
       "22  ['magazine', 'good', 'condition', 'usual', 'hi...  \n",
       "23  ['believe', 'happy', 'camcorder', 'small', 'li...  \n",
       "24  ['purchase', 'data', 'cable', 'need', 'know', ...  "
      ]
     },
     "execution_count": 16,
     "metadata": {},
     "output_type": "execute_result"
    }
   ],
   "source": [
    "df.head(25)"
   ]
  },
  {
   "cell_type": "code",
   "execution_count": 39,
   "metadata": {},
   "outputs": [
    {
     "name": "stdout",
     "output_type": "stream",
     "text": [
      "sentiment       0\n",
      "text_cleaned    0\n",
      "toks            0\n",
      "dtype: int64\n"
     ]
    },
    {
     "data": {
      "text/html": [
       "<div>\n",
       "<style scoped>\n",
       "    .dataframe tbody tr th:only-of-type {\n",
       "        vertical-align: middle;\n",
       "    }\n",
       "\n",
       "    .dataframe tbody tr th {\n",
       "        vertical-align: top;\n",
       "    }\n",
       "\n",
       "    .dataframe thead th {\n",
       "        text-align: right;\n",
       "    }\n",
       "</style>\n",
       "<table border=\"1\" class=\"dataframe\">\n",
       "  <thead>\n",
       "    <tr style=\"text-align: right;\">\n",
       "      <th></th>\n",
       "      <th>sentiment</th>\n",
       "      <th>text_cleaned</th>\n",
       "      <th>toks</th>\n",
       "    </tr>\n",
       "  </thead>\n",
       "  <tbody>\n",
       "  </tbody>\n",
       "</table>\n",
       "</div>"
      ],
      "text/plain": [
       "Empty DataFrame\n",
       "Columns: [sentiment, text_cleaned, toks]\n",
       "Index: []"
      ]
     },
     "execution_count": 39,
     "metadata": {},
     "output_type": "execute_result"
    }
   ],
   "source": [
    "print(df.isna().sum())\n",
    "df[df['text_cleaned'].isna()]"
   ]
  },
  {
   "cell_type": "code",
   "execution_count": 32,
   "metadata": {},
   "outputs": [],
   "source": [
    "# Drop lone NaN value in 'text_cleaned'\n",
    "df.drop(index=[369851], inplace=True)"
   ]
  },
  {
   "cell_type": "code",
   "execution_count": 33,
   "metadata": {},
   "outputs": [],
   "source": [
    "X = df['text_cleaned']\n",
    "y = df['sentiment']"
   ]
  },
  {
   "cell_type": "code",
   "execution_count": 34,
   "metadata": {},
   "outputs": [],
   "source": [
    "# Instantiate Dummy Classifier pipeline\n",
    "dummy_pipe = ImPipeline(steps=[\n",
    "                                    ('vect', TfidfVectorizer(max_features=max_features)),\n",
    "                                    ('dc', DummyClassifier(strategy='most_frequent',\n",
    "                                                           random_state=42))\n",
    "                                    ]\n",
    "                            )"
   ]
  },
  {
   "cell_type": "code",
   "execution_count": 37,
   "metadata": {},
   "outputs": [
    {
     "name": "stderr",
     "output_type": "stream",
     "text": [
      "/Users/tom/opt/anaconda3/envs/spark-cap-env/lib/python3.8/site-packages/sklearn/utils/deprecation.py:87: FutureWarning: Function plot_confusion_matrix is deprecated; Function `plot_confusion_matrix` is deprecated in 1.0 and will be removed in 1.2. Use one of the class methods: ConfusionMatrixDisplay.from_predictions or ConfusionMatrixDisplay.from_estimator.\n",
      "  warnings.warn(msg, category=FutureWarning)\n"
     ]
    },
    {
     "name": "stdout",
     "output_type": "stream",
     "text": [
      "0.500001250003125\n"
     ]
    },
    {
     "data": {
      "image/png": "[encoded data removed]",
      "text/plain": [
       "<Figure size 432x288 with 2 Axes>"
      ]
     },
     "metadata": {
      "needs_background": "light"
     },
     "output_type": "display_data"
    }
   ],
   "source": [
    "# Fit dummy pipe on the training data and plot confusion matrix\n",
    "dummy_pipe.fit(X, y)\n",
    "dummy_yhat = dummy_pipe.predict(X)\n",
    "plot_confusion_matrix(dummy_pipe, X, y);\n",
    "print(accuracy_score(y, dummy_yhat))"
   ]
  },
  {
   "cell_type": "code",
   "execution_count": null,
   "metadata": {},
   "outputs": [],
   "source": []
  }
 ],
 "metadata": {
  "kernelspec": {
   "display_name": "Python (spark-cap-env)",
   "language": "python",
   "name": "spark-cap-env"
  },
  "language_info": {
   "codemirror_mode": {
    "name": "ipython",
    "version": 3
   },
   "file_extension": ".py",
   "mimetype": "text/x-python",
   "name": "python",
   "nbconvert_exporter": "python",
   "pygments_lexer": "ipython3",
   "version": "3.8.13"
  }
 },
 "nbformat": 4,
 "nbformat_minor": 4
}
