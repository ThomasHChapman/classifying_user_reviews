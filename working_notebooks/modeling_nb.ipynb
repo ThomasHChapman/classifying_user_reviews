{
 "cells": [
  {
   "cell_type": "markdown",
   "metadata": {},
   "source": [
    "# I HATE this Product! Five Stars!\n",
    "##### Reducing Rating Inflation Using NLP\n",
    "Author: Tom Chapman"
   ]
  },
  {
   "cell_type": "markdown",
   "metadata": {},
   "source": [
    "## Business Understanding\n",
    "Since their inception, online marketplaces have fundamentally shifted how consumers shop. With a near limitless number of products and services available online, it has never been easier to avoid the hassle of brick-and-mortar stores. However, identifying which products or services are high-quality has become increasingly difficult. The popularity of the 5-star rating scale has led to a number of well-documented challenges. [Harvard Business Review](https://hbr.org/2019/07/the-problems-with-5-star-rating-systems-and-how-to-fix-them) summed these challenges up nicely as follows:\n",
    "\n",
    "- There is little incentive for consumers to provide truthful feedback, meaning that extreme experiences (whether positive or negative) are much more likely to lead a consumer to leave a review.\n",
    "- Compounding the lack of incentive for truth, 5-star rating scales are prone to grade inflation. There is no correlation between the star-rating and the sentiment the user expresses in a review. It's possible (and surprisingly common) for a user to hate a product, excoriate it in a review, and then rate it 5-stars. This leads to inflated ratings, and makes it harder for the consumer to understand the meaning behind varied product ratings. How much better is a product with a 4.7 star rating than a 4.5 star average rating?\n",
    "\n",
    "My model is intended to help address rating inflation by classifying user feedback as positive or negative based on its content. \n",
    "\n",
    "Amazon is the largest online marketplace currently in existence, and its challenges with rating inflation are well-documented. However, any marketplace that uses a five-star rating system (Google Play, Apple App Store, Wal-mart, Etsy, Rakuten, etc.) can utilize my model to reclassify user reviews into positive or negative polarity. Offering customers a clearer display of product quality allows customers to make more informed purchases, and should drive improved satisfaction. It should also help mitigate poor quality or scam sellers inherently, as poor reviews are less likely to be drowned out by inflated ratings.\n",
    "\n",
    "The tool is also useful for sellers that want to move away from Amazon or implement their own storefront. By implementing my algorithm in a newly-created storefront, sellers can mostly automate the classification of consumer feedback and derive a more accurate understanding of how their products or services are being received. On [average](https://fitsmallbusiness.com/amazon-seller-fees/), Amazon sellers pay the website about 15% of their sale price on each item sold. There’s no question the visibility and customer reach that Amazon provides is valuable, but 15% is an extremely hefty cost for small companies. For certain product categories, the cost per item can range as high as 45%, an enormous amount to pay simply for the storefront component of the site.\n"
   ]
  },
  {
   "cell_type": "markdown",
   "metadata": {},
   "source": [
    "## Data Preparation\n",
    "Because of the enormity of the dataset, all substantive data cleaning was performed in [the cleaning notebook](preprocessing_nb.ipynb). The data preparation section in this notebook will be limited to importing necessary packages, reading in our pre-cleaned data, and dropping any null values."
   ]
  },
  {
   "cell_type": "code",
   "execution_count": 2,
   "metadata": {},
   "outputs": [],
   "source": [
    "# Package Imports\n",
    "import pandas as pd\n",
    "import numpy as np\n",
    "import matplotlib.pyplot as plt\n",
    "\n",
    "\n",
    "from sklearn.compose import ColumnTransformer\n",
    "from sklearn.dummy import DummyClassifier\n",
    "from sklearn.feature_extraction.text import TfidfVectorizer\n",
    "from sklearn.metrics import plot_confusion_matrix, confusion_matrix, accuracy_score, classification_report\n",
    "from sklearn.naive_bayes import MultinomialNB\n",
    "from sklearn.model_selection import ParameterGrid, GridSearchCV, cross_validate, cross_val_score\n",
    "from sklearn.linear_model import SGDClassifier, LogisticRegression\n",
    "from imblearn.pipeline import Pipeline as ImPipeline\n",
    "\n",
    "import pickle\n",
    "import joblib\n",
    "import warnings\n",
    "warnings.filterwarnings('ignore')"
   ]
  },
  {
   "cell_type": "code",
   "execution_count": 144,
   "metadata": {},
   "outputs": [
    {
     "data": {
      "text/html": [
       "<div>\n",
       "<style scoped>\n",
       "    .dataframe tbody tr th:only-of-type {\n",
       "        vertical-align: middle;\n",
       "    }\n",
       "\n",
       "    .dataframe tbody tr th {\n",
       "        vertical-align: top;\n",
       "    }\n",
       "\n",
       "    .dataframe thead th {\n",
       "        text-align: right;\n",
       "    }\n",
       "</style>\n",
       "<table border=\"1\" class=\"dataframe\">\n",
       "  <thead>\n",
       "    <tr style=\"text-align: right;\">\n",
       "      <th></th>\n",
       "      <th>sentiment</th>\n",
       "      <th>text</th>\n",
       "      <th>text_cleaned</th>\n",
       "      <th>toks</th>\n",
       "      <th>bigrams</th>\n",
       "      <th>trigrams</th>\n",
       "    </tr>\n",
       "  </thead>\n",
       "  <tbody>\n",
       "    <tr>\n",
       "      <th>0</th>\n",
       "      <td>2</td>\n",
       "      <td>This sound track was beautiful! It paints the senery in your mind so well I would recomend it even to people who hate vid. game music! I have played the game Chrono Cross but out of all of the games I have ever played it has the best music! It backs away from crude keyboarding and takes a fresher step with grate guitars and soulful orchestras. It would impress anyone who cares to listen! ^_^</td>\n",
       "      <td>sound track beautiful paint senery mind well would recomend even people hate vid game music play game chrono cross game ever play best music back away crude keyboarding take fresh step grate guitar soulful orchestra would impress anyone care listen</td>\n",
       "      <td>['sound', 'track', 'beautiful', 'paint', 'senery', 'mind', 'well', 'would', 'recomend', 'even', 'people', 'hate', 'vid', 'game', 'music', 'play', 'game', 'chrono', 'cross', 'game', 'ever', 'play', 'best', 'music', 'back', 'away', 'crude', 'keyboarding', 'take', 'fresh', 'step', 'grate', 'guitar', 'soulful', 'orchestra', 'would', 'impress', 'anyone', 'care', 'listen']</td>\n",
       "      <td>[('sound', 'track'), ('track', 'beautiful'), ('beautiful', 'paint'), ('paint', 'senery'), ('senery', 'mind'), ('mind', 'well'), ('well', 'would'), ('would', 'recomend'), ('recomend', 'even'), ('even', 'people'), ('people', 'hate'), ('hate', 'vid'), ('vid', 'game'), ('game', 'music'), ('music', 'play'), ('play', 'game'), ('game', 'chrono'), ('chrono', 'cross'), ('cross', 'game'), ('game', 'ever'), ('ever', 'play'), ('play', 'best'), ('best', 'music'), ('music', 'back'), ('back', 'away'), ('away', 'crude'), ('crude', 'keyboarding'), ('keyboarding', 'take'), ('take', 'fresh'), ('fresh', 'step'), ('step', 'grate'), ('grate', 'guitar'), ('guitar', 'soulful'), ('soulful', 'orchestra'), ('orchestra', 'would'), ('would', 'impress'), ('impress', 'anyone'), ('anyone', 'care'), ('care', 'listen')]</td>\n",
       "      <td>[('sound', 'track', 'beautiful'), ('track', 'beautiful', 'paint'), ('beautiful', 'paint', 'senery'), ('paint', 'senery', 'mind'), ('senery', 'mind', 'well'), ('mind', 'well', 'would'), ('well', 'would', 'recomend'), ('would', 'recomend', 'even'), ('recomend', 'even', 'people'), ('even', 'people', 'hate'), ('people', 'hate', 'vid'), ('hate', 'vid', 'game'), ('vid', 'game', 'music'), ('game', 'music', 'play'), ('music', 'play', 'game'), ('play', 'game', 'chrono'), ('game', 'chrono', 'cross'), ('chrono', 'cross', 'game'), ('cross', 'game', 'ever'), ('game', 'ever', 'play'), ('ever', 'play', 'best'), ('play', 'best', 'music'), ('best', 'music', 'back'), ('music', 'back', 'away'), ('back', 'away', 'crude'), ('away', 'crude', 'keyboarding'), ('crude', 'keyboarding', 'take'), ('keyboarding', 'take', 'fresh'), ('take', 'fresh', 'step'), ('fresh', 'step', 'grate'), ('step', 'grate', 'guitar'), ('grate', 'guitar', 'soulful'), ('guitar', 'soulful', 'orchestra'), ('soulful', 'orchestra', 'would'), ('orchestra', 'would', 'impress'), ('would', 'impress', 'anyone'), ('impress', 'anyone', 'care'), ('anyone', 'care', 'listen')]</td>\n",
       "    </tr>\n",
       "    <tr>\n",
       "      <th>1</th>\n",
       "      <td>2</td>\n",
       "      <td>I'm reading a lot of reviews saying that this is the best 'game soundtrack' and I figured that I'd write a review to disagree a bit. This in my opinino is Yasunori Mitsuda's ultimate masterpiece. The music is timeless and I'm been listening to it for years now and its beauty simply refuses to fade.The price tag on this is pretty staggering I must say, but if you are going to buy any cd for this much money, this is the only one that I feel would be worth every penny.</td>\n",
       "      <td>i'm reading lot review say best game soundtrack figure i'd write review disagree bit opinino yasunori mitsuda's ultimate masterpiece music timeless i'm listen year beauty simply refuse fade price tag pretty stagger must say go buy cd much money feel would worth every penny</td>\n",
       "      <td>[\"i'm\", 'reading', 'lot', 'review', 'say', 'best', 'game', 'soundtrack', 'figure', \"i'd\", 'write', 'review', 'disagree', 'bit', 'opinino', 'yasunori', \"mitsuda's\", 'ultimate', 'masterpiece', 'music', 'timeless', \"i'm\", 'listen', 'year', 'beauty', 'simply', 'refuse', 'fade', 'price', 'tag', 'pretty', 'stagger', 'must', 'say', 'go', 'buy', 'cd', 'much', 'money', 'feel', 'would', 'worth', 'every', 'penny']</td>\n",
       "      <td>[(\"i'm\", 'reading'), ('reading', 'lot'), ('lot', 'review'), ('review', 'say'), ('say', 'best'), ('best', 'game'), ('game', 'soundtrack'), ('soundtrack', 'figure'), ('figure', \"i'd\"), (\"i'd\", 'write'), ('write', 'review'), ('review', 'disagree'), ('disagree', 'bit'), ('bit', 'opinino'), ('opinino', 'yasunori'), ('yasunori', \"mitsuda's\"), (\"mitsuda's\", 'ultimate'), ('ultimate', 'masterpiece'), ('masterpiece', 'music'), ('music', 'timeless'), ('timeless', \"i'm\"), (\"i'm\", 'listen'), ('listen', 'year'), ('year', 'beauty'), ('beauty', 'simply'), ('simply', 'refuse'), ('refuse', 'fade'), ('fade', 'price'), ('price', 'tag'), ('tag', 'pretty'), ('pretty', 'stagger'), ('stagger', 'must'), ('must', 'say'), ('say', 'go'), ('go', 'buy'), ('buy', 'cd'), ('cd', 'much'), ('much', 'money'), ('money', 'feel'), ('feel', 'would'), ('would', 'worth'), ('worth', 'every'), ('every', 'penny')]</td>\n",
       "      <td>[(\"i'm\", 'reading', 'lot'), ('reading', 'lot', 'review'), ('lot', 'review', 'say'), ('review', 'say', 'best'), ('say', 'best', 'game'), ('best', 'game', 'soundtrack'), ('game', 'soundtrack', 'figure'), ('soundtrack', 'figure', \"i'd\"), ('figure', \"i'd\", 'write'), (\"i'd\", 'write', 'review'), ('write', 'review', 'disagree'), ('review', 'disagree', 'bit'), ('disagree', 'bit', 'opinino'), ('bit', 'opinino', 'yasunori'), ('opinino', 'yasunori', \"mitsuda's\"), ('yasunori', \"mitsuda's\", 'ultimate'), (\"mitsuda's\", 'ultimate', 'masterpiece'), ('ultimate', 'masterpiece', 'music'), ('masterpiece', 'music', 'timeless'), ('music', 'timeless', \"i'm\"), ('timeless', \"i'm\", 'listen'), (\"i'm\", 'listen', 'year'), ('listen', 'year', 'beauty'), ('year', 'beauty', 'simply'), ('beauty', 'simply', 'refuse'), ('simply', 'refuse', 'fade'), ('refuse', 'fade', 'price'), ('fade', 'price', 'tag'), ('price', 'tag', 'pretty'), ('tag', 'pretty', 'stagger'), ('pretty', 'stagger', 'must'), ('stagger', 'must', 'say'), ('must', 'say', 'go'), ('say', 'go', 'buy'), ('go', 'buy', 'cd'), ('buy', 'cd', 'much'), ('cd', 'much', 'money'), ('much', 'money', 'feel'), ('money', 'feel', 'would'), ('feel', 'would', 'worth'), ('would', 'worth', 'every'), ('worth', 'every', 'penny')]</td>\n",
       "    </tr>\n",
       "    <tr>\n",
       "      <th>2</th>\n",
       "      <td>2</td>\n",
       "      <td>This soundtrack is my favorite music of all time, hands down. The intense sadness of \"Prisoners of Fate\" (which means all the more if you've played the game) and the hope in \"A Distant Promise\" and \"Girl who Stole the Star\" have been an important inspiration to me personally throughout my teen years. The higher energy tracks like \"Chrono Cross ~ Time's Scar~\", \"Time of the Dreamwatch\", and \"Chronomantique\" (indefinably remeniscent of Chrono Trigger) are all absolutely superb as well.This soundtrack is amazing music, probably the best of this composer's work (I haven't heard the Xenogears soundtrack, so I can't say for sure), and even if you've never played the game, it would be worth twice the price to buy it.I wish I could give it 6 stars.</td>\n",
       "      <td>soundtrack favorite music time hand intense sadness prisoner fate mean played game hope distant promise girl stole star important inspiration personally throughout teen year higher energy track chrono cross time's scar time dreamwatch chronomantique indefinably remeniscent chrono trigger absolutely superb well soundtrack amaze music probably best composer's work heard xenogears soundtrack can't say sure even never play game would worth twice price buy wish could give star</td>\n",
       "      <td>['soundtrack', 'favorite', 'music', 'time', 'hand', 'intense', 'sadness', 'prisoner', 'fate', 'mean', 'played', 'game', 'hope', 'distant', 'promise', 'girl', 'stole', 'star', 'important', 'inspiration', 'personally', 'throughout', 'teen', 'year', 'higher', 'energy', 'track', 'chrono', 'cross', \"time's\", 'scar', 'time', 'dreamwatch', 'chronomantique', 'indefinably', 'remeniscent', 'chrono', 'trigger', 'absolutely', 'superb', 'well', 'soundtrack', 'amaze', 'music', 'probably', 'best', \"composer's\", 'work', 'heard', 'xenogears', 'soundtrack', \"can't\", 'say', 'sure', 'even', 'never', 'play', 'game', 'would', 'worth', 'twice', 'price', 'buy', 'wish', 'could', 'give', 'star']</td>\n",
       "      <td>[('soundtrack', 'favorite'), ('favorite', 'music'), ('music', 'time'), ('time', 'hand'), ('hand', 'intense'), ('intense', 'sadness'), ('sadness', 'prisoner'), ('prisoner', 'fate'), ('fate', 'mean'), ('mean', 'played'), ('played', 'game'), ('game', 'hope'), ('hope', 'distant'), ('distant', 'promise'), ('promise', 'girl'), ('girl', 'stole'), ('stole', 'star'), ('star', 'important'), ('important', 'inspiration'), ('inspiration', 'personally'), ('personally', 'throughout'), ('throughout', 'teen'), ('teen', 'year'), ('year', 'higher'), ('higher', 'energy'), ('energy', 'track'), ('track', 'chrono'), ('chrono', 'cross'), ('cross', \"time's\"), (\"time's\", 'scar'), ('scar', 'time'), ('time', 'dreamwatch'), ('dreamwatch', 'chronomantique'), ('chronomantique', 'indefinably'), ('indefinably', 'remeniscent'), ('remeniscent', 'chrono'), ('chrono', 'trigger'), ('trigger', 'absolutely'), ('absolutely', 'superb'), ('superb', 'well'), ('well', 'soundtrack'), ('soundtrack', 'amaze'), ('amaze', 'music'), ('music', 'probably'), ('probably', 'best'), ('best', \"composer's\"), (\"composer's\", 'work'), ('work', 'heard'), ('heard', 'xenogears'), ('xenogears', 'soundtrack'), ('soundtrack', \"can't\"), (\"can't\", 'say'), ('say', 'sure'), ('sure', 'even'), ('even', 'never'), ('never', 'play'), ('play', 'game'), ('game', 'would'), ('would', 'worth'), ('worth', 'twice'), ('twice', 'price'), ('price', 'buy'), ('buy', 'wish'), ('wish', 'could'), ('could', 'give'), ('give', 'star')]</td>\n",
       "      <td>[('soundtrack', 'favorite', 'music'), ('favorite', 'music', 'time'), ('music', 'time', 'hand'), ('time', 'hand', 'intense'), ('hand', 'intense', 'sadness'), ('intense', 'sadness', 'prisoner'), ('sadness', 'prisoner', 'fate'), ('prisoner', 'fate', 'mean'), ('fate', 'mean', 'played'), ('mean', 'played', 'game'), ('played', 'game', 'hope'), ('game', 'hope', 'distant'), ('hope', 'distant', 'promise'), ('distant', 'promise', 'girl'), ('promise', 'girl', 'stole'), ('girl', 'stole', 'star'), ('stole', 'star', 'important'), ('star', 'important', 'inspiration'), ('important', 'inspiration', 'personally'), ('inspiration', 'personally', 'throughout'), ('personally', 'throughout', 'teen'), ('throughout', 'teen', 'year'), ('teen', 'year', 'higher'), ('year', 'higher', 'energy'), ('higher', 'energy', 'track'), ('energy', 'track', 'chrono'), ('track', 'chrono', 'cross'), ('chrono', 'cross', \"time's\"), ('cross', \"time's\", 'scar'), (\"time's\", 'scar', 'time'), ('scar', 'time', 'dreamwatch'), ('time', 'dreamwatch', 'chronomantique'), ('dreamwatch', 'chronomantique', 'indefinably'), ('chronomantique', 'indefinably', 'remeniscent'), ('indefinably', 'remeniscent', 'chrono'), ('remeniscent', 'chrono', 'trigger'), ('chrono', 'trigger', 'absolutely'), ('trigger', 'absolutely', 'superb'), ('absolutely', 'superb', 'well'), ('superb', 'well', 'soundtrack'), ('well', 'soundtrack', 'amaze'), ('soundtrack', 'amaze', 'music'), ('amaze', 'music', 'probably'), ('music', 'probably', 'best'), ('probably', 'best', \"composer's\"), ('best', \"composer's\", 'work'), (\"composer's\", 'work', 'heard'), ('work', 'heard', 'xenogears'), ('heard', 'xenogears', 'soundtrack'), ('xenogears', 'soundtrack', \"can't\"), ('soundtrack', \"can't\", 'say'), (\"can't\", 'say', 'sure'), ('say', 'sure', 'even'), ('sure', 'even', 'never'), ('even', 'never', 'play'), ('never', 'play', 'game'), ('play', 'game', 'would'), ('game', 'would', 'worth'), ('would', 'worth', 'twice'), ('worth', 'twice', 'price'), ('twice', 'price', 'buy'), ('price', 'buy', 'wish'), ('buy', 'wish', 'could'), ('wish', 'could', 'give'), ('could', 'give', 'star')]</td>\n",
       "    </tr>\n",
       "    <tr>\n",
       "      <th>3</th>\n",
       "      <td>2</td>\n",
       "      <td>I truly like this soundtrack and I enjoy video game music. I have played this game and most of the music on here I enjoy and it's truly relaxing and peaceful.On disk one. my favorites are Scars Of Time, Between Life and Death, Forest Of Illusion, Fortress of Ancient Dragons, Lost Fragment, and Drowned Valley.Disk Two: The Draggons, Galdorb - Home, Chronomantique, Prisoners of Fate, Gale, and my girlfriend likes ZelbessDisk Three: The best of the three. Garden Of God, Chronopolis, Fates, Jellyfish sea, Burning Orphange, Dragon's Prayer, Tower Of Stars, Dragon God, and Radical Dreamers - Unstealable Jewel.Overall, this is a excellent soundtrack and should be brought by those that like video game music.Xander Cross</td>\n",
       "      <td>truly soundtrack enjoy video game music play game music enjoy truly relaxing peaceful disk favorite scar time life death forest illusion fortress ancient dragon lose fragment drown valley disk two draggons galdorb home chronomantique prisoner fate gale girlfriend like zelbessdisk three best three garden god chronopolis fat jellyfish sea burn orphange dragon's prayer tower star dragon god radical dreamer unstealable jewel overall excellent soundtrack bring video game music xander cross</td>\n",
       "      <td>['truly', 'soundtrack', 'enjoy', 'video', 'game', 'music', 'play', 'game', 'music', 'enjoy', 'truly', 'relaxing', 'peaceful', 'disk', 'favorite', 'scar', 'time', 'life', 'death', 'forest', 'illusion', 'fortress', 'ancient', 'dragon', 'lose', 'fragment', 'drown', 'valley', 'disk', 'two', 'draggons', 'galdorb', 'home', 'chronomantique', 'prisoner', 'fate', 'gale', 'girlfriend', 'like', 'zelbessdisk', 'three', 'best', 'three', 'garden', 'god', 'chronopolis', 'fat', 'jellyfish', 'sea', 'burn', 'orphange', \"dragon's\", 'prayer', 'tower', 'star', 'dragon', 'god', 'radical', 'dreamer', 'unstealable', 'jewel', 'overall', 'excellent', 'soundtrack', 'bring', 'video', 'game', 'music', 'xander', 'cross']</td>\n",
       "      <td>[('truly', 'soundtrack'), ('soundtrack', 'enjoy'), ('enjoy', 'video'), ('video', 'game'), ('game', 'music'), ('music', 'play'), ('play', 'game'), ('game', 'music'), ('music', 'enjoy'), ('enjoy', 'truly'), ('truly', 'relaxing'), ('relaxing', 'peaceful'), ('peaceful', 'disk'), ('disk', 'favorite'), ('favorite', 'scar'), ('scar', 'time'), ('time', 'life'), ('life', 'death'), ('death', 'forest'), ('forest', 'illusion'), ('illusion', 'fortress'), ('fortress', 'ancient'), ('ancient', 'dragon'), ('dragon', 'lose'), ('lose', 'fragment'), ('fragment', 'drown'), ('drown', 'valley'), ('valley', 'disk'), ('disk', 'two'), ('two', 'draggons'), ('draggons', 'galdorb'), ('galdorb', 'home'), ('home', 'chronomantique'), ('chronomantique', 'prisoner'), ('prisoner', 'fate'), ('fate', 'gale'), ('gale', 'girlfriend'), ('girlfriend', 'like'), ('like', 'zelbessdisk'), ('zelbessdisk', 'three'), ('three', 'best'), ('best', 'three'), ('three', 'garden'), ('garden', 'god'), ('god', 'chronopolis'), ('chronopolis', 'fat'), ('fat', 'jellyfish'), ('jellyfish', 'sea'), ('sea', 'burn'), ('burn', 'orphange'), ('orphange', \"dragon's\"), (\"dragon's\", 'prayer'), ('prayer', 'tower'), ('tower', 'star'), ('star', 'dragon'), ('dragon', 'god'), ('god', 'radical'), ('radical', 'dreamer'), ('dreamer', 'unstealable'), ('unstealable', 'jewel'), ('jewel', 'overall'), ('overall', 'excellent'), ('excellent', 'soundtrack'), ('soundtrack', 'bring'), ('bring', 'video'), ('video', 'game'), ('game', 'music'), ('music', 'xander'), ('xander', 'cross')]</td>\n",
       "      <td>[('truly', 'soundtrack', 'enjoy'), ('soundtrack', 'enjoy', 'video'), ('enjoy', 'video', 'game'), ('video', 'game', 'music'), ('game', 'music', 'play'), ('music', 'play', 'game'), ('play', 'game', 'music'), ('game', 'music', 'enjoy'), ('music', 'enjoy', 'truly'), ('enjoy', 'truly', 'relaxing'), ('truly', 'relaxing', 'peaceful'), ('relaxing', 'peaceful', 'disk'), ('peaceful', 'disk', 'favorite'), ('disk', 'favorite', 'scar'), ('favorite', 'scar', 'time'), ('scar', 'time', 'life'), ('time', 'life', 'death'), ('life', 'death', 'forest'), ('death', 'forest', 'illusion'), ('forest', 'illusion', 'fortress'), ('illusion', 'fortress', 'ancient'), ('fortress', 'ancient', 'dragon'), ('ancient', 'dragon', 'lose'), ('dragon', 'lose', 'fragment'), ('lose', 'fragment', 'drown'), ('fragment', 'drown', 'valley'), ('drown', 'valley', 'disk'), ('valley', 'disk', 'two'), ('disk', 'two', 'draggons'), ('two', 'draggons', 'galdorb'), ('draggons', 'galdorb', 'home'), ('galdorb', 'home', 'chronomantique'), ('home', 'chronomantique', 'prisoner'), ('chronomantique', 'prisoner', 'fate'), ('prisoner', 'fate', 'gale'), ('fate', 'gale', 'girlfriend'), ('gale', 'girlfriend', 'like'), ('girlfriend', 'like', 'zelbessdisk'), ('like', 'zelbessdisk', 'three'), ('zelbessdisk', 'three', 'best'), ('three', 'best', 'three'), ('best', 'three', 'garden'), ('three', 'garden', 'god'), ('garden', 'god', 'chronopolis'), ('god', 'chronopolis', 'fat'), ('chronopolis', 'fat', 'jellyfish'), ('fat', 'jellyfish', 'sea'), ('jellyfish', 'sea', 'burn'), ('sea', 'burn', 'orphange'), ('burn', 'orphange', \"dragon's\"), ('orphange', \"dragon's\", 'prayer'), (\"dragon's\", 'prayer', 'tower'), ('prayer', 'tower', 'star'), ('tower', 'star', 'dragon'), ('star', 'dragon', 'god'), ('dragon', 'god', 'radical'), ('god', 'radical', 'dreamer'), ('radical', 'dreamer', 'unstealable'), ('dreamer', 'unstealable', 'jewel'), ('unstealable', 'jewel', 'overall'), ('jewel', 'overall', 'excellent'), ('overall', 'excellent', 'soundtrack'), ('excellent', 'soundtrack', 'bring'), ('soundtrack', 'bring', 'video'), ('bring', 'video', 'game'), ('video', 'game', 'music'), ('game', 'music', 'xander'), ('music', 'xander', 'cross')]</td>\n",
       "    </tr>\n",
       "    <tr>\n",
       "      <th>4</th>\n",
       "      <td>2</td>\n",
       "      <td>If you've played the game, you know how divine the music is! Every single song tells a story of the game, it's that good! The greatest songs are without a doubt, Chrono Cross: Time's Scar, Magical Dreamers: The Wind, The Stars, and the Sea and Radical Dreamers: Unstolen Jewel. (Translation varies) This music is perfect if you ask me, the best it can be. Yasunori Mitsuda just poured his heart on and wrote it down on paper.</td>\n",
       "      <td>played game know divine music every single song tell story game great song without doubt chrono cross time's scar magical dreamer wind star sea radical dreamer unstolen jewel translation varies music perfect ask best yasunori mitsuda pour heart write paper</td>\n",
       "      <td>['played', 'game', 'know', 'divine', 'music', 'every', 'single', 'song', 'tell', 'story', 'game', 'great', 'song', 'without', 'doubt', 'chrono', 'cross', \"time's\", 'scar', 'magical', 'dreamer', 'wind', 'star', 'sea', 'radical', 'dreamer', 'unstolen', 'jewel', 'translation', 'varies', 'music', 'perfect', 'ask', 'best', 'yasunori', 'mitsuda', 'pour', 'heart', 'write', 'paper']</td>\n",
       "      <td>[('played', 'game'), ('game', 'know'), ('know', 'divine'), ('divine', 'music'), ('music', 'every'), ('every', 'single'), ('single', 'song'), ('song', 'tell'), ('tell', 'story'), ('story', 'game'), ('game', 'great'), ('great', 'song'), ('song', 'without'), ('without', 'doubt'), ('doubt', 'chrono'), ('chrono', 'cross'), ('cross', \"time's\"), (\"time's\", 'scar'), ('scar', 'magical'), ('magical', 'dreamer'), ('dreamer', 'wind'), ('wind', 'star'), ('star', 'sea'), ('sea', 'radical'), ('radical', 'dreamer'), ('dreamer', 'unstolen'), ('unstolen', 'jewel'), ('jewel', 'translation'), ('translation', 'varies'), ('varies', 'music'), ('music', 'perfect'), ('perfect', 'ask'), ('ask', 'best'), ('best', 'yasunori'), ('yasunori', 'mitsuda'), ('mitsuda', 'pour'), ('pour', 'heart'), ('heart', 'write'), ('write', 'paper')]</td>\n",
       "      <td>[('played', 'game', 'know'), ('game', 'know', 'divine'), ('know', 'divine', 'music'), ('divine', 'music', 'every'), ('music', 'every', 'single'), ('every', 'single', 'song'), ('single', 'song', 'tell'), ('song', 'tell', 'story'), ('tell', 'story', 'game'), ('story', 'game', 'great'), ('game', 'great', 'song'), ('great', 'song', 'without'), ('song', 'without', 'doubt'), ('without', 'doubt', 'chrono'), ('doubt', 'chrono', 'cross'), ('chrono', 'cross', \"time's\"), ('cross', \"time's\", 'scar'), (\"time's\", 'scar', 'magical'), ('scar', 'magical', 'dreamer'), ('magical', 'dreamer', 'wind'), ('dreamer', 'wind', 'star'), ('wind', 'star', 'sea'), ('star', 'sea', 'radical'), ('sea', 'radical', 'dreamer'), ('radical', 'dreamer', 'unstolen'), ('dreamer', 'unstolen', 'jewel'), ('unstolen', 'jewel', 'translation'), ('jewel', 'translation', 'varies'), ('translation', 'varies', 'music'), ('varies', 'music', 'perfect'), ('music', 'perfect', 'ask'), ('perfect', 'ask', 'best'), ('ask', 'best', 'yasunori'), ('best', 'yasunori', 'mitsuda'), ('yasunori', 'mitsuda', 'pour'), ('mitsuda', 'pour', 'heart'), ('pour', 'heart', 'write'), ('heart', 'write', 'paper')]</td>\n",
       "    </tr>\n",
       "  </tbody>\n",
       "</table>\n",
       "</div>"
      ],
      "text/plain": [
       "   sentiment  \\\n",
       "0          2   \n",
       "1          2   \n",
       "2          2   \n",
       "3          2   \n",
       "4          2   \n",
       "\n",
       "                                                                                                                                                                                                                                                                                                                                                                                                                                                                                                                                                                                                                                                                                                                                                                             text  \\\n",
       "0                                                                                                                                                                                                                                                                                                                                                                      This sound track was beautiful! It paints the senery in your mind so well I would recomend it even to people who hate vid. game music! I have played the game Chrono Cross but out of all of the games I have ever played it has the best music! It backs away from crude keyboarding and takes a fresher step with grate guitars and soulful orchestras. It would impress anyone who cares to listen! ^_^   \n",
       "1                                                                                                                                                                                                                                                                                          I'm reading a lot of reviews saying that this is the best 'game soundtrack' and I figured that I'd write a review to disagree a bit. This in my opinino is Yasunori Mitsuda's ultimate masterpiece. The music is timeless and I'm been listening to it for years now and its beauty simply refuses to fade.The price tag on this is pretty staggering I must say, but if you are going to buy any cd for this much money, this is the only one that I feel would be worth every penny.   \n",
       "2  This soundtrack is my favorite music of all time, hands down. The intense sadness of \"Prisoners of Fate\" (which means all the more if you've played the game) and the hope in \"A Distant Promise\" and \"Girl who Stole the Star\" have been an important inspiration to me personally throughout my teen years. The higher energy tracks like \"Chrono Cross ~ Time's Scar~\", \"Time of the Dreamwatch\", and \"Chronomantique\" (indefinably remeniscent of Chrono Trigger) are all absolutely superb as well.This soundtrack is amazing music, probably the best of this composer's work (I haven't heard the Xenogears soundtrack, so I can't say for sure), and even if you've never played the game, it would be worth twice the price to buy it.I wish I could give it 6 stars.   \n",
       "3                               I truly like this soundtrack and I enjoy video game music. I have played this game and most of the music on here I enjoy and it's truly relaxing and peaceful.On disk one. my favorites are Scars Of Time, Between Life and Death, Forest Of Illusion, Fortress of Ancient Dragons, Lost Fragment, and Drowned Valley.Disk Two: The Draggons, Galdorb - Home, Chronomantique, Prisoners of Fate, Gale, and my girlfriend likes ZelbessDisk Three: The best of the three. Garden Of God, Chronopolis, Fates, Jellyfish sea, Burning Orphange, Dragon's Prayer, Tower Of Stars, Dragon God, and Radical Dreamers - Unstealable Jewel.Overall, this is a excellent soundtrack and should be brought by those that like video game music.Xander Cross   \n",
       "4                                                                                                                                                                                                                                                                                                                                       If you've played the game, you know how divine the music is! Every single song tells a story of the game, it's that good! The greatest songs are without a doubt, Chrono Cross: Time's Scar, Magical Dreamers: The Wind, The Stars, and the Sea and Radical Dreamers: Unstolen Jewel. (Translation varies) This music is perfect if you ask me, the best it can be. Yasunori Mitsuda just poured his heart on and wrote it down on paper.   \n",
       "\n",
       "                                                                                                                                                                                                                                                                                                                                                                                                                                                                                                text_cleaned  \\\n",
       "0                                                                                                                                                                                                                                                   sound track beautiful paint senery mind well would recomend even people hate vid game music play game chrono cross game ever play best music back away crude keyboarding take fresh step grate guitar soulful orchestra would impress anyone care listen   \n",
       "1                                                                                                                                                                                                                          i'm reading lot review say best game soundtrack figure i'd write review disagree bit opinino yasunori mitsuda's ultimate masterpiece music timeless i'm listen year beauty simply refuse fade price tag pretty stagger must say go buy cd much money feel would worth every penny   \n",
       "2               soundtrack favorite music time hand intense sadness prisoner fate mean played game hope distant promise girl stole star important inspiration personally throughout teen year higher energy track chrono cross time's scar time dreamwatch chronomantique indefinably remeniscent chrono trigger absolutely superb well soundtrack amaze music probably best composer's work heard xenogears soundtrack can't say sure even never play game would worth twice price buy wish could give star   \n",
       "3  truly soundtrack enjoy video game music play game music enjoy truly relaxing peaceful disk favorite scar time life death forest illusion fortress ancient dragon lose fragment drown valley disk two draggons galdorb home chronomantique prisoner fate gale girlfriend like zelbessdisk three best three garden god chronopolis fat jellyfish sea burn orphange dragon's prayer tower star dragon god radical dreamer unstealable jewel overall excellent soundtrack bring video game music xander cross   \n",
       "4                                                                                                                                                                                                                                           played game know divine music every single song tell story game great song without doubt chrono cross time's scar magical dreamer wind star sea radical dreamer unstolen jewel translation varies music perfect ask best yasunori mitsuda pour heart write paper   \n",
       "\n",
       "                                                                                                                                                                                                                                                                                                                                                                                                                                                                                                                                                                                                                                                                                                                           toks  \\\n",
       "0                                                                                                                                                                                                                                                                                                                                             ['sound', 'track', 'beautiful', 'paint', 'senery', 'mind', 'well', 'would', 'recomend', 'even', 'people', 'hate', 'vid', 'game', 'music', 'play', 'game', 'chrono', 'cross', 'game', 'ever', 'play', 'best', 'music', 'back', 'away', 'crude', 'keyboarding', 'take', 'fresh', 'step', 'grate', 'guitar', 'soulful', 'orchestra', 'would', 'impress', 'anyone', 'care', 'listen']   \n",
       "1                                                                                                                                                                                                                                                                                                        [\"i'm\", 'reading', 'lot', 'review', 'say', 'best', 'game', 'soundtrack', 'figure', \"i'd\", 'write', 'review', 'disagree', 'bit', 'opinino', 'yasunori', \"mitsuda's\", 'ultimate', 'masterpiece', 'music', 'timeless', \"i'm\", 'listen', 'year', 'beauty', 'simply', 'refuse', 'fade', 'price', 'tag', 'pretty', 'stagger', 'must', 'say', 'go', 'buy', 'cd', 'much', 'money', 'feel', 'would', 'worth', 'every', 'penny']   \n",
       "2                        ['soundtrack', 'favorite', 'music', 'time', 'hand', 'intense', 'sadness', 'prisoner', 'fate', 'mean', 'played', 'game', 'hope', 'distant', 'promise', 'girl', 'stole', 'star', 'important', 'inspiration', 'personally', 'throughout', 'teen', 'year', 'higher', 'energy', 'track', 'chrono', 'cross', \"time's\", 'scar', 'time', 'dreamwatch', 'chronomantique', 'indefinably', 'remeniscent', 'chrono', 'trigger', 'absolutely', 'superb', 'well', 'soundtrack', 'amaze', 'music', 'probably', 'best', \"composer's\", 'work', 'heard', 'xenogears', 'soundtrack', \"can't\", 'say', 'sure', 'even', 'never', 'play', 'game', 'would', 'worth', 'twice', 'price', 'buy', 'wish', 'could', 'give', 'star']   \n",
       "3  ['truly', 'soundtrack', 'enjoy', 'video', 'game', 'music', 'play', 'game', 'music', 'enjoy', 'truly', 'relaxing', 'peaceful', 'disk', 'favorite', 'scar', 'time', 'life', 'death', 'forest', 'illusion', 'fortress', 'ancient', 'dragon', 'lose', 'fragment', 'drown', 'valley', 'disk', 'two', 'draggons', 'galdorb', 'home', 'chronomantique', 'prisoner', 'fate', 'gale', 'girlfriend', 'like', 'zelbessdisk', 'three', 'best', 'three', 'garden', 'god', 'chronopolis', 'fat', 'jellyfish', 'sea', 'burn', 'orphange', \"dragon's\", 'prayer', 'tower', 'star', 'dragon', 'god', 'radical', 'dreamer', 'unstealable', 'jewel', 'overall', 'excellent', 'soundtrack', 'bring', 'video', 'game', 'music', 'xander', 'cross']   \n",
       "4                                                                                                                                                                                                                                                                                                                                     ['played', 'game', 'know', 'divine', 'music', 'every', 'single', 'song', 'tell', 'story', 'game', 'great', 'song', 'without', 'doubt', 'chrono', 'cross', \"time's\", 'scar', 'magical', 'dreamer', 'wind', 'star', 'sea', 'radical', 'dreamer', 'unstolen', 'jewel', 'translation', 'varies', 'music', 'perfect', 'ask', 'best', 'yasunori', 'mitsuda', 'pour', 'heart', 'write', 'paper']   \n",
       "\n",
       "                                                                                                                                                                                                                                                                                                                                                                                                                                                                                                                                                                                                                                                                                                                                                                                                                                                                                                                                                                                                                                                                                                                                                                                                                                                                                                                                                                                                                                                                                                                                                                            bigrams  \\\n",
       "0                                                                                                                                                                                                                                                                                                                                                                                                                                                                                                                                                                                                                                                                                                                                                     [('sound', 'track'), ('track', 'beautiful'), ('beautiful', 'paint'), ('paint', 'senery'), ('senery', 'mind'), ('mind', 'well'), ('well', 'would'), ('would', 'recomend'), ('recomend', 'even'), ('even', 'people'), ('people', 'hate'), ('hate', 'vid'), ('vid', 'game'), ('game', 'music'), ('music', 'play'), ('play', 'game'), ('game', 'chrono'), ('chrono', 'cross'), ('cross', 'game'), ('game', 'ever'), ('ever', 'play'), ('play', 'best'), ('best', 'music'), ('music', 'back'), ('back', 'away'), ('away', 'crude'), ('crude', 'keyboarding'), ('keyboarding', 'take'), ('take', 'fresh'), ('fresh', 'step'), ('step', 'grate'), ('grate', 'guitar'), ('guitar', 'soulful'), ('soulful', 'orchestra'), ('orchestra', 'would'), ('would', 'impress'), ('impress', 'anyone'), ('anyone', 'care'), ('care', 'listen')]   \n",
       "1                                                                                                                                                                                                                                                                                                                                                                                                                                                                                                                                                                                                                                                                [(\"i'm\", 'reading'), ('reading', 'lot'), ('lot', 'review'), ('review', 'say'), ('say', 'best'), ('best', 'game'), ('game', 'soundtrack'), ('soundtrack', 'figure'), ('figure', \"i'd\"), (\"i'd\", 'write'), ('write', 'review'), ('review', 'disagree'), ('disagree', 'bit'), ('bit', 'opinino'), ('opinino', 'yasunori'), ('yasunori', \"mitsuda's\"), (\"mitsuda's\", 'ultimate'), ('ultimate', 'masterpiece'), ('masterpiece', 'music'), ('music', 'timeless'), ('timeless', \"i'm\"), (\"i'm\", 'listen'), ('listen', 'year'), ('year', 'beauty'), ('beauty', 'simply'), ('simply', 'refuse'), ('refuse', 'fade'), ('fade', 'price'), ('price', 'tag'), ('tag', 'pretty'), ('pretty', 'stagger'), ('stagger', 'must'), ('must', 'say'), ('say', 'go'), ('go', 'buy'), ('buy', 'cd'), ('cd', 'much'), ('much', 'money'), ('money', 'feel'), ('feel', 'would'), ('would', 'worth'), ('worth', 'every'), ('every', 'penny')]   \n",
       "2                                                        [('soundtrack', 'favorite'), ('favorite', 'music'), ('music', 'time'), ('time', 'hand'), ('hand', 'intense'), ('intense', 'sadness'), ('sadness', 'prisoner'), ('prisoner', 'fate'), ('fate', 'mean'), ('mean', 'played'), ('played', 'game'), ('game', 'hope'), ('hope', 'distant'), ('distant', 'promise'), ('promise', 'girl'), ('girl', 'stole'), ('stole', 'star'), ('star', 'important'), ('important', 'inspiration'), ('inspiration', 'personally'), ('personally', 'throughout'), ('throughout', 'teen'), ('teen', 'year'), ('year', 'higher'), ('higher', 'energy'), ('energy', 'track'), ('track', 'chrono'), ('chrono', 'cross'), ('cross', \"time's\"), (\"time's\", 'scar'), ('scar', 'time'), ('time', 'dreamwatch'), ('dreamwatch', 'chronomantique'), ('chronomantique', 'indefinably'), ('indefinably', 'remeniscent'), ('remeniscent', 'chrono'), ('chrono', 'trigger'), ('trigger', 'absolutely'), ('absolutely', 'superb'), ('superb', 'well'), ('well', 'soundtrack'), ('soundtrack', 'amaze'), ('amaze', 'music'), ('music', 'probably'), ('probably', 'best'), ('best', \"composer's\"), (\"composer's\", 'work'), ('work', 'heard'), ('heard', 'xenogears'), ('xenogears', 'soundtrack'), ('soundtrack', \"can't\"), (\"can't\", 'say'), ('say', 'sure'), ('sure', 'even'), ('even', 'never'), ('never', 'play'), ('play', 'game'), ('game', 'would'), ('would', 'worth'), ('worth', 'twice'), ('twice', 'price'), ('price', 'buy'), ('buy', 'wish'), ('wish', 'could'), ('could', 'give'), ('give', 'star')]   \n",
       "3  [('truly', 'soundtrack'), ('soundtrack', 'enjoy'), ('enjoy', 'video'), ('video', 'game'), ('game', 'music'), ('music', 'play'), ('play', 'game'), ('game', 'music'), ('music', 'enjoy'), ('enjoy', 'truly'), ('truly', 'relaxing'), ('relaxing', 'peaceful'), ('peaceful', 'disk'), ('disk', 'favorite'), ('favorite', 'scar'), ('scar', 'time'), ('time', 'life'), ('life', 'death'), ('death', 'forest'), ('forest', 'illusion'), ('illusion', 'fortress'), ('fortress', 'ancient'), ('ancient', 'dragon'), ('dragon', 'lose'), ('lose', 'fragment'), ('fragment', 'drown'), ('drown', 'valley'), ('valley', 'disk'), ('disk', 'two'), ('two', 'draggons'), ('draggons', 'galdorb'), ('galdorb', 'home'), ('home', 'chronomantique'), ('chronomantique', 'prisoner'), ('prisoner', 'fate'), ('fate', 'gale'), ('gale', 'girlfriend'), ('girlfriend', 'like'), ('like', 'zelbessdisk'), ('zelbessdisk', 'three'), ('three', 'best'), ('best', 'three'), ('three', 'garden'), ('garden', 'god'), ('god', 'chronopolis'), ('chronopolis', 'fat'), ('fat', 'jellyfish'), ('jellyfish', 'sea'), ('sea', 'burn'), ('burn', 'orphange'), ('orphange', \"dragon's\"), (\"dragon's\", 'prayer'), ('prayer', 'tower'), ('tower', 'star'), ('star', 'dragon'), ('dragon', 'god'), ('god', 'radical'), ('radical', 'dreamer'), ('dreamer', 'unstealable'), ('unstealable', 'jewel'), ('jewel', 'overall'), ('overall', 'excellent'), ('excellent', 'soundtrack'), ('soundtrack', 'bring'), ('bring', 'video'), ('video', 'game'), ('game', 'music'), ('music', 'xander'), ('xander', 'cross')]   \n",
       "4                                                                                                                                                                                                                                                                                                                                                                                                                                                                                                                                                                                                                                                                                                                                     [('played', 'game'), ('game', 'know'), ('know', 'divine'), ('divine', 'music'), ('music', 'every'), ('every', 'single'), ('single', 'song'), ('song', 'tell'), ('tell', 'story'), ('story', 'game'), ('game', 'great'), ('great', 'song'), ('song', 'without'), ('without', 'doubt'), ('doubt', 'chrono'), ('chrono', 'cross'), ('cross', \"time's\"), (\"time's\", 'scar'), ('scar', 'magical'), ('magical', 'dreamer'), ('dreamer', 'wind'), ('wind', 'star'), ('star', 'sea'), ('sea', 'radical'), ('radical', 'dreamer'), ('dreamer', 'unstolen'), ('unstolen', 'jewel'), ('jewel', 'translation'), ('translation', 'varies'), ('varies', 'music'), ('music', 'perfect'), ('perfect', 'ask'), ('ask', 'best'), ('best', 'yasunori'), ('yasunori', 'mitsuda'), ('mitsuda', 'pour'), ('pour', 'heart'), ('heart', 'write'), ('write', 'paper')]   \n",
       "\n",
       "                                                                                                                                                                                                                                                                                                                                                                                                                                                                                                                                                                                                                                                                                                                                                                                                                                                                                                                                                                                                                                                                                                                                                                                                                                                                                                                                                                                                                                                                                                                                                                                                                                                                                                                                                                                                                                                                                                                                                                                                                                                                                                                                                                                                                                                           trigrams  \n",
       "0                                                                                                                                                                                                                                                                                                                                                                                                                                                                                                                                                                                                                                                                                                                                                                                                                                                                                                                                                                                                                                                                                          [('sound', 'track', 'beautiful'), ('track', 'beautiful', 'paint'), ('beautiful', 'paint', 'senery'), ('paint', 'senery', 'mind'), ('senery', 'mind', 'well'), ('mind', 'well', 'would'), ('well', 'would', 'recomend'), ('would', 'recomend', 'even'), ('recomend', 'even', 'people'), ('even', 'people', 'hate'), ('people', 'hate', 'vid'), ('hate', 'vid', 'game'), ('vid', 'game', 'music'), ('game', 'music', 'play'), ('music', 'play', 'game'), ('play', 'game', 'chrono'), ('game', 'chrono', 'cross'), ('chrono', 'cross', 'game'), ('cross', 'game', 'ever'), ('game', 'ever', 'play'), ('ever', 'play', 'best'), ('play', 'best', 'music'), ('best', 'music', 'back'), ('music', 'back', 'away'), ('back', 'away', 'crude'), ('away', 'crude', 'keyboarding'), ('crude', 'keyboarding', 'take'), ('keyboarding', 'take', 'fresh'), ('take', 'fresh', 'step'), ('fresh', 'step', 'grate'), ('step', 'grate', 'guitar'), ('grate', 'guitar', 'soulful'), ('guitar', 'soulful', 'orchestra'), ('soulful', 'orchestra', 'would'), ('orchestra', 'would', 'impress'), ('would', 'impress', 'anyone'), ('impress', 'anyone', 'care'), ('anyone', 'care', 'listen')]  \n",
       "1                                                                                                                                                                                                                                                                                                                                                                                                                                                                                                                                                                                                                                                                                                                                                                                                                                                                                                                                                                [(\"i'm\", 'reading', 'lot'), ('reading', 'lot', 'review'), ('lot', 'review', 'say'), ('review', 'say', 'best'), ('say', 'best', 'game'), ('best', 'game', 'soundtrack'), ('game', 'soundtrack', 'figure'), ('soundtrack', 'figure', \"i'd\"), ('figure', \"i'd\", 'write'), (\"i'd\", 'write', 'review'), ('write', 'review', 'disagree'), ('review', 'disagree', 'bit'), ('disagree', 'bit', 'opinino'), ('bit', 'opinino', 'yasunori'), ('opinino', 'yasunori', \"mitsuda's\"), ('yasunori', \"mitsuda's\", 'ultimate'), (\"mitsuda's\", 'ultimate', 'masterpiece'), ('ultimate', 'masterpiece', 'music'), ('masterpiece', 'music', 'timeless'), ('music', 'timeless', \"i'm\"), ('timeless', \"i'm\", 'listen'), (\"i'm\", 'listen', 'year'), ('listen', 'year', 'beauty'), ('year', 'beauty', 'simply'), ('beauty', 'simply', 'refuse'), ('simply', 'refuse', 'fade'), ('refuse', 'fade', 'price'), ('fade', 'price', 'tag'), ('price', 'tag', 'pretty'), ('tag', 'pretty', 'stagger'), ('pretty', 'stagger', 'must'), ('stagger', 'must', 'say'), ('must', 'say', 'go'), ('say', 'go', 'buy'), ('go', 'buy', 'cd'), ('buy', 'cd', 'much'), ('cd', 'much', 'money'), ('much', 'money', 'feel'), ('money', 'feel', 'would'), ('feel', 'would', 'worth'), ('would', 'worth', 'every'), ('worth', 'every', 'penny')]  \n",
       "2                                                                              [('soundtrack', 'favorite', 'music'), ('favorite', 'music', 'time'), ('music', 'time', 'hand'), ('time', 'hand', 'intense'), ('hand', 'intense', 'sadness'), ('intense', 'sadness', 'prisoner'), ('sadness', 'prisoner', 'fate'), ('prisoner', 'fate', 'mean'), ('fate', 'mean', 'played'), ('mean', 'played', 'game'), ('played', 'game', 'hope'), ('game', 'hope', 'distant'), ('hope', 'distant', 'promise'), ('distant', 'promise', 'girl'), ('promise', 'girl', 'stole'), ('girl', 'stole', 'star'), ('stole', 'star', 'important'), ('star', 'important', 'inspiration'), ('important', 'inspiration', 'personally'), ('inspiration', 'personally', 'throughout'), ('personally', 'throughout', 'teen'), ('throughout', 'teen', 'year'), ('teen', 'year', 'higher'), ('year', 'higher', 'energy'), ('higher', 'energy', 'track'), ('energy', 'track', 'chrono'), ('track', 'chrono', 'cross'), ('chrono', 'cross', \"time's\"), ('cross', \"time's\", 'scar'), (\"time's\", 'scar', 'time'), ('scar', 'time', 'dreamwatch'), ('time', 'dreamwatch', 'chronomantique'), ('dreamwatch', 'chronomantique', 'indefinably'), ('chronomantique', 'indefinably', 'remeniscent'), ('indefinably', 'remeniscent', 'chrono'), ('remeniscent', 'chrono', 'trigger'), ('chrono', 'trigger', 'absolutely'), ('trigger', 'absolutely', 'superb'), ('absolutely', 'superb', 'well'), ('superb', 'well', 'soundtrack'), ('well', 'soundtrack', 'amaze'), ('soundtrack', 'amaze', 'music'), ('amaze', 'music', 'probably'), ('music', 'probably', 'best'), ('probably', 'best', \"composer's\"), ('best', \"composer's\", 'work'), (\"composer's\", 'work', 'heard'), ('work', 'heard', 'xenogears'), ('heard', 'xenogears', 'soundtrack'), ('xenogears', 'soundtrack', \"can't\"), ('soundtrack', \"can't\", 'say'), (\"can't\", 'say', 'sure'), ('say', 'sure', 'even'), ('sure', 'even', 'never'), ('even', 'never', 'play'), ('never', 'play', 'game'), ('play', 'game', 'would'), ('game', 'would', 'worth'), ('would', 'worth', 'twice'), ('worth', 'twice', 'price'), ('twice', 'price', 'buy'), ('price', 'buy', 'wish'), ('buy', 'wish', 'could'), ('wish', 'could', 'give'), ('could', 'give', 'star')]  \n",
       "3  [('truly', 'soundtrack', 'enjoy'), ('soundtrack', 'enjoy', 'video'), ('enjoy', 'video', 'game'), ('video', 'game', 'music'), ('game', 'music', 'play'), ('music', 'play', 'game'), ('play', 'game', 'music'), ('game', 'music', 'enjoy'), ('music', 'enjoy', 'truly'), ('enjoy', 'truly', 'relaxing'), ('truly', 'relaxing', 'peaceful'), ('relaxing', 'peaceful', 'disk'), ('peaceful', 'disk', 'favorite'), ('disk', 'favorite', 'scar'), ('favorite', 'scar', 'time'), ('scar', 'time', 'life'), ('time', 'life', 'death'), ('life', 'death', 'forest'), ('death', 'forest', 'illusion'), ('forest', 'illusion', 'fortress'), ('illusion', 'fortress', 'ancient'), ('fortress', 'ancient', 'dragon'), ('ancient', 'dragon', 'lose'), ('dragon', 'lose', 'fragment'), ('lose', 'fragment', 'drown'), ('fragment', 'drown', 'valley'), ('drown', 'valley', 'disk'), ('valley', 'disk', 'two'), ('disk', 'two', 'draggons'), ('two', 'draggons', 'galdorb'), ('draggons', 'galdorb', 'home'), ('galdorb', 'home', 'chronomantique'), ('home', 'chronomantique', 'prisoner'), ('chronomantique', 'prisoner', 'fate'), ('prisoner', 'fate', 'gale'), ('fate', 'gale', 'girlfriend'), ('gale', 'girlfriend', 'like'), ('girlfriend', 'like', 'zelbessdisk'), ('like', 'zelbessdisk', 'three'), ('zelbessdisk', 'three', 'best'), ('three', 'best', 'three'), ('best', 'three', 'garden'), ('three', 'garden', 'god'), ('garden', 'god', 'chronopolis'), ('god', 'chronopolis', 'fat'), ('chronopolis', 'fat', 'jellyfish'), ('fat', 'jellyfish', 'sea'), ('jellyfish', 'sea', 'burn'), ('sea', 'burn', 'orphange'), ('burn', 'orphange', \"dragon's\"), ('orphange', \"dragon's\", 'prayer'), (\"dragon's\", 'prayer', 'tower'), ('prayer', 'tower', 'star'), ('tower', 'star', 'dragon'), ('star', 'dragon', 'god'), ('dragon', 'god', 'radical'), ('god', 'radical', 'dreamer'), ('radical', 'dreamer', 'unstealable'), ('dreamer', 'unstealable', 'jewel'), ('unstealable', 'jewel', 'overall'), ('jewel', 'overall', 'excellent'), ('overall', 'excellent', 'soundtrack'), ('excellent', 'soundtrack', 'bring'), ('soundtrack', 'bring', 'video'), ('bring', 'video', 'game'), ('video', 'game', 'music'), ('game', 'music', 'xander'), ('music', 'xander', 'cross')]  \n",
       "4                                                                                                                                                                                                                                                                                                                                                                                                                                                                                                                                                                                                                                                                                                                                                                                                                                                                                                                                                                                                                                                                  [('played', 'game', 'know'), ('game', 'know', 'divine'), ('know', 'divine', 'music'), ('divine', 'music', 'every'), ('music', 'every', 'single'), ('every', 'single', 'song'), ('single', 'song', 'tell'), ('song', 'tell', 'story'), ('tell', 'story', 'game'), ('story', 'game', 'great'), ('game', 'great', 'song'), ('great', 'song', 'without'), ('song', 'without', 'doubt'), ('without', 'doubt', 'chrono'), ('doubt', 'chrono', 'cross'), ('chrono', 'cross', \"time's\"), ('cross', \"time's\", 'scar'), (\"time's\", 'scar', 'magical'), ('scar', 'magical', 'dreamer'), ('magical', 'dreamer', 'wind'), ('dreamer', 'wind', 'star'), ('wind', 'star', 'sea'), ('star', 'sea', 'radical'), ('sea', 'radical', 'dreamer'), ('radical', 'dreamer', 'unstolen'), ('dreamer', 'unstolen', 'jewel'), ('unstolen', 'jewel', 'translation'), ('jewel', 'translation', 'varies'), ('translation', 'varies', 'music'), ('varies', 'music', 'perfect'), ('music', 'perfect', 'ask'), ('perfect', 'ask', 'best'), ('ask', 'best', 'yasunori'), ('best', 'yasunori', 'mitsuda'), ('yasunori', 'mitsuda', 'pour'), ('mitsuda', 'pour', 'heart'), ('pour', 'heart', 'write'), ('heart', 'write', 'paper')]  "
      ]
     },
     "execution_count": 144,
     "metadata": {},
     "output_type": "execute_result"
    }
   ],
   "source": [
    "# Read in the data & preview its contents\n",
    "df = pd.read_csv('../data/train_cleaned_10sw.csv', index_col=0)\n",
    "df.head()"
   ]
  },
  {
   "cell_type": "code",
   "execution_count": 145,
   "metadata": {},
   "outputs": [
    {
     "name": "stdout",
     "output_type": "stream",
     "text": [
      "<class 'pandas.core.frame.DataFrame'>\n",
      "Int64Index: 3600000 entries, 0 to 3599999\n",
      "Data columns (total 6 columns):\n",
      " #   Column        Dtype \n",
      "---  ------        ----- \n",
      " 0   sentiment     int64 \n",
      " 1   text          object\n",
      " 2   text_cleaned  object\n",
      " 3   toks          object\n",
      " 4   bigrams       object\n",
      " 5   trigrams      object\n",
      "dtypes: int64(1), object(5)\n",
      "memory usage: 192.3+ MB\n"
     ]
    }
   ],
   "source": [
    "df.info()"
   ]
  },
  {
   "cell_type": "code",
   "execution_count": 146,
   "metadata": {},
   "outputs": [
    {
     "data": {
      "text/plain": [
       "2    1800000\n",
       "1    1800000\n",
       "Name: sentiment, dtype: int64"
      ]
     },
     "execution_count": 146,
     "metadata": {},
     "output_type": "execute_result"
    }
   ],
   "source": [
    "# Review target variable distribution\n",
    "df['sentiment'].value_counts()"
   ]
  },
  {
   "cell_type": "code",
   "execution_count": 147,
   "metadata": {},
   "outputs": [
    {
     "name": "stdout",
     "output_type": "stream",
     "text": [
      "sentiment        0\n",
      "text             0\n",
      "text_cleaned    23\n",
      "toks             0\n",
      "bigrams          0\n",
      "trigrams         0\n",
      "dtype: int64\n"
     ]
    },
    {
     "data": {
      "text/html": [
       "<div>\n",
       "<style scoped>\n",
       "    .dataframe tbody tr th:only-of-type {\n",
       "        vertical-align: middle;\n",
       "    }\n",
       "\n",
       "    .dataframe tbody tr th {\n",
       "        vertical-align: top;\n",
       "    }\n",
       "\n",
       "    .dataframe thead th {\n",
       "        text-align: right;\n",
       "    }\n",
       "</style>\n",
       "<table border=\"1\" class=\"dataframe\">\n",
       "  <thead>\n",
       "    <tr style=\"text-align: right;\">\n",
       "      <th></th>\n",
       "      <th>sentiment</th>\n",
       "      <th>text</th>\n",
       "      <th>text_cleaned</th>\n",
       "      <th>toks</th>\n",
       "      <th>bigrams</th>\n",
       "      <th>trigrams</th>\n",
       "    </tr>\n",
       "  </thead>\n",
       "  <tbody>\n",
       "    <tr>\n",
       "      <th>217919</th>\n",
       "      <td>2</td>\n",
       "      <td>ò ñàìà ì áèìà ñí è íí ñàìé áèìé äèñ . ß ìíäó ñ óèòü ,òì á, ò ñòèò í íü ä. Òà ò äèòó óè è ìéò àà í äóìà í ì!!!</td>\n",
       "      <td>NaN</td>\n",
       "      <td>[]</td>\n",
       "      <td>[]</td>\n",
       "      <td>[]</td>\n",
       "    </tr>\n",
       "    <tr>\n",
       "      <th>294435</th>\n",
       "      <td>2</td>\n",
       "      <td>............ ..... ..... ...... ...... ....... ..... ....... ....... ........ ......... ........ ........ ..... ......... ..... ..... ...... .. ......</td>\n",
       "      <td>NaN</td>\n",
       "      <td>[]</td>\n",
       "      <td>[]</td>\n",
       "      <td>[]</td>\n",
       "    </tr>\n",
       "    <tr>\n",
       "      <th>556297</th>\n",
       "      <td>2</td>\n",
       "      <td>it's very good ... .... ... ... ... ... ... ... ... ... ... ./.. ,... ... ... ... ... ... .</td>\n",
       "      <td>NaN</td>\n",
       "      <td>[]</td>\n",
       "      <td>[]</td>\n",
       "      <td>[]</td>\n",
       "    </tr>\n",
       "    <tr>\n",
       "      <th>629878</th>\n",
       "      <td>1</td>\n",
       "      <td>...............................</td>\n",
       "      <td>NaN</td>\n",
       "      <td>[]</td>\n",
       "      <td>[]</td>\n",
       "      <td>[]</td>\n",
       "    </tr>\n",
       "    <tr>\n",
       "      <th>680354</th>\n",
       "      <td>2</td>\n",
       "      <td>ò äèí è ñàì ìè áèì ìèò. à ò ññèè èàò ìà èäàò äèñè!!!!!!!!!</td>\n",
       "      <td>NaN</td>\n",
       "      <td>[]</td>\n",
       "      <td>[]</td>\n",
       "      <td>[]</td>\n",
       "    </tr>\n",
       "    <tr>\n",
       "      <th>1440939</th>\n",
       "      <td>1</td>\n",
       "      <td>|||||||||||||||||||| |||||||||| ||||||||||||||||||||||||||||||||||||||||||||||||||| ||||||||||| |||||||||||| ||||||||||||||| ||||||||||||||| ||||||||||| ||||||||||| ||||||||| |||||||| ||||||||||| ||||||||||| |||||||||||||</td>\n",
       "      <td>NaN</td>\n",
       "      <td>[]</td>\n",
       "      <td>[]</td>\n",
       "      <td>[]</td>\n",
       "    </tr>\n",
       "    <tr>\n",
       "      <th>1786231</th>\n",
       "      <td>2</td>\n",
       "      <td>38493 34740 47383 37054 48624 78568? 18581 28682 18558 24866 22584 24995 26484 14589 15648 15486 73893. 77504 03478 47589 43705 47309 67490 27348 57490 57409 37405 40978, 39794 (39847 57303 57049 32740 57403) 75093 47309 47328 54798 68978 97231 23473 34785 34097 34097. 34987: 34908 74309 34709 34908 40700 34087 45709 39874 97865 53586 97423 64987 36549 $54868 97668 52585 58855 93633 48457 20385 49884. 57430 34094 08908 34098 &amp; 30409 08745 72009 23730 40508%. 24094 32098 00908 34042 20835 27789 29735 #93487 98743 32907 75928 29873 29723 54097 29735 29357 40540 34094 21009 08423 40755 09725. 25097 45097 23099 23073@03550.23405 23098, 50983 20408 60846 23974 90766.</td>\n",
       "      <td>NaN</td>\n",
       "      <td>[]</td>\n",
       "      <td>[]</td>\n",
       "      <td>[]</td>\n",
       "    </tr>\n",
       "    <tr>\n",
       "      <th>1989004</th>\n",
       "      <td>2</td>\n",
       "      <td>&amp;#4315;&amp;#4304;&amp;#4306;&amp;#4304;&amp;#4320;&amp;#4312;&amp;#4304;,&amp;#4304;&amp;#4325; &amp;#4320;&amp;#4304;&amp;#4330; &amp;#4312;&amp;#4327;&amp;#4312;&amp;#4307;&amp;#4308;&amp;#4305;&amp;#4304; &amp;#4327;&amp;#4309;&amp;#4308;&amp;#4314;&amp;#4304;&amp;#4321; &amp;#4335;&amp;#4317;&amp;#4305;&amp;#4312;&amp;#4304; &amp;#4334;&amp;#4304;&amp;#4320;&amp;#4312;&amp;#4321;&amp;#4334;&amp;#4312;&amp;#4311;, &amp;#4324;&amp;#4304;&amp;#4321;&amp;#4312;&amp;#4330; &amp;#4315;&amp;#4312;&amp;#4321;&amp;#4304;&amp;#4326;&amp;#4308;&amp;#4305;&amp;#4312;&amp;#4304;.&amp;#4321;&amp;#4304;&amp;#4321;&amp;#4323;&amp;#4320;&amp;#4309;&amp;#4308;&amp;#4314;&amp;#4312;&amp;#4304; &amp;#4327;&amp;#4309;&amp;#4308;&amp;#4314;&amp;#4304;&amp;#4324;&amp;#4308;&amp;#4320;&amp;#4312; &amp;#4304;&amp;#4321;&amp;#4308;&amp;#4311;&amp;#4312; &amp;#4334;&amp;#4304;&amp;#4320;&amp;#4312;&amp;#4321;&amp;#4334;&amp;#4312;&amp;#4321; &amp;#4320;&amp;#4317;&amp;#4315; &amp;#4312;&amp;#4327;&amp;#4317;&amp;#4321; &amp;#4311;&amp;#4325;&amp;#4309;&amp;#4308;&amp;#4316;&amp;#4321; &amp;#4309;&amp;#4308;&amp;#4305; &amp;#4306;&amp;#4309;&amp;#4308;&amp;#4320;&amp;#4310;&amp;#4308;.&amp;#4315;&amp;#4308;&amp;#4322;&amp;#4312; &amp;#4320;&amp;#4304; &amp;#4306;&amp;#4312;&amp;#4311;&amp;#4334;&amp;#4320;&amp;#4304;</td>\n",
       "      <td>NaN</td>\n",
       "      <td>[]</td>\n",
       "      <td>[]</td>\n",
       "      <td>[]</td>\n",
       "    </tr>\n",
       "    <tr>\n",
       "      <th>2005370</th>\n",
       "      <td>1</td>\n",
       "      <td>&amp;#1575;&amp;#1606;&amp;#1578;&amp;#1605; &amp;#1594;&amp;#1610;&amp;#1585; &amp;#1589;&amp;#1575;&amp;#1583;&amp;#1602;&amp;#1610;&amp;#1606; &amp;#1605;&amp;#1593;&amp;#1606;&amp;#1575; &amp;#1603;&amp;#1608;&amp;#1606;&amp;#1603;&amp;#1605; &amp;#1576;&amp;#1593;&amp;#1578;&amp;#1605; &amp;#1604;&amp;#1606;&amp;#1575; &amp;#1607;&amp;#1607; &amp;#1575;&amp;#1604;&amp;#1603;&amp;#1575;&amp;#1605;&amp;#1610;&amp;#1585;&amp;#1577; &amp;#1608;&amp;#1601;&amp;#1610;&amp;#1607;&amp;#1575; &amp;#1593;&amp;#1591;&amp;#1604; &amp;#1608;&amp;#1604;&amp;#1605; &amp;#1578;&amp;#1602;&amp;#1608;&amp;#1604;&amp;#1608;&amp;#1575; &amp;#1588;&amp;#1610; &amp;#1601;&amp;#1575;&amp;#1606;&amp;#1578;&amp;#1605; &amp;#1587;&amp;#1610;&amp;#1574;&amp;#1610;&amp;#1606; &amp;#1580;&amp;#1583;&amp;#1575; &amp;#1608;&amp;#1604;&amp;#1587;&amp;#1578;&amp;#1605; &amp;#1575;&amp;#1607;&amp;#1604; &amp;#1604;&amp;#1604;&amp;#1579;&amp;#1602;&amp;#1577;</td>\n",
       "      <td>NaN</td>\n",
       "      <td>[]</td>\n",
       "      <td>[]</td>\n",
       "      <td>[]</td>\n",
       "    </tr>\n",
       "    <tr>\n",
       "      <th>2071299</th>\n",
       "      <td>2</td>\n",
       "      <td>&amp;#1042;&amp;#1089;&amp;#1077; &amp;#1087;&amp;#1088;&amp;#1080;&amp;#1096;&amp;#1083;&amp;#1086; &amp;#1074;&amp;#1086;&amp;#1074;&amp;#1088;&amp;#1077;&amp;#1084;&amp;#1103;, &amp;#1087;&amp;#1086;&amp;#1082;&amp;#1091;&amp;#1087;&amp;#1082;&amp;#1086;&amp;#1081; &amp;#1076;&amp;#1086;&amp;#1074;&amp;#1086;&amp;#1083;&amp;#1077;&amp;#1085;, &amp;#1073;&amp;#1091;&amp;#1076;&amp;#1091; &amp;#1079;&amp;#1072;&amp;#1082;&amp;#1072;&amp;#1079;&amp;#1099;&amp;#1074;&amp;#1072;&amp;#1090;&amp;#1100; &amp;#1077;&amp;#1097;&amp;#1077;. &amp;#1044;&amp;#1091;&amp;#1093;&amp;#1080; &amp;#1087;&amp;#1086;&amp;#1085;&amp;#1088;&amp;#1072;&amp;#1074;&amp;#1080;&amp;#1083;&amp;#1080;&amp;#1089;&amp;#1100; &amp;#1076;&amp;#1072;&amp;#1074;&amp;#1085;&amp;#1086;, &amp;#1074; &amp;#1056;&amp;#1086;&amp;#1089;&amp;#1089;&amp;#1080;&amp;#1080; &amp;#1094;&amp;#1077;&amp;#1085;&amp;#1085;&amp;#1080;&amp;#1082; &amp;#1074;&amp;#1099;&amp;#1096;&amp;#1077;, &amp;#1074;&amp;#1086;&amp;#1090; &amp;#1088;&amp;#1077;&amp;#1096;&amp;#1080;&amp;#1083; &amp;#1095;&amp;#1077;&amp;#1088;&amp;#1077;&amp;#1079; &amp;#1040;&amp;#1084;&amp;#1072;&amp;#1079;&amp;#1086;&amp;#1085; &amp;#1089;&amp;#1076;&amp;#1077;&amp;#1083;&amp;#1072;&amp;#1090;&amp;#1100; &amp;#1087;&amp;#1086;&amp;#1082;&amp;#1091;&amp;#1087;&amp;#1082;&amp;#1091; &amp;#1080; &amp;#1086;&amp;#1089;&amp;#1090;&amp;#1072;&amp;#1083;&amp;#1089;&amp;#1103; &amp;#1076;&amp;#1086;&amp;#1074;&amp;#1086;&amp;#1083;&amp;#1077;&amp;#1085;.</td>\n",
       "      <td>NaN</td>\n",
       "      <td>[]</td>\n",
       "      <td>[]</td>\n",
       "      <td>[]</td>\n",
       "    </tr>\n",
       "    <tr>\n",
       "      <th>2220519</th>\n",
       "      <td>2</td>\n",
       "      <td>!!!!! ! 1 !!!!!!!!!! 234 !!!!!!!! 2 !! 34 !!!! 12 !!!! 35678 !!!! 23 !!! 2459!!! 12!!! 2345!!! 12357!!! !!!!! 2582!!!! 1321!!! 23!! 111!! !!!211 !!! 24731! ! !!!! 147584!!! !! !</td>\n",
       "      <td>NaN</td>\n",
       "      <td>[]</td>\n",
       "      <td>[]</td>\n",
       "      <td>[]</td>\n",
       "    </tr>\n",
       "    <tr>\n",
       "      <th>2282778</th>\n",
       "      <td>2</td>\n",
       "      <td>'''' ''' '''''' '''''' '''''' ''''' '''' '''''' ''''' ''''''' '''' '''''' '' ''''' '' ''''' '''' '''' ''''''''''' '' '''' '' '''''' '''''' '' ''''''' ''' '''''</td>\n",
       "      <td>NaN</td>\n",
       "      <td>[]</td>\n",
       "      <td>[]</td>\n",
       "      <td>[]</td>\n",
       "    </tr>\n",
       "    <tr>\n",
       "      <th>2330988</th>\n",
       "      <td>1</td>\n",
       "      <td>&amp;#12479;&amp;#12483;&amp;#12503; &amp;#12398; &amp;#20869;&amp;#20596;&amp;#12414;&amp;#12391; &amp;#12289; &amp;#20998;&amp;#21402;&amp;#12356; &amp;#22615;&amp;#35013;&amp;#12364; &amp;#20055;&amp;#12387;&amp;#12390;&amp;#12362;&amp;#12426; &amp;#12289;&amp;#12497;&amp;#12452;&amp;#12503; &amp;#12364; &amp;#20104;&amp;#23450; &amp;#12398; &amp;#20301;&amp;#32622; &amp;#12414;&amp;#12391;&amp;#12289;&amp;#12397;&amp;#12376;&amp;#36796;&amp;#12417;&amp;#12414;&amp;#12379;&amp;#12435; &amp;#12290;&amp;#12392;&amp;#12390;&amp;#12418; &amp;#27531;&amp;#24565; &amp;#12391;&amp;#12377; &amp;#12290;&amp;#33109;&amp;#12364;&amp;#38263;&amp;#12367;&amp;#12390;&amp;#12289; &amp;#20195;&amp;#12426;&amp;#12364;&amp;#28961;&amp;#12356;&amp;#12398;&amp;#12391; &amp;#12289;&amp;#12392;&amp;#12390;&amp;#12418;&amp;#26399;&amp;#24453;&amp;#12375;&amp;#12390;&amp;#12356;&amp;#12383;&amp;#12384;&amp;#12369;&amp;#12395;&amp;#12289;&amp;#27531;&amp;#24565;&amp;#12391;&amp;#12377;&amp;#12290;</td>\n",
       "      <td>NaN</td>\n",
       "      <td>[]</td>\n",
       "      <td>[]</td>\n",
       "      <td>[]</td>\n",
       "    </tr>\n",
       "    <tr>\n",
       "      <th>2357286</th>\n",
       "      <td>2</td>\n",
       "      <td>&amp;#1579;&amp;#1604;&amp;#1575;&amp;#1579;&amp;#1577; &amp;#1602;&amp;#1591;&amp;#1593; &amp;#1605;&amp;#1605;&amp;#1578;&amp;#1575;&amp;#1586;&amp;#1577; &amp;#1604;&amp;#1604;&amp;#1601;&amp;#1585;&amp;#1588;&amp;#1575;&amp;#1577; &amp;#1575;&amp;#1608;&amp;#1585;&amp;#1604; &amp;#1576;&amp;#1610; &amp;#1608;&amp;#1575;&amp;#1589;&amp;#1604;&amp;#1610;&amp;#1577; &amp;#1608;&amp;#1580;&amp;#1608;&amp;#1583;&amp;#1578;&amp;#1607;&amp;#1575; &amp;#1605;&amp;#1605;&amp;#1578;&amp;#1575;&amp;#1586;&amp;#1577; &amp;#1608;&amp;#1587;&amp;#1593;&amp;#1585;&amp;#1607;&amp;#1575; &amp;#1605;&amp;#1606;&amp;#1575;&amp;#1587;&amp;#1576; &amp;#1580;&amp;#1583;&amp;#1575;&amp;#1608;&amp;#1587;&amp;#1607;&amp;#1604;&amp;#1577; &amp;#1575;&amp;#1604;&amp;#1578;&amp;#1606;&amp;#1592;&amp;#1610;&amp;#1601; &amp;#1608;&amp;#1593;&amp;#1605;&amp;#1604;&amp;#1610;&amp;#1577; &amp;#1580;&amp;#1583;&amp;#1575; &amp;#1608;&amp;#1576;&amp;#1575;&amp;#1604;&amp;#1591;&amp;#1576;&amp;#1593; &amp;#1575;&amp;#1606;&amp;#1589;&amp;#1581; &amp;#1576;&amp;#1607;&amp;#1575; &amp;#1575;</td>\n",
       "      <td>NaN</td>\n",
       "      <td>[]</td>\n",
       "      <td>[]</td>\n",
       "      <td>[]</td>\n",
       "    </tr>\n",
       "    <tr>\n",
       "      <th>2375843</th>\n",
       "      <td>2</td>\n",
       "      <td>&amp;#47784;&amp;#46160; &amp;#45208;&amp;#47924;&amp;#47196; &amp;#46104;&amp;#50612;&amp;#51080;&amp;#44256; &amp;#44032;&amp;#44201;&amp;#51339;&amp;#50500;&amp;#49436; &amp;#50864;&amp;#49440;&amp;#47564;&amp;#51313;, &amp;#50724;&amp;#47480;&amp;#51901; &amp;#46041;&amp;#44536;&amp;#46976;&amp;#44148; &amp;#46020;&amp;#50864;&amp;#44032; &amp;#52860;&amp;#46972;&amp;#48324;&amp;#47196; &amp;#51312;&amp;#44552;&amp;#50473; &amp;#46308;&amp;#50612;&amp;#51080;&amp;#45716; &amp;#52992;&amp;#51060;&amp;#49828; &amp;#51060;&amp;#44396;&amp;#50836;. &amp;#46748;&amp;#44753;&amp;#48512;&amp;#48516;&amp;#51008; &amp;#46041;&amp;#47932;&amp;#47784;&amp;#50577;&amp;#51012; &amp;#52237;&amp;#51012;&amp;#49688; &amp;#51080;&amp;#44172; &amp;#46104;&amp;#50612;&amp;#51080;&amp;#50612;&amp;#50836;. &amp;#47924;&amp;#45740;&amp;#44057;&amp;#51008;&amp;#44148; &amp;#44316;&amp;#52270;&amp;#51008;&amp;#45936; &amp;#51088;&amp;#47476;&amp;#45716; &amp;#52860; &amp;#54620;&amp;#46160;&amp;#44060; &amp;#51221;&amp;#46020; &amp;#44396;&amp;#49457;&amp;#51060; &amp;#45908; &amp;#52628;&amp;#44032; &amp;#46104;&amp;#50632;&amp;#51004;&amp;#47732; &amp;#54616;&amp;#45716; &amp;#48148;&amp;#47016;&amp;#51077;&amp;#45768;&amp;#45796;~</td>\n",
       "      <td>NaN</td>\n",
       "      <td>[]</td>\n",
       "      <td>[]</td>\n",
       "      <td>[]</td>\n",
       "    </tr>\n",
       "    <tr>\n",
       "      <th>2490037</th>\n",
       "      <td>1</td>\n",
       "      <td>&amp;#51060;&amp;#44148; &amp;#53944;&amp;#47000;&amp;#53433;&amp;#45336;&amp;#48260;&amp;#44032; &amp;#46888;&amp;#51656; &amp;#50506;&amp;#50500;&amp;#49436; &amp;#48176;&amp;#45824;&amp;#51648; &amp;#49888;&amp;#52397;&amp;#54624;&amp;#46412; &amp;#47803;&amp;#50044;&amp;#45908;&amp;#45768; &amp;#46020;&amp;#45824;&amp;#52404; &amp;#50612;&amp;#46364;&amp;#44052;&amp;#45716;&amp;#51648; &amp;#52286;&amp;#51012;&amp;#49688;&amp;#44032; &amp;#50630;&amp;#50612;&amp;#49436; &amp;#44228;&amp;#49328;&amp;#47564; &amp;#46104;&amp;#44256; &amp;#44396;&amp;#44221;&amp;#46020; &amp;#47803;&amp;#54664;&amp;#51020;. &amp;#50612;&amp;#46356;&amp;#44032;&amp;#49436; &amp;#52286;&amp;#51012;&amp;#49688; &amp;#51080;&amp;#51012;&amp;#44620;&amp;#50836; &amp;#12640;&amp;#12640; &amp;#52286;&amp;#50500;&amp;#51452;&amp;#49464;&amp;#50836;</td>\n",
       "      <td>NaN</td>\n",
       "      <td>[]</td>\n",
       "      <td>[]</td>\n",
       "      <td>[]</td>\n",
       "    </tr>\n",
       "    <tr>\n",
       "      <th>2604873</th>\n",
       "      <td>1</td>\n",
       "      <td>........ ...... .. . .... ... ...... ..... ... .... .... ..... .. .. .. .. .. .. .. .. .. ... .. .. .. .. .. .. .. . ... .. ... .... ... ... . ..... ... ... ... ... ... .</td>\n",
       "      <td>NaN</td>\n",
       "      <td>[]</td>\n",
       "      <td>[]</td>\n",
       "      <td>[]</td>\n",
       "    </tr>\n",
       "    <tr>\n",
       "      <th>2618232</th>\n",
       "      <td>2</td>\n",
       "      <td>'''''''''' ''''', ''''' ''''''''''', '''''''''' '''''''''''. '''''' ''''''''' ''''''' '''''''' ''' ''' '''''''''' ' '''' '''''''''' ''''''.''''''''''' ''''''''''' ' '''''''' ''''''''''!</td>\n",
       "      <td>NaN</td>\n",
       "      <td>[]</td>\n",
       "      <td>[]</td>\n",
       "      <td>[]</td>\n",
       "    </tr>\n",
       "    <tr>\n",
       "      <th>2751281</th>\n",
       "      <td>2</td>\n",
       "      <td>À ÀÌ ÖÈÄÀ À ÖíÀ óÀ ÖíÀ ¡ 3¿¡ 5ÀÌ Ü¿ì Ñ''Ù ¿¡' ÚÁö '¡ ¿ó ú'Ù. À¿ÀÀÌ,'¿ÄÚ,ÀÌ¿Áö À í Í'Ùé ßÁö .. (é ',.Ù 'Ñ Áö?,É !)</td>\n",
       "      <td>NaN</td>\n",
       "      <td>[]</td>\n",
       "      <td>[]</td>\n",
       "      <td>[]</td>\n",
       "    </tr>\n",
       "    <tr>\n",
       "      <th>2798192</th>\n",
       "      <td>2</td>\n",
       "      <td>Very Good!</td>\n",
       "      <td>NaN</td>\n",
       "      <td>[]</td>\n",
       "      <td>[]</td>\n",
       "      <td>[]</td>\n",
       "    </tr>\n",
       "    <tr>\n",
       "      <th>3392964</th>\n",
       "      <td>2</td>\n",
       "      <td>Good</td>\n",
       "      <td>NaN</td>\n",
       "      <td>[]</td>\n",
       "      <td>[]</td>\n",
       "      <td>[]</td>\n",
       "    </tr>\n",
       "    <tr>\n",
       "      <th>3545242</th>\n",
       "      <td>2</td>\n",
       "      <td>Good book. This is a very very very very very very very very very very very very very very good book</td>\n",
       "      <td>NaN</td>\n",
       "      <td>[]</td>\n",
       "      <td>[]</td>\n",
       "      <td>[]</td>\n",
       "    </tr>\n",
       "    <tr>\n",
       "      <th>3584048</th>\n",
       "      <td>1</td>\n",
       "      <td>' ' '''' '''' '' '' ''' '''''? '' '' ' '' ''' '''' ''' ''''''''' '''' ''' ''' '''' '' ''''? '' '''''. ''' ''''''' ''' '''''' '''' '''?? ' '' ''' '. '''''' ''' '' ''' ''' '''' ''. '' ''' '''' ''''' '''' ''' '' ''' ' ''' '''' '' '''' '''...</td>\n",
       "      <td>NaN</td>\n",
       "      <td>[]</td>\n",
       "      <td>[]</td>\n",
       "      <td>[]</td>\n",
       "    </tr>\n",
       "  </tbody>\n",
       "</table>\n",
       "</div>"
      ],
      "text/plain": [
       "         sentiment  \\\n",
       "217919           2   \n",
       "294435           2   \n",
       "556297           2   \n",
       "629878           1   \n",
       "680354           2   \n",
       "1440939          1   \n",
       "1786231          2   \n",
       "1989004          2   \n",
       "2005370          1   \n",
       "2071299          2   \n",
       "2220519          2   \n",
       "2282778          2   \n",
       "2330988          1   \n",
       "2357286          2   \n",
       "2375843          2   \n",
       "2490037          1   \n",
       "2604873          1   \n",
       "2618232          2   \n",
       "2751281          2   \n",
       "2798192          2   \n",
       "3392964          2   \n",
       "3545242          2   \n",
       "3584048          1   \n",
       "\n",
       "                                                                                                                                                                                                                                                                                                                                                                                                                                                                                                                                                                                                                                                                                                                                                                                                                                                                                                                                                                                                     text  \\\n",
       "217919                                                                                                                                                                                                                                                                                                                                                                                                                                                                                                                                                                                                                                                                                                                                                                                                                                                                                      ò ñàìà ì áèìà ñí è íí ñàìé áèìé äèñ . ß ìíäó ñ óèòü ,òì á, ò ñòèò í íü ä. Òà ò äèòó óè è ìéò àà í äóìà í ì!!!   \n",
       "294435                                                                                                                                                                                                                                                                                                                                                                                                                                                                                                                                                                                                                                                                                                                                                                                                                                             ............ ..... ..... ...... ...... ....... ..... ....... ....... ........ ......... ........ ........ ..... ......... ..... ..... ...... .. ......   \n",
       "556297                                                                                                                                                                                                                                                                                                                                                                                                                                                                                                                                                                                                                                                                                                                                                                                                                                                                                                        it's very good ... .... ... ... ... ... ... ... ... ... ... ./.. ,... ... ... ... ... ... .   \n",
       "629878                                                                                                                                                                                                                                                                                                                                                                                                                                                                                                                                                                                                                                                                                                                                                                                                                                                                                                                                                                    ...............................   \n",
       "680354                                                                                                                                                                                                                                                                                                                                                                                                                                                                                                                                                                                                                                                                                                                                                                                                                                                                                                                                         ò äèí è ñàì ìè áèì ìèò. à ò ññèè èàò ìà èäàò äèñè!!!!!!!!!   \n",
       "1440939                                                                                                                                                                                                                                                                                                                                                                                                                                                                                                                                                                                                                                                                                                                                                                     |||||||||||||||||||| |||||||||| ||||||||||||||||||||||||||||||||||||||||||||||||||| ||||||||||| |||||||||||| ||||||||||||||| ||||||||||||||| ||||||||||| ||||||||||| ||||||||| |||||||| ||||||||||| ||||||||||| |||||||||||||   \n",
       "1786231                                                                                                                                                                                                                                                                                                    38493 34740 47383 37054 48624 78568? 18581 28682 18558 24866 22584 24995 26484 14589 15648 15486 73893. 77504 03478 47589 43705 47309 67490 27348 57490 57409 37405 40978, 39794 (39847 57303 57049 32740 57403) 75093 47309 47328 54798 68978 97231 23473 34785 34097 34097. 34987: 34908 74309 34709 34908 40700 34087 45709 39874 97865 53586 97423 64987 36549 $54868 97668 52585 58855 93633 48457 20385 49884. 57430 34094 08908 34098 & 30409 08745 72009 23730 40508%. 24094 32098 00908 34042 20835 27789 29735 #93487 98743 32907 75928 29873 29723 54097 29735 29357 40540 34094 21009 08423 40755 09725. 25097 45097 23099 23073@03550.23405 23098, 50983 20408 60846 23974 90766.   \n",
       "1989004                                                                                                                   &#4315;&#4304;&#4306;&#4304;&#4320;&#4312;&#4304;,&#4304;&#4325; &#4320;&#4304;&#4330; &#4312;&#4327;&#4312;&#4307;&#4308;&#4305;&#4304; &#4327;&#4309;&#4308;&#4314;&#4304;&#4321; &#4335;&#4317;&#4305;&#4312;&#4304; &#4334;&#4304;&#4320;&#4312;&#4321;&#4334;&#4312;&#4311;, &#4324;&#4304;&#4321;&#4312;&#4330; &#4315;&#4312;&#4321;&#4304;&#4326;&#4308;&#4305;&#4312;&#4304;.&#4321;&#4304;&#4321;&#4323;&#4320;&#4309;&#4308;&#4314;&#4312;&#4304; &#4327;&#4309;&#4308;&#4314;&#4304;&#4324;&#4308;&#4320;&#4312; &#4304;&#4321;&#4308;&#4311;&#4312; &#4334;&#4304;&#4320;&#4312;&#4321;&#4334;&#4312;&#4321; &#4320;&#4317;&#4315; &#4312;&#4327;&#4317;&#4321; &#4311;&#4325;&#4309;&#4308;&#4316;&#4321; &#4309;&#4308;&#4305; &#4306;&#4309;&#4308;&#4320;&#4310;&#4308;.&#4315;&#4308;&#4322;&#4312; &#4320;&#4304; &#4306;&#4312;&#4311;&#4334;&#4320;&#4304;   \n",
       "2005370                                                                                                                                                                                                                                                                                                                                                                   &#1575;&#1606;&#1578;&#1605; &#1594;&#1610;&#1585; &#1589;&#1575;&#1583;&#1602;&#1610;&#1606; &#1605;&#1593;&#1606;&#1575; &#1603;&#1608;&#1606;&#1603;&#1605; &#1576;&#1593;&#1578;&#1605; &#1604;&#1606;&#1575; &#1607;&#1607; &#1575;&#1604;&#1603;&#1575;&#1605;&#1610;&#1585;&#1577; &#1608;&#1601;&#1610;&#1607;&#1575; &#1593;&#1591;&#1604; &#1608;&#1604;&#1605; &#1578;&#1602;&#1608;&#1604;&#1608;&#1575; &#1588;&#1610; &#1601;&#1575;&#1606;&#1578;&#1605; &#1587;&#1610;&#1574;&#1610;&#1606; &#1580;&#1583;&#1575; &#1608;&#1604;&#1587;&#1578;&#1605; &#1575;&#1607;&#1604; &#1604;&#1604;&#1579;&#1602;&#1577;   \n",
       "2071299  &#1042;&#1089;&#1077; &#1087;&#1088;&#1080;&#1096;&#1083;&#1086; &#1074;&#1086;&#1074;&#1088;&#1077;&#1084;&#1103;, &#1087;&#1086;&#1082;&#1091;&#1087;&#1082;&#1086;&#1081; &#1076;&#1086;&#1074;&#1086;&#1083;&#1077;&#1085;, &#1073;&#1091;&#1076;&#1091; &#1079;&#1072;&#1082;&#1072;&#1079;&#1099;&#1074;&#1072;&#1090;&#1100; &#1077;&#1097;&#1077;. &#1044;&#1091;&#1093;&#1080; &#1087;&#1086;&#1085;&#1088;&#1072;&#1074;&#1080;&#1083;&#1080;&#1089;&#1100; &#1076;&#1072;&#1074;&#1085;&#1086;, &#1074; &#1056;&#1086;&#1089;&#1089;&#1080;&#1080; &#1094;&#1077;&#1085;&#1085;&#1080;&#1082; &#1074;&#1099;&#1096;&#1077;, &#1074;&#1086;&#1090; &#1088;&#1077;&#1096;&#1080;&#1083; &#1095;&#1077;&#1088;&#1077;&#1079; &#1040;&#1084;&#1072;&#1079;&#1086;&#1085; &#1089;&#1076;&#1077;&#1083;&#1072;&#1090;&#1100; &#1087;&#1086;&#1082;&#1091;&#1087;&#1082;&#1091; &#1080; &#1086;&#1089;&#1090;&#1072;&#1083;&#1089;&#1103; &#1076;&#1086;&#1074;&#1086;&#1083;&#1077;&#1085;.   \n",
       "2220519                                                                                                                                                                                                                                                                                                                                                                                                                                                                                                                                                                                                                                                                                                                                                                                                                 !!!!! ! 1 !!!!!!!!!! 234 !!!!!!!! 2 !! 34 !!!! 12 !!!! 35678 !!!! 23 !!! 2459!!! 12!!! 2345!!! 12357!!! !!!!! 2582!!!! 1321!!! 23!! 111!! !!!211 !!! 24731! ! !!!! 147584!!! !! !   \n",
       "2282778                                                                                                                                                                                                                                                                                                                                                                                                                                                                                                                                                                                                                                                                                                                                                                                                                                   '''' ''' '''''' '''''' '''''' ''''' '''' '''''' ''''' ''''''' '''' '''''' '' ''''' '' ''''' '''' '''' ''''''''''' '' '''' '' '''''' '''''' '' ''''''' ''' '''''   \n",
       "2330988                                                                                                                                                                                                                                                                                                        &#12479;&#12483;&#12503; &#12398; &#20869;&#20596;&#12414;&#12391; &#12289; &#20998;&#21402;&#12356; &#22615;&#35013;&#12364; &#20055;&#12387;&#12390;&#12362;&#12426; &#12289;&#12497;&#12452;&#12503; &#12364; &#20104;&#23450; &#12398; &#20301;&#32622; &#12414;&#12391;&#12289;&#12397;&#12376;&#36796;&#12417;&#12414;&#12379;&#12435; &#12290;&#12392;&#12390;&#12418; &#27531;&#24565; &#12391;&#12377; &#12290;&#33109;&#12364;&#38263;&#12367;&#12390;&#12289; &#20195;&#12426;&#12364;&#28961;&#12356;&#12398;&#12391; &#12289;&#12392;&#12390;&#12418;&#26399;&#24453;&#12375;&#12390;&#12356;&#12383;&#12384;&#12369;&#12395;&#12289;&#27531;&#24565;&#12391;&#12377;&#12290;   \n",
       "2357286                                                                                                                                                                                                                                                                                &#1579;&#1604;&#1575;&#1579;&#1577; &#1602;&#1591;&#1593; &#1605;&#1605;&#1578;&#1575;&#1586;&#1577; &#1604;&#1604;&#1601;&#1585;&#1588;&#1575;&#1577; &#1575;&#1608;&#1585;&#1604; &#1576;&#1610; &#1608;&#1575;&#1589;&#1604;&#1610;&#1577; &#1608;&#1580;&#1608;&#1583;&#1578;&#1607;&#1575; &#1605;&#1605;&#1578;&#1575;&#1586;&#1577; &#1608;&#1587;&#1593;&#1585;&#1607;&#1575; &#1605;&#1606;&#1575;&#1587;&#1576; &#1580;&#1583;&#1575;&#1608;&#1587;&#1607;&#1604;&#1577; &#1575;&#1604;&#1578;&#1606;&#1592;&#1610;&#1601; &#1608;&#1593;&#1605;&#1604;&#1610;&#1577; &#1580;&#1583;&#1575; &#1608;&#1576;&#1575;&#1604;&#1591;&#1576;&#1593; &#1575;&#1606;&#1589;&#1581; &#1576;&#1607;&#1575; &#1575;   \n",
       "2375843                                                                                                                                 &#47784;&#46160; &#45208;&#47924;&#47196; &#46104;&#50612;&#51080;&#44256; &#44032;&#44201;&#51339;&#50500;&#49436; &#50864;&#49440;&#47564;&#51313;, &#50724;&#47480;&#51901; &#46041;&#44536;&#46976;&#44148; &#46020;&#50864;&#44032; &#52860;&#46972;&#48324;&#47196; &#51312;&#44552;&#50473; &#46308;&#50612;&#51080;&#45716; &#52992;&#51060;&#49828; &#51060;&#44396;&#50836;. &#46748;&#44753;&#48512;&#48516;&#51008; &#46041;&#47932;&#47784;&#50577;&#51012; &#52237;&#51012;&#49688; &#51080;&#44172; &#46104;&#50612;&#51080;&#50612;&#50836;. &#47924;&#45740;&#44057;&#51008;&#44148; &#44316;&#52270;&#51008;&#45936; &#51088;&#47476;&#45716; &#52860; &#54620;&#46160;&#44060; &#51221;&#46020; &#44396;&#49457;&#51060; &#45908; &#52628;&#44032; &#46104;&#50632;&#51004;&#47732; &#54616;&#45716; &#48148;&#47016;&#51077;&#45768;&#45796;~   \n",
       "2490037                                                                                                                                                                                                                                                                                                                                                                                                              &#51060;&#44148; &#53944;&#47000;&#53433;&#45336;&#48260;&#44032; &#46888;&#51656; &#50506;&#50500;&#49436; &#48176;&#45824;&#51648; &#49888;&#52397;&#54624;&#46412; &#47803;&#50044;&#45908;&#45768; &#46020;&#45824;&#52404; &#50612;&#46364;&#44052;&#45716;&#51648; &#52286;&#51012;&#49688;&#44032; &#50630;&#50612;&#49436; &#44228;&#49328;&#47564; &#46104;&#44256; &#44396;&#44221;&#46020; &#47803;&#54664;&#51020;. &#50612;&#46356;&#44032;&#49436; &#52286;&#51012;&#49688; &#51080;&#51012;&#44620;&#50836; &#12640;&#12640; &#52286;&#50500;&#51452;&#49464;&#50836;   \n",
       "2604873                                                                                                                                                                                                                                                                                                                                                                                                                                                                                                                                                                                                                                                                                                                                                                                                                        ........ ...... .. . .... ... ...... ..... ... .... .... ..... .. .. .. .. .. .. .. .. .. ... .. .. .. .. .. .. .. . ... .. ... .... ... ... . ..... ... ... ... ... ... .   \n",
       "2618232                                                                                                                                                                                                                                                                                                                                                                                                                                                                                                                                                                                                                                                                                                                                                                                                         '''''''''' ''''', ''''' ''''''''''', '''''''''' '''''''''''. '''''' ''''''''' ''''''' '''''''' ''' ''' '''''''''' ' '''' '''''''''' ''''''.''''''''''' ''''''''''' ' '''''''' ''''''''''!   \n",
       "2751281                                                                                                                                                                                                                                                                                                                                                                                                                                                                                                                                                                                                                                                                                                                                                                                                                                                                                 À ÀÌ ÖÈÄÀ À ÖíÀ óÀ ÖíÀ ¡ 3¿¡ 5ÀÌ Ü¿ì Ñ''Ù ¿¡' ÚÁö '¡ ¿ó ú'Ù. À¿ÀÀÌ,'¿ÄÚ,ÀÌ¿Áö À í Í'Ùé ßÁö .. (é ',.Ù 'Ñ Áö?,É !)   \n",
       "2798192                                                                                                                                                                                                                                                                                                                                                                                                                                                                                                                                                                                                                                                                                                                                                                                                                                                                                                                                                                                        Very Good!   \n",
       "3392964                                                                                                                                                                                                                                                                                                                                                                                                                                                                                                                                                                                                                                                                                                                                                                                                                                                                                                                                                                                              Good   \n",
       "3545242                                                                                                                                                                                                                                                                                                                                                                                                                                                                                                                                                                                                                                                                                                                                                                                                                                                                                              Good book. This is a very very very very very very very very very very very very very very good book   \n",
       "3584048                                                                                                                                                                                                                                                                                                                                                                                                                                                                                                                                                                                                                                                                                                                                                    ' ' '''' '''' '' '' ''' '''''? '' '' ' '' ''' '''' ''' ''''''''' '''' ''' ''' '''' '' ''''? '' '''''. ''' ''''''' ''' '''''' '''' '''?? ' '' ''' '. '''''' ''' '' ''' ''' '''' ''. '' ''' '''' ''''' '''' ''' '' ''' ' ''' '''' '' '''' '''...   \n",
       "\n",
       "        text_cleaned toks bigrams trigrams  \n",
       "217919           NaN   []      []       []  \n",
       "294435           NaN   []      []       []  \n",
       "556297           NaN   []      []       []  \n",
       "629878           NaN   []      []       []  \n",
       "680354           NaN   []      []       []  \n",
       "1440939          NaN   []      []       []  \n",
       "1786231          NaN   []      []       []  \n",
       "1989004          NaN   []      []       []  \n",
       "2005370          NaN   []      []       []  \n",
       "2071299          NaN   []      []       []  \n",
       "2220519          NaN   []      []       []  \n",
       "2282778          NaN   []      []       []  \n",
       "2330988          NaN   []      []       []  \n",
       "2357286          NaN   []      []       []  \n",
       "2375843          NaN   []      []       []  \n",
       "2490037          NaN   []      []       []  \n",
       "2604873          NaN   []      []       []  \n",
       "2618232          NaN   []      []       []  \n",
       "2751281          NaN   []      []       []  \n",
       "2798192          NaN   []      []       []  \n",
       "3392964          NaN   []      []       []  \n",
       "3545242          NaN   []      []       []  \n",
       "3584048          NaN   []      []       []  "
      ]
     },
     "execution_count": 147,
     "metadata": {},
     "output_type": "execute_result"
    }
   ],
   "source": [
    "print(df.isna().sum())\n",
    "df[df['text_cleaned'].isna()]"
   ]
  },
  {
   "cell_type": "code",
   "execution_count": 148,
   "metadata": {},
   "outputs": [],
   "source": [
    "# Drop rows with missing text_cleaned values\n",
    "df.dropna(inplace=True)"
   ]
  },
  {
   "cell_type": "code",
   "execution_count": 149,
   "metadata": {},
   "outputs": [],
   "source": [
    "# Save off feature combinations for use in model iteration\n",
    "X = df['text_cleaned']\n",
    "\n",
    "X_bigrams = df[['text_cleaned', 'bigrams']]\n",
    "X_trigrams = df[['text_cleaned', 'trigrams']]\n",
    "X_allgrams = df[['text_cleaned', 'bigrams', 'trigrams']]\n",
    "\n",
    "y = df['sentiment']"
   ]
  },
  {
   "cell_type": "markdown",
   "metadata": {},
   "source": [
    "# Modeling\n",
    "I utilized a number of sklearn's modeling techniques for the project. As noted in the data-preparation description, I experimented with the inclusion of bi-grams and tri-grams created from user input during the modeling process as well. I evaluated each model based on its accuracy score, as the real-world impact of a false positive or negative is quite low. With basic python it is easy to collect all the reviews that the classifier scores mislables for human review. Ultimately, a logistic regression classifier with default parameters was the best performer."
   ]
  },
  {
   "cell_type": "markdown",
   "metadata": {},
   "source": [
    "### Dummy Classifier\n",
    "To begin modelling efforts, I built a dummy classifier that simply guesses the most common class every time. Given that our training data is almost (but not perfectly) balanced, we should expect it to predict that every review is negative since there are slightly more negative reviews than positive reviews. If we can't beat a 50-50 guess with a dataset this large, something is horribly wrong. Predictably, the dummy classifier achieved an accuracy score of almost exactly 50%."
   ]
  },
  {
   "cell_type": "code",
   "execution_count": 12,
   "metadata": {},
   "outputs": [],
   "source": [
    "# Instantiate Dummy Classifier pipeline\n",
    "dummy_pipe = ImPipeline(steps=[\n",
    "                                ('vect', TfidfVectorizer()),\n",
    "                                ('cf', DummyClassifier(strategy='most_frequent',\n",
    "                                                           random_state=42))\n",
    "                              ]\n",
    ")"
   ]
  },
  {
   "cell_type": "code",
   "execution_count": 16,
   "metadata": {},
   "outputs": [
    {
     "name": "stdout",
     "output_type": "stream",
     "text": [
      "0.5000012500079861\n"
     ]
    },
    {
     "data": {
      "image/png": "[encoded data removed]",
      "text/plain": [
       "<Figure size 432x288 with 2 Axes>"
      ]
     },
     "metadata": {
      "needs_background": "light"
     },
     "output_type": "display_data"
    }
   ],
   "source": [
    "# Fit dummy pipe on the training data and plot confusion matrix\n",
    "dummy_pipe.fit(X, y)\n",
    "dummy_yhat = dummy_pipe.predict(X)\n",
    "plot_confusion_matrix(dummy_pipe, X, y, normalize='true');\n",
    "print(accuracy_score(y, dummy_yhat))"
   ]
  },
  {
   "cell_type": "markdown",
   "metadata": {},
   "source": [
    "### Multinomial Naive Bayes\n",
    "MNB is a commonly-used algorithm for natural language processing due to effectiveness in classifying topics while maintaining a low training time and relative simplicity. It predicts the probability that a given document belongs to a particular class based on the words it contains. I employed a multinomial naive bayes classifier as my first simple model for these reasons, and it will be the baseline model that I attempt to beat. "
   ]
  },
  {
   "cell_type": "code",
   "execution_count": 95,
   "metadata": {
    "scrolled": true
   },
   "outputs": [
    {
     "name": "stdout",
     "output_type": "stream",
     "text": [
      "0.8284569595861306\n"
     ]
    },
    {
     "data": {
      "image/png": "[encoded data removed]",
      "text/plain": [
       "<Figure size 432x288 with 2 Axes>"
      ]
     },
     "metadata": {
      "needs_background": "light"
     },
     "output_type": "display_data"
    }
   ],
   "source": [
    "# Instantiate the Multinomial Naieve Bayes Pipeline\n",
    "mnb_pipe = ImPipeline(steps=[\n",
    "                            ('vect', TfidfVectorizer()),\n",
    "                            ('cf', MultinomialNB())\n",
    "                            ]\n",
    ")\n",
    "\n",
    "# Fit MNB pipe on the training data, get predictions and plot confusion matrix\n",
    "mnb_pipe.fit(X, y)\n",
    "mnb_yhat = mnb_pipe.predict(X)\n",
    "plot_confusion_matrix(mnb_pipe, X, y, normalize='true');\n",
    "print(accuracy_score(y, mnb_yhat))"
   ]
  },
  {
   "cell_type": "code",
   "execution_count": 96,
   "metadata": {},
   "outputs": [
    {
     "name": "stdout",
     "output_type": "stream",
     "text": [
      "{'fit_time': array([59.93719602, 60.34596586, 60.66885376, 61.08734393, 60.55913281]), 'score_time': array([14.63465381, 14.61485004, 14.57370687, 14.37041283, 14.29333615]), 'test_score': array([0.81850038, 0.81476842, 0.81272648, 0.81008618, 0.81112924])}\n"
     ]
    }
   ],
   "source": [
    "# Obtained cross-validated accuracy score\n",
    "mnb_cv = cross_validate(mnb_pipe, X, y)\n",
    "print(mnb_cv)"
   ]
  },
  {
   "cell_type": "markdown",
   "metadata": {},
   "source": [
    "- 'fit_time': 63.91176295, 64.27754903, 63.07658076, 62.96271181, 63.14784789\n",
    "- 'score_time': 14.80177712, 14.56706309, 14.5999763 , 14.49988723, 14.33135796\n",
    "- 'test_score': 0.81850038, 0.81476842, 0.81272648, 0.81008618, 0.81112924"
   ]
  },
  {
   "cell_type": "code",
   "execution_count": 97,
   "metadata": {},
   "outputs": [
    {
     "data": {
      "text/plain": [
       "0.8134421396624155"
      ]
     },
     "execution_count": 97,
     "metadata": {},
     "output_type": "execute_result"
    }
   ],
   "source": [
    "mnb_cv['test_score'].mean()"
   ]
  },
  {
   "cell_type": "code",
   "execution_count": 98,
   "metadata": {},
   "outputs": [],
   "source": [
    "# Stored classification report for comparison\n",
    "mnb_cr = classification_report(y, mnb_yhat, output_dict=True)"
   ]
  },
  {
   "cell_type": "code",
   "execution_count": 182,
   "metadata": {},
   "outputs": [],
   "source": [
    "# Define model_performance Dictionary for use in visualizations, add mean model result.\n",
    "mod_perf = {}\n",
    "mod_perf['mnb_1grams'] = mnb_cv['test_score'].mean()"
   ]
  },
  {
   "cell_type": "markdown",
   "metadata": {},
   "source": [
    "#### Using N-grams as Features\n",
    "To see if I could improve on the model's performance over using single words, I tried giving it bi-grams and tri-grams as additional features. Ultimately, the MNB classifier was most accurate using only single words from each review as its inputs."
   ]
  },
  {
   "cell_type": "markdown",
   "metadata": {},
   "source": [
    "##### Single Words & Bi-Grams"
   ]
  },
  {
   "cell_type": "code",
   "execution_count": 40,
   "metadata": {
    "scrolled": false
   },
   "outputs": [
    {
     "name": "stdout",
     "output_type": "stream",
     "text": [
      "0.8266186145078149\n"
     ]
    },
    {
     "data": {
      "image/png": "[encoded data removed]",
      "text/plain": [
       "<Figure size 432x288 with 2 Axes>"
      ]
     },
     "metadata": {
      "needs_background": "light"
     },
     "output_type": "display_data"
    }
   ],
   "source": [
    "# Instantiate the MNB Pipeline with cleaned text and bi-grams\n",
    "mnb_bigrams_pipe = ImPipeline(steps=[\n",
    "            ('CT', ColumnTransformer([(x, TfidfVectorizer(), x) for x in ['text_cleaned',\n",
    "                                                                          'bigrams']\n",
    "                                     ])),\n",
    "            ('cf', MultinomialNB())\n",
    "]\n",
    ")\n",
    "\n",
    "# Fit MNB pipe on the cleaned text and bi-grams, get predictions, plot confusion matrix\n",
    "mnb_bigrams_pipe.fit(X_bigrams, y)\n",
    "mnb_bigrams_yhat = mnb_bigrams_pipe.predict(X_bigrams)\n",
    "plot_confusion_matrix(mnb_bigrams_pipe, X_bigrams, y, normalize='true');\n",
    "print(accuracy_score(y, mnb_bigrams_yhat))"
   ]
  },
  {
   "cell_type": "code",
   "execution_count": 83,
   "metadata": {},
   "outputs": [
    {
     "name": "stdout",
     "output_type": "stream",
     "text": [
      "{'fit_time': array([165.68346977, 165.27084804, 165.68405008, 167.4976089 ,\n",
      "       167.15829587]), 'score_time': array([40.79754901, 40.48855972, 40.37639904, 40.53613615, 39.66455317]), 'test_score': array([0.81641981, 0.81257257, 0.81074869, 0.80822783, 0.80911812])}\n"
     ]
    }
   ],
   "source": [
    "# Obtained cross-validated accuracy score\n",
    "mnb_bigrams_cv = cross_validate(mnb_bigrams_pipe, X_bigrams, y)\n",
    "print(mnb_bigrams_cv)"
   ]
  },
  {
   "cell_type": "code",
   "execution_count": 184,
   "metadata": {},
   "outputs": [
    {
     "name": "stdout",
     "output_type": "stream",
     "text": [
      "0.8114174045674252\n"
     ]
    }
   ],
   "source": [
    "# Print cross-validated mean accuracy score & add to model performance dictionary\n",
    "print(mnb_bigrams_cv['test_score'].mean())\n",
    "mod_perf['mnb_2grams'] = mnb_bigrams_cv['test_score'].mean()"
   ]
  },
  {
   "cell_type": "code",
   "execution_count": 94,
   "metadata": {},
   "outputs": [],
   "source": [
    "# Stored classification report for comparison\n",
    "mnb_bigram_cr = classification_report(y, mnb_bigrams_yhat, output_dict=True)"
   ]
  },
  {
   "cell_type": "markdown",
   "metadata": {},
   "source": [
    "##### Single Words & Tri-Grams"
   ]
  },
  {
   "cell_type": "code",
   "execution_count": 45,
   "metadata": {},
   "outputs": [
    {
     "name": "stdout",
     "output_type": "stream",
     "text": [
      "0.8252197166815233\n"
     ]
    },
    {
     "data": {
      "image/png": "[encoded data removed]",
      "text/plain": [
       "<Figure size 432x288 with 2 Axes>"
      ]
     },
     "metadata": {
      "needs_background": "light"
     },
     "output_type": "display_data"
    }
   ],
   "source": [
    "# Instantiate the Multinomial Naive Bayes Pipeline with clean text and tri-grams\n",
    "mnb_trigrams_pipe = ImPipeline(steps=[\n",
    "                ('CT', ColumnTransformer([(x, TfidfVectorizer(), x) for x in ['text_cleaned',\n",
    "                                                                              'trigrams']\n",
    "                                         ])),\n",
    "                ('cf', MultinomialNB())\n",
    "]\n",
    ")\n",
    "\n",
    "# Fit MNB pipe on the training data, get predictions and plot confusion matrix\n",
    "mnb_trigrams_pipe.fit(X_trigrams, y)\n",
    "mnb_trigrams_yhat = mnb_trigrams_pipe.predict(X_trigrams)\n",
    "plot_confusion_matrix(mnb_trigrams_pipe, X_trigrams, y, normalize='true');\n",
    "print(accuracy_score(y, mnb_trigrams_yhat))"
   ]
  },
  {
   "cell_type": "code",
   "execution_count": 84,
   "metadata": {},
   "outputs": [
    {
     "name": "stdout",
     "output_type": "stream",
     "text": [
      "{'fit_time': array([200.59661388, 202.12438822, 202.82885408, 200.65367198,\n",
      "       200.49102902]), 'score_time': array([52.92166996, 52.99233294, 52.078264  , 51.56884813, 51.21316791]), 'test_score': array([0.81493231, 0.81093089, 0.80936534, 0.80674171, 0.80772089])}\n"
     ]
    }
   ],
   "source": [
    "# Obtained cross-validated accuracy score\n",
    "mnb_trigrams_cv = cross_validate(mnb_trigrams_pipe, X_trigrams, y)\n",
    "print(mnb_trigrams_cv)"
   ]
  },
  {
   "cell_type": "code",
   "execution_count": 185,
   "metadata": {},
   "outputs": [
    {
     "name": "stdout",
     "output_type": "stream",
     "text": [
      "0.8099382284979203\n"
     ]
    }
   ],
   "source": [
    "# Print cross-validated mean accuracy score & add to model performance dictionary\n",
    "print(mnb_trigrams_cv['test_score'].mean())\n",
    "mod_perf['mnb_3grams'] = mnb_trigrams_cv['test_score'].mean()"
   ]
  },
  {
   "cell_type": "code",
   "execution_count": 93,
   "metadata": {},
   "outputs": [],
   "source": [
    "# Stored classification report for comparison\n",
    "mnb_trigram_cr = classification_report(y, mnb_trigrams_yhat, output_dict=True)"
   ]
  },
  {
   "cell_type": "markdown",
   "metadata": {},
   "source": [
    "##### Single Words, Bi-Grams & Tri-Grams"
   ]
  },
  {
   "cell_type": "code",
   "execution_count": 46,
   "metadata": {},
   "outputs": [
    {
     "name": "stdout",
     "output_type": "stream",
     "text": [
      "0.8249244370172365\n"
     ]
    },
    {
     "data": {
      "image/png": "[encoded data removed]",
      "text/plain": [
       "<Figure size 432x288 with 2 Axes>"
      ]
     },
     "metadata": {
      "needs_background": "light"
     },
     "output_type": "display_data"
    }
   ],
   "source": [
    "# Instantiate the Multinomial Naieve Bayes pipeline with clean text, bi-grams and tri-grams\n",
    "mnb_allgrams_pipe = ImPipeline(steps=[          \n",
    "                ('CT', ColumnTransformer([(x, TfidfVectorizer(), x) for x in ['text_cleaned',\n",
    "                                                                              'bigrams',\n",
    "                                                                              'trigrams']\n",
    "                                         ])),\n",
    "                ('cf', MultinomialNB())\n",
    "]\n",
    ")\n",
    "\n",
    "# Fit MNB pipe on the training data, get predictions and plot confusion matrix\n",
    "mnb_allgrams_pipe.fit(X_allgrams, y)\n",
    "mnb_allgrams_yhat = mnb_allgrams_pipe.predict(X_allgrams)\n",
    "plot_confusion_matrix(mnb_allgrams_pipe, X_allgrams, y, normalize='true');\n",
    "print(accuracy_score(y, mnb_allgrams_yhat))"
   ]
  },
  {
   "cell_type": "code",
   "execution_count": 85,
   "metadata": {},
   "outputs": [
    {
     "name": "stdout",
     "output_type": "stream",
     "text": [
      "{'fit_time': array([306.38464785, 307.10650492, 304.84020615, 306.92882609,\n",
      "       310.19934583]), 'score_time': array([77.10728216, 76.17751193, 74.49804282, 73.80406976, 74.56061912]), 'test_score': array([0.81458786, 0.81061839, 0.80896256, 0.80640004, 0.80740283])}\n"
     ]
    }
   ],
   "source": [
    "# Obtained cross-validated accuracy score\n",
    "mnb_allgrams_cv = cross_validate(mnb_allgrams_pipe, X_allgrams, y)\n",
    "print(mnb_allgrams_cv)"
   ]
  },
  {
   "cell_type": "code",
   "execution_count": 186,
   "metadata": {},
   "outputs": [
    {
     "name": "stdout",
     "output_type": "stream",
     "text": [
      "0.8095943374033844\n"
     ]
    }
   ],
   "source": [
    "# Print cross-validated mean accuracy score & add to model performance dictionary\n",
    "print(mnb_allgrams_cv['test_score'].mean())\n",
    "mod_perf['mnb_allgrams'] = mnb_allgrams_cv['test_score'].mean()"
   ]
  },
  {
   "cell_type": "code",
   "execution_count": 92,
   "metadata": {},
   "outputs": [
    {
     "name": "stdout",
     "output_type": "stream",
     "text": [
      "{'1': {'precision': 0.8163975753379082, 'recall': 0.8384004826685437, 'f1-score': 0.8272527489394266, 'support': 1799993}, '2': {'precision': 0.8339236938986179, 'recall': 0.8114483239851021, 'f1-score': 0.82253250497824, 'support': 1799984}, 'accuracy': 0.8249244370172365, 'macro avg': {'precision': 0.8251606346182631, 'recall': 0.8249244033268229, 'f1-score': 0.8248926269588333, 'support': 3599977}, 'weighted avg': {'precision': 0.8251606127104749, 'recall': 0.8249244370172365, 'f1-score': 0.8248926328591759, 'support': 3599977}}\n"
     ]
    }
   ],
   "source": [
    "# Stored classification report for comparison\n",
    "mnb_allgram_cr = classification_report(y, mnb_allgrams_yhat, output_dict=True)"
   ]
  },
  {
   "cell_type": "markdown",
   "metadata": {},
   "source": [
    "### Logistic Regression\n",
    "Logistic Regression is a common step in any binary classification problem, so I elected to use it as my next modeling approach. It is a linear classification method that learns the probability of an observation belonging to a target class, and then finds the decision boundary that best separates the classes. It splits feature space linearly and typically works well even when there is correlation among the variables, as is the case in our dataset. Because the data is made up of consumer reviews, it is likely that similar language patterns may be observed throughout.\n",
    "\n",
    "Right away, we see a significant (4.5%) improvement in accuracy over our best-performing Naive Bayes model. By including tri-grams of our corpus, we see a performance gain of 4.6% over our best Naive Bayes model."
   ]
  },
  {
   "cell_type": "code",
   "execution_count": 55,
   "metadata": {},
   "outputs": [
    {
     "name": "stdout",
     "output_type": "stream",
     "text": [
      "0.8751636468788551\n"
     ]
    },
    {
     "data": {
      "image/png": "[encoded data removed]",
      "text/plain": [
       "<Figure size 432x288 with 2 Axes>"
      ]
     },
     "metadata": {
      "needs_background": "light"
     },
     "output_type": "display_data"
    }
   ],
   "source": [
    "# Instantiate the Logistic Regression Pipeline\n",
    "logreg_pipe = ImPipeline(steps=[\n",
    "                                 ('vect', TfidfVectorizer()),                              \n",
    "                                 ('lr', LogisticRegression(n_jobs=-2))\n",
    "                                ]\n",
    ")\n",
    "\n",
    "\n",
    "# Fit Logistic Regression pipeline on the training data, get predictions and plot confusion matrix\n",
    "logreg_pipe.fit(X, y)\n",
    "logreg_yhat = logreg_pipe.predict(X)\n",
    "plot_confusion_matrix(logreg_pipe, X, y, normalize='true');\n",
    "print(accuracy_score(y, logreg_yhat))"
   ]
  },
  {
   "cell_type": "code",
   "execution_count": 56,
   "metadata": {},
   "outputs": [
    {
     "name": "stdout",
     "output_type": "stream",
     "text": [
      "{'fit_time': array([114.21418595, 114.09646702, 115.54381633, 114.64121985,\n",
      "       117.13762307]), 'score_time': array([15.40786219, 15.56365013, 14.99344087, 15.42947602, 15.36008501]), 'test_score': array([0.8693465 , 0.86867149, 0.86920881, 0.86898103, 0.86918798])}\n"
     ]
    }
   ],
   "source": [
    "# Obtained cross-validated accuracy score\n",
    "logreg_cv = cross_validate(logreg_pipe, X, y)\n",
    "print(logreg_cv)"
   ]
  },
  {
   "cell_type": "code",
   "execution_count": 188,
   "metadata": {},
   "outputs": [
    {
     "name": "stdout",
     "output_type": "stream",
     "text": [
      "0.8690791636003059\n"
     ]
    }
   ],
   "source": [
    "# Print cross-validated mean accuracy score & add to model performance dictionary\n",
    "print(logreg_cv['test_score'].mean())\n",
    "mod_perf['logreg_1grams'] = logreg_cv['test_score'].mean()"
   ]
  },
  {
   "cell_type": "code",
   "execution_count": 68,
   "metadata": {},
   "outputs": [
    {
     "data": {
      "text/plain": [
       "{'1': {'precision': 0.878248376336949,\n",
       "  'recall': 0.8710867208928035,\n",
       "  'f1-score': 0.8746528889568204,\n",
       "  'support': 1799993},\n",
       " '2': {'precision': 0.8721288041519578,\n",
       "  'recall': 0.8792405932497178,\n",
       "  'f1-score': 0.875670259272969,\n",
       "  'support': 1799984},\n",
       " 'accuracy': 0.8751636468788551,\n",
       " 'macro avg': {'precision': 0.8751885902444534,\n",
       "  'recall': 0.8751636570712606,\n",
       "  'f1-score': 0.8751615741148947,\n",
       "  'support': 3599977},\n",
       " 'weighted avg': {'precision': 0.8751885978939674,\n",
       "  'recall': 0.8751636468788551,\n",
       "  'f1-score': 0.8751615728431735,\n",
       "  'support': 3599977}}"
      ]
     },
     "execution_count": 68,
     "metadata": {},
     "output_type": "execute_result"
    }
   ],
   "source": [
    "# Stored classification report for comparison\n",
    "logreg_cr = classification_report(y, logreg_yhat, output_dict=True)"
   ]
  },
  {
   "cell_type": "code",
   "execution_count": 64,
   "metadata": {},
   "outputs": [],
   "source": [
    "with open ('logreg_base.pkl', 'wb') as files:\n",
    "    joblib.dump(logreg_pipe, files)"
   ]
  },
  {
   "cell_type": "markdown",
   "metadata": {},
   "source": [
    "#### Using N-grams as Features\n",
    "To see if I could improve on the model's performance over using single words, I tried giving it bi-grams and tri-grams as additional features. This time, the combination of single words and tri-grams proved to be the best performer of the group, with a cross-validated accuracy score of 86.8%."
   ]
  },
  {
   "cell_type": "markdown",
   "metadata": {},
   "source": [
    "##### Single Words & Bi-Grams"
   ]
  },
  {
   "cell_type": "code",
   "execution_count": 69,
   "metadata": {},
   "outputs": [
    {
     "name": "stdout",
     "output_type": "stream",
     "text": [
      "0.8809209058835654\n"
     ]
    },
    {
     "data": {
      "image/png": "[encoded data removed]",
      "text/plain": [
       "<Figure size 432x288 with 2 Axes>"
      ]
     },
     "metadata": {
      "needs_background": "light"
     },
     "output_type": "display_data"
    }
   ],
   "source": [
    "# Instantiated the Logistic Regression Pipeline with clean text and bi-grams\n",
    "logreg_bigram_pipe = ImPipeline(steps=[\n",
    "                ('CT', ColumnTransformer([(x, TfidfVectorizer(), x) for x in ['text_cleaned',\n",
    "                                                                              'bigrams']\n",
    "                                         ])),                             \n",
    "                ('lr', LogisticRegression(n_jobs=-2))\n",
    "]\n",
    ")\n",
    "\n",
    "\n",
    "# Fit Logistic Regression pipeline on the training data, get predictions and plot confusion matrix\n",
    "logreg_bigram_pipe.fit(X_bigrams, y)\n",
    "logreg_bigram_yhat = logreg_bigram_pipe.predict(X_bigrams)\n",
    "plot_confusion_matrix(logreg_bigram_pipe, X_bigrams, y, normalize='true');\n",
    "print(accuracy_score(y, logreg_bigram_yhat))"
   ]
  },
  {
   "cell_type": "code",
   "execution_count": 71,
   "metadata": {},
   "outputs": [
    {
     "name": "stdout",
     "output_type": "stream",
     "text": [
      "{'fit_time': array([256.42639899, 254.64559007, 258.30169702, 257.96054196,\n",
      "       261.62226987]), 'score_time': array([42.41855788, 42.41570783, 41.90626884, 41.13741493, 40.51680422]), 'test_score': array([0.86957844, 0.86892427, 0.87004354, 0.87050605, 0.87038104])}\n"
     ]
    }
   ],
   "source": [
    "# Obtained cross-validated accuracy score\n",
    "logreg_bigram_cv = cross_validate(logreg_bigram_pipe, X_bigrams, y)\n",
    "print(logreg_bigram_cv)"
   ]
  },
  {
   "cell_type": "code",
   "execution_count": 190,
   "metadata": {},
   "outputs": [
    {
     "name": "stdout",
     "output_type": "stream",
     "text": [
      "0.869886669073337\n"
     ]
    }
   ],
   "source": [
    "# Print cross-validated mean accuracy score & add to model performance dictionary\n",
    "print(logreg_bigram_cv['test_score'].mean())\n",
    "mod_perf['logreg_2grams'] = logreg_bigram_cv['test_score'].mean()"
   ]
  },
  {
   "cell_type": "code",
   "execution_count": 72,
   "metadata": {},
   "outputs": [],
   "source": [
    "# Stored classification report for comparison\n",
    "logreg_bigram_cr = classification_report(y, logreg_bigram_yhat, output_dict=True)"
   ]
  },
  {
   "cell_type": "markdown",
   "metadata": {},
   "source": [
    "##### Single Words & Tri-Grams"
   ]
  },
  {
   "cell_type": "code",
   "execution_count": 17,
   "metadata": {},
   "outputs": [
    {
     "name": "stdout",
     "output_type": "stream",
     "text": [
      "0.8799042327214869\n"
     ]
    },
    {
     "data": {
      "image/png": "[encoded data removed]",
      "text/plain": [
       "<Figure size 432x288 with 2 Axes>"
      ]
     },
     "metadata": {
      "needs_background": "light"
     },
     "output_type": "display_data"
    }
   ],
   "source": [
    "# Instantiate the Logistic Regression Pipeline with clean text and tri-grams\n",
    "logreg_trigram_pipe = ImPipeline(steps=[\n",
    "                ('CT', ColumnTransformer([(x, TfidfVectorizer(), x) for x in ['text_cleaned',\n",
    "                                                                              'trigrams']\n",
    "                                         ])),                             \n",
    "                ('lr', LogisticRegression(n_jobs=-2))\n",
    "]\n",
    ")\n",
    "\n",
    "\n",
    "# Fit LogReg pipeline on the training data, get predictions and plot confusion matrix\n",
    "logreg_trigram_pipe.fit(X_trigrams, y)\n",
    "logreg_trigram_yhat = logreg_trigram_pipe.predict(X_trigrams)\n",
    "plot_confusion_matrix(logreg_trigram_pipe, X_trigrams, y, normalize='true');\n",
    "print(accuracy_score(y, logreg_trigram_yhat))"
   ]
  },
  {
   "cell_type": "code",
   "execution_count": 18,
   "metadata": {},
   "outputs": [
    {
     "name": "stdout",
     "output_type": "stream",
     "text": [
      "{'fit_time': array([319.58547306, 320.60429096, 306.76699996, 305.10402417,\n",
      "       306.97201991]), 'score_time': array([54.03763199, 54.19823408, 52.28183699, 51.88448787, 53.32923794]), 'test_score': array([0.86993817, 0.86910344, 0.87035743, 0.87063938, 0.8709741 ])}\n"
     ]
    }
   ],
   "source": [
    "# Obtained cross-validated accuracy score\n",
    "logreg_trigram_cv = cross_validate(logreg_trigram_pipe, X_trigrams, y)\n",
    "print(logreg_trigram_cv)"
   ]
  },
  {
   "cell_type": "code",
   "execution_count": 19,
   "metadata": {},
   "outputs": [
    {
     "name": "stdout",
     "output_type": "stream",
     "text": [
      "0.8702025044502794\n"
     ]
    },
    {
     "ename": "NameError",
     "evalue": "name 'mod_perf' is not defined",
     "output_type": "error",
     "traceback": [
      "\u001b[0;31m---------------------------------------------------------------------------\u001b[0m",
      "\u001b[0;31mNameError\u001b[0m                                 Traceback (most recent call last)",
      "Input \u001b[0;32mIn [19]\u001b[0m, in \u001b[0;36m<cell line: 3>\u001b[0;34m()\u001b[0m\n\u001b[1;32m      1\u001b[0m \u001b[38;5;66;03m# Print cross-validated mean accuracy score & add to model performance dictionary\u001b[39;00m\n\u001b[1;32m      2\u001b[0m \u001b[38;5;28mprint\u001b[39m(logreg_trigram_cv[\u001b[38;5;124m'\u001b[39m\u001b[38;5;124mtest_score\u001b[39m\u001b[38;5;124m'\u001b[39m]\u001b[38;5;241m.\u001b[39mmean())\n\u001b[0;32m----> 3\u001b[0m \u001b[43mmod_perf\u001b[49m[\u001b[38;5;124m'\u001b[39m\u001b[38;5;124mlogreg_3grams\u001b[39m\u001b[38;5;124m'\u001b[39m] \u001b[38;5;241m=\u001b[39m logreg_trigram_cv[\u001b[38;5;124m'\u001b[39m\u001b[38;5;124mtest_score\u001b[39m\u001b[38;5;124m'\u001b[39m]\u001b[38;5;241m.\u001b[39mmean()\n",
      "\u001b[0;31mNameError\u001b[0m: name 'mod_perf' is not defined"
     ]
    }
   ],
   "source": [
    "# Print cross-validated mean accuracy score & add to model performance dictionary\n",
    "print(logreg_trigram_cv['test_score'].mean())\n",
    "mod_perf['logreg_3grams'] = logreg_trigram_cv['test_score'].mean()"
   ]
  },
  {
   "cell_type": "code",
   "execution_count": 20,
   "metadata": {},
   "outputs": [],
   "source": [
    "# Stored classification report for comparison\n",
    "logreg_trigram_cr = classification_report(y, logreg_trigram_yhat, output_dict=True)"
   ]
  },
  {
   "cell_type": "code",
   "execution_count": 23,
   "metadata": {},
   "outputs": [],
   "source": [
    "# Save model for future use\n",
    "with open('logreg_trigram_model.pkl', 'wb') as files:\n",
    "    joblib.dump(logreg_trigram_pipe, files)"
   ]
  },
  {
   "cell_type": "markdown",
   "metadata": {},
   "source": [
    "##### Single Words, Bi-Grams & Tri-Grams"
   ]
  },
  {
   "cell_type": "code",
   "execution_count": 76,
   "metadata": {},
   "outputs": [
    {
     "name": "stdout",
     "output_type": "stream",
     "text": [
      "0.8783483894480437\n"
     ]
    },
    {
     "data": {
      "image/png": "[encoded data removed]",
      "text/plain": [
       "<Figure size 432x288 with 2 Axes>"
      ]
     },
     "metadata": {
      "needs_background": "light"
     },
     "output_type": "display_data"
    }
   ],
   "source": [
    "# Instantiate the LR Pipeline with clean text, bi-grams and tri-grams\n",
    "logreg_allgram_pipe = ImPipeline(steps=[\n",
    "                ('CT', ColumnTransformer([(x, TfidfVectorizer(), x) for x in ['text_cleaned',\n",
    "                                                                              'bigrams',\n",
    "                                                                              'trigrams']\n",
    "                                         ])),                             \n",
    "                ('lr', LogisticRegression(n_jobs=-2))\n",
    "]\n",
    ")\n",
    "\n",
    "\n",
    "# Fit Logistic Regression pipeline on the training data, get predictions and plot confusion matrix\n",
    "logreg_allgram_pipe.fit(X_allgrams, y)\n",
    "logreg_allgram_yhat = logreg_allgram_pipe.predict(X_allgrams)\n",
    "plot_confusion_matrix(logreg_allgram_pipe, X_allgrams, y, normalize='true');\n",
    "print(accuracy_score(y, logreg_allgram_yhat))"
   ]
  },
  {
   "cell_type": "code",
   "execution_count": 77,
   "metadata": {},
   "outputs": [
    {
     "name": "stdout",
     "output_type": "stream",
     "text": [
      "{'fit_time': array([441.34930778, 445.38985896, 440.52547002, 437.61527085,\n",
      "       446.4825151 ]), 'score_time': array([84.24083519, 82.72586107, 80.61095977, 80.71986508, 81.2115581 ]), 'test_score': array([0.87029233, 0.86916038, 0.87022549, 0.8706116 , 0.87051577])}\n"
     ]
    }
   ],
   "source": [
    "# Obtained cross-validated accuracy score\n",
    "logreg_allgram_cv = cross_validate(logreg_allgram_pipe, X_allgrams, y)\n",
    "print(logreg_allgram_cv)"
   ]
  },
  {
   "cell_type": "code",
   "execution_count": 193,
   "metadata": {},
   "outputs": [
    {
     "name": "stdout",
     "output_type": "stream",
     "text": [
      "0.8701611151597666\n"
     ]
    }
   ],
   "source": [
    "# Print cross-validated mean accuracy score & add to model performance dictionary\n",
    "print(logreg_allgram_cv['test_score'].mean())\n",
    "mod_perf['logreg_allgrams'] = logreg_allgram_cv['test_score'].mean()"
   ]
  },
  {
   "cell_type": "code",
   "execution_count": 82,
   "metadata": {},
   "outputs": [],
   "source": [
    "# Stored classification report for comparison\n",
    "logreg_allgram_cr = classification_report(y, logreg_allgram_yhat, output_dict=True)"
   ]
  },
  {
   "cell_type": "code",
   "execution_count": null,
   "metadata": {},
   "outputs": [],
   "source": [
    "# Save model for future use\n",
    "with open('logreg_allgram_model.pkl', 'wb') as files:\n",
    "    joblib.dump(logreg_allgram_pipe, files)"
   ]
  },
  {
   "cell_type": "markdown",
   "metadata": {},
   "source": [
    "### Linear Support Vector Machine - Stochastic Gradient Descent\n",
    "Stochastic gradient descent is another technique that is very common in natural language processing due to its efficiency. Rather than calculating the gradient at each iteration using every observation in the dataset, it selects one observation at random for each step, drastically reducing the computational requirements. It uses linear models, similar to logistic regression, but performs gradient descent in a random (Stochastic) manner. It also works very well with sparse data, which makes it a natural fit for NLP. Given the size of my dataset, efficiency is very valuable and so SGD was a natural next step."
   ]
  },
  {
   "cell_type": "code",
   "execution_count": 99,
   "metadata": {},
   "outputs": [
    {
     "name": "stdout",
     "output_type": "stream",
     "text": [
      "0.8508276580655932\n"
     ]
    },
    {
     "data": {
      "image/png": "[encoded data removed]",
      "text/plain": [
       "<Figure size 432x288 with 2 Axes>"
      ]
     },
     "metadata": {
      "needs_background": "light"
     },
     "output_type": "display_data"
    }
   ],
   "source": [
    "# Instantiate the SGDC Classifier pipeline\n",
    "sgdc_pipe = ImPipeline(steps=[\n",
    "                            ('vect', TfidfVectorizer()),\n",
    "                            ('cf', SGDClassifier(random_state=42))\n",
    "                            ]\n",
    ")\n",
    "\n",
    "#Fit SGDC pipe on the training data, get predictions and plot confusion matrix\n",
    "sgdc_pipe.fit(X, y)\n",
    "sgdc_yhat = sgdc_pipe.predict(X)\n",
    "plot_confusion_matrix(sgdc_pipe, X, y, normalize='true');\n",
    "print(accuracy_score(y, sgdc_yhat))"
   ]
  },
  {
   "cell_type": "code",
   "execution_count": 101,
   "metadata": {},
   "outputs": [
    {
     "name": "stdout",
     "output_type": "stream",
     "text": [
      "{'fit_time': array([70.9188869 , 70.56865573, 70.59446096, 70.62523794, 70.94255495]), 'score_time': array([14.57960916, 14.56181717, 14.42929196, 14.28333306, 14.25776196]), 'test_score': array([0.84893944, 0.84923944, 0.85029202, 0.85031702, 0.85053785])}\n"
     ]
    }
   ],
   "source": [
    "# Obtained cross-validated accuracy score\n",
    "sgdc_cv = cross_validate(sgdc_pipe, X, y)\n",
    "print(sgdc_cv)"
   ]
  },
  {
   "cell_type": "markdown",
   "metadata": {},
   "source": [
    "- 'fit_time': array([70.02949595, 70.80230594, 70.30221891, 70.43828201, 70.43610787])\n",
    "- 'score_time': array([14.75940609, 14.66371202, 14.59122682, 14.39158106, 14.41444707])\n",
    "- 'test_score': array([0.84893944, 0.84923944, 0.85029202, 0.85031702, 0.85053785])"
   ]
  },
  {
   "cell_type": "code",
   "execution_count": 194,
   "metadata": {},
   "outputs": [
    {
     "name": "stdout",
     "output_type": "stream",
     "text": [
      "0.8498651523472027\n"
     ]
    }
   ],
   "source": [
    "# Print cross-validated mean accuracy score & add to model performance dictionary\n",
    "print(sgdc_cv['test_score'].mean())\n",
    "mod_perf['sgdc_1grams'] = sgdc_cv['test_score'].mean()"
   ]
  },
  {
   "cell_type": "code",
   "execution_count": 103,
   "metadata": {},
   "outputs": [],
   "source": [
    "# Stored classification report for comparison\n",
    "sgdc_cr = classification_report(y, sgdc_yhat, output_dict=True)"
   ]
  },
  {
   "cell_type": "code",
   "execution_count": 104,
   "metadata": {},
   "outputs": [],
   "source": [
    "# Save pickled model\n",
    "with open ('sgdc_base.pkl', 'wb') as files:\n",
    "    joblib.dump(sgdc_pipe, files)"
   ]
  },
  {
   "cell_type": "markdown",
   "metadata": {},
   "source": [
    "#### Using N-grams as Features \n",
    "To see if I could improve on the model's performance over using single words, I tried giving it bi-grams and tri-grams as additional features. Ultimately, the model realized a small accuracy gain of 0.0032 by showing it bi-grams and tri-grams in addition to single words. The sgd classifier did not outperform logistic regression with the settings used."
   ]
  },
  {
   "cell_type": "markdown",
   "metadata": {},
   "source": [
    "##### Single Words & Bi-Grams"
   ]
  },
  {
   "cell_type": "code",
   "execution_count": 105,
   "metadata": {},
   "outputs": [
    {
     "name": "stdout",
     "output_type": "stream",
     "text": [
      "0.8554932434290552\n"
     ]
    },
    {
     "data": {
      "image/png": "[encoded data removed]",
      "text/plain": [
       "<Figure size 432x288 with 2 Axes>"
      ]
     },
     "metadata": {
      "needs_background": "light"
     },
     "output_type": "display_data"
    }
   ],
   "source": [
    "# Instantiate the SGDC pipeline with cleaned text and bi-grams\n",
    "sgdc_bigrams_pipe = ImPipeline(steps=[\n",
    "                ('CT', ColumnTransformer([(x, TfidfVectorizer(), x) for x in ['text_cleaned',\n",
    "                                                                              'bigrams']\n",
    "                                         ])),\n",
    "                ('cf', SGDClassifier(random_state=42))\n",
    "]\n",
    ")\n",
    "\n",
    "# Fit SGDC pipe on the training data, get predictions and plot confusion matrix\n",
    "sgdc_bigrams_pipe.fit(X_bigrams, y)\n",
    "sgdc_bigrams_yhat = sgdc_bigrams_pipe.predict(X_bigrams)\n",
    "plot_confusion_matrix(sgdc_bigrams_pipe, X_bigrams, y, normalize='true');\n",
    "print(accuracy_score(y, sgdc_bigrams_yhat))"
   ]
  },
  {
   "cell_type": "code",
   "execution_count": 106,
   "metadata": {},
   "outputs": [
    {
     "name": "stdout",
     "output_type": "stream",
     "text": [
      "{'fit_time': array([194.557055  , 196.03704762, 198.00457811, 194.15118504,\n",
      "       192.81769395]), 'score_time': array([47.48983693, 47.93900418, 47.92801571, 46.29329705, 45.14519215]), 'test_score': array([0.85379641, 0.85340335, 0.85447954, 0.85464482, 0.85457399])}\n"
     ]
    }
   ],
   "source": [
    "sgdc_bigrams_cv = cross_validate(sgdc_bigrams_pipe, X_bigrams, y)\n",
    "print(sgdc_bigrams_cv)"
   ]
  },
  {
   "cell_type": "code",
   "execution_count": 195,
   "metadata": {},
   "outputs": [
    {
     "name": "stdout",
     "output_type": "stream",
     "text": [
      "0.8541796242474566\n"
     ]
    }
   ],
   "source": [
    "# Print cross-validated mean accuracy score & add to model performance dictionary\n",
    "print(sgdc_bigrams_cv['test_score'].mean())\n",
    "mod_perf['sgdc_2grams'] = sgdc_bigrams_cv['test_score'].mean()"
   ]
  },
  {
   "cell_type": "code",
   "execution_count": 108,
   "metadata": {},
   "outputs": [],
   "source": [
    "# Stored classification report for comparison\n",
    "sgdc_bigrams_cr = classification_report(y, sgdc_bigrams_yhat, output_dict=True)"
   ]
  },
  {
   "cell_type": "markdown",
   "metadata": {},
   "source": [
    "##### Single Words & Tri-Grams"
   ]
  },
  {
   "cell_type": "code",
   "execution_count": 109,
   "metadata": {},
   "outputs": [
    {
     "name": "stdout",
     "output_type": "stream",
     "text": [
      "0.8546649048035585\n"
     ]
    },
    {
     "data": {
      "image/png": "[encoded data removed]",
      "text/plain": [
       "<Figure size 432x288 with 2 Axes>"
      ]
     },
     "metadata": {
      "needs_background": "light"
     },
     "output_type": "display_data"
    }
   ],
   "source": [
    "# Instantiate the SGDC pipeline with clean text and tri-grams\n",
    "sgdc_trigrams_pipe = ImPipeline(steps=[\n",
    "                ('CT', ColumnTransformer([(x, TfidfVectorizer(), x) for x in ['text_cleaned',\n",
    "                                                                              'trigrams']\n",
    "                                                             ])),                             \n",
    "                ('cf', SGDClassifier(random_state=42))\n",
    "]\n",
    ")\n",
    "\n",
    "# Fit SGDC pipe on the training data, get predictions and plot confusion matrix\n",
    "sgdc_trigrams_pipe.fit(X_trigrams, y)\n",
    "sgdc_trigrams_yhat = sgdc_trigrams_pipe.predict(X_trigrams)\n",
    "plot_confusion_matrix(sgdc_trigrams_pipe, X_trigrams, y, normalize='true');\n",
    "print(accuracy_score(y, sgdc_trigrams_yhat))"
   ]
  },
  {
   "cell_type": "code",
   "execution_count": 110,
   "metadata": {},
   "outputs": [
    {
     "name": "stdout",
     "output_type": "stream",
     "text": [
      "{'fit_time': array([210.78691769, 210.38276672, 212.07414508, 213.50089383,\n",
      "       212.00431919]), 'score_time': array([52.77859306, 52.51626801, 52.17830181, 51.95252109, 51.36808896]), 'test_score': array([0.85288668, 0.85257418, 0.85366565, 0.85390593, 0.85383926])}\n"
     ]
    }
   ],
   "source": [
    "sgdc_trigrams_cv = cross_validate(sgdc_trigrams_pipe, X_trigrams, y)\n",
    "print(sgdc_trigrams_cv)"
   ]
  },
  {
   "cell_type": "code",
   "execution_count": 197,
   "metadata": {},
   "outputs": [
    {
     "name": "stdout",
     "output_type": "stream",
     "text": [
      "0.853374341360464\n"
     ]
    }
   ],
   "source": [
    "# Print cross-validated mean accuracy score & add to model performance dictionary\n",
    "print(sgdc_trigrams_cv['test_score'].mean())\n",
    "mod_perf['sgdc_3grams'] = sgdc_trigrams_cv['test_score'].mean()"
   ]
  },
  {
   "cell_type": "code",
   "execution_count": 112,
   "metadata": {},
   "outputs": [],
   "source": [
    "# Stored classification report for comparison\n",
    "sgdc_trigrams_cr = classification_report(y, sgdc_trigrams_yhat, output_dict=True)"
   ]
  },
  {
   "cell_type": "markdown",
   "metadata": {},
   "source": [
    "##### Single Words, Bi-Grams & Tri-Grams"
   ]
  },
  {
   "cell_type": "code",
   "execution_count": 113,
   "metadata": {},
   "outputs": [
    {
     "name": "stdout",
     "output_type": "stream",
     "text": [
      "0.8573693665265084\n"
     ]
    },
    {
     "data": {
      "image/png": "[encoded data removed]",
      "text/plain": [
       "<Figure size 432x288 with 2 Axes>"
      ]
     },
     "metadata": {
      "needs_background": "light"
     },
     "output_type": "display_data"
    }
   ],
   "source": [
    "# Instantiate the SGDC pipeline with clean text, bi-grams and tri-grams\n",
    "sgdc_allgrams_pipe = ImPipeline(steps=[\n",
    "                ('CT', ColumnTransformer([(x, TfidfVectorizer(), x) for x in ['text_cleaned',\n",
    "                                                                              'bigrams',\n",
    "                                                                              'trigrams']\n",
    "                                                             ])),                             \n",
    "                ('cf', SGDClassifier(random_state=42))\n",
    "]\n",
    ")\n",
    "\n",
    "# Fit SGDC pipe on the training data, get predictions and plot confusion matrix\n",
    "sgdc_allgrams_pipe.fit(X_allgrams, y)\n",
    "sgdc_allgrams_yhat = sgdc_allgrams_pipe.predict(X_allgrams)\n",
    "plot_confusion_matrix(sgdc_allgrams_pipe, X_allgrams, y, normalize='true');\n",
    "print(accuracy_score(y, sgdc_allgrams_yhat))"
   ]
  },
  {
   "cell_type": "code",
   "execution_count": 114,
   "metadata": {},
   "outputs": [
    {
     "name": "stdout",
     "output_type": "stream",
     "text": [
      "{'fit_time': array([318.87678099, 318.22864795, 318.05015278, 318.43812895,\n",
      "       320.31453919]), 'score_time': array([81.30805206, 80.16387606, 79.20117211, 78.30957198, 78.81106901]), 'test_score': array([0.85553531, 0.85510475, 0.85598511, 0.85637122, 0.85617539])}\n"
     ]
    }
   ],
   "source": [
    "# Obtained cross-validated accuracy score\n",
    "sgdc_allgrams_cv = cross_validate(sgdc_allgrams_pipe, X_allgrams, y)\n",
    "print(sgdc_allgrams_cv)"
   ]
  },
  {
   "cell_type": "code",
   "execution_count": 198,
   "metadata": {},
   "outputs": [
    {
     "name": "stdout",
     "output_type": "stream",
     "text": [
      "0.8558343570052406\n"
     ]
    }
   ],
   "source": [
    "# Print cross-validated mean accuracy score & add to model performance dictionary\n",
    "print(sgdc_allgrams_cv['test_score'].mean())\n",
    "mod_perf['sgdc_allgrams'] = sgdc_allgrams_cv['test_score'].mean()"
   ]
  },
  {
   "cell_type": "code",
   "execution_count": 116,
   "metadata": {},
   "outputs": [],
   "source": [
    "# Stored classification report for comparison\n",
    "sgdc_allgrams_cr = classification_report(y, sgdc_allgrams_yhat, output_dict=True)"
   ]
  },
  {
   "cell_type": "code",
   "execution_count": 117,
   "metadata": {},
   "outputs": [],
   "source": [
    "# Save pickled model\n",
    "with open ('sgdc_allgrams.pkl', 'wb') as files:\n",
    "    joblib.dump(sgdc_allgrams_pipe, files)"
   ]
  },
  {
   "cell_type": "markdown",
   "metadata": {},
   "source": [
    "#### Visualizing Model Performance"
   ]
  },
  {
   "cell_type": "code",
   "execution_count": 129,
   "metadata": {},
   "outputs": [],
   "source": [
    "# Create dataframe of model performance using the mod_perf dictionary\n",
    "mod_perf_df = pd.DataFrame.from_dict(mod_perf, orient='index')\n",
    "mod_perf_df.reset_index(inplace=True)\n",
    "mod_perf_df.columns = ['model', 'accuracy']\n",
    "\n",
    "# Save model performance to disk for future use, given long execution time for the notebook.\n",
    "#mod_perf_df.to_csv('../data/model_performance.csv')"
   ]
  },
  {
   "cell_type": "code",
   "execution_count": 82,
   "metadata": {},
   "outputs": [],
   "source": [
    "mod_perf={'mnb_1grams': 0.8134421396624155,\n",
    "          'mnb_2grams': 0.8114174045674252,\n",
    "          'mnb_3grams': 0.8099382284979203,\n",
    "          'mnb_allgrams': 0.8095943374033844,\n",
    "          'logreg_1grams': 0.8690791636003059,\n",
    "          'logreg_2grams': 0.869886669073337,\n",
    "          'logreg_3grams': 0.8702025044502794,\n",
    "          'logreg_allgrams': 0.8701611151597666,\n",
    "          'sgdc_1grams': 0.8498651523472027,\n",
    "          'sgdc_2grams': 0.8541796242474566,\n",
    "          'sgdc_3grams': 0.853374341360464,\n",
    "          'sgdc_allgrams': 0.8558343570052406}"
   ]
  },
  {
   "cell_type": "code",
   "execution_count": 136,
   "metadata": {},
   "outputs": [
    {
     "data": {
      "image/png": "[encoded data removed]",
      "text/plain": [
       "<Figure size 720x720 with 1 Axes>"
      ]
     },
     "metadata": {},
     "output_type": "display_data"
    }
   ],
   "source": [
    "# Visualization of Model Perforamnce\n",
    "\n",
    "# Read model performance from csv\n",
    "mod_perf_df = pd.read_csv('../data/model_performance.csv', index_col=0)\n",
    "\n",
    "# Set custom colorblind-friendly colors\n",
    "colors = [[86/255,180/255,233/255], [86/255,180/255,233/255], [86/255,180/255,233/255],\n",
    "         [86/255,180/255,233/255], [86/255,180/255,233/255], [86/255,180/255,233/255],\n",
    "         [0,158/255,115/255], [86/255,180/255,233/255], [86/255,180/255,233/255],\n",
    "         [86/255,180/255,233/255], [86/255,180/255,233/255], [86/255,180/255,233/255]]\n",
    "\n",
    "# Plot Bar Graph\n",
    "fig, ax = plt.subplots(figsize=(10,10))\n",
    "plt.style.use('fivethirtyeight')\n",
    "plt.rcParams.update({'font.size': 13})\n",
    "plt.axis([None, None, 0.8, 0.88])\n",
    "\n",
    "ax.bar(mod_perf_df['model'], mod_perf_df['accuracy'], color=colors)\n",
    "ax.set_title('Model Performance by Cross-validated Accuracy Score')\n",
    "ax.set_ylabel('Accuracy Score (%)', labelpad=10)\n",
    "ax.set_xlabel('Model Variety', labelpad=10)\n",
    "ax.set_yticklabels(labels = ['80', '81', '82', '83', '84', '85', '86', '87', '88'])\n",
    "ax.tick_params(axis=\"x\", rotation=90)\n",
    "plt.tight_layout()\n",
    "\n",
    "# Save figure to file for use in presentation\n",
    "plt.savefig('../images/model_performance.png', dpi=500)"
   ]
  },
  {
   "cell_type": "markdown",
   "metadata": {},
   "source": [
    "## Final Model Evaluation\n",
    "The logistic regression model that trained on a combination of 1-grams and 3-grams had the highest accuracy score, so I selected it as the appropriate model for this task. The model's accuracy was only very slightly (0.004%) better than a similarly-configured model that received 1-grams, 2-grams and 3-grams. However slight the margin, when combined with the fact that it requires significantly less data and therefore a shorter cleaning process, its superiority becomes clear.\n",
    "\n",
    "The model appears to generalize quite well, as it produced an accuracy score of 86.8% on completely unseen data, as compared to cross-validated accuracy of 87% on the training data. It correctly classified 88% of positive reviews and 86% of negative reviews in the test data, suggesting that it is slightly more accurate at determining positive sentiment than negative sentiment. The model avoids significant weaknesses with false positives or negatives, and significantly reduces the number of reviews that would require human review in a real-world setting. Particularly for sellers that wish to set up their own online storefront, the model’s efficiency is highly appealing.\n",
    "\n",
    "The primary weakness of my model lies in its performance relative to more sophisticated NLP algorithms. There are a number of highly accurate classifiers available, and NLP as a field is advancing rapidly. However, more advanced techniques can require compute resources that may not be available to small sellers for budgetary or technical literacy reasons. My model is small enough to be deployed in a web application for easy upload/download of customer reviews and classification. "
   ]
  },
  {
   "cell_type": "markdown",
   "metadata": {},
   "source": [
    "### Prepare Test Data\n",
    "The process below follows the same process as the training data."
   ]
  },
  {
   "cell_type": "code",
   "execution_count": 100,
   "metadata": {},
   "outputs": [],
   "source": [
    "# Read in the test data\n",
    "df_test = pd.read_csv('../data/test_cleaned_10sw.csv', index_col=0)"
   ]
  },
  {
   "cell_type": "code",
   "execution_count": 101,
   "metadata": {},
   "outputs": [
    {
     "name": "stdout",
     "output_type": "stream",
     "text": [
      "sentiment       0\n",
      "text            0\n",
      "text_cleaned    1\n",
      "bigrams         0\n",
      "trigrams        0\n",
      "dtype: int64\n"
     ]
    },
    {
     "data": {
      "text/html": [
       "<div>\n",
       "<style scoped>\n",
       "    .dataframe tbody tr th:only-of-type {\n",
       "        vertical-align: middle;\n",
       "    }\n",
       "\n",
       "    .dataframe tbody tr th {\n",
       "        vertical-align: top;\n",
       "    }\n",
       "\n",
       "    .dataframe thead th {\n",
       "        text-align: right;\n",
       "    }\n",
       "</style>\n",
       "<table border=\"1\" class=\"dataframe\">\n",
       "  <thead>\n",
       "    <tr style=\"text-align: right;\">\n",
       "      <th></th>\n",
       "      <th>sentiment</th>\n",
       "      <th>text</th>\n",
       "      <th>text_cleaned</th>\n",
       "      <th>bigrams</th>\n",
       "      <th>trigrams</th>\n",
       "    </tr>\n",
       "  </thead>\n",
       "  <tbody>\n",
       "    <tr>\n",
       "      <th>369851</th>\n",
       "      <td>2</td>\n",
       "      <td>&amp;#26379;&amp;#21451; &amp;#24478;&amp;#32654; &amp;#22283; &amp;#22238;&amp;#20358;&amp;#65292;&amp;#24118; &amp;#22238;&amp;#20358; &amp;#19968;&amp;#22871; &amp;#33203;&amp;#39764;&amp;#24107; &amp;#27700;&amp;#26479;&amp;#12290;&amp;#22899;&amp;#20818; &amp;#24456; &amp;#21916;&amp;#27489;&amp;#65292;&amp;#27599;&amp;#22825; &amp;#25265;&amp;#33879; &amp;#21917;&amp;#27700;&amp;#65292;&amp;#24478; 6&amp;#20491;&amp;#26376; &amp;#21040; 2&amp;#27506; &amp;#30340; &amp;#26479;&amp;#23376; &amp;#37117;&amp;#26377;&amp;#20102;&amp;#12290;&amp;#25105; &amp;#24456; &amp;#38283;&amp;#24515;&amp;#65292;&amp;#36889;&amp;#20491; &amp;#26479;&amp;#23376; &amp;#23526;&amp;#22312;&amp;#26159; &amp;#22826;&amp;#26834;&amp;#20102;&amp;#65281;&amp;#34253;&amp;#33394; &amp;#30340;&amp;#38991;&amp;#33394; &amp;#20063;&amp;#24456; &amp;#26834;&amp;#65292;&amp;#20445;&amp;#28331; &amp;#25928;&amp;#26524; &amp;#20063;&amp;#24456;&amp;#26834;&amp;#65281;&amp;#26368;&amp;#36817; &amp;#33521;&amp;#25991; &amp;#29983;&amp;#30095;&amp;#20102;&amp;#65292;&amp;#23531; &amp;#20013;&amp;#25991; &amp;#21543;&amp;#12290;&amp;#33775;&amp;#20154; &amp;#21916;&amp;#27489; &amp;#30340;&amp;#21487;&amp;#20197;&amp;#24456; &amp;#26041;&amp;#20415; &amp;#30340;&amp;#22312; &amp;#20126;&amp;#39340;&amp;#36956; &amp;#36067;&amp;#20102;&amp;#12290;</td>\n",
       "      <td>NaN</td>\n",
       "      <td>[]</td>\n",
       "      <td>[]</td>\n",
       "    </tr>\n",
       "  </tbody>\n",
       "</table>\n",
       "</div>"
      ],
      "text/plain": [
       "        sentiment  \\\n",
       "369851          2   \n",
       "\n",
       "                                                                                                                                                                                                                                                                                                                                                                                                                                                                                                                                                                                                                                                                                                                                                                                                                                                                                                                                           text  \\\n",
       "369851  &#26379;&#21451; &#24478;&#32654; &#22283; &#22238;&#20358;&#65292;&#24118; &#22238;&#20358; &#19968;&#22871; &#33203;&#39764;&#24107; &#27700;&#26479;&#12290;&#22899;&#20818; &#24456; &#21916;&#27489;&#65292;&#27599;&#22825; &#25265;&#33879; &#21917;&#27700;&#65292;&#24478; 6&#20491;&#26376; &#21040; 2&#27506; &#30340; &#26479;&#23376; &#37117;&#26377;&#20102;&#12290;&#25105; &#24456; &#38283;&#24515;&#65292;&#36889;&#20491; &#26479;&#23376; &#23526;&#22312;&#26159; &#22826;&#26834;&#20102;&#65281;&#34253;&#33394; &#30340;&#38991;&#33394; &#20063;&#24456; &#26834;&#65292;&#20445;&#28331; &#25928;&#26524; &#20063;&#24456;&#26834;&#65281;&#26368;&#36817; &#33521;&#25991; &#29983;&#30095;&#20102;&#65292;&#23531; &#20013;&#25991; &#21543;&#12290;&#33775;&#20154; &#21916;&#27489; &#30340;&#21487;&#20197;&#24456; &#26041;&#20415; &#30340;&#22312; &#20126;&#39340;&#36956; &#36067;&#20102;&#12290;   \n",
       "\n",
       "       text_cleaned bigrams trigrams  \n",
       "369851          NaN      []       []  "
      ]
     },
     "execution_count": 101,
     "metadata": {},
     "output_type": "execute_result"
    }
   ],
   "source": [
    "# Find & Display any NaN values for cleaned text -- in this case, \n",
    "print(df_test.isna().sum())\n",
    "df_test[df_test['text_cleaned'].isna()]"
   ]
  },
  {
   "cell_type": "code",
   "execution_count": 102,
   "metadata": {},
   "outputs": [],
   "source": [
    "# Drop the single NaN row\n",
    "df_test.dropna(inplace=True)"
   ]
  },
  {
   "cell_type": "code",
   "execution_count": 138,
   "metadata": {},
   "outputs": [],
   "source": [
    "# Save off feature combinations as required for use in the final model.\n",
    "X_test_trigrams = df_test[['text_cleaned', 'trigrams']]\n",
    "y_test = df_test['sentiment']"
   ]
  },
  {
   "cell_type": "markdown",
   "metadata": {},
   "source": [
    "### Load & Score Final Model"
   ]
  },
  {
   "cell_type": "code",
   "execution_count": 139,
   "metadata": {},
   "outputs": [],
   "source": [
    "# Load best-performing model from file\n",
    "with open('logreg_trigram_model.pkl', 'rb') as f:\n",
    "    logreg_trigram_pipe = joblib.load(f)"
   ]
  },
  {
   "cell_type": "code",
   "execution_count": 142,
   "metadata": {},
   "outputs": [
    {
     "name": "stdout",
     "output_type": "stream",
     "text": [
      "0.8683396708491771\n"
     ]
    },
    {
     "data": {
      "image/png": "[encoded data removed]",
      "text/plain": [
       "<Figure size 640x480 with 2 Axes>"
      ]
     },
     "metadata": {},
     "output_type": "display_data"
    }
   ],
   "source": [
    "# Score the final model on the test data & plot confusion matrix\n",
    "print(logreg_trigram_pipe.score(X_test_trigrams, y_test))\n",
    "plt.style.use('default')\n",
    "plot_confusion_matrix(logreg_trigram_pipe, X_test_trigrams, y_test, normalize='true');"
   ]
  },
  {
   "cell_type": "code",
   "execution_count": 141,
   "metadata": {},
   "outputs": [
    {
     "name": "stdout",
     "output_type": "stream",
     "text": [
      "              precision    recall  f1-score   support\n",
      "\n",
      "           1       0.88      0.86      0.87    200000\n",
      "           2       0.86      0.88      0.87    199999\n",
      "\n",
      "    accuracy                           0.87    399999\n",
      "   macro avg       0.87      0.87      0.87    399999\n",
      "weighted avg       0.87      0.87      0.87    399999\n",
      "\n"
     ]
    }
   ],
   "source": [
    "# Make predictions and print classification report for visual inspection\n",
    "yhat_test = logreg_trigram_pipe.predict(X_test_trigrams)\n",
    "print(classification_report(y_test, yhat_test))"
   ]
  },
  {
   "cell_type": "markdown",
   "metadata": {},
   "source": [
    "Let's see how it does on text from another source. The below dataset came from XXXX and was cleaned using the same methodology as the train/test data."
   ]
  },
  {
   "cell_type": "markdown",
   "metadata": {},
   "source": [
    "XXXX"
   ]
  },
  {
   "cell_type": "markdown",
   "metadata": {},
   "source": [
    "## Conclusion\n",
    "The model was able to achieve solid accuracy scores and improve upon the baseline MNB model with limited tuning and a reasonable train time. The performance is thanks largely to the quality, size and balance of the dataset. I would recommend the model to businesses wishing to create their own storefronts in order to avoid rating inflation problems down the road. It has proven to be very accurate at classifying review sentiment, and it is relatively easy to identify a list of incorrect predictions with basic python that could be inspected by a human.\n",
    "\n",
    "The model is likely less suited for large-scale deployment by Amazon or a similar marketplace, as there are superior options that exist, and large marketplaces have the resources to support the computational demands of more sophisticated models. In the case of Amazon, it’s likely to be cost-efficient to develop their own classifier that is constantly training on new user reviews as they happen. \n",
    "\n",
    "### Further Development\n",
    "The next step in the project will be to refactor the cleaning & training code to be utilized in a web application. I envision the application providing a way for sellers that have previously used a storefront like Amazon or Rakuten to upload all of their review data and have it classified before leaving the site. Amazon famously does not provide an api for review data, so it will be up to the business to gather the data themselves. This functionality would help a business efficiently classify product sentiment at the time of transition, and form a baseline for their understanding to build from. \n",
    "\n",
    "From a legal perspective, a business would need written permission from each review author in order to actually transfer the reviews. That process will be horribly inefficient and likely not worth the trouble, especially for heavily-reviewed products. My tool provides a partial solution by helping businesses understand with a high degree of accuracy the proportion of their reviews that are actually positive or negative before transitioning away from the larger marketplace.\n",
    "\n"
   ]
  },
  {
   "cell_type": "code",
   "execution_count": null,
   "metadata": {},
   "outputs": [],
   "source": []
  }
 ],
 "metadata": {
  "kernelspec": {
   "display_name": "Python (spark-cap-env)",
   "language": "python",
   "name": "spark-cap-env"
  },
  "language_info": {
   "codemirror_mode": {
    "name": "ipython",
    "version": 3
   },
   "file_extension": ".py",
   "mimetype": "text/x-python",
   "name": "python",
   "nbconvert_exporter": "python",
   "pygments_lexer": "ipython3",
   "version": "3.8.13"
  }
 },
 "nbformat": 4,
 "nbformat_minor": 4
}
