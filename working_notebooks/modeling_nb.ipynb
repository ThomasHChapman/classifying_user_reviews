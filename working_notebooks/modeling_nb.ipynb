{
 "cells": [
  {
   "cell_type": "code",
   "execution_count": 41,
   "metadata": {},
   "outputs": [],
   "source": [
    "# Package Imports\n",
    "import pandas as pd\n",
    "import numpy as np\n",
    "import pickle\n",
    "\n",
    "from sklearn.dummy import DummyClassifier\n",
    "from sklearn.feature_extraction.text import TfidfVectorizer\n",
    "from sklearn.metrics import plot_confusion_matrix, confusion_matrix, make_scorer, recall_score, accuracy_score, precision_score, f1_score, classification_report\n",
    "from sklearn.naive_bayes import MultinomialNB\n",
    "from sklearn.model_selection import train_test_split, ParameterGrid, GridSearchCV, cross_validate, cross_val_score\n",
    "from sklearn.ensemble import RandomForestClassifier, GradientBoostingClassifier\n",
    "from sklearn.linear_model import SGDClassifier\n",
    "\n",
    "from imblearn.pipeline import Pipeline as ImPipeline\n",
    "\n",
    "import keras\n",
    "from tensorflow.keras.models import Sequential\n",
    "from tensorflow.keras.layers import Dense\n",
    "from tensorflow.keras.preprocessing.text import Tokenizer"
   ]
  },
  {
   "cell_type": "markdown",
   "metadata": {},
   "source": [
    "# Modeling"
   ]
  },
  {
   "cell_type": "code",
   "execution_count": 25,
   "metadata": {},
   "outputs": [],
   "source": [
    "max_features = 100000"
   ]
  },
  {
   "cell_type": "code",
   "execution_count": 3,
   "metadata": {},
   "outputs": [],
   "source": [
    "# Read in the data\n",
    "df = pd.read_csv('../data/train_cleaned.csv', usecols=['sentiment', 'text_cleaned', 'toks'])"
   ]
  },
  {
   "cell_type": "code",
   "execution_count": 4,
   "metadata": {},
   "outputs": [
    {
     "data": {
      "text/html": [
       "<div>\n",
       "<style scoped>\n",
       "    .dataframe tbody tr th:only-of-type {\n",
       "        vertical-align: middle;\n",
       "    }\n",
       "\n",
       "    .dataframe tbody tr th {\n",
       "        vertical-align: top;\n",
       "    }\n",
       "\n",
       "    .dataframe thead th {\n",
       "        text-align: right;\n",
       "    }\n",
       "</style>\n",
       "<table border=\"1\" class=\"dataframe\">\n",
       "  <thead>\n",
       "    <tr style=\"text-align: right;\">\n",
       "      <th></th>\n",
       "      <th>sentiment</th>\n",
       "      <th>text_cleaned</th>\n",
       "      <th>toks</th>\n",
       "    </tr>\n",
       "  </thead>\n",
       "  <tbody>\n",
       "    <tr>\n",
       "      <th>0</th>\n",
       "      <td>2</td>\n",
       "      <td>lovely pat one great voice generation listen c...</td>\n",
       "      <td>['lovely', 'pat', 'one', 'great', 'voice', 'ge...</td>\n",
       "    </tr>\n",
       "    <tr>\n",
       "      <th>1</th>\n",
       "      <td>2</td>\n",
       "      <td>despite fact play small portion game music hea...</td>\n",
       "      <td>['despite', 'fact', 'play', 'small', 'portion'...</td>\n",
       "    </tr>\n",
       "    <tr>\n",
       "      <th>2</th>\n",
       "      <td>1</td>\n",
       "      <td>bought charger jul work ok design nice conveni...</td>\n",
       "      <td>['bought', 'charger', 'jul', 'work', 'ok', 'de...</td>\n",
       "    </tr>\n",
       "    <tr>\n",
       "      <th>3</th>\n",
       "      <td>2</td>\n",
       "      <td>check maha energy's website powerex mh c f cha...</td>\n",
       "      <td>['check', 'maha', \"energy's\", 'website', 'powe...</td>\n",
       "    </tr>\n",
       "    <tr>\n",
       "      <th>4</th>\n",
       "      <td>2</td>\n",
       "      <td>review quite bit combo player hesitant due unf...</td>\n",
       "      <td>['review', 'quite', 'bit', 'combo', 'player', ...</td>\n",
       "    </tr>\n",
       "    <tr>\n",
       "      <th>5</th>\n",
       "      <td>1</td>\n",
       "      <td>also begin incorrect disc problem i've read vc...</td>\n",
       "      <td>['also', 'begin', 'incorrect', 'disc', 'proble...</td>\n",
       "    </tr>\n",
       "    <tr>\n",
       "      <th>6</th>\n",
       "      <td>1</td>\n",
       "      <td>love style couple year dvd give problem even w...</td>\n",
       "      <td>['love', 'style', 'couple', 'year', 'dvd', 'gi...</td>\n",
       "    </tr>\n",
       "    <tr>\n",
       "      <th>7</th>\n",
       "      <td>1</td>\n",
       "      <td>cannot scroll dvd menu set vertically triangle...</td>\n",
       "      <td>['cannot', 'scroll', 'dvd', 'menu', 'set', 've...</td>\n",
       "    </tr>\n",
       "    <tr>\n",
       "      <th>8</th>\n",
       "      <td>2</td>\n",
       "      <td>exotic tale orient dr shen fu weird tale magaz...</td>\n",
       "      <td>['exotic', 'tale', 'orient', 'dr', 'shen', 'fu...</td>\n",
       "    </tr>\n",
       "    <tr>\n",
       "      <th>9</th>\n",
       "      <td>1</td>\n",
       "      <td>firstly enjoy format tone book author address ...</td>\n",
       "      <td>['firstly', 'enjoy', 'format', 'tone', 'book',...</td>\n",
       "    </tr>\n",
       "    <tr>\n",
       "      <th>10</th>\n",
       "      <td>2</td>\n",
       "      <td>currently live europe book recommend visitor c...</td>\n",
       "      <td>['currently', 'live', 'europe', 'book', 'recom...</td>\n",
       "    </tr>\n",
       "    <tr>\n",
       "      <th>11</th>\n",
       "      <td>1</td>\n",
       "      <td>want listen el duke well access shower gimmick...</td>\n",
       "      <td>['want', 'listen', 'el', 'duke', 'well', 'acce...</td>\n",
       "    </tr>\n",
       "    <tr>\n",
       "      <th>12</th>\n",
       "      <td>1</td>\n",
       "      <td>game require quicktime work well version quick...</td>\n",
       "      <td>['game', 'require', 'quicktime', 'work', 'well...</td>\n",
       "    </tr>\n",
       "    <tr>\n",
       "      <th>13</th>\n",
       "      <td>2</td>\n",
       "      <td>use product couple year start use hair gotten ...</td>\n",
       "      <td>['use', 'product', 'couple', 'year', 'start', ...</td>\n",
       "    </tr>\n",
       "    <tr>\n",
       "      <th>14</th>\n",
       "      <td>1</td>\n",
       "      <td>hop drive would run bus power require adapter ...</td>\n",
       "      <td>['hop', 'drive', 'would', 'run', 'bus', 'power...</td>\n",
       "    </tr>\n",
       "    <tr>\n",
       "      <th>15</th>\n",
       "      <td>1</td>\n",
       "      <td>first company take money send email tell produ...</td>\n",
       "      <td>['first', 'company', 'take', 'money', 'send', ...</td>\n",
       "    </tr>\n",
       "    <tr>\n",
       "      <th>16</th>\n",
       "      <td>2</td>\n",
       "      <td>awesome game almost everyone know tic tac toe ...</td>\n",
       "      <td>['awesome', 'game', 'almost', 'everyone', 'kno...</td>\n",
       "    </tr>\n",
       "    <tr>\n",
       "      <th>17</th>\n",
       "      <td>2</td>\n",
       "      <td>price pc game well worth great graphic colorfu...</td>\n",
       "      <td>['price', 'pc', 'game', 'well', 'worth', 'grea...</td>\n",
       "    </tr>\n",
       "    <tr>\n",
       "      <th>18</th>\n",
       "      <td>2</td>\n",
       "      <td>este libro est espl ndido lo disfrutas lo pued...</td>\n",
       "      <td>['este', 'libro', 'est', 'espl', 'ndido', 'lo'...</td>\n",
       "    </tr>\n",
       "    <tr>\n",
       "      <th>19</th>\n",
       "      <td>2</td>\n",
       "      <td>excellent album great fiddle play ryan amazing...</td>\n",
       "      <td>['excellent', 'album', 'great', 'fiddle', 'pla...</td>\n",
       "    </tr>\n",
       "    <tr>\n",
       "      <th>20</th>\n",
       "      <td>1</td>\n",
       "      <td>i've read book much expectation bore book</td>\n",
       "      <td>[\"i've\", 'read', 'book', 'much', 'expectation'...</td>\n",
       "    </tr>\n",
       "    <tr>\n",
       "      <th>21</th>\n",
       "      <td>1</td>\n",
       "      <td>product smell open package appear one gel cush...</td>\n",
       "      <td>['product', 'smell', 'open', 'package', 'appea...</td>\n",
       "    </tr>\n",
       "    <tr>\n",
       "      <th>22</th>\n",
       "      <td>2</td>\n",
       "      <td>magazine good condition usual high standard ar...</td>\n",
       "      <td>['magazine', 'good', 'condition', 'usual', 'hi...</td>\n",
       "    </tr>\n",
       "    <tr>\n",
       "      <th>23</th>\n",
       "      <td>2</td>\n",
       "      <td>believe happy camcorder small light easy handl...</td>\n",
       "      <td>['believe', 'happy', 'camcorder', 'small', 'li...</td>\n",
       "    </tr>\n",
       "    <tr>\n",
       "      <th>24</th>\n",
       "      <td>1</td>\n",
       "      <td>purchase data cable need know receive real dir...</td>\n",
       "      <td>['purchase', 'data', 'cable', 'need', 'know', ...</td>\n",
       "    </tr>\n",
       "  </tbody>\n",
       "</table>\n",
       "</div>"
      ],
      "text/plain": [
       "    sentiment                                       text_cleaned  \\\n",
       "0           2  lovely pat one great voice generation listen c...   \n",
       "1           2  despite fact play small portion game music hea...   \n",
       "2           1  bought charger jul work ok design nice conveni...   \n",
       "3           2  check maha energy's website powerex mh c f cha...   \n",
       "4           2  review quite bit combo player hesitant due unf...   \n",
       "5           1  also begin incorrect disc problem i've read vc...   \n",
       "6           1  love style couple year dvd give problem even w...   \n",
       "7           1  cannot scroll dvd menu set vertically triangle...   \n",
       "8           2  exotic tale orient dr shen fu weird tale magaz...   \n",
       "9           1  firstly enjoy format tone book author address ...   \n",
       "10          2  currently live europe book recommend visitor c...   \n",
       "11          1  want listen el duke well access shower gimmick...   \n",
       "12          1  game require quicktime work well version quick...   \n",
       "13          2  use product couple year start use hair gotten ...   \n",
       "14          1  hop drive would run bus power require adapter ...   \n",
       "15          1  first company take money send email tell produ...   \n",
       "16          2  awesome game almost everyone know tic tac toe ...   \n",
       "17          2  price pc game well worth great graphic colorfu...   \n",
       "18          2  este libro est espl ndido lo disfrutas lo pued...   \n",
       "19          2  excellent album great fiddle play ryan amazing...   \n",
       "20          1          i've read book much expectation bore book   \n",
       "21          1  product smell open package appear one gel cush...   \n",
       "22          2  magazine good condition usual high standard ar...   \n",
       "23          2  believe happy camcorder small light easy handl...   \n",
       "24          1  purchase data cable need know receive real dir...   \n",
       "\n",
       "                                                 toks  \n",
       "0   ['lovely', 'pat', 'one', 'great', 'voice', 'ge...  \n",
       "1   ['despite', 'fact', 'play', 'small', 'portion'...  \n",
       "2   ['bought', 'charger', 'jul', 'work', 'ok', 'de...  \n",
       "3   ['check', 'maha', \"energy's\", 'website', 'powe...  \n",
       "4   ['review', 'quite', 'bit', 'combo', 'player', ...  \n",
       "5   ['also', 'begin', 'incorrect', 'disc', 'proble...  \n",
       "6   ['love', 'style', 'couple', 'year', 'dvd', 'gi...  \n",
       "7   ['cannot', 'scroll', 'dvd', 'menu', 'set', 've...  \n",
       "8   ['exotic', 'tale', 'orient', 'dr', 'shen', 'fu...  \n",
       "9   ['firstly', 'enjoy', 'format', 'tone', 'book',...  \n",
       "10  ['currently', 'live', 'europe', 'book', 'recom...  \n",
       "11  ['want', 'listen', 'el', 'duke', 'well', 'acce...  \n",
       "12  ['game', 'require', 'quicktime', 'work', 'well...  \n",
       "13  ['use', 'product', 'couple', 'year', 'start', ...  \n",
       "14  ['hop', 'drive', 'would', 'run', 'bus', 'power...  \n",
       "15  ['first', 'company', 'take', 'money', 'send', ...  \n",
       "16  ['awesome', 'game', 'almost', 'everyone', 'kno...  \n",
       "17  ['price', 'pc', 'game', 'well', 'worth', 'grea...  \n",
       "18  ['este', 'libro', 'est', 'espl', 'ndido', 'lo'...  \n",
       "19  ['excellent', 'album', 'great', 'fiddle', 'pla...  \n",
       "20  [\"i've\", 'read', 'book', 'much', 'expectation'...  \n",
       "21  ['product', 'smell', 'open', 'package', 'appea...  \n",
       "22  ['magazine', 'good', 'condition', 'usual', 'hi...  \n",
       "23  ['believe', 'happy', 'camcorder', 'small', 'li...  \n",
       "24  ['purchase', 'data', 'cable', 'need', 'know', ...  "
      ]
     },
     "execution_count": 4,
     "metadata": {},
     "output_type": "execute_result"
    }
   ],
   "source": [
    "df.head(25)"
   ]
  },
  {
   "cell_type": "code",
   "execution_count": 5,
   "metadata": {},
   "outputs": [
    {
     "name": "stdout",
     "output_type": "stream",
     "text": [
      "sentiment       0\n",
      "text_cleaned    1\n",
      "toks            0\n",
      "dtype: int64\n"
     ]
    },
    {
     "data": {
      "text/html": [
       "<div>\n",
       "<style scoped>\n",
       "    .dataframe tbody tr th:only-of-type {\n",
       "        vertical-align: middle;\n",
       "    }\n",
       "\n",
       "    .dataframe tbody tr th {\n",
       "        vertical-align: top;\n",
       "    }\n",
       "\n",
       "    .dataframe thead th {\n",
       "        text-align: right;\n",
       "    }\n",
       "</style>\n",
       "<table border=\"1\" class=\"dataframe\">\n",
       "  <thead>\n",
       "    <tr style=\"text-align: right;\">\n",
       "      <th></th>\n",
       "      <th>sentiment</th>\n",
       "      <th>text_cleaned</th>\n",
       "      <th>toks</th>\n",
       "    </tr>\n",
       "  </thead>\n",
       "  <tbody>\n",
       "    <tr>\n",
       "      <th>369851</th>\n",
       "      <td>2</td>\n",
       "      <td>NaN</td>\n",
       "      <td>[]</td>\n",
       "    </tr>\n",
       "  </tbody>\n",
       "</table>\n",
       "</div>"
      ],
      "text/plain": [
       "        sentiment text_cleaned toks\n",
       "369851          2          NaN   []"
      ]
     },
     "execution_count": 5,
     "metadata": {},
     "output_type": "execute_result"
    }
   ],
   "source": [
    "print(df.isna().sum())\n",
    "df[df['text_cleaned'].isna()]"
   ]
  },
  {
   "cell_type": "code",
   "execution_count": 6,
   "metadata": {},
   "outputs": [],
   "source": [
    "# Drop lone NaN value in 'text_cleaned'\n",
    "df.dropna(inplace=True)"
   ]
  },
  {
   "cell_type": "code",
   "execution_count": 7,
   "metadata": {},
   "outputs": [],
   "source": [
    "X = df['text_cleaned']\n",
    "y = df['sentiment']"
   ]
  },
  {
   "cell_type": "code",
   "execution_count": 80,
   "metadata": {},
   "outputs": [],
   "source": [
    "# Instantiate Dummy Classifier pipeline\n",
    "dummy_pipe = ImPipeline(steps=[\n",
    "                                ('vect', TfidfVectorizer(max_features=max_features)),\n",
    "                                ('dc', DummyClassifier(strategy='most_frequent',\n",
    "                                                           random_state=42))\n",
    "                              ]\n",
    ")"
   ]
  },
  {
   "cell_type": "code",
   "execution_count": 81,
   "metadata": {},
   "outputs": [
    {
     "name": "stderr",
     "output_type": "stream",
     "text": [
      "/Users/tom/opt/anaconda3/envs/spark-cap-env/lib/python3.8/site-packages/sklearn/utils/deprecation.py:87: FutureWarning: Function plot_confusion_matrix is deprecated; Function `plot_confusion_matrix` is deprecated in 1.0 and will be removed in 1.2. Use one of the class methods: ConfusionMatrixDisplay.from_predictions or ConfusionMatrixDisplay.from_estimator.\n",
      "  warnings.warn(msg, category=FutureWarning)\n"
     ]
    },
    {
     "name": "stdout",
     "output_type": "stream",
     "text": [
      "0.500001250003125\n"
     ]
    },
    {
     "data": {
      "image/png": "[encoded data removed]",
      "text/plain": [
       "<Figure size 432x288 with 2 Axes>"
      ]
     },
     "metadata": {
      "needs_background": "light"
     },
     "output_type": "display_data"
    }
   ],
   "source": [
    "# Fit dummy pipe on the training data and plot confusion matrix\n",
    "dummy_pipe.fit(X, y)\n",
    "dummy_yhat = dummy_pipe.predict(X)\n",
    "plot_confusion_matrix(dummy_pipe, X, y);\n",
    "print(accuracy_score(y, dummy_yhat))"
   ]
  },
  {
   "cell_type": "code",
   "execution_count": 23,
   "metadata": {},
   "outputs": [
    {
     "name": "stderr",
     "output_type": "stream",
     "text": [
      "/Users/tom/opt/anaconda3/envs/spark-cap-env/lib/python3.8/site-packages/sklearn/utils/deprecation.py:87: FutureWarning: Function plot_confusion_matrix is deprecated; Function `plot_confusion_matrix` is deprecated in 1.0 and will be removed in 1.2. Use one of the class methods: ConfusionMatrixDisplay.from_predictions or ConfusionMatrixDisplay.from_estimator.\n",
      "  warnings.warn(msg, category=FutureWarning)\n"
     ]
    },
    {
     "name": "stdout",
     "output_type": "stream",
     "text": [
      "0.8430846077115193\n"
     ]
    },
    {
     "data": {
      "image/png": "[encoded data removed]",
      "text/plain": [
       "<Figure size 432x288 with 2 Axes>"
      ]
     },
     "metadata": {
      "needs_background": "light"
     },
     "output_type": "display_data"
    }
   ],
   "source": [
    "# Instantiate the Multinomial Naieve Bayes Pipeline\n",
    "mnb_pipe = ImPipeline(steps=[\n",
    "                            ('vect', TfidfVectorizer(max_features=max_features)),\n",
    "                            ('mnb', MultinomialNB())\n",
    "                            ]\n",
    ")\n",
    "\n",
    "# Fit MNB pipe on the training data, get predictions and plot confusion matrix\n",
    "mnb_pipe.fit(X, y)\n",
    "mnb_yhat = mnb_pipe.predict(X)\n",
    "plot_confusion_matrix(mnb_pipe, X, y, xticks_rotation=90);\n",
    "print(accuracy_score(y, mnb_yhat))"
   ]
  },
  {
   "cell_type": "code",
   "execution_count": 24,
   "metadata": {},
   "outputs": [
    {
     "name": "stderr",
     "output_type": "stream",
     "text": [
      "/Users/tom/opt/anaconda3/envs/spark-cap-env/lib/python3.8/site-packages/sklearn/utils/deprecation.py:103: FutureWarning: Attribute `n_features_` was deprecated in version 1.0 and will be removed in 1.2. Use `n_features_in_` instead.\n",
      "  warnings.warn(msg, category=FutureWarning)\n"
     ]
    },
    {
     "data": {
      "text/plain": [
       "218195"
      ]
     },
     "execution_count": 24,
     "metadata": {},
     "output_type": "execute_result"
    }
   ],
   "source": [
    "mnb_pipe.named_steps['mnb'].n_features_\n",
    "#__mnb.n_features_"
   ]
  },
  {
   "cell_type": "code",
   "execution_count": 9,
   "metadata": {},
   "outputs": [
    {
     "data": {
      "text/plain": [
       "{'fit_time': array([7.06104302, 7.00558996, 6.90852499, 6.96033812, 7.03689289]),\n",
       " 'score_time': array([1.86571383, 1.81603718, 1.78075004, 1.75291896, 1.78729224]),\n",
       " 'test_score': array([0.8159125 , 0.8130375 , 0.8154875 , 0.8105875 , 0.81017263])}"
      ]
     },
     "execution_count": 9,
     "metadata": {},
     "output_type": "execute_result"
    }
   ],
   "source": [
    "# Obtained cross-validated accuracy score\n",
    "cross_validate(mnb_pipe, X, y)"
   ]
  },
  {
   "cell_type": "code",
   "execution_count": null,
   "metadata": {},
   "outputs": [],
   "source": []
  },
  {
   "cell_type": "code",
   "execution_count": null,
   "metadata": {},
   "outputs": [],
   "source": []
  },
  {
   "cell_type": "code",
   "execution_count": null,
   "metadata": {},
   "outputs": [],
   "source": []
  },
  {
   "cell_type": "code",
   "execution_count": null,
   "metadata": {},
   "outputs": [],
   "source": []
  },
  {
   "cell_type": "code",
   "execution_count": 96,
   "metadata": {},
   "outputs": [
    {
     "ename": "NotFittedError",
     "evalue": "The TF-IDF vectorizer is not fitted",
     "output_type": "error",
     "traceback": [
      "\u001b[0;31m---------------------------------------------------------------------------\u001b[0m",
      "\u001b[0;31mNotFittedError\u001b[0m                            Traceback (most recent call last)",
      "Input \u001b[0;32mIn [96]\u001b[0m, in \u001b[0;36m<cell line: 10>\u001b[0;34m()\u001b[0m\n\u001b[1;32m      2\u001b[0m rf_pipe \u001b[38;5;241m=\u001b[39m ImPipeline(steps\u001b[38;5;241m=\u001b[39m[\n\u001b[1;32m      3\u001b[0m                             (\u001b[38;5;124m'\u001b[39m\u001b[38;5;124mvect\u001b[39m\u001b[38;5;124m'\u001b[39m, TfidfVectorizer(max_features\u001b[38;5;241m=\u001b[39mmax_features)),\n\u001b[1;32m      4\u001b[0m                             (\u001b[38;5;124m'\u001b[39m\u001b[38;5;124mrf\u001b[39m\u001b[38;5;124m'\u001b[39m, RandomForestClassifier())\n\u001b[1;32m      5\u001b[0m                             ]\n\u001b[1;32m      6\u001b[0m )\n\u001b[1;32m      8\u001b[0m \u001b[38;5;66;03m# Fit RF pipe on the training data, get predictions and plot confusion matrix\u001b[39;00m\n\u001b[1;32m      9\u001b[0m \u001b[38;5;66;03m# rf_pipe.fit(X, y)\u001b[39;00m\n\u001b[0;32m---> 10\u001b[0m rf_yhat \u001b[38;5;241m=\u001b[39m \u001b[43mrf_pipe\u001b[49m\u001b[38;5;241;43m.\u001b[39;49m\u001b[43mpredict\u001b[49m\u001b[43m(\u001b[49m\u001b[43mX\u001b[49m\u001b[43m)\u001b[49m\n\u001b[1;32m     11\u001b[0m plot_confusion_matrix(rf_pipe, X, y);\n\u001b[1;32m     12\u001b[0m \u001b[38;5;28mprint\u001b[39m(accuracy_score(y, rf_yhat))\n",
      "File \u001b[0;32m~/opt/anaconda3/envs/spark-cap-env/lib/python3.8/site-packages/sklearn/utils/metaestimators.py:113\u001b[0m, in \u001b[0;36m_AvailableIfDescriptor.__get__.<locals>.<lambda>\u001b[0;34m(*args, **kwargs)\u001b[0m\n\u001b[1;32m    110\u001b[0m         \u001b[38;5;28;01mraise\u001b[39;00m attr_err\n\u001b[1;32m    112\u001b[0m     \u001b[38;5;66;03m# lambda, but not partial, allows help() to work with update_wrapper\u001b[39;00m\n\u001b[0;32m--> 113\u001b[0m     out \u001b[38;5;241m=\u001b[39m \u001b[38;5;28;01mlambda\u001b[39;00m \u001b[38;5;241m*\u001b[39margs, \u001b[38;5;241m*\u001b[39m\u001b[38;5;241m*\u001b[39mkwargs: \u001b[38;5;28;43mself\u001b[39;49m\u001b[38;5;241;43m.\u001b[39;49m\u001b[43mfn\u001b[49m\u001b[43m(\u001b[49m\u001b[43mobj\u001b[49m\u001b[43m,\u001b[49m\u001b[43m \u001b[49m\u001b[38;5;241;43m*\u001b[39;49m\u001b[43margs\u001b[49m\u001b[43m,\u001b[49m\u001b[43m \u001b[49m\u001b[38;5;241;43m*\u001b[39;49m\u001b[38;5;241;43m*\u001b[39;49m\u001b[43mkwargs\u001b[49m\u001b[43m)\u001b[49m  \u001b[38;5;66;03m# noqa\u001b[39;00m\n\u001b[1;32m    114\u001b[0m \u001b[38;5;28;01melse\u001b[39;00m:\n\u001b[1;32m    116\u001b[0m     \u001b[38;5;28;01mdef\u001b[39;00m \u001b[38;5;21mfn\u001b[39m(\u001b[38;5;241m*\u001b[39margs, \u001b[38;5;241m*\u001b[39m\u001b[38;5;241m*\u001b[39mkwargs):\n",
      "File \u001b[0;32m~/opt/anaconda3/envs/spark-cap-env/lib/python3.8/site-packages/sklearn/pipeline.py:469\u001b[0m, in \u001b[0;36mPipeline.predict\u001b[0;34m(self, X, **predict_params)\u001b[0m\n\u001b[1;32m    467\u001b[0m Xt \u001b[38;5;241m=\u001b[39m X\n\u001b[1;32m    468\u001b[0m \u001b[38;5;28;01mfor\u001b[39;00m _, name, transform \u001b[38;5;129;01min\u001b[39;00m \u001b[38;5;28mself\u001b[39m\u001b[38;5;241m.\u001b[39m_iter(with_final\u001b[38;5;241m=\u001b[39m\u001b[38;5;28;01mFalse\u001b[39;00m):\n\u001b[0;32m--> 469\u001b[0m     Xt \u001b[38;5;241m=\u001b[39m \u001b[43mtransform\u001b[49m\u001b[38;5;241;43m.\u001b[39;49m\u001b[43mtransform\u001b[49m\u001b[43m(\u001b[49m\u001b[43mXt\u001b[49m\u001b[43m)\u001b[49m\n\u001b[1;32m    470\u001b[0m \u001b[38;5;28;01mreturn\u001b[39;00m \u001b[38;5;28mself\u001b[39m\u001b[38;5;241m.\u001b[39msteps[\u001b[38;5;241m-\u001b[39m\u001b[38;5;241m1\u001b[39m][\u001b[38;5;241m1\u001b[39m]\u001b[38;5;241m.\u001b[39mpredict(Xt, \u001b[38;5;241m*\u001b[39m\u001b[38;5;241m*\u001b[39mpredict_params)\n",
      "File \u001b[0;32m~/opt/anaconda3/envs/spark-cap-env/lib/python3.8/site-packages/sklearn/feature_extraction/text.py:2099\u001b[0m, in \u001b[0;36mTfidfVectorizer.transform\u001b[0;34m(self, raw_documents)\u001b[0m\n\u001b[1;32m   2083\u001b[0m \u001b[38;5;28;01mdef\u001b[39;00m \u001b[38;5;21mtransform\u001b[39m(\u001b[38;5;28mself\u001b[39m, raw_documents):\n\u001b[1;32m   2084\u001b[0m     \u001b[38;5;124;03m\"\"\"Transform documents to document-term matrix.\u001b[39;00m\n\u001b[1;32m   2085\u001b[0m \n\u001b[1;32m   2086\u001b[0m \u001b[38;5;124;03m    Uses the vocabulary and document frequencies (df) learned by fit (or\u001b[39;00m\n\u001b[0;32m   (...)\u001b[0m\n\u001b[1;32m   2097\u001b[0m \u001b[38;5;124;03m        Tf-idf-weighted document-term matrix.\u001b[39;00m\n\u001b[1;32m   2098\u001b[0m \u001b[38;5;124;03m    \"\"\"\u001b[39;00m\n\u001b[0;32m-> 2099\u001b[0m     \u001b[43mcheck_is_fitted\u001b[49m\u001b[43m(\u001b[49m\u001b[38;5;28;43mself\u001b[39;49m\u001b[43m,\u001b[49m\u001b[43m \u001b[49m\u001b[43mmsg\u001b[49m\u001b[38;5;241;43m=\u001b[39;49m\u001b[38;5;124;43m\"\u001b[39;49m\u001b[38;5;124;43mThe TF-IDF vectorizer is not fitted\u001b[39;49m\u001b[38;5;124;43m\"\u001b[39;49m\u001b[43m)\u001b[49m\n\u001b[1;32m   2101\u001b[0m     X \u001b[38;5;241m=\u001b[39m \u001b[38;5;28msuper\u001b[39m()\u001b[38;5;241m.\u001b[39mtransform(raw_documents)\n\u001b[1;32m   2102\u001b[0m     \u001b[38;5;28;01mreturn\u001b[39;00m \u001b[38;5;28mself\u001b[39m\u001b[38;5;241m.\u001b[39m_tfidf\u001b[38;5;241m.\u001b[39mtransform(X, copy\u001b[38;5;241m=\u001b[39m\u001b[38;5;28;01mFalse\u001b[39;00m)\n",
      "File \u001b[0;32m~/opt/anaconda3/envs/spark-cap-env/lib/python3.8/site-packages/sklearn/utils/validation.py:1222\u001b[0m, in \u001b[0;36mcheck_is_fitted\u001b[0;34m(estimator, attributes, msg, all_or_any)\u001b[0m\n\u001b[1;32m   1217\u001b[0m     fitted \u001b[38;5;241m=\u001b[39m [\n\u001b[1;32m   1218\u001b[0m         v \u001b[38;5;28;01mfor\u001b[39;00m v \u001b[38;5;129;01min\u001b[39;00m \u001b[38;5;28mvars\u001b[39m(estimator) \u001b[38;5;28;01mif\u001b[39;00m v\u001b[38;5;241m.\u001b[39mendswith(\u001b[38;5;124m\"\u001b[39m\u001b[38;5;124m_\u001b[39m\u001b[38;5;124m\"\u001b[39m) \u001b[38;5;129;01mand\u001b[39;00m \u001b[38;5;129;01mnot\u001b[39;00m v\u001b[38;5;241m.\u001b[39mstartswith(\u001b[38;5;124m\"\u001b[39m\u001b[38;5;124m__\u001b[39m\u001b[38;5;124m\"\u001b[39m)\n\u001b[1;32m   1219\u001b[0m     ]\n\u001b[1;32m   1221\u001b[0m \u001b[38;5;28;01mif\u001b[39;00m \u001b[38;5;129;01mnot\u001b[39;00m fitted:\n\u001b[0;32m-> 1222\u001b[0m     \u001b[38;5;28;01mraise\u001b[39;00m NotFittedError(msg \u001b[38;5;241m%\u001b[39m {\u001b[38;5;124m\"\u001b[39m\u001b[38;5;124mname\u001b[39m\u001b[38;5;124m\"\u001b[39m: \u001b[38;5;28mtype\u001b[39m(estimator)\u001b[38;5;241m.\u001b[39m\u001b[38;5;18m__name__\u001b[39m})\n",
      "\u001b[0;31mNotFittedError\u001b[0m: The TF-IDF vectorizer is not fitted"
     ]
    }
   ],
   "source": [
    "# Instantiate the Random Forest Pipeline\n",
    "rf_pipe = ImPipeline(steps=[\n",
    "                            ('vect', TfidfVectorizer(max_features=max_features)),\n",
    "                            ('rf', RandomForestClassifier())\n",
    "                            ]\n",
    ")\n",
    "\n",
    "# Fit RF pipe on the training data, get predictions and plot confusion matrix\n",
    "# rf_pipe.fit(X, y)\n",
    "rf_yhat = rf_pipe.predict(X)\n",
    "plot_confusion_matrix(rf_pipe, X, y);\n",
    "print(accuracy_score(y, rf_yhat))"
   ]
  },
  {
   "cell_type": "code",
   "execution_count": 86,
   "metadata": {},
   "outputs": [
    {
     "data": {
      "text/plain": [
       "{'fit_time': array([1830.52545214, 1831.86812997, 1832.6002512 , 1840.15665793,\n",
       "        1856.76238298]),\n",
       " 'score_time': array([8.741611  , 8.63665485, 8.63135886, 8.6168921 , 8.63820219]),\n",
       " 'test_score': array([0.836875  , 0.8388375 , 0.839625  , 0.839225  , 0.84041051])}"
      ]
     },
     "execution_count": 86,
     "metadata": {},
     "output_type": "execute_result"
    }
   ],
   "source": [
    "# Obtained cross-validated accuracy score\n",
    "# cross_validate(rf_pipe, X, y)"
   ]
  },
  {
   "cell_type": "code",
   "execution_count": null,
   "metadata": {},
   "outputs": [],
   "source": []
  },
  {
   "cell_type": "code",
   "execution_count": 88,
   "metadata": {},
   "outputs": [],
   "source": [
    "with open ('rf_pkl', 'wb') as files:\n",
    "    pickle.dump(rf_pipe, files)"
   ]
  },
  {
   "cell_type": "code",
   "execution_count": null,
   "metadata": {},
   "outputs": [],
   "source": []
  },
  {
   "cell_type": "code",
   "execution_count": 57,
   "metadata": {},
   "outputs": [
    {
     "name": "stderr",
     "output_type": "stream",
     "text": [
      "/Users/tom/opt/anaconda3/envs/spark-cap-env/lib/python3.8/site-packages/sklearn/utils/deprecation.py:87: FutureWarning: Function plot_confusion_matrix is deprecated; Function `plot_confusion_matrix` is deprecated in 1.0 and will be removed in 1.2. Use one of the class methods: ConfusionMatrixDisplay.from_predictions or ConfusionMatrixDisplay.from_estimator.\n",
      "  warnings.warn(msg, category=FutureWarning)\n"
     ]
    },
    {
     "name": "stdout",
     "output_type": "stream",
     "text": [
      "0.8553321383303458\n"
     ]
    },
    {
     "data": {
      "image/png": "[encoded data removed]",
      "text/plain": [
       "<Figure size 432x288 with 2 Axes>"
      ]
     },
     "metadata": {
      "needs_background": "light"
     },
     "output_type": "display_data"
    }
   ],
   "source": [
    "# Instantiate the SDGC Classifier pipeline\n",
    "sgdc_pipe = ImPipeline(steps=[\n",
    "                            ('vect', TfidfVectorizer(max_features=max_features,\n",
    "                                                    #max_df=0.95,\n",
    "                                                   # min_df=0.05\n",
    "                                                    )),\n",
    "                            ('sgdc', SGDClassifier(random_state=42))\n",
    "                            ]\n",
    ")\n",
    "\n",
    "#Fit SGDC pipe on the training data, get predictions and plot confusion matrix\n",
    "sgdc_pipe.fit(X, y)\n",
    "sgdc_yhat = sgdc_pipe.predict(X)\n",
    "plot_confusion_matrix(sgdc_pipe, X, y, normalize='true');\n",
    "print(accuracy_score(y, sgdc_yhat))"
   ]
  },
  {
   "cell_type": "code",
   "execution_count": 40,
   "metadata": {},
   "outputs": [
    {
     "data": {
      "text/plain": [
       "{'fit_time': array([7.67305493, 8.02314401, 7.59999084, 7.95747113, 8.13202381]),\n",
       " 'score_time': array([2.0716188 , 1.85317802, 1.77932596, 1.80910516, 1.81775713]),\n",
       " 'test_score': array([0.8476125 , 0.8511    , 0.85025   , 0.8506125 , 0.85202315])}"
      ]
     },
     "execution_count": 40,
     "metadata": {},
     "output_type": "execute_result"
    }
   ],
   "source": [
    "# Obtained cross-validated accuracy score\n",
    "cross_validate(sgdc_pipe, X, y)"
   ]
  },
  {
   "cell_type": "code",
   "execution_count": 64,
   "metadata": {},
   "outputs": [],
   "source": [
    "sgdc_params = {\n",
    "            'sgdc__alpha': [1e-4, 1e-3, 1e-2, 1e-1, 1e0, 1e1, 1e2, 1e3, 0.0002, 0.0005],\n",
    "            #'sgdc__n_iter': [50, 100, 500],\n",
    "            'sgdc__loss': ['hinge', 'log', 'huber'],\n",
    "            'sgdc__penalty': ['l2', 'l1', 'elasticnet'],\n",
    "            'vect__max_features': [None, 50000, 100000, 200000]\n",
    "             }"
   ]
  },
  {
   "cell_type": "code",
   "execution_count": 65,
   "metadata": {},
   "outputs": [
    {
     "name": "stdout",
     "output_type": "stream",
     "text": [
      "Fitting 3 folds for each of 360 candidates, totalling 1080 fits\n"
     ]
    },
    {
     "data": {
      "text/plain": [
       "GridSearchCV(cv=3,\n",
       "             estimator=Pipeline(steps=[('vect',\n",
       "                                        TfidfVectorizer(max_features=50000)),\n",
       "                                       ('sgdc',\n",
       "                                        SGDClassifier(loss='log',\n",
       "                                                      random_state=42))]),\n",
       "             n_jobs=-2,\n",
       "             param_grid={'sgdc__alpha': [0.0001, 0.001, 0.01, 0.1, 1.0, 10.0,\n",
       "                                         100.0, 1000.0, 0.0002, 0.0005],\n",
       "                         'sgdc__loss': ['hinge', 'log', 'huber'],\n",
       "                         'sgdc__penalty': ['l2', 'l1', 'elasticnet'],\n",
       "                         'vect__max_features': [None, 50000, 100000, 200000]},\n",
       "             verbose=3)"
      ]
     },
     "execution_count": 65,
     "metadata": {},
     "output_type": "execute_result"
    }
   ],
   "source": [
    "sgdc_gs = GridSearchCV(sgdc_pipe, param_grid=sgdc_params, n_jobs=-2, verbose=3, cv=3)\n",
    "sgdc_gs.fit(X, y)"
   ]
  },
  {
   "cell_type": "code",
   "execution_count": 66,
   "metadata": {},
   "outputs": [
    {
     "data": {
      "text/plain": [
       "{'sgdc__alpha': 0.0001,\n",
       " 'sgdc__loss': 'hinge',\n",
       " 'sgdc__penalty': 'l2',\n",
       " 'vect__max_features': 50000}"
      ]
     },
     "execution_count": 66,
     "metadata": {},
     "output_type": "execute_result"
    }
   ],
   "source": [
    "sgdc_gs.best_params_"
   ]
  },
  {
   "cell_type": "code",
   "execution_count": null,
   "metadata": {},
   "outputs": [],
   "source": []
  },
  {
   "cell_type": "code",
   "execution_count": 67,
   "metadata": {},
   "outputs": [
    {
     "name": "stderr",
     "output_type": "stream",
     "text": [
      "/Users/tom/opt/anaconda3/envs/spark-cap-env/lib/python3.8/site-packages/sklearn/utils/deprecation.py:87: FutureWarning: Function plot_confusion_matrix is deprecated; Function `plot_confusion_matrix` is deprecated in 1.0 and will be removed in 1.2. Use one of the class methods: ConfusionMatrixDisplay.from_predictions or ConfusionMatrixDisplay.from_estimator.\n",
      "  warnings.warn(msg, category=FutureWarning)\n"
     ]
    },
    {
     "name": "stdout",
     "output_type": "stream",
     "text": [
      "0.8555021387553469\n"
     ]
    },
    {
     "data": {
      "image/png": "[encoded data removed]",
      "text/plain": [
       "<Figure size 432x288 with 2 Axes>"
      ]
     },
     "metadata": {
      "needs_background": "light"
     },
     "output_type": "display_data"
    }
   ],
   "source": [
    "# Instantiate the SDGC Classifier pipeline\n",
    "sgdc_tuned_pipe = ImPipeline(steps=[\n",
    "                            ('vect', TfidfVectorizer(max_features=50000,\n",
    "                                                    #max_df=0.95,\n",
    "                                                   # min_df=0.05\n",
    "                                                    )),\n",
    "                            ('sgdc', SGDClassifier(random_state=42,\n",
    "                                                  alpha=0.0001,\n",
    "                                                  loss = 'hinge',\n",
    "                                                  penalty='l2'\n",
    "                                                  ))\n",
    "                            ]\n",
    ")\n",
    "\n",
    "#Fit SGDC pipe on the training data, get predictions and plot confusion matrix\n",
    "sgdc_tuned_pipe.fit(X, y)\n",
    "sgdc_tuned_yhat = sgdc_tuned_pipe.predict(X)\n",
    "plot_confusion_matrix(sgdc_tuned_pipe, X, y, normalize='true');\n",
    "print(accuracy_score(y, sgdc_tuned_yhat))"
   ]
  },
  {
   "cell_type": "code",
   "execution_count": null,
   "metadata": {},
   "outputs": [],
   "source": []
  },
  {
   "cell_type": "code",
   "execution_count": null,
   "metadata": {},
   "outputs": [],
   "source": []
  },
  {
   "cell_type": "code",
   "execution_count": null,
   "metadata": {},
   "outputs": [],
   "source": []
  },
  {
   "cell_type": "code",
   "execution_count": 99,
   "metadata": {},
   "outputs": [
    {
     "name": "stderr",
     "output_type": "stream",
     "text": [
      "/Users/tom/opt/anaconda3/envs/spark-cap-env/lib/python3.8/site-packages/sklearn/utils/deprecation.py:87: FutureWarning: Function plot_confusion_matrix is deprecated; Function `plot_confusion_matrix` is deprecated in 1.0 and will be removed in 1.2. Use one of the class methods: ConfusionMatrixDisplay.from_predictions or ConfusionMatrixDisplay.from_estimator.\n",
      "  warnings.warn(msg, category=FutureWarning)\n"
     ]
    },
    {
     "name": "stdout",
     "output_type": "stream",
     "text": [
      "0.7664144160360401\n"
     ]
    },
    {
     "data": {
      "image/png": "[encoded data removed]",
      "text/plain": [
       "<Figure size 432x288 with 2 Axes>"
      ]
     },
     "metadata": {
      "needs_background": "light"
     },
     "output_type": "display_data"
    }
   ],
   "source": [
    "# Instantiate the gradient boosting classifier pipeline\n",
    "gbc_pipe = ImPipeline(steps=[\n",
    "                                 ('vect', TfidfVectorizer(max_features=max_features)),\n",
    "                                 ('gbc',  GradientBoostingClassifier())\n",
    "                                ]\n",
    ")\n",
    "\n",
    "#Fit SGDC pipe on the training data, get predictions and plot confusion matrix\n",
    "gbc_pipe.fit(X, y)\n",
    "gbc_yhat = gbc_pipe.predict(X)\n",
    "plot_confusion_matrix(gbc_pipe, X, y);\n",
    "print(accuracy_score(y, gbc_yhat))"
   ]
  },
  {
   "cell_type": "code",
   "execution_count": 100,
   "metadata": {},
   "outputs": [
    {
     "data": {
      "text/plain": [
       "{'fit_time': array([285.57566977, 286.21229815, 289.5758419 , 286.79738688,\n",
       "        288.09794784]),\n",
       " 'score_time': array([1.75061703, 1.73659492, 1.71818924, 1.70788002, 1.71104002]),\n",
       " 'test_score': array([0.7638125, 0.762975 , 0.7638875, 0.7671625, 0.7679971])}"
      ]
     },
     "execution_count": 100,
     "metadata": {},
     "output_type": "execute_result"
    }
   ],
   "source": [
    "# Obtained cross-validated accuracy score\n",
    "cross_validate(gbc_pipe, X, y)"
   ]
  },
  {
   "cell_type": "code",
   "execution_count": null,
   "metadata": {},
   "outputs": [],
   "source": []
  },
  {
   "cell_type": "code",
   "execution_count": 121,
   "metadata": {},
   "outputs": [
    {
     "data": {
      "text/plain": [
       "0         lovely pat one great voice generation listen c...\n",
       "1         despite fact play small portion game music hea...\n",
       "2         bought charger jul work ok design nice conveni...\n",
       "3         check maha energy's website powerex mh c f cha...\n",
       "4         review quite bit combo player hesitant due unf...\n",
       "                                ...                        \n",
       "399995    buy thomas son huge thomas fan huge set room t...\n",
       "399996    son recieved birthday gift month ago love even...\n",
       "399997    buy toy son love thomas toys need one battery ...\n",
       "399998    compilation wide range mitford's article best ...\n",
       "399999    dvd disappointment get hop see substantial por...\n",
       "Name: text_cleaned, Length: 399999, dtype: object"
      ]
     },
     "execution_count": 121,
     "metadata": {},
     "output_type": "execute_result"
    }
   ],
   "source": [
    "X"
   ]
  },
  {
   "cell_type": "code",
   "execution_count": 9,
   "metadata": {},
   "outputs": [],
   "source": [
    "tokenizer = Tokenizer(oov_token=\"<OOV>\")\n",
    "tokens = tokenizer.fit_on_texts(X)\n",
    "\n",
    "# Turn text into sequences (word --> num )\n",
    "text_sequences = tokenizer.texts_to_sequences(X)\n",
    "# Turn text sequences into tf-idf sequences\n",
    "tfidf_train = tokenizer.sequences_to_matrix(text_sequences , mode='tfidf')"
   ]
  },
  {
   "cell_type": "code",
   "execution_count": 10,
   "metadata": {},
   "outputs": [
    {
     "data": {
      "text/plain": [
       "array([[0.        , 0.        , 1.57169084, ..., 0.        , 0.        ,\n",
       "        0.        ],\n",
       "       [0.        , 0.        , 0.        , ..., 0.        , 0.        ,\n",
       "        0.        ],\n",
       "       [0.        , 0.        , 0.        , ..., 0.        , 0.        ,\n",
       "        0.        ],\n",
       "       ...,\n",
       "       [0.        , 0.        , 0.        , ..., 0.        , 0.        ,\n",
       "        0.        ],\n",
       "       [0.        , 0.        , 0.        , ..., 0.        , 0.        ,\n",
       "        0.        ],\n",
       "       [0.        , 0.        , 0.        , ..., 0.        , 0.        ,\n",
       "        0.        ]])"
      ]
     },
     "execution_count": 10,
     "metadata": {},
     "output_type": "execute_result"
    }
   ],
   "source": [
    "tfidf_train"
   ]
  },
  {
   "cell_type": "code",
   "execution_count": 11,
   "metadata": {},
   "outputs": [
    {
     "data": {
      "text/plain": [
       "<keras.engine.sequential.Sequential at 0x7fcf310e3820>"
      ]
     },
     "execution_count": 11,
     "metadata": {},
     "output_type": "execute_result"
    }
   ],
   "source": [
    "model = Sequential()\n",
    "model"
   ]
  },
  {
   "cell_type": "code",
   "execution_count": 12,
   "metadata": {},
   "outputs": [],
   "source": [
    "model.add(Dense(12, activation='relu', input_dim=64))\n",
    "model.add(Dense(8, activation='relu'))\n",
    "model.add(Dense(1, activation='sigmoid'))"
   ]
  },
  {
   "cell_type": "code",
   "execution_count": 13,
   "metadata": {},
   "outputs": [],
   "source": [
    "model.compile(optimizer='Adam', loss='binary_crossentropy', metrics=['accuracy'])"
   ]
  },
  {
   "cell_type": "code",
   "execution_count": 14,
   "metadata": {},
   "outputs": [
    {
     "name": "stdout",
     "output_type": "stream",
     "text": [
      "Model: \"sequential\"\n",
      "_________________________________________________________________\n",
      " Layer (type)                Output Shape              Param #   \n",
      "=================================================================\n",
      " dense (Dense)               (None, 12)                780       \n",
      "                                                                 \n",
      " dense_1 (Dense)             (None, 8)                 104       \n",
      "                                                                 \n",
      " dense_2 (Dense)             (None, 1)                 9         \n",
      "                                                                 \n",
      "=================================================================\n",
      "Total params: 893\n",
      "Trainable params: 893\n",
      "Non-trainable params: 0\n",
      "_________________________________________________________________\n"
     ]
    }
   ],
   "source": [
    "model.summary()"
   ]
  },
  {
   "cell_type": "code",
   "execution_count": null,
   "metadata": {},
   "outputs": [],
   "source": [
    "model.fit(tfidf_train, y, epochs=5, batch_size=10)"
   ]
  },
  {
   "cell_type": "code",
   "execution_count": null,
   "metadata": {},
   "outputs": [],
   "source": [
    "y.shape"
   ]
  },
  {
   "cell_type": "code",
   "execution_count": null,
   "metadata": {},
   "outputs": [],
   "source": [
    "X.shape"
   ]
  },
  {
   "cell_type": "code",
   "execution_count": null,
   "metadata": {},
   "outputs": [],
   "source": []
  }
 ],
 "metadata": {
  "kernelspec": {
   "display_name": "Python (spark-cap-env)",
   "language": "python",
   "name": "spark-cap-env"
  },
  "language_info": {
   "codemirror_mode": {
    "name": "ipython",
    "version": 3
   },
   "file_extension": ".py",
   "mimetype": "text/x-python",
   "name": "python",
   "nbconvert_exporter": "python",
   "pygments_lexer": "ipython3",
   "version": "3.8.13"
  }
 },
 "nbformat": 4,
 "nbformat_minor": 4
}
