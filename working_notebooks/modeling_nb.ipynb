{
 "cells": [
  {
   "cell_type": "markdown",
   "metadata": {},
   "source": [
    "# Title\n",
    "Author: Tom Chapman"
   ]
  },
  {
   "cell_type": "markdown",
   "metadata": {},
   "source": [
    "## Business Understanding\n",
    "Since their inception, online marketplaces have fundamentally shifted how consumers shop. With a near limitless number of products and services available online, it has never been required important for a consumer to walk into a brick-and-mortar store to make a purchase. However, identifying which products or services are high-quality has become increasingly difficult. The popularity of the 5-star rating scale has led to a number of well-documented challenges. [Harvard Business Review](https://hbr.org/2019/07/the-problems-with-5-star-rating-systems-and-how-to-fix-them) summed these challenges up nicely as follows:\n",
    "\n",
    "- There is little incentive for consumers to provide truthful feedback, meaning that extreme experiences (whether positive or negative) are much more likely to lead a consumer to leave a review.\n",
    "- Compounding the lack of incentive for truth, 5-star rating scales are prone to grade inflation. There is no correlation between the star-rating and the sentiment the user expresses in a review. It's possible (and surprisingly common) for a user to hate a product, excorriate it in a review, and then rate it 5-stars. This leads to inflated ratings, and makes it harder for the consumer to understand the variation in rating between products.\n",
    "\n",
    "My tool is intended to help address rating inflation by classifying user feedback as positive or negative based on its content. I also prioritized ease-of-implementation by limiting model size and complexity wherever possible. I want this tool to be accessible to sellers without significant compute resources, so it needs to function well on a large dataset AND be runnable on a single machine. I used natural language processing for this project, AND IMPLEMENTED A TOOL CAPABLE OF INGESTING USER REVIEWS FROM XXXX \n",
    "\n",
    "Amazon is the largest online marketplace currently in existence, and its challenges with rating inflation are well-documented. My tool could be useful to help reclassify ratings based on their sentiment for Amazon itself. It is also useful for sellers that want to move away from Amazon or implement their own storefront. By implementing my algorithm in a newly-created storefront, sellers can quickly classify consumer feedback and derive a more accurate understanding of how their products or services are being received.\n",
    "\n",
    "\n",
    "\n"
   ]
  },
  {
   "cell_type": "markdown",
   "metadata": {},
   "source": [
    "## Data Preparation\n",
    "\n"
   ]
  },
  {
   "cell_type": "code",
   "execution_count": 34,
   "metadata": {},
   "outputs": [],
   "source": [
    "# Package Imports\n",
    "import pandas as pd\n",
    "import numpy as np\n",
    "import pickle\n",
    "\n",
    "from sklearn.compose import ColumnTransformer\n",
    "from sklearn.dummy import DummyClassifier\n",
    "from sklearn.feature_extraction.text import TfidfVectorizer\n",
    "from sklearn.metrics import plot_confusion_matrix, confusion_matrix, make_scorer, recall_score, accuracy_score, precision_score, f1_score, classification_report\n",
    "from sklearn.naive_bayes import MultinomialNB\n",
    "from sklearn.model_selection import train_test_split, ParameterGrid, GridSearchCV, cross_validate, cross_val_score\n",
    "from sklearn.ensemble import RandomForestClassifier, GradientBoostingClassifier\n",
    "from sklearn.linear_model import SGDClassifier\n",
    "\n",
    "from imblearn.pipeline import Pipeline as ImPipeline\n",
    "\n",
    "import warnings\n",
    "warnings.filterwarnings('ignore')"
   ]
  },
  {
   "cell_type": "markdown",
   "metadata": {},
   "source": []
  },
  {
   "cell_type": "code",
   "execution_count": 4,
   "metadata": {},
   "outputs": [],
   "source": [
    "# Read in the data\n",
    "df = pd.read_csv('../data/train_cleaned_10sw.csv', index_col=0)"
   ]
  },
  {
   "cell_type": "code",
   "execution_count": 5,
   "metadata": {},
   "outputs": [
    {
     "data": {
      "text/html": [
       "<div>\n",
       "<style scoped>\n",
       "    .dataframe tbody tr th:only-of-type {\n",
       "        vertical-align: middle;\n",
       "    }\n",
       "\n",
       "    .dataframe tbody tr th {\n",
       "        vertical-align: top;\n",
       "    }\n",
       "\n",
       "    .dataframe thead th {\n",
       "        text-align: right;\n",
       "    }\n",
       "</style>\n",
       "<table border=\"1\" class=\"dataframe\">\n",
       "  <thead>\n",
       "    <tr style=\"text-align: right;\">\n",
       "      <th></th>\n",
       "      <th>sentiment</th>\n",
       "      <th>text</th>\n",
       "      <th>text_cleaned</th>\n",
       "      <th>toks</th>\n",
       "      <th>bigrams</th>\n",
       "      <th>trigrams</th>\n",
       "    </tr>\n",
       "  </thead>\n",
       "  <tbody>\n",
       "    <tr>\n",
       "      <th>0</th>\n",
       "      <td>2</td>\n",
       "      <td>This sound track was beautiful! It paints the ...</td>\n",
       "      <td>sound track beautiful paint senery mind well w...</td>\n",
       "      <td>['sound', 'track', 'beautiful', 'paint', 'sene...</td>\n",
       "      <td>[('sound', 'track'), ('track', 'beautiful'), (...</td>\n",
       "      <td>[('sound', 'track', 'beautiful'), ('track', 'b...</td>\n",
       "    </tr>\n",
       "    <tr>\n",
       "      <th>1</th>\n",
       "      <td>2</td>\n",
       "      <td>I'm reading a lot of reviews saying that this ...</td>\n",
       "      <td>i'm reading lot review say best game soundtrac...</td>\n",
       "      <td>[\"i'm\", 'reading', 'lot', 'review', 'say', 'be...</td>\n",
       "      <td>[(\"i'm\", 'reading'), ('reading', 'lot'), ('lot...</td>\n",
       "      <td>[(\"i'm\", 'reading', 'lot'), ('reading', 'lot',...</td>\n",
       "    </tr>\n",
       "    <tr>\n",
       "      <th>2</th>\n",
       "      <td>2</td>\n",
       "      <td>This soundtrack is my favorite music of all ti...</td>\n",
       "      <td>soundtrack favorite music time hand intense sa...</td>\n",
       "      <td>['soundtrack', 'favorite', 'music', 'time', 'h...</td>\n",
       "      <td>[('soundtrack', 'favorite'), ('favorite', 'mus...</td>\n",
       "      <td>[('soundtrack', 'favorite', 'music'), ('favori...</td>\n",
       "    </tr>\n",
       "    <tr>\n",
       "      <th>3</th>\n",
       "      <td>2</td>\n",
       "      <td>I truly like this soundtrack and I enjoy video...</td>\n",
       "      <td>truly soundtrack enjoy video game music play g...</td>\n",
       "      <td>['truly', 'soundtrack', 'enjoy', 'video', 'gam...</td>\n",
       "      <td>[('truly', 'soundtrack'), ('soundtrack', 'enjo...</td>\n",
       "      <td>[('truly', 'soundtrack', 'enjoy'), ('soundtrac...</td>\n",
       "    </tr>\n",
       "    <tr>\n",
       "      <th>4</th>\n",
       "      <td>2</td>\n",
       "      <td>If you've played the game, you know how divine...</td>\n",
       "      <td>played game know divine music every single son...</td>\n",
       "      <td>['played', 'game', 'know', 'divine', 'music', ...</td>\n",
       "      <td>[('played', 'game'), ('game', 'know'), ('know'...</td>\n",
       "      <td>[('played', 'game', 'know'), ('game', 'know', ...</td>\n",
       "    </tr>\n",
       "  </tbody>\n",
       "</table>\n",
       "</div>"
      ],
      "text/plain": [
       "   sentiment                                               text  \\\n",
       "0          2  This sound track was beautiful! It paints the ...   \n",
       "1          2  I'm reading a lot of reviews saying that this ...   \n",
       "2          2  This soundtrack is my favorite music of all ti...   \n",
       "3          2  I truly like this soundtrack and I enjoy video...   \n",
       "4          2  If you've played the game, you know how divine...   \n",
       "\n",
       "                                        text_cleaned  \\\n",
       "0  sound track beautiful paint senery mind well w...   \n",
       "1  i'm reading lot review say best game soundtrac...   \n",
       "2  soundtrack favorite music time hand intense sa...   \n",
       "3  truly soundtrack enjoy video game music play g...   \n",
       "4  played game know divine music every single son...   \n",
       "\n",
       "                                                toks  \\\n",
       "0  ['sound', 'track', 'beautiful', 'paint', 'sene...   \n",
       "1  [\"i'm\", 'reading', 'lot', 'review', 'say', 'be...   \n",
       "2  ['soundtrack', 'favorite', 'music', 'time', 'h...   \n",
       "3  ['truly', 'soundtrack', 'enjoy', 'video', 'gam...   \n",
       "4  ['played', 'game', 'know', 'divine', 'music', ...   \n",
       "\n",
       "                                             bigrams  \\\n",
       "0  [('sound', 'track'), ('track', 'beautiful'), (...   \n",
       "1  [(\"i'm\", 'reading'), ('reading', 'lot'), ('lot...   \n",
       "2  [('soundtrack', 'favorite'), ('favorite', 'mus...   \n",
       "3  [('truly', 'soundtrack'), ('soundtrack', 'enjo...   \n",
       "4  [('played', 'game'), ('game', 'know'), ('know'...   \n",
       "\n",
       "                                            trigrams  \n",
       "0  [('sound', 'track', 'beautiful'), ('track', 'b...  \n",
       "1  [(\"i'm\", 'reading', 'lot'), ('reading', 'lot',...  \n",
       "2  [('soundtrack', 'favorite', 'music'), ('favori...  \n",
       "3  [('truly', 'soundtrack', 'enjoy'), ('soundtrac...  \n",
       "4  [('played', 'game', 'know'), ('game', 'know', ...  "
      ]
     },
     "execution_count": 5,
     "metadata": {},
     "output_type": "execute_result"
    }
   ],
   "source": [
    "df.head()"
   ]
  },
  {
   "cell_type": "code",
   "execution_count": 6,
   "metadata": {},
   "outputs": [
    {
     "name": "stdout",
     "output_type": "stream",
     "text": [
      "<class 'pandas.core.frame.DataFrame'>\n",
      "Int64Index: 3600000 entries, 0 to 3599999\n",
      "Data columns (total 6 columns):\n",
      " #   Column        Dtype \n",
      "---  ------        ----- \n",
      " 0   sentiment     int64 \n",
      " 1   text          object\n",
      " 2   text_cleaned  object\n",
      " 3   toks          object\n",
      " 4   bigrams       object\n",
      " 5   trigrams      object\n",
      "dtypes: int64(1), object(5)\n",
      "memory usage: 192.3+ MB\n"
     ]
    }
   ],
   "source": [
    "df.info()"
   ]
  },
  {
   "cell_type": "code",
   "execution_count": 7,
   "metadata": {},
   "outputs": [
    {
     "data": {
      "text/plain": [
       "2    1800000\n",
       "1    1800000\n",
       "Name: sentiment, dtype: int64"
      ]
     },
     "execution_count": 7,
     "metadata": {},
     "output_type": "execute_result"
    }
   ],
   "source": [
    "df['sentiment'].value_counts()"
   ]
  },
  {
   "cell_type": "code",
   "execution_count": 8,
   "metadata": {},
   "outputs": [],
   "source": [
    "max_features = None"
   ]
  },
  {
   "cell_type": "code",
   "execution_count": 9,
   "metadata": {},
   "outputs": [
    {
     "name": "stdout",
     "output_type": "stream",
     "text": [
      "sentiment        0\n",
      "text             0\n",
      "text_cleaned    23\n",
      "toks             0\n",
      "bigrams          0\n",
      "trigrams         0\n",
      "dtype: int64\n"
     ]
    },
    {
     "data": {
      "text/html": [
       "<div>\n",
       "<style scoped>\n",
       "    .dataframe tbody tr th:only-of-type {\n",
       "        vertical-align: middle;\n",
       "    }\n",
       "\n",
       "    .dataframe tbody tr th {\n",
       "        vertical-align: top;\n",
       "    }\n",
       "\n",
       "    .dataframe thead th {\n",
       "        text-align: right;\n",
       "    }\n",
       "</style>\n",
       "<table border=\"1\" class=\"dataframe\">\n",
       "  <thead>\n",
       "    <tr style=\"text-align: right;\">\n",
       "      <th></th>\n",
       "      <th>sentiment</th>\n",
       "      <th>text</th>\n",
       "      <th>text_cleaned</th>\n",
       "      <th>toks</th>\n",
       "      <th>bigrams</th>\n",
       "      <th>trigrams</th>\n",
       "    </tr>\n",
       "  </thead>\n",
       "  <tbody>\n",
       "    <tr>\n",
       "      <th>217919</th>\n",
       "      <td>2</td>\n",
       "      <td>ò ñàìà ì áèìà ñí è íí ñàìé áèìé äèñ . ß ìíäó ñ...</td>\n",
       "      <td>NaN</td>\n",
       "      <td>[]</td>\n",
       "      <td>[]</td>\n",
       "      <td>[]</td>\n",
       "    </tr>\n",
       "    <tr>\n",
       "      <th>294435</th>\n",
       "      <td>2</td>\n",
       "      <td>............ ..... ..... ...... ...... ..........</td>\n",
       "      <td>NaN</td>\n",
       "      <td>[]</td>\n",
       "      <td>[]</td>\n",
       "      <td>[]</td>\n",
       "    </tr>\n",
       "    <tr>\n",
       "      <th>556297</th>\n",
       "      <td>2</td>\n",
       "      <td>it's very good ... .... ... ... ... ... ... .....</td>\n",
       "      <td>NaN</td>\n",
       "      <td>[]</td>\n",
       "      <td>[]</td>\n",
       "      <td>[]</td>\n",
       "    </tr>\n",
       "    <tr>\n",
       "      <th>629878</th>\n",
       "      <td>1</td>\n",
       "      <td>...............................</td>\n",
       "      <td>NaN</td>\n",
       "      <td>[]</td>\n",
       "      <td>[]</td>\n",
       "      <td>[]</td>\n",
       "    </tr>\n",
       "    <tr>\n",
       "      <th>680354</th>\n",
       "      <td>2</td>\n",
       "      <td>ò äèí è ñàì ìè áèì ìèò. à ò ññèè èàò ìà èäàò ä...</td>\n",
       "      <td>NaN</td>\n",
       "      <td>[]</td>\n",
       "      <td>[]</td>\n",
       "      <td>[]</td>\n",
       "    </tr>\n",
       "    <tr>\n",
       "      <th>1440939</th>\n",
       "      <td>1</td>\n",
       "      <td>|||||||||||||||||||| |||||||||| ||||||||||||||...</td>\n",
       "      <td>NaN</td>\n",
       "      <td>[]</td>\n",
       "      <td>[]</td>\n",
       "      <td>[]</td>\n",
       "    </tr>\n",
       "    <tr>\n",
       "      <th>1786231</th>\n",
       "      <td>2</td>\n",
       "      <td>38493 34740 47383 37054 48624 78568? 18581 286...</td>\n",
       "      <td>NaN</td>\n",
       "      <td>[]</td>\n",
       "      <td>[]</td>\n",
       "      <td>[]</td>\n",
       "    </tr>\n",
       "    <tr>\n",
       "      <th>1989004</th>\n",
       "      <td>2</td>\n",
       "      <td>&amp;#4315;&amp;#4304;&amp;#4306;&amp;#4304;&amp;#4320;&amp;#4312;&amp;#43...</td>\n",
       "      <td>NaN</td>\n",
       "      <td>[]</td>\n",
       "      <td>[]</td>\n",
       "      <td>[]</td>\n",
       "    </tr>\n",
       "    <tr>\n",
       "      <th>2005370</th>\n",
       "      <td>1</td>\n",
       "      <td>&amp;#1575;&amp;#1606;&amp;#1578;&amp;#1605; &amp;#1594;&amp;#1610;&amp;#1...</td>\n",
       "      <td>NaN</td>\n",
       "      <td>[]</td>\n",
       "      <td>[]</td>\n",
       "      <td>[]</td>\n",
       "    </tr>\n",
       "    <tr>\n",
       "      <th>2071299</th>\n",
       "      <td>2</td>\n",
       "      <td>&amp;#1042;&amp;#1089;&amp;#1077; &amp;#1087;&amp;#1088;&amp;#1080;&amp;#1...</td>\n",
       "      <td>NaN</td>\n",
       "      <td>[]</td>\n",
       "      <td>[]</td>\n",
       "      <td>[]</td>\n",
       "    </tr>\n",
       "    <tr>\n",
       "      <th>2220519</th>\n",
       "      <td>2</td>\n",
       "      <td>!!!!! ! 1 !!!!!!!!!! 234 !!!!!!!! 2 !! 34 !!!!...</td>\n",
       "      <td>NaN</td>\n",
       "      <td>[]</td>\n",
       "      <td>[]</td>\n",
       "      <td>[]</td>\n",
       "    </tr>\n",
       "    <tr>\n",
       "      <th>2282778</th>\n",
       "      <td>2</td>\n",
       "      <td>'''' ''' '''''' '''''' '''''' ''''' '''' '''''...</td>\n",
       "      <td>NaN</td>\n",
       "      <td>[]</td>\n",
       "      <td>[]</td>\n",
       "      <td>[]</td>\n",
       "    </tr>\n",
       "    <tr>\n",
       "      <th>2330988</th>\n",
       "      <td>1</td>\n",
       "      <td>&amp;#12479;&amp;#12483;&amp;#12503; &amp;#12398; &amp;#20869;&amp;#20...</td>\n",
       "      <td>NaN</td>\n",
       "      <td>[]</td>\n",
       "      <td>[]</td>\n",
       "      <td>[]</td>\n",
       "    </tr>\n",
       "    <tr>\n",
       "      <th>2357286</th>\n",
       "      <td>2</td>\n",
       "      <td>&amp;#1579;&amp;#1604;&amp;#1575;&amp;#1579;&amp;#1577; &amp;#1602;&amp;#1...</td>\n",
       "      <td>NaN</td>\n",
       "      <td>[]</td>\n",
       "      <td>[]</td>\n",
       "      <td>[]</td>\n",
       "    </tr>\n",
       "    <tr>\n",
       "      <th>2375843</th>\n",
       "      <td>2</td>\n",
       "      <td>&amp;#47784;&amp;#46160; &amp;#45208;&amp;#47924;&amp;#47196; &amp;#46...</td>\n",
       "      <td>NaN</td>\n",
       "      <td>[]</td>\n",
       "      <td>[]</td>\n",
       "      <td>[]</td>\n",
       "    </tr>\n",
       "    <tr>\n",
       "      <th>2490037</th>\n",
       "      <td>1</td>\n",
       "      <td>&amp;#51060;&amp;#44148; &amp;#53944;&amp;#47000;&amp;#53433;&amp;#453...</td>\n",
       "      <td>NaN</td>\n",
       "      <td>[]</td>\n",
       "      <td>[]</td>\n",
       "      <td>[]</td>\n",
       "    </tr>\n",
       "    <tr>\n",
       "      <th>2604873</th>\n",
       "      <td>1</td>\n",
       "      <td>........ ...... .. . .... ... ...... ..... ......</td>\n",
       "      <td>NaN</td>\n",
       "      <td>[]</td>\n",
       "      <td>[]</td>\n",
       "      <td>[]</td>\n",
       "    </tr>\n",
       "    <tr>\n",
       "      <th>2618232</th>\n",
       "      <td>2</td>\n",
       "      <td>'''''''''' ''''', ''''' ''''''''''', '''''''''...</td>\n",
       "      <td>NaN</td>\n",
       "      <td>[]</td>\n",
       "      <td>[]</td>\n",
       "      <td>[]</td>\n",
       "    </tr>\n",
       "    <tr>\n",
       "      <th>2751281</th>\n",
       "      <td>2</td>\n",
       "      <td>À ÀÌ ÖÈÄÀ À ÖíÀ óÀ ÖíÀ ¡ 3¿¡ 5ÀÌ Ü¿ì Ñ''Ù ¿¡' ...</td>\n",
       "      <td>NaN</td>\n",
       "      <td>[]</td>\n",
       "      <td>[]</td>\n",
       "      <td>[]</td>\n",
       "    </tr>\n",
       "    <tr>\n",
       "      <th>2798192</th>\n",
       "      <td>2</td>\n",
       "      <td>Very Good!</td>\n",
       "      <td>NaN</td>\n",
       "      <td>[]</td>\n",
       "      <td>[]</td>\n",
       "      <td>[]</td>\n",
       "    </tr>\n",
       "    <tr>\n",
       "      <th>3392964</th>\n",
       "      <td>2</td>\n",
       "      <td>Good</td>\n",
       "      <td>NaN</td>\n",
       "      <td>[]</td>\n",
       "      <td>[]</td>\n",
       "      <td>[]</td>\n",
       "    </tr>\n",
       "    <tr>\n",
       "      <th>3545242</th>\n",
       "      <td>2</td>\n",
       "      <td>Good book. This is a very very very very very ...</td>\n",
       "      <td>NaN</td>\n",
       "      <td>[]</td>\n",
       "      <td>[]</td>\n",
       "      <td>[]</td>\n",
       "    </tr>\n",
       "    <tr>\n",
       "      <th>3584048</th>\n",
       "      <td>1</td>\n",
       "      <td>' ' '''' '''' '' '' ''' '''''? '' '' ' '' ''' ...</td>\n",
       "      <td>NaN</td>\n",
       "      <td>[]</td>\n",
       "      <td>[]</td>\n",
       "      <td>[]</td>\n",
       "    </tr>\n",
       "  </tbody>\n",
       "</table>\n",
       "</div>"
      ],
      "text/plain": [
       "         sentiment                                               text  \\\n",
       "217919           2  ò ñàìà ì áèìà ñí è íí ñàìé áèìé äèñ . ß ìíäó ñ...   \n",
       "294435           2  ............ ..... ..... ...... ...... ..........   \n",
       "556297           2  it's very good ... .... ... ... ... ... ... .....   \n",
       "629878           1                    ...............................   \n",
       "680354           2  ò äèí è ñàì ìè áèì ìèò. à ò ññèè èàò ìà èäàò ä...   \n",
       "1440939          1  |||||||||||||||||||| |||||||||| ||||||||||||||...   \n",
       "1786231          2  38493 34740 47383 37054 48624 78568? 18581 286...   \n",
       "1989004          2  &#4315;&#4304;&#4306;&#4304;&#4320;&#4312;&#43...   \n",
       "2005370          1  &#1575;&#1606;&#1578;&#1605; &#1594;&#1610;&#1...   \n",
       "2071299          2  &#1042;&#1089;&#1077; &#1087;&#1088;&#1080;&#1...   \n",
       "2220519          2  !!!!! ! 1 !!!!!!!!!! 234 !!!!!!!! 2 !! 34 !!!!...   \n",
       "2282778          2  '''' ''' '''''' '''''' '''''' ''''' '''' '''''...   \n",
       "2330988          1  &#12479;&#12483;&#12503; &#12398; &#20869;&#20...   \n",
       "2357286          2  &#1579;&#1604;&#1575;&#1579;&#1577; &#1602;&#1...   \n",
       "2375843          2  &#47784;&#46160; &#45208;&#47924;&#47196; &#46...   \n",
       "2490037          1  &#51060;&#44148; &#53944;&#47000;&#53433;&#453...   \n",
       "2604873          1  ........ ...... .. . .... ... ...... ..... ......   \n",
       "2618232          2  '''''''''' ''''', ''''' ''''''''''', '''''''''...   \n",
       "2751281          2  À ÀÌ ÖÈÄÀ À ÖíÀ óÀ ÖíÀ ¡ 3¿¡ 5ÀÌ Ü¿ì Ñ''Ù ¿¡' ...   \n",
       "2798192          2                                         Very Good!   \n",
       "3392964          2                                               Good   \n",
       "3545242          2  Good book. This is a very very very very very ...   \n",
       "3584048          1  ' ' '''' '''' '' '' ''' '''''? '' '' ' '' ''' ...   \n",
       "\n",
       "        text_cleaned toks bigrams trigrams  \n",
       "217919           NaN   []      []       []  \n",
       "294435           NaN   []      []       []  \n",
       "556297           NaN   []      []       []  \n",
       "629878           NaN   []      []       []  \n",
       "680354           NaN   []      []       []  \n",
       "1440939          NaN   []      []       []  \n",
       "1786231          NaN   []      []       []  \n",
       "1989004          NaN   []      []       []  \n",
       "2005370          NaN   []      []       []  \n",
       "2071299          NaN   []      []       []  \n",
       "2220519          NaN   []      []       []  \n",
       "2282778          NaN   []      []       []  \n",
       "2330988          NaN   []      []       []  \n",
       "2357286          NaN   []      []       []  \n",
       "2375843          NaN   []      []       []  \n",
       "2490037          NaN   []      []       []  \n",
       "2604873          NaN   []      []       []  \n",
       "2618232          NaN   []      []       []  \n",
       "2751281          NaN   []      []       []  \n",
       "2798192          NaN   []      []       []  \n",
       "3392964          NaN   []      []       []  \n",
       "3545242          NaN   []      []       []  \n",
       "3584048          NaN   []      []       []  "
      ]
     },
     "execution_count": 9,
     "metadata": {},
     "output_type": "execute_result"
    }
   ],
   "source": [
    "print(df.isna().sum())\n",
    "df[df['text_cleaned'].isna()]"
   ]
  },
  {
   "cell_type": "code",
   "execution_count": 10,
   "metadata": {},
   "outputs": [],
   "source": [
    "# Drop rows with missing text_cleaned values\n",
    "df.dropna(inplace=True)"
   ]
  },
  {
   "cell_type": "code",
   "execution_count": 11,
   "metadata": {},
   "outputs": [],
   "source": [
    "# Save off feature combinations for use in model iteration\n",
    "X = df['text_cleaned']\n",
    "\n",
    "X_bigrams = df[['text_cleaned', 'bigrams']]\n",
    "X_trigrams = df[['text_cleaned', 'trigrams']]\n",
    "X_allgrams = df[['text_cleaned', 'bigrams', 'trigrams']]\n",
    "\n",
    "y = df['sentiment']"
   ]
  },
  {
   "cell_type": "markdown",
   "metadata": {},
   "source": [
    "# Modeling\n",
    "I utilized a number of sklearn's modeling techniques for the project, and performed grid searches to optimize the hyperparameters of the best-performing model. As noted in the data-preparation description, I experimented with the inclusion of bi-grams and tri-grams created from user input during the modeling process as well. Ultimately..."
   ]
  },
  {
   "cell_type": "markdown",
   "metadata": {},
   "source": [
    "### Dummy Classifier\n",
    "To begin modelling efforts, I built a dummy classifier that simply guesses the most common class every time. Given that our training data is almost (but not perfectly) balanced, we should expect it to predict that every review is negative since there are slightly more negative reviews than positive reviews. If we can't beat a 50-50 guess with a dataset this large, something is horribly wrong. Predictably, the dummy classifier achieved an accuracy score of almost exactly 50%."
   ]
  },
  {
   "cell_type": "code",
   "execution_count": 12,
   "metadata": {},
   "outputs": [],
   "source": [
    "# Instantiate Dummy Classifier pipeline\n",
    "dummy_pipe = ImPipeline(steps=[\n",
    "                                ('vect', TfidfVectorizer(max_features=max_features)),\n",
    "                                ('cf', DummyClassifier(strategy='most_frequent',\n",
    "                                                           random_state=42))\n",
    "                              ]\n",
    ")"
   ]
  },
  {
   "cell_type": "code",
   "execution_count": 16,
   "metadata": {},
   "outputs": [
    {
     "name": "stdout",
     "output_type": "stream",
     "text": [
      "0.5000012500079861\n"
     ]
    },
    {
     "data": {
      "image/png": "[encoded data removed]",
      "text/plain": [
       "<Figure size 432x288 with 2 Axes>"
      ]
     },
     "metadata": {
      "needs_background": "light"
     },
     "output_type": "display_data"
    }
   ],
   "source": [
    "# Fit dummy pipe on the training data and plot confusion matrix\n",
    "dummy_pipe.fit(X, y)\n",
    "dummy_yhat = dummy_pipe.predict(X)\n",
    "plot_confusion_matrix(dummy_pipe, X, y, normalize='true');\n",
    "print(accuracy_score(y, dummy_yhat))"
   ]
  },
  {
   "cell_type": "markdown",
   "metadata": {},
   "source": [
    "### Logistic Regression"
   ]
  },
  {
   "cell_type": "markdown",
   "metadata": {},
   "source": [
    "### Multinomial Naive Bayes\n",
    "MNB is a commonly-used algorithm for natural language processing due to effectiveness in classifying topics while maintaining a low training time and relative simplicity. It predicts the probability that a given document belongs to a particular class based on the words it contains. I employed a multinomial naive bayes classifier as my first simple model for these reasons. "
   ]
  },
  {
   "cell_type": "code",
   "execution_count": 18,
   "metadata": {
    "scrolled": true
   },
   "outputs": [
    {
     "name": "stdout",
     "output_type": "stream",
     "text": [
      "0.8284569595861306\n"
     ]
    },
    {
     "data": {
      "image/png": "[encoded data removed]",
      "text/plain": [
       "<Figure size 432x288 with 2 Axes>"
      ]
     },
     "metadata": {
      "needs_background": "light"
     },
     "output_type": "display_data"
    }
   ],
   "source": [
    "# Instantiate the Multinomial Naieve Bayes Pipeline\n",
    "mnb_pipe = ImPipeline(steps=[\n",
    "                            ('vect', TfidfVectorizer(max_features=max_features)),\n",
    "                            ('cf', MultinomialNB())\n",
    "                            ]\n",
    ")\n",
    "\n",
    "# Fit MNB pipe on the training data, get predictions and plot confusion matrix\n",
    "mnb_pipe.fit(X, y)\n",
    "mnb_yhat = mnb_pipe.predict(X)\n",
    "plot_confusion_matrix(mnb_pipe, X, y, normalize='true');\n",
    "print(accuracy_score(y, mnb_yhat))"
   ]
  },
  {
   "cell_type": "code",
   "execution_count": 20,
   "metadata": {},
   "outputs": [
    {
     "data": {
      "text/plain": [
       "{'fit_time': array([63.91176295, 64.27754903, 63.07658076, 62.96271181, 63.14784789]),\n",
       " 'score_time': array([14.80177712, 14.56706309, 14.5999763 , 14.49988723, 14.33135796]),\n",
       " 'test_score': array([0.81850038, 0.81476842, 0.81272648, 0.81008618, 0.81112924])}"
      ]
     },
     "execution_count": 20,
     "metadata": {},
     "output_type": "execute_result"
    }
   ],
   "source": [
    "# Obtained cross-validated accuracy score\n",
    "cross_validate(mnb_pipe, X, y)"
   ]
  },
  {
   "cell_type": "markdown",
   "metadata": {},
   "source": [
    "- 'fit_time': 63.91176295, 64.27754903, 63.07658076, 62.96271181, 63.14784789\n",
    "- 'score_time': 14.80177712, 14.56706309, 14.5999763 , 14.49988723, 14.33135796\n",
    "- 'test_score': 0.81850038, 0.81476842, 0.81272648, 0.81008618, 0.81112924"
   ]
  },
  {
   "cell_type": "markdown",
   "metadata": {},
   "source": [
    "#### Using N-grams as Features\n",
    "To see if I could improve on the model's performance over using single words, I tried giving it bi-grams and tri-grams as additional features. Ultimately XXXX"
   ]
  },
  {
   "cell_type": "code",
   "execution_count": 40,
   "metadata": {
    "scrolled": false
   },
   "outputs": [
    {
     "name": "stdout",
     "output_type": "stream",
     "text": [
      "0.8266186145078149\n"
     ]
    },
    {
     "data": {
      "image/png": "[encoded data removed]",
      "text/plain": [
       "<Figure size 432x288 with 2 Axes>"
      ]
     },
     "metadata": {
      "needs_background": "light"
     },
     "output_type": "display_data"
    }
   ],
   "source": [
    "# Instantiate the MNB Pipeline with cleaned text and bi-grams\n",
    "mnb_bigrams_pipe = ImPipeline(steps=[\n",
    "            ('CT', ColumnTransformer([(x, TfidfVectorizer(), x) for x in ['text_cleaned',\n",
    "                                                                          'bigrams']\n",
    "                                     ])),\n",
    "            ('cf', MultinomialNB())\n",
    "]\n",
    ")\n",
    "\n",
    "# Fit MNB pipe on the cleaned text and bi-grams, get predictions, plot confusion matrix\n",
    "mnb_bigrams_pipe.fit(X_bigrams, y)\n",
    "mnb_bigrams_yhat = mnb_bigrams_pipe.predict(X_bigrams)\n",
    "plot_confusion_matrix(mnb_bigrams_pipe, X_bigrams, y, normalize='true');\n",
    "print(accuracy_score(y, mnb_bigrams_yhat))"
   ]
  },
  {
   "cell_type": "code",
   "execution_count": 50,
   "metadata": {},
   "outputs": [
    {
     "ename": "ValueError",
     "evalue": "Found input variables with inconsistent numbers of samples: [2, 3599977]",
     "output_type": "error",
     "traceback": [
      "\u001b[0;31m---------------------------------------------------------------------------\u001b[0m",
      "\u001b[0;31mValueError\u001b[0m                                Traceback (most recent call last)",
      "Input \u001b[0;32mIn [50]\u001b[0m, in \u001b[0;36m<cell line: 9>\u001b[0;34m()\u001b[0m\n\u001b[1;32m      2\u001b[0m mnb_test_pipe \u001b[38;5;241m=\u001b[39m ImPipeline(steps\u001b[38;5;241m=\u001b[39m[\n\u001b[1;32m      3\u001b[0m                             (\u001b[38;5;124m'\u001b[39m\u001b[38;5;124mvect\u001b[39m\u001b[38;5;124m'\u001b[39m, TfidfVectorizer()),\n\u001b[1;32m      4\u001b[0m                             (\u001b[38;5;124m'\u001b[39m\u001b[38;5;124mcf\u001b[39m\u001b[38;5;124m'\u001b[39m, MultinomialNB())\n\u001b[1;32m      5\u001b[0m                             ]\n\u001b[1;32m      6\u001b[0m )\n\u001b[1;32m      8\u001b[0m \u001b[38;5;66;03m# Fit MNB pipe on the training data, get predictions and plot confusion matrix\u001b[39;00m\n\u001b[0;32m----> 9\u001b[0m \u001b[43mmnb_test_pipe\u001b[49m\u001b[38;5;241;43m.\u001b[39;49m\u001b[43mfit\u001b[49m\u001b[43m(\u001b[49m\u001b[43mX_bigrams\u001b[49m\u001b[43m,\u001b[49m\u001b[43m \u001b[49m\u001b[43my\u001b[49m\u001b[43m)\u001b[49m\n\u001b[1;32m     10\u001b[0m mnb_test_yhat \u001b[38;5;241m=\u001b[39m mnb_test_pipe\u001b[38;5;241m.\u001b[39mpredict(X_bigrams)\n\u001b[1;32m     11\u001b[0m plot_confusion_matrix(mnb_test_pipe, X_bigrams, y, normalize\u001b[38;5;241m=\u001b[39m\u001b[38;5;124m'\u001b[39m\u001b[38;5;124mtrue\u001b[39m\u001b[38;5;124m'\u001b[39m);\n",
      "File \u001b[0;32m~/opt/anaconda3/envs/spark-cap-env/lib/python3.8/site-packages/imblearn/pipeline.py:281\u001b[0m, in \u001b[0;36mPipeline.fit\u001b[0;34m(self, X, y, **fit_params)\u001b[0m\n\u001b[1;32m    278\u001b[0m \u001b[38;5;28;01mwith\u001b[39;00m _print_elapsed_time(\u001b[38;5;124m'\u001b[39m\u001b[38;5;124mPipeline\u001b[39m\u001b[38;5;124m'\u001b[39m,\n\u001b[1;32m    279\u001b[0m                          \u001b[38;5;28mself\u001b[39m\u001b[38;5;241m.\u001b[39m_log_message(\u001b[38;5;28mlen\u001b[39m(\u001b[38;5;28mself\u001b[39m\u001b[38;5;241m.\u001b[39msteps) \u001b[38;5;241m-\u001b[39m \u001b[38;5;241m1\u001b[39m)):\n\u001b[1;32m    280\u001b[0m     \u001b[38;5;28;01mif\u001b[39;00m \u001b[38;5;28mself\u001b[39m\u001b[38;5;241m.\u001b[39m_final_estimator \u001b[38;5;241m!=\u001b[39m \u001b[38;5;124m\"\u001b[39m\u001b[38;5;124mpassthrough\u001b[39m\u001b[38;5;124m\"\u001b[39m:\n\u001b[0;32m--> 281\u001b[0m         \u001b[38;5;28;43mself\u001b[39;49m\u001b[38;5;241;43m.\u001b[39;49m\u001b[43m_final_estimator\u001b[49m\u001b[38;5;241;43m.\u001b[39;49m\u001b[43mfit\u001b[49m\u001b[43m(\u001b[49m\u001b[43mXt\u001b[49m\u001b[43m,\u001b[49m\u001b[43m \u001b[49m\u001b[43myt\u001b[49m\u001b[43m,\u001b[49m\u001b[43m \u001b[49m\u001b[38;5;241;43m*\u001b[39;49m\u001b[38;5;241;43m*\u001b[39;49m\u001b[43mfit_params\u001b[49m\u001b[43m)\u001b[49m\n\u001b[1;32m    282\u001b[0m \u001b[38;5;28;01mreturn\u001b[39;00m \u001b[38;5;28mself\u001b[39m\n",
      "File \u001b[0;32m~/opt/anaconda3/envs/spark-cap-env/lib/python3.8/site-packages/sklearn/naive_bayes.py:663\u001b[0m, in \u001b[0;36m_BaseDiscreteNB.fit\u001b[0;34m(self, X, y, sample_weight)\u001b[0m\n\u001b[1;32m    643\u001b[0m \u001b[38;5;28;01mdef\u001b[39;00m \u001b[38;5;21mfit\u001b[39m(\u001b[38;5;28mself\u001b[39m, X, y, sample_weight\u001b[38;5;241m=\u001b[39m\u001b[38;5;28;01mNone\u001b[39;00m):\n\u001b[1;32m    644\u001b[0m     \u001b[38;5;124;03m\"\"\"Fit Naive Bayes classifier according to X, y.\u001b[39;00m\n\u001b[1;32m    645\u001b[0m \n\u001b[1;32m    646\u001b[0m \u001b[38;5;124;03m    Parameters\u001b[39;00m\n\u001b[0;32m   (...)\u001b[0m\n\u001b[1;32m    661\u001b[0m \u001b[38;5;124;03m        Returns the instance itself.\u001b[39;00m\n\u001b[1;32m    662\u001b[0m \u001b[38;5;124;03m    \"\"\"\u001b[39;00m\n\u001b[0;32m--> 663\u001b[0m     X, y \u001b[38;5;241m=\u001b[39m \u001b[38;5;28;43mself\u001b[39;49m\u001b[38;5;241;43m.\u001b[39;49m\u001b[43m_check_X_y\u001b[49m\u001b[43m(\u001b[49m\u001b[43mX\u001b[49m\u001b[43m,\u001b[49m\u001b[43m \u001b[49m\u001b[43my\u001b[49m\u001b[43m)\u001b[49m\n\u001b[1;32m    664\u001b[0m     _, n_features \u001b[38;5;241m=\u001b[39m X\u001b[38;5;241m.\u001b[39mshape\n\u001b[1;32m    666\u001b[0m     labelbin \u001b[38;5;241m=\u001b[39m LabelBinarizer()\n",
      "File \u001b[0;32m~/opt/anaconda3/envs/spark-cap-env/lib/python3.8/site-packages/sklearn/naive_bayes.py:523\u001b[0m, in \u001b[0;36m_BaseDiscreteNB._check_X_y\u001b[0;34m(self, X, y, reset)\u001b[0m\n\u001b[1;32m    521\u001b[0m \u001b[38;5;28;01mdef\u001b[39;00m \u001b[38;5;21m_check_X_y\u001b[39m(\u001b[38;5;28mself\u001b[39m, X, y, reset\u001b[38;5;241m=\u001b[39m\u001b[38;5;28;01mTrue\u001b[39;00m):\n\u001b[1;32m    522\u001b[0m     \u001b[38;5;124;03m\"\"\"Validate X and y in fit methods.\"\"\"\u001b[39;00m\n\u001b[0;32m--> 523\u001b[0m     \u001b[38;5;28;01mreturn\u001b[39;00m \u001b[38;5;28;43mself\u001b[39;49m\u001b[38;5;241;43m.\u001b[39;49m\u001b[43m_validate_data\u001b[49m\u001b[43m(\u001b[49m\u001b[43mX\u001b[49m\u001b[43m,\u001b[49m\u001b[43m \u001b[49m\u001b[43my\u001b[49m\u001b[43m,\u001b[49m\u001b[43m \u001b[49m\u001b[43maccept_sparse\u001b[49m\u001b[38;5;241;43m=\u001b[39;49m\u001b[38;5;124;43m\"\u001b[39;49m\u001b[38;5;124;43mcsr\u001b[39;49m\u001b[38;5;124;43m\"\u001b[39;49m\u001b[43m,\u001b[49m\u001b[43m \u001b[49m\u001b[43mreset\u001b[49m\u001b[38;5;241;43m=\u001b[39;49m\u001b[43mreset\u001b[49m\u001b[43m)\u001b[49m\n",
      "File \u001b[0;32m~/opt/anaconda3/envs/spark-cap-env/lib/python3.8/site-packages/sklearn/base.py:581\u001b[0m, in \u001b[0;36mBaseEstimator._validate_data\u001b[0;34m(self, X, y, reset, validate_separately, **check_params)\u001b[0m\n\u001b[1;32m    579\u001b[0m         y \u001b[38;5;241m=\u001b[39m check_array(y, \u001b[38;5;241m*\u001b[39m\u001b[38;5;241m*\u001b[39mcheck_y_params)\n\u001b[1;32m    580\u001b[0m     \u001b[38;5;28;01melse\u001b[39;00m:\n\u001b[0;32m--> 581\u001b[0m         X, y \u001b[38;5;241m=\u001b[39m \u001b[43mcheck_X_y\u001b[49m\u001b[43m(\u001b[49m\u001b[43mX\u001b[49m\u001b[43m,\u001b[49m\u001b[43m \u001b[49m\u001b[43my\u001b[49m\u001b[43m,\u001b[49m\u001b[43m \u001b[49m\u001b[38;5;241;43m*\u001b[39;49m\u001b[38;5;241;43m*\u001b[39;49m\u001b[43mcheck_params\u001b[49m\u001b[43m)\u001b[49m\n\u001b[1;32m    582\u001b[0m     out \u001b[38;5;241m=\u001b[39m X, y\n\u001b[1;32m    584\u001b[0m \u001b[38;5;28;01mif\u001b[39;00m \u001b[38;5;129;01mnot\u001b[39;00m no_val_X \u001b[38;5;129;01mand\u001b[39;00m check_params\u001b[38;5;241m.\u001b[39mget(\u001b[38;5;124m\"\u001b[39m\u001b[38;5;124mensure_2d\u001b[39m\u001b[38;5;124m\"\u001b[39m, \u001b[38;5;28;01mTrue\u001b[39;00m):\n",
      "File \u001b[0;32m~/opt/anaconda3/envs/spark-cap-env/lib/python3.8/site-packages/sklearn/utils/validation.py:981\u001b[0m, in \u001b[0;36mcheck_X_y\u001b[0;34m(X, y, accept_sparse, accept_large_sparse, dtype, order, copy, force_all_finite, ensure_2d, allow_nd, multi_output, ensure_min_samples, ensure_min_features, y_numeric, estimator)\u001b[0m\n\u001b[1;32m    964\u001b[0m X \u001b[38;5;241m=\u001b[39m check_array(\n\u001b[1;32m    965\u001b[0m     X,\n\u001b[1;32m    966\u001b[0m     accept_sparse\u001b[38;5;241m=\u001b[39maccept_sparse,\n\u001b[0;32m   (...)\u001b[0m\n\u001b[1;32m    976\u001b[0m     estimator\u001b[38;5;241m=\u001b[39mestimator,\n\u001b[1;32m    977\u001b[0m )\n\u001b[1;32m    979\u001b[0m y \u001b[38;5;241m=\u001b[39m _check_y(y, multi_output\u001b[38;5;241m=\u001b[39mmulti_output, y_numeric\u001b[38;5;241m=\u001b[39my_numeric)\n\u001b[0;32m--> 981\u001b[0m \u001b[43mcheck_consistent_length\u001b[49m\u001b[43m(\u001b[49m\u001b[43mX\u001b[49m\u001b[43m,\u001b[49m\u001b[43m \u001b[49m\u001b[43my\u001b[49m\u001b[43m)\u001b[49m\n\u001b[1;32m    983\u001b[0m \u001b[38;5;28;01mreturn\u001b[39;00m X, y\n",
      "File \u001b[0;32m~/opt/anaconda3/envs/spark-cap-env/lib/python3.8/site-packages/sklearn/utils/validation.py:332\u001b[0m, in \u001b[0;36mcheck_consistent_length\u001b[0;34m(*arrays)\u001b[0m\n\u001b[1;32m    330\u001b[0m uniques \u001b[38;5;241m=\u001b[39m np\u001b[38;5;241m.\u001b[39munique(lengths)\n\u001b[1;32m    331\u001b[0m \u001b[38;5;28;01mif\u001b[39;00m \u001b[38;5;28mlen\u001b[39m(uniques) \u001b[38;5;241m>\u001b[39m \u001b[38;5;241m1\u001b[39m:\n\u001b[0;32m--> 332\u001b[0m     \u001b[38;5;28;01mraise\u001b[39;00m \u001b[38;5;167;01mValueError\u001b[39;00m(\n\u001b[1;32m    333\u001b[0m         \u001b[38;5;124m\"\u001b[39m\u001b[38;5;124mFound input variables with inconsistent numbers of samples: \u001b[39m\u001b[38;5;132;01m%r\u001b[39;00m\u001b[38;5;124m\"\u001b[39m\n\u001b[1;32m    334\u001b[0m         \u001b[38;5;241m%\u001b[39m [\u001b[38;5;28mint\u001b[39m(l) \u001b[38;5;28;01mfor\u001b[39;00m l \u001b[38;5;129;01min\u001b[39;00m lengths]\n\u001b[1;32m    335\u001b[0m     )\n",
      "\u001b[0;31mValueError\u001b[0m: Found input variables with inconsistent numbers of samples: [2, 3599977]"
     ]
    }
   ],
   "source": [
    "# Instantiate the Multinomial Naieve Bayes Pipeline\n",
    "mnb_test_pipe = ImPipeline(steps=[\n",
    "                            ('vect', TfidfVectorizer()),\n",
    "                            ('cf', MultinomialNB())\n",
    "                            ]\n",
    ")\n",
    "\n",
    "# Fit MNB pipe on the training data, get predictions and plot confusion matrix\n",
    "mnb_test_pipe.fit(X_bigrams, y)\n",
    "mnb_test_yhat = mnb_test_pipe.predict(X_bigrams)\n",
    "plot_confusion_matrix(mnb_test_pipe, X_bigrams, y, normalize='true');\n",
    "print(accuracy_score(y, mnb_test_yhat))"
   ]
  },
  {
   "cell_type": "code",
   "execution_count": null,
   "metadata": {},
   "outputs": [],
   "source": [
    "# Obtained cross-validated accuracy score\n",
    "mnb_bigrams_cv = cross_validate(mnb_bigrams_pipe, X_bigrams, y)\n",
    "print(mnb_bigrams_cv)"
   ]
  },
  {
   "cell_type": "code",
   "execution_count": 45,
   "metadata": {},
   "outputs": [
    {
     "name": "stdout",
     "output_type": "stream",
     "text": [
      "0.8252197166815233\n"
     ]
    },
    {
     "data": {
      "image/png": "[encoded data removed]",
      "text/plain": [
       "<Figure size 432x288 with 2 Axes>"
      ]
     },
     "metadata": {
      "needs_background": "light"
     },
     "output_type": "display_data"
    }
   ],
   "source": [
    "# Instantiate the Multinomial Naive Bayes Pipeline with clean text and tri-grams\n",
    "mnb_trigrams_pipe = ImPipeline(steps=[\n",
    "                ('CT', ColumnTransformer([(x, TfidfVectorizer(), x) for x in ['text_cleaned',\n",
    "                                                                              'trigrams']\n",
    "                                         ])),\n",
    "                ('cf', MultinomialNB())\n",
    "]\n",
    ")\n",
    "\n",
    "# Fit MNB pipe on the training data, get predictions and plot confusion matrix\n",
    "mnb_trigrams_pipe.fit(X_trigrams, y)\n",
    "mnb_trigrams_yhat = mnb_trigrams_pipe.predict(X_trigrams)\n",
    "plot_confusion_matrix(mnb_trigrams_pipe, X_trigrams, y, normalize='true');\n",
    "print(accuracy_score(y, mnb_trigrams_yhat))"
   ]
  },
  {
   "cell_type": "code",
   "execution_count": null,
   "metadata": {},
   "outputs": [],
   "source": [
    "# Obtained cross-validated accuracy score\n",
    "mnb_trigrams_cv = cross_validate(mnb_trigrams_pipe, X_trigrams, y)\n",
    "print(mnb_trigrams_cv)"
   ]
  },
  {
   "cell_type": "code",
   "execution_count": 46,
   "metadata": {},
   "outputs": [
    {
     "name": "stdout",
     "output_type": "stream",
     "text": [
      "0.8249244370172365\n"
     ]
    },
    {
     "data": {
      "image/png": "[encoded data removed]",
      "text/plain": [
       "<Figure size 432x288 with 2 Axes>"
      ]
     },
     "metadata": {
      "needs_background": "light"
     },
     "output_type": "display_data"
    }
   ],
   "source": [
    "# Instantiate the Multinomial Naieve Bayes pipeline with clean text, bi-grams and tri-grams\n",
    "mnb_allgrams_pipe = ImPipeline(steps=[          \n",
    "                ('CT', ColumnTransformer([(x, TfidfVectorizer(), x) for x in ['text_cleaned',\n",
    "                                                                              'bigrams',\n",
    "                                                                              'trigrams']\n",
    "                                         ])),\n",
    "                ('cf', MultinomialNB())\n",
    "]\n",
    ")\n",
    "\n",
    "# Fit MNB pipe on the training data, get predictions and plot confusion matrix\n",
    "mnb_allgrams_pipe.fit(X_allgrams, y)\n",
    "mnb_allgrams_yhat = mnb_allgrams_pipe.predict(X_allgrams)\n",
    "plot_confusion_matrix(mnb_allgrams_pipe, X_allgrams, y, normalize='true');\n",
    "print(accuracy_score(y, mnb_allgrams_yhat))"
   ]
  },
  {
   "cell_type": "code",
   "execution_count": null,
   "metadata": {},
   "outputs": [],
   "source": [
    "# Obtained cross-validated accuracy score\n",
    "mnb_allgrams_cv = cross_validate(mnb_allgrams_pipe, X_allgrams, y)\n",
    "print(mnb_allgrams_cv)"
   ]
  },
  {
   "cell_type": "markdown",
   "metadata": {},
   "source": [
    "### Linear Support Vector Machine - Stochastic Gradient Descent\n",
    "Stochastic gradient descent is another technique that is very common in natural language processing due to its efficiency. Rather than calculating the gradient at each iteration using every observation in the dataset, it selects one observation at random for each step, drastically reducing the computational requirements. It also works very well with sparse data, which makes it a natural fit for NLP. Given the size of my dataset, SGD was a natural next step and XXXX..."
   ]
  },
  {
   "cell_type": "code",
   "execution_count": 29,
   "metadata": {},
   "outputs": [
    {
     "name": "stdout",
     "output_type": "stream",
     "text": [
      "0.8508276580655932\n"
     ]
    },
    {
     "data": {
      "image/png": "[encoded data removed]",
      "text/plain": [
       "<Figure size 432x288 with 2 Axes>"
      ]
     },
     "metadata": {
      "needs_background": "light"
     },
     "output_type": "display_data"
    }
   ],
   "source": [
    "# Instantiate the SGDC Classifier pipeline\n",
    "sgdc_pipe = ImPipeline(steps=[\n",
    "                            ('vect', TfidfVectorizer()),\n",
    "                            ('cf', SGDClassifier(random_state=42))\n",
    "                            ]\n",
    ")\n",
    "\n",
    "#Fit SGDC pipe on the training data, get predictions and plot confusion matrix\n",
    "sgdc_pipe.fit(X, y)\n",
    "sgdc_yhat = sgdc_pipe.predict(X)\n",
    "plot_confusion_matrix(sgdc_pipe, X, y, normalize='true');\n",
    "print(accuracy_score(y, sgdc_yhat))"
   ]
  },
  {
   "cell_type": "code",
   "execution_count": 30,
   "metadata": {},
   "outputs": [
    {
     "data": {
      "text/plain": [
       "{'fit_time': array([70.02949595, 70.80230594, 70.30221891, 70.43828201, 70.43610787]),\n",
       " 'score_time': array([14.75940609, 14.66371202, 14.59122682, 14.39158106, 14.41444707]),\n",
       " 'test_score': array([0.84893944, 0.84923944, 0.85029202, 0.85031702, 0.85053785])}"
      ]
     },
     "execution_count": 30,
     "metadata": {},
     "output_type": "execute_result"
    }
   ],
   "source": [
    "# Obtained cross-validated accuracy score\n",
    "cross_validate(sgdc_pipe, X, y)"
   ]
  },
  {
   "cell_type": "markdown",
   "metadata": {},
   "source": [
    "- 'fit_time': array([70.02949595, 70.80230594, 70.30221891, 70.43828201, 70.43610787])\n",
    "- 'score_time': array([14.75940609, 14.66371202, 14.59122682, 14.39158106, 14.41444707])\n",
    "- 'test_score': array([0.84893944, 0.84923944, 0.85029202, 0.85031702, 0.85053785])"
   ]
  },
  {
   "cell_type": "code",
   "execution_count": 31,
   "metadata": {},
   "outputs": [],
   "source": [
    "with open ('sgdc_base_pkl', 'wb') as files:\n",
    "    pickle.dump(sgdc_pipe, files)"
   ]
  },
  {
   "cell_type": "markdown",
   "metadata": {},
   "source": [
    "#### Using N-grams as Features \n",
    "To see if I could improve on the model's performance over using single words, I tried giving it bi-grams and tri-grams as additional features. Ultimately XXXX"
   ]
  },
  {
   "cell_type": "code",
   "execution_count": 42,
   "metadata": {},
   "outputs": [
    {
     "name": "stdout",
     "output_type": "stream",
     "text": [
      "0.8554932434290552\n"
     ]
    },
    {
     "data": {
      "image/png": "[encoded data removed]",
      "text/plain": [
       "<Figure size 432x288 with 2 Axes>"
      ]
     },
     "metadata": {
      "needs_background": "light"
     },
     "output_type": "display_data"
    }
   ],
   "source": [
    "# Instantiate the SGDC pipeline with cleaned text and bi-grams\n",
    "sgdc_bigrams_pipe = ImPipeline(steps=[\n",
    "                ('CT', ColumnTransformer([(x, TfidfVectorizer(), x) for x in ['text_cleaned',\n",
    "                                                                              'bigrams']\n",
    "                                         ])),\n",
    "                ('cf', SGDClassifier(random_state=42))\n",
    "]\n",
    ")\n",
    "\n",
    "# Fit MNB pipe on the training data, get predictions and plot confusion matrix\n",
    "sgdc_bigrams_pipe.fit(X_bigrams, y)\n",
    "sgdc_bigrams_yhat = sgdc_bigrams_pipe.predict(X_bigrams)\n",
    "plot_confusion_matrix(sgdc_bigrams_pipe, X_bigrams, y, normalize='true');\n",
    "print(accuracy_score(y, sgdc_bigrams_yhat))"
   ]
  },
  {
   "cell_type": "code",
   "execution_count": 48,
   "metadata": {},
   "outputs": [
    {
     "name": "stdout",
     "output_type": "stream",
     "text": [
      "0.8546649048035585\n"
     ]
    },
    {
     "data": {
      "image/png": "[encoded data removed]",
      "text/plain": [
       "<Figure size 432x288 with 2 Axes>"
      ]
     },
     "metadata": {
      "needs_background": "light"
     },
     "output_type": "display_data"
    }
   ],
   "source": [
    "# Instantiate the SGDC pipeline with clean text and tri-grams\n",
    "sgdc_trigrams_pipe = ImPipeline(steps=[\n",
    "                ('CT', ColumnTransformer([(x, TfidfVectorizer(), x) for x in ['text_cleaned',\n",
    "                                                                              'trigrams']\n",
    "                                                             ])),                             \n",
    "                ('cf', SGDClassifier(random_state=42))\n",
    "]\n",
    ")\n",
    "\n",
    "# Fit MNB pipe on the training data, get predictions and plot confusion matrix\n",
    "sgdc_trigrams_pipe.fit(X_trigrams, y)\n",
    "sgdc_trigrams_yhat = sgdc_trigrams_pipe.predict(X_trigrams)\n",
    "plot_confusion_matrix(sgdc_trigrams_pipe, X_trigrams, y, normalize='true');\n",
    "print(accuracy_score(y, sgdc_trigrams_yhat))"
   ]
  },
  {
   "cell_type": "code",
   "execution_count": 47,
   "metadata": {},
   "outputs": [
    {
     "name": "stdout",
     "output_type": "stream",
     "text": [
      "0.8573693665265084\n"
     ]
    },
    {
     "data": {
      "image/png": "[encoded data removed]",
      "text/plain": [
       "<Figure size 432x288 with 2 Axes>"
      ]
     },
     "metadata": {
      "needs_background": "light"
     },
     "output_type": "display_data"
    }
   ],
   "source": [
    "# Instantiate the SGDC pipeline with clean text, bi-grams and tri-grams\n",
    "sgdc_allgrams_pipe = ImPipeline(steps=[\n",
    "                ('CT', ColumnTransformer([(x, TfidfVectorizer(), x) for x in ['text_cleaned',\n",
    "                                                                              'bigrams',\n",
    "                                                                              'trigrams']\n",
    "                                                             ])),                             \n",
    "                ('cf', SGDClassifier(random_state=42))\n",
    "]\n",
    ")\n",
    "\n",
    "# Fit MNB pipe on the training data, get predictions and plot confusion matrix\n",
    "sgdc_allgrams_pipe.fit(X_allgrams, y)\n",
    "sgdc_allgrams_yhat = sgdc_allgrams_pipe.predict(X_allgrams)\n",
    "plot_confusion_matrix(sgdc_allgrams_pipe, X_allgrams, y, normalize='true');\n",
    "print(accuracy_score(y, sgdc_allgrams_yhat))"
   ]
  },
  {
   "cell_type": "markdown",
   "metadata": {},
   "source": [
    "#### Hyperparameter Tuning"
   ]
  },
  {
   "cell_type": "code",
   "execution_count": null,
   "metadata": {},
   "outputs": [],
   "source": [
    "# XXXX\n",
    "sgdc_params = {\n",
    "            'cf__alpha': [1e-6, 1e-5, 1e-4, 1e-3, 1e-2, 1e-1, 1e0],\n",
    "            #'sgdc__n_iter': [50, 100, 500],\n",
    "            'cf__loss': ['hinge', 'log', 'huber'],\n",
    "            'cf__penalty': ['l2', 'l1', 'elasticnet'],\n",
    "            'CT__max_features': [None, 50000, 100000, 200000]\n",
    "             }"
   ]
  },
  {
   "cell_type": "code",
   "execution_count": null,
   "metadata": {},
   "outputs": [],
   "source": [
    "# XXXX\n",
    "sgdc_gs = GridSearchCV(sgdc_pipe, param_grid=sgdc_params, n_jobs=-2, verbose=3, cv=3)\n",
    "sgdc_gs.fit(X, y)"
   ]
  },
  {
   "cell_type": "code",
   "execution_count": null,
   "metadata": {},
   "outputs": [],
   "source": [
    "sgdc_gs.best_params_"
   ]
  },
  {
   "cell_type": "code",
   "execution_count": null,
   "metadata": {},
   "outputs": [],
   "source": [
    "# Instantiate the SDGC Classifier pipeline\n",
    "sgdc_tuned_pipe = ImPipeline(steps=[\n",
    "                            ('vect', TfidfVectorizer(max_features=50000,\n",
    "                                                    #max_df=0.95,\n",
    "                                                   # min_df=0.05\n",
    "                                                    )),\n",
    "                            ('cf', SGDClassifier(random_state=42,\n",
    "                                                  alpha=0.0001,\n",
    "                                                  loss = 'hinge',\n",
    "                                                  penalty='l2'\n",
    "                                                  ))\n",
    "                            ]\n",
    ")\n",
    "\n",
    "#Fit SGDC pipe on the training data, get predictions and plot confusion matrix\n",
    "sgdc_tuned_pipe.fit(X, y)\n",
    "sgdc_tuned_yhat = sgdc_tuned_pipe.predict(X)\n",
    "plot_confusion_matrix(sgdc_tuned_pipe, X, y, normalize='true');\n",
    "print(accuracy_score(y, sgdc_tuned_yhat))"
   ]
  },
  {
   "cell_type": "code",
   "execution_count": null,
   "metadata": {},
   "outputs": [],
   "source": [
    "# Obtained cross-validated accuracy score\n",
    "cross_validate(sgdc_pipe, X_grams, y)"
   ]
  },
  {
   "cell_type": "code",
   "execution_count": null,
   "metadata": {},
   "outputs": [],
   "source": [
    "with open ('sgdc_tuned_pkl', 'wb') as files:\n",
    "    pickle.dump(sgdc_tuned_pipe, files)"
   ]
  },
  {
   "cell_type": "markdown",
   "metadata": {},
   "source": [
    "### Random Forest Classifier"
   ]
  },
  {
   "cell_type": "code",
   "execution_count": null,
   "metadata": {},
   "outputs": [],
   "source": [
    "# Instantiate the Random Forest Pipeline\n",
    "rf_pipe = ImPipeline(steps=[\n",
    "                            ('vect', TfidfVectorizer(max_features=max_features)),\n",
    "                            ('cf', RandomForestClassifier())\n",
    "                            ]\n",
    ")\n",
    "\n",
    "# Fit RF pipe on the training data, get predictions and plot confusion matrix\n",
    "rf_pipe.fit(X, y)\n",
    "rf_yhat = rf_pipe.predict(X)\n",
    "plot_confusion_matrix(rf_pipe, X, y);\n",
    "print(accuracy_score(y, rf_yhat))"
   ]
  },
  {
   "cell_type": "code",
   "execution_count": null,
   "metadata": {},
   "outputs": [],
   "source": [
    "# Obtained cross-validated accuracy score\n",
    "# cross_validate(rf_pipe, X, y)"
   ]
  },
  {
   "cell_type": "code",
   "execution_count": null,
   "metadata": {},
   "outputs": [],
   "source": [
    "with open ('rf_pkl', 'wb') as files:\n",
    "    pickle.dump(rf_pipe, files)"
   ]
  },
  {
   "cell_type": "code",
   "execution_count": null,
   "metadata": {},
   "outputs": [],
   "source": []
  },
  {
   "cell_type": "markdown",
   "metadata": {},
   "source": [
    "### Gradient Boosting Classifier"
   ]
  },
  {
   "cell_type": "code",
   "execution_count": null,
   "metadata": {},
   "outputs": [],
   "source": [
    "# Instantiate the gradient boosting classifier pipeline\n",
    "gbc_pipe = ImPipeline(steps=[\n",
    "                                 ('vect', TfidfVectorizer(max_features=max_features)),\n",
    "                                 ('cf',  GradientBoostingClassifier())\n",
    "                                ]\n",
    ")\n",
    "\n",
    "#Fit SGDC pipe on the training data, get predictions and plot confusion matrix\n",
    "gbc_pipe.fit(X, y)\n",
    "gbc_yhat = gbc_pipe.predict(X)\n",
    "plot_confusion_matrix(gbc_pipe, X, y);\n",
    "print(accuracy_score(y, gbc_yhat))"
   ]
  },
  {
   "cell_type": "code",
   "execution_count": null,
   "metadata": {},
   "outputs": [],
   "source": [
    "# Obtained cross-validated accuracy score\n",
    "cross_validate(gbc_pipe, X, y)"
   ]
  },
  {
   "cell_type": "code",
   "execution_count": null,
   "metadata": {},
   "outputs": [],
   "source": []
  },
  {
   "cell_type": "code",
   "execution_count": null,
   "metadata": {},
   "outputs": [],
   "source": [
    "# Instantiate the gradient boosting classifier pipeline\n",
    "gbc_ngrams_pipe = ImPipeline(steps=[\n",
    "                                 ('vect', TfidfVectorizer(max_features=max_features)),\n",
    "                                 ('cf',  GradientBoostingClassifier())\n",
    "                                ]\n",
    ")\n",
    "\n",
    "#Fit SGDC pipe on the training data, get predictions and plot confusion matrix\n",
    "gbc_ngrams_pipe.fit(X_grams, y)\n",
    "gbc_ngrams_yhat = gbc_ngrams_pipe.predict(X_grams)\n",
    "plot_confusion_matrix(gbc_ngrams_pipe, X_grams, y);\n",
    "print(accuracy_score(y, gbc_yhat))"
   ]
  },
  {
   "cell_type": "code",
   "execution_count": null,
   "metadata": {},
   "outputs": [],
   "source": [
    "# Obtained cross-validated accuracy score\n",
    "cross_validate(gbc_pipe, X_grams, y)"
   ]
  },
  {
   "cell_type": "code",
   "execution_count": null,
   "metadata": {},
   "outputs": [],
   "source": []
  },
  {
   "cell_type": "markdown",
   "metadata": {},
   "source": [
    "## Final Model Evaluation\n",
    "The XXXX model ended up performing best on the test data, so I selected it as the appropriate model to deploy. \n",
    "\n",
    "- Score\n",
    "- what did it do well\n",
    "- what are its shortcomings\n",
    "- how well does it solve the business problem?"
   ]
  },
  {
   "cell_type": "code",
   "execution_count": null,
   "metadata": {},
   "outputs": [],
   "source": []
  }
 ],
 "metadata": {
  "kernelspec": {
   "display_name": "Python (spark-cap-env)",
   "language": "python",
   "name": "spark-cap-env"
  },
  "language_info": {
   "codemirror_mode": {
    "name": "ipython",
    "version": 3
   },
   "file_extension": ".py",
   "mimetype": "text/x-python",
   "name": "python",
   "nbconvert_exporter": "python",
   "pygments_lexer": "ipython3",
   "version": "3.8.13"
  }
 },
 "nbformat": 4,
 "nbformat_minor": 4
}
